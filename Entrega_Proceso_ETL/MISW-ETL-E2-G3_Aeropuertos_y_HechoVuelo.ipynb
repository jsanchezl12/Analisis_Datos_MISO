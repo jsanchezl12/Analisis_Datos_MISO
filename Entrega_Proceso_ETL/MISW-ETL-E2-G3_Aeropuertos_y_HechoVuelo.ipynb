{
 "cells": [
  {
   "cell_type": "markdown",
   "metadata": {
    "id": "IcY9y56n86vn"
   },
   "source": [
    "# Creación de ETLs con PySpark - Aeropuertos - HechoVuelo"
   ]
  },
  {
   "cell_type": "markdown",
   "metadata": {
    "id": "LqQVz5s686vq"
   },
   "source": [
    "## Proceso de ETL para una dimensión."
   ]
  },
  {
   "cell_type": "markdown",
   "metadata": {
    "id": "A2UT2Ia586vr"
   },
   "source": [
    "Las llaves ID_XXXX presentes en el modelo hacen referencia a las llaves de la bodega. Por otra parte, en el proceso de ETL se van a tener en cuenta las llaves transaccionales (**ProyectoTransaccional**). La nomenclatura para utilizar es:\n",
    "\n",
    "1.   ID_XXXX_DWH, para las llaves de la bodega.\n",
    "2.   ID_XXXX_T, para las llaves transaccionales.\n"
   ]
  },
  {
   "cell_type": "markdown",
   "metadata": {
    "id": "gIa8WW1M86vt"
   },
   "source": [
    "Proceso de Conexion e inicialización"
   ]
  },
  {
   "cell_type": "code",
   "execution_count": 1,
   "metadata": {
    "id": "os1iJYmu86vt"
   },
   "outputs": [],
   "source": [
    "# Configuración servidor base de datos transaccional\n",
    "# Recuerde usar Estudiante_i como usuario y la contraseña asigana en el excel de conexión a maquina virtual como contraseña\n",
    "db_user = 'Estudiante_68_202314'\n",
    "db_psswd = 'aabb1122'\n",
    "source_db_connection_string = 'jdbc:mysql://157.253.236.116:8080/ProyectoTransaccional'\n",
    "\n",
    "dest_db_connection_string = 'jdbc:mysql://157.253.236.116:8080/Proyecto_G3_202314'\n",
    "\n",
    "# Driver de conexion\n",
    "path_jar_driver = 'C:\\Program Files (x86)\\MySQL\\Connector J 8.0\\mysql-connector-java-8.0.28.jar'"
   ]
  },
  {
   "cell_type": "code",
   "execution_count": 2,
   "metadata": {
    "id": "HAGk_V1986vu"
   },
   "outputs": [],
   "source": [
    "import os \n",
    "from pyspark.sql import functions as f, SparkSession, types as t\n",
    "from pyspark import SparkContext, SparkConf, SQLContext\n",
    "from pyspark.sql.functions import udf, col, length, isnan, when, count, regexp_replace\n",
    "from datetime import datetime\n",
    "from pyspark.sql.window import Window\n",
    "import pandas as pd\n",
    "from pyspark.sql.types import FloatType"
   ]
  },
  {
   "cell_type": "code",
   "execution_count": 3,
   "metadata": {
    "id": "TQ3DM_Xf86vv",
    "outputId": "f2cdb157-a92d-4edc-a174-6f3bd09b9885"
   },
   "outputs": [
    {
     "name": "stderr",
     "output_type": "stream",
     "text": [
      "C:\\Users\\estudiante\\anaconda3\\envs\\Tutoriales\\lib\\site-packages\\pyspark\\sql\\context.py:79: FutureWarning: Deprecated in 3.0.0. Use SparkSession.builder.getOrCreate() instead.\n",
      "  FutureWarning\n"
     ]
    }
   ],
   "source": [
    "#Configuración de la sesión\n",
    "conf=SparkConf() \\\n",
    "    .set('spark.driver.extraClassPath', path_jar_driver)\n",
    "\n",
    "if 'spark_context' in locals():\n",
    "    spark_context.stop()\n",
    "\n",
    "spark_context = SparkContext(conf=conf)\n",
    "sql_context = SQLContext(spark_context)\n",
    "spark = sql_context.sparkSession"
   ]
  },
  {
   "cell_type": "markdown",
   "metadata": {
    "id": "buA7s-vL86vw"
   },
   "source": [
    "### Conexión y carga de datos"
   ]
  },
  {
   "cell_type": "markdown",
   "metadata": {
    "id": "r_QZ-j9q86vw"
   },
   "source": [
    "Se define la función para conexión y cargue de dataframes desde la base de datos origen y luego la función para guardar un dataframe en una tabla de la base de datos destino."
   ]
  },
  {
   "cell_type": "code",
   "execution_count": 4,
   "metadata": {
    "id": "Mhy0jbh_86vw"
   },
   "outputs": [],
   "source": [
    "def obterner_dataframe_desde_csv(_PATH, _sep):\n",
    "    return spark.read.load(_PATH, format=\"csv\", sep=_sep, inferSchema=\"true\", header='true')\n",
    "\n",
    "def obtener_dataframe_de_bd(db_connection_string, sql, db_user, db_psswd):\n",
    "    df_bd = spark.read.format('jdbc')\\\n",
    "        .option('url', db_connection_string) \\\n",
    "        .option('dbtable', sql) \\\n",
    "        .option('user', db_user) \\\n",
    "        .option('password', db_psswd) \\\n",
    "        .option('driver', 'com.mysql.cj.jdbc.Driver') \\\n",
    "        .load()\n",
    "    return df_bd\n",
    "\n",
    "def guardar_db(db_connection_string, df, tabla, db_user, db_psswd):\n",
    "    df.select('*').write.format('jdbc') \\\n",
    "      .mode('append') \\\n",
    "      .option('url', db_connection_string) \\\n",
    "      .option('dbtable', tabla) \\\n",
    "      .option('user', db_user) \\\n",
    "      .option('password', db_psswd) \\\n",
    "      .option('driver', 'com.mysql.cj.jdbc.Driver') \\\n",
    "      .save()"
   ]
  },
  {
   "cell_type": "markdown",
   "metadata": {
    "id": "ZhFsv4ba86vw",
    "tags": []
   },
   "source": [
    "### BLOQUE - Aeropuertos\n",
    "Empezamos con el bloque de la dimensión <i>Aeropuertos</i>, su fuente de datos viene de la tabla transaccional <i>Aeropuertos</i>."
   ]
  },
  {
   "cell_type": "markdown",
   "metadata": {
    "id": "XNKxFA-f86vx"
   },
   "source": [
    "#### Extracción\n",
    "A continuación, nos conectamos a la base de datos y extraemos la información deseada por medio de SQL, cargandola en un DataFrame PySpark, es decir en memoria. De la tabla de aeropuertos, En este paso, solo nos interesan la informacion de los aeropuertos (sigla, iata, nombre, elevación, municipio, departamento), por lo cual se hace un filtro por medio del WHERE, buscando la informacion necesaria para los aeropuertos."
   ]
  },
  {
   "cell_type": "code",
   "execution_count": 6,
   "metadata": {
    "id": "IopBNYuc86vx",
    "outputId": "0589f8a9-527e-4b28-d096-a176efd48e97"
   },
   "outputs": [
    {
     "name": "stdout",
     "output_type": "stream",
     "text": [
      "+-----+----+--------------------+---------+-------------+------------+--------------------+\n",
      "|sigla|iata|              nombre|elevacion|    municipio|departamento|numero_vuelos_origen|\n",
      "+-----+----+--------------------+---------+-------------+------------+--------------------+\n",
      "|  7FO|    |             la isla|      538|Puerto Gaitán|        meta|              171525|\n",
      "|  7FO|    |             la isla|      538|Puerto Gaitán|        meta|              571675|\n",
      "|  7FO|    |             la isla|      538|Puerto Gaitán|        meta|              994420|\n",
      "|  7FU|    |        la escondida|      564|Puerto Gaitán|        meta|              252325|\n",
      "|  7FU|    |        la escondida|      564|Puerto Gaitán|        meta|              126667|\n",
      "|  7FU|    |        la escondida|      564|Puerto Gaitán|        meta|              175953|\n",
      "|  7FW|    |           morichito|      720| Hato Corozal|    casanare|              444936|\n",
      "|  7FW|    |           morichito|      720| Hato Corozal|    casanare|             -253202|\n",
      "|  7FW|    |           morichito|      720| Hato Corozal|    casanare|              289424|\n",
      "|  7FX|    |carolina del prin...|     6004|     Carolina|   antioquia|               38246|\n",
      "+-----+----+--------------------+---------+-------------+------------+--------------------+\n",
      "only showing top 10 rows\n",
      "\n"
     ]
    }
   ],
   "source": [
    "sql_aeropuertos = '''(SELECT DISTINCT sigla, iata, nombre, elevacion, municipio, departamento, numero_vuelos_origen FROM aeropuertos) AS Temp_aeropuertos'''\n",
    "aeropuertos = obtener_dataframe_de_bd(source_db_connection_string, sql_aeropuertos, db_user, db_psswd)\n",
    "aeropuertos.show(10)"
   ]
  },
  {
   "cell_type": "markdown",
   "metadata": {
    "id": "vtE61qk986vx"
   },
   "source": [
    "#### Transformación\n",
    "\n",
    "1. Limpieza de Datos: En ese paso la idea es poder limpiar los datos asociados a vacios, valores negativos, y completar fechas."
   ]
  },
  {
   "cell_type": "code",
   "execution_count": 7,
   "metadata": {},
   "outputs": [
    {
     "name": "stdout",
     "output_type": "stream",
     "text": [
      "valores sin negativos\n",
      "+-----+----+--------------------+---------+-------------+------------+--------------------+\n",
      "|sigla|iata|              nombre|elevacion|    municipio|departamento|numero_vuelos_origen|\n",
      "+-----+----+--------------------+---------+-------------+------------+--------------------+\n",
      "|  7FO|    |             la isla|      538|Puerto Gaitán|        meta|              171525|\n",
      "|  7FO|    |             la isla|      538|Puerto Gaitán|        meta|              571675|\n",
      "|  7FO|    |             la isla|      538|Puerto Gaitán|        meta|              994420|\n",
      "|  7FU|    |        la escondida|      564|Puerto Gaitán|        meta|              252325|\n",
      "|  7FU|    |        la escondida|      564|Puerto Gaitán|        meta|              126667|\n",
      "|  7FU|    |        la escondida|      564|Puerto Gaitán|        meta|              175953|\n",
      "|  7FW|    |           morichito|      720| Hato Corozal|    casanare|              444936|\n",
      "|  7FW|    |           morichito|      720| Hato Corozal|    casanare|              253202|\n",
      "|  7FW|    |           morichito|      720| Hato Corozal|    casanare|              289424|\n",
      "|  7FX|    |carolina del prin...|     6004|     Carolina|   antioquia|               38246|\n",
      "+-----+----+--------------------+---------+-------------+------------+--------------------+\n",
      "only showing top 10 rows\n",
      "\n"
     ]
    }
   ],
   "source": [
    "# TRANSFORMACION\n",
    "\n",
    "aeropuertos = aeropuertos.withColumn('numero_vuelos_origen', f.when(aeropuertos[\"numero_vuelos_origen\"] < 0, aeropuertos[\"numero_vuelos_origen\"] * -1).otherwise(aeropuertos[\"numero_vuelos_origen\"]))\n",
    "print('valores sin negativos')\n",
    "aeropuertos.show(10)\n"
   ]
  },
  {
   "cell_type": "code",
   "execution_count": 10,
   "metadata": {
    "id": "cfRkDawmPn3Z",
    "outputId": "d1e48a40-41de-4df1-8f43-ff2f6294ae4e"
   },
   "outputs": [],
   "source": [
    "aeropuertos = aeropuertos.coalesce(1).withColumn('ID_Aeropuerto_DWH', f.monotonically_increasing_id() + 1)\n"
   ]
  },
  {
   "cell_type": "code",
   "execution_count": 11,
   "metadata": {
    "id": "cfRkDawmPn3Z",
    "outputId": "d1e48a40-41de-4df1-8f43-ff2f6294ae4e"
   },
   "outputs": [
    {
     "name": "stdout",
     "output_type": "stream",
     "text": [
      "Numero_vuelos_origen no vacias\n",
      "+-----+----+--------------------+---------+-------------+------------+--------------------+-------+-----------------+\n",
      "|sigla|iata|              nombre|elevacion|    municipio|departamento|numero_vuelos_origen|cambios|ID_Aeropuerto_DWH|\n",
      "+-----+----+--------------------+---------+-------------+------------+--------------------+-------+-----------------+\n",
      "|  7FO|    |             la isla|      538|Puerto Gaitán|        meta|              171525|      1|                1|\n",
      "|  7FO|    |             la isla|      538|Puerto Gaitán|        meta|              571675|      1|                2|\n",
      "|  7FO|    |             la isla|      538|Puerto Gaitán|        meta|              994420|      1|                3|\n",
      "|  7FU|    |        la escondida|      564|Puerto Gaitán|        meta|              252325|      1|                4|\n",
      "|  7FU|    |        la escondida|      564|Puerto Gaitán|        meta|              126667|      1|                5|\n",
      "|  7FU|    |        la escondida|      564|Puerto Gaitán|        meta|              175953|      1|                6|\n",
      "|  7FW|    |           morichito|      720| Hato Corozal|    casanare|              444936|      1|                7|\n",
      "|  7FW|    |           morichito|      720| Hato Corozal|    casanare|              253202|      1|                8|\n",
      "|  7FW|    |           morichito|      720| Hato Corozal|    casanare|              289424|      1|                9|\n",
      "|  7FX|    |carolina del prin...|     6004|     Carolina|   antioquia|               38246|      1|               10|\n",
      "+-----+----+--------------------+---------+-------------+------------+--------------------+-------+-----------------+\n",
      "only showing top 10 rows\n",
      "\n"
     ]
    }
   ],
   "source": [
    "aeropuertos = aeropuertos.withColumn('numero_vuelos_origen', f.when(aeropuertos[\"numero_vuelos_origen\"] == '', '0').otherwise(aeropuertos[\"numero_vuelos_origen\"]))\n",
    "print('Numero_vuelos_origen no vacias')\n",
    "aeropuertos.show(10)"
   ]
  },
  {
   "cell_type": "markdown",
   "metadata": {},
   "source": [
    "2. Se debe agregar la fila de cambios como version 1"
   ]
  },
  {
   "cell_type": "code",
   "execution_count": 12,
   "metadata": {},
   "outputs": [
    {
     "name": "stdout",
     "output_type": "stream",
     "text": [
      "se agrega la columna de cambios con V1\n",
      "+-----+----+--------------------+---------+-------------+------------+--------------------+-------+-----------------+\n",
      "|sigla|iata|              nombre|elevacion|    municipio|departamento|numero_vuelos_origen|cambios|ID_Aeropuerto_DWH|\n",
      "+-----+----+--------------------+---------+-------------+------------+--------------------+-------+-----------------+\n",
      "|  7FO|    |             la isla|      538|Puerto Gaitán|        meta|              171525|      1|                1|\n",
      "|  7FO|    |             la isla|      538|Puerto Gaitán|        meta|              571675|      1|                2|\n",
      "|  7FO|    |             la isla|      538|Puerto Gaitán|        meta|              994420|      1|                3|\n",
      "|  7FU|    |        la escondida|      564|Puerto Gaitán|        meta|              252325|      1|                4|\n",
      "|  7FU|    |        la escondida|      564|Puerto Gaitán|        meta|              126667|      1|                5|\n",
      "|  7FU|    |        la escondida|      564|Puerto Gaitán|        meta|              175953|      1|                6|\n",
      "|  7FW|    |           morichito|      720| Hato Corozal|    casanare|              444936|      1|                7|\n",
      "|  7FW|    |           morichito|      720| Hato Corozal|    casanare|              253202|      1|                8|\n",
      "|  7FW|    |           morichito|      720| Hato Corozal|    casanare|              289424|      1|                9|\n",
      "|  7FX|    |carolina del prin...|     6004|     Carolina|   antioquia|               38246|      1|               10|\n",
      "+-----+----+--------------------+---------+-------------+------------+--------------------+-------+-----------------+\n",
      "only showing top 10 rows\n",
      "\n"
     ]
    }
   ],
   "source": [
    "aeropuertos = aeropuertos.withColumn('cambios', f.lit(1))\n",
    "print('se agrega la columna de cambios con V1')\n",
    "aeropuertos.show(10)"
   ]
  },
  {
   "cell_type": "code",
   "execution_count": 13,
   "metadata": {
    "id": "cfRkDawmPn3Z",
    "outputId": "d1e48a40-41de-4df1-8f43-ff2f6294ae4e"
   },
   "outputs": [
    {
     "name": "stdout",
     "output_type": "stream",
     "text": [
      "(1194, 1194)\n"
     ]
    }
   ],
   "source": [
    "print((aeropuertos.count(),aeropuertos.distinct().count()))"
   ]
  },
  {
   "cell_type": "code",
   "execution_count": 14,
   "metadata": {
    "id": "cfRkDawmPn3Z",
    "outputId": "d1e48a40-41de-4df1-8f43-ff2f6294ae4e"
   },
   "outputs": [],
   "source": [
    "aeropuertos = aeropuertos.drop_duplicates()"
   ]
  },
  {
   "cell_type": "code",
   "execution_count": 15,
   "metadata": {
    "id": "cfRkDawmPn3Z",
    "outputId": "d1e48a40-41de-4df1-8f43-ff2f6294ae4e"
   },
   "outputs": [
    {
     "name": "stdout",
     "output_type": "stream",
     "text": [
      "(1194, 1194)\n"
     ]
    }
   ],
   "source": [
    "print((aeropuertos.count(),aeropuertos.distinct().count()))"
   ]
  },
  {
   "cell_type": "markdown",
   "metadata": {
    "id": "X9Oou0g986vy"
   },
   "source": [
    "#### Carga\n",
    "Una vez realizado esto, se guardan los resultados en la base de datos destino"
   ]
  },
  {
   "cell_type": "code",
   "execution_count": 16,
   "metadata": {
    "id": "qICUWYCa86vy"
   },
   "outputs": [
    {
     "name": "stdout",
     "output_type": "stream",
     "text": [
      "1194\n"
     ]
    }
   ],
   "source": [
    "# CARGUE\n",
    "guardar_db(dest_db_connection_string, aeropuertos,'Proyecto_G3_202314.Aeropuertos', db_user, db_psswd)\n",
    "print(aeropuertos.count())"
   ]
  },
  {
   "cell_type": "markdown",
   "metadata": {
    "id": "K6k37LtO86vy"
   },
   "source": [
    "Verifique los resultados usando MySQL Workbench"
   ]
  },
  {
   "cell_type": "markdown",
   "metadata": {
    "id": "fvj5E1GS86vz"
   },
   "source": [
    "### BLOQUE HechoVuelos\n",
    "\n",
    "La idea de este bloque es poder formar la informacion de <i>HechoVuelos</i> con los datos de las tablas de <i>Aeropuertos, Divipola, PIB, Proyecciones y Vuelos</i>. Para esto debemos sacar la informacion necesaria de cada tabla."
   ]
  },
  {
   "cell_type": "markdown",
   "metadata": {
    "id": "B5kFkHTD86vz"
   },
   "source": [
    "#### Extracción"
   ]
  },
  {
   "cell_type": "code",
   "execution_count": 17,
   "metadata": {
    "id": "cfRkDawmPn3Z",
    "outputId": "d1e48a40-41de-4df1-8f43-ff2f6294ae4e"
   },
   "outputs": [],
   "source": [
    "# Configuración servidor base de datos Proyecto_G3_202314\n",
    "# Recuerde usar Estudiante_i como usuario y la contraseña asigana en el excel de conexión a maquina virtual como contraseña\n",
    "db_user = 'Estudiante_68_202314'\n",
    "db_psswd = 'aabb1122'\n",
    "source_db_connection_string = 'jdbc:mysql://157.253.236.116:8080/Proyecto_G3_202314'\n",
    "\n",
    "dest_db_connection_string = 'jdbc:mysql://157.253.236.116:8080/Proyecto_G3_202314'\n",
    "\n",
    "# Driver de conexion\n",
    "path_jar_driver = 'C:\\Program Files (x86)\\MySQL\\Connector J 8.0\\mysql-connector-java-8.0.28.jar'"
   ]
  },
  {
   "cell_type": "code",
   "execution_count": 18,
   "metadata": {
    "id": "cfRkDawmPn3Z",
    "outputId": "d1e48a40-41de-4df1-8f43-ff2f6294ae4e"
   },
   "outputs": [],
   "source": [
    "import os \n",
    "from pyspark.sql import functions as f, SparkSession, types as t\n",
    "from pyspark import SparkContext, SparkConf, SQLContext\n",
    "from pyspark.sql.functions import udf, col, length, isnan, when, count, regexp_replace\n",
    "from datetime import datetime\n",
    "from pyspark.sql.window import Window\n",
    "import pandas as pd\n",
    "from pyspark.sql.types import FloatType"
   ]
  },
  {
   "cell_type": "code",
   "execution_count": 19,
   "metadata": {
    "id": "cfRkDawmPn3Z",
    "outputId": "d1e48a40-41de-4df1-8f43-ff2f6294ae4e"
   },
   "outputs": [],
   "source": [
    "#Configuración de la sesión\n",
    "conf=SparkConf() \\\n",
    "    .set('spark.driver.extraClassPath', path_jar_driver)\n",
    "\n",
    "if 'spark_context' in locals():\n",
    "    spark_context.stop()\n",
    "\n",
    "spark_context = SparkContext(conf=conf)\n",
    "sql_context = SQLContext(spark_context)\n",
    "spark = sql_context.sparkSession"
   ]
  },
  {
   "cell_type": "markdown",
   "metadata": {
    "id": "cfRkDawmPn3Z",
    "outputId": "d1e48a40-41de-4df1-8f43-ff2f6294ae4e"
   },
   "source": [
    "# Conexión y Carga de Datos"
   ]
  },
  {
   "cell_type": "code",
   "execution_count": 20,
   "metadata": {
    "id": "cfRkDawmPn3Z",
    "outputId": "d1e48a40-41de-4df1-8f43-ff2f6294ae4e"
   },
   "outputs": [],
   "source": [
    "def obterner_dataframe_desde_csv(_PATH, _sep):\n",
    "    return spark.read.load(_PATH, format=\"csv\", sep=_sep, inferSchema=\"true\", header='true')\n",
    "\n",
    "def obtener_dataframe_de_bd(db_connection_string, sql, db_user, db_psswd):\n",
    "    df_bd = spark.read.format('jdbc')\\\n",
    "        .option('url', db_connection_string) \\\n",
    "        .option('dbtable', sql) \\\n",
    "        .option('user', db_user) \\\n",
    "        .option('password', db_psswd) \\\n",
    "        .option('driver', 'com.mysql.cj.jdbc.Driver') \\\n",
    "        .load()\n",
    "    return df_bd\n",
    "\n",
    "def guardar_db(db_connection_string, df, tabla, db_user, db_psswd):\n",
    "    df.select('*').write.format('jdbc') \\\n",
    "      .mode('append') \\\n",
    "      .option('url', db_connection_string) \\\n",
    "      .option('dbtable', tabla) \\\n",
    "      .option('user', db_user) \\\n",
    "      .option('password', db_psswd) \\\n",
    "      .option('driver', 'com.mysql.cj.jdbc.Driver') \\\n",
    "      .save()"
   ]
  },
  {
   "cell_type": "markdown",
   "metadata": {
    "id": "cfRkDawmPn3Z",
    "outputId": "d1e48a40-41de-4df1-8f43-ff2f6294ae4e"
   },
   "source": [
    "BLOQUE - HechoVuelos\n",
    "Empezamos con el bloque de la dimensión HechoVuelos, su fuente de datos viene de las tablas Aeropuertos, GeografiaConDemografia, TipoVuelo y Vuelos.\n",
    "\n",
    "Extracción\n",
    "A continuación, nos conectamos a la base de datos y extraemos la información deseada por medio de SQL, cargandola en un DataFrame PySpark, es decir en memoria. De la tabla de aeropuertos, En este paso, nos interesa toda la informacion de las diferentes tablas."
   ]
  },
  {
   "cell_type": "code",
   "execution_count": 74,
   "metadata": {
    "id": "FEW2mcMn86vz",
    "outputId": "a18be86c-fd81-4b56-de5c-bec1f41db118"
   },
   "outputs": [],
   "source": [
    "#EXTRACCION\n",
    "\n",
    "sql_vuelos =  '''( SELECT * FROM Proyecto_G3_202314.Vuelos) AS Temp_vuelos '''\n",
    "vuelos = obtener_dataframe_de_bd(source_db_connection_string, sql_vuelos, db_user, db_psswd)\n",
    "#vuelos.show(10)\n",
    "\n",
    "sql_aeropuertos = '''( SELECT * FROM Proyecto_G3_202314.Aeropuertos) AS Temp_aeropuertos '''\n",
    "aeropuertos_b = obtener_dataframe_de_bd(source_db_connection_string, sql_aeropuertos, db_user, db_psswd)\n",
    "#aeropuertos_b.show(10)\n",
    "\n",
    "sql_geocondemo = '''( SELECT * FROM Proyecto_G3_202314.GeografiaConDemografia) AS Temp_geocondemo '''\n",
    "geocondemo = obtener_dataframe_de_bd(source_db_connection_string, sql_geocondemo, db_user, db_psswd)\n",
    "#geocondemo.show(10)\n",
    "\n",
    "sql_tipovuelo = '''( SELECT * FROM Proyecto_G3_202314.TipoVuelo) AS Temp_tipovuelo '''\n",
    "tipo_vuelo = obtener_dataframe_de_bd(source_db_connection_string, sql_tipovuelo, db_user, db_psswd).limit(1000)\n"
   ]
  },
  {
   "cell_type": "markdown",
   "metadata": {
    "id": "ddFhEOmL86vz"
   },
   "source": [
    "#### Transformación"
   ]
  },
  {
   "cell_type": "markdown",
   "metadata": {},
   "source": [
    "Hacer 2 Join de Vuelos a Aeropuertos por origen y destino.<br>\n",
    "La siguiente es la primera transformación para hacer el join entre aeropuertos y vuelos por el origen."
   ]
  },
  {
   "cell_type": "code",
   "execution_count": 75,
   "metadata": {},
   "outputs": [
    {
     "name": "stdout",
     "output_type": "stream",
     "text": [
      "+----+---+------+-------+-----------+----------+-------+---------+------+------+--------------+---------+-----------+-----+----+-----------+---------+------------------+------------------+--------------------+-------+----------------------+\n",
      "| ano|mes|origen|destino|tipo_equipo|tipo_vuelo|trafico|  empresa|vuelos|sillas|carga_ofrecida|pasajeros|carga_bordo|sigla|iata|     nombre|elevacion|       municipio_o|      departamento|numero_vuelos_origen|cambios|idAeropuertoOrigen_DWH|\n",
      "+----+---+------+-------+-----------+----------+-------+---------+------+------+--------------+---------+-----------+-----+----+-----------+---------+------------------+------------------+--------------------+-------+----------------------+\n",
      "|2012| 12|   cuc|    bog|       B732|         R|      N|AEROSUCRE|     1|     0|       15000.0|        0|     1214.0|  CUC| CUC|camilo daza|     1027|San José de Cúcuta|norte de santander|               55734|      1|                   718|\n",
      "|2012| 11|   cuc|    bog|       B732|         R|      N|AEROSUCRE|     1|     0|       15000.0|        0|     3685.0|  CUC| CUC|camilo daza|     1027|San José de Cúcuta|norte de santander|               55734|      1|                   718|\n",
      "|2004|  1|   cuc|    mta|       DC91|         R|      N|    INTER|     4|   332|       36000.0|      315|        0.0|  CUC| CUC|camilo daza|     1027|San José de Cúcuta|norte de santander|               55734|      1|                   718|\n",
      "|2004|  2|   cuc|    clo|       DHC3|         R|      N|    INTER|     1|    50|        4500.0|       32|       88.0|  CUC| CUC|camilo daza|     1027|San José de Cúcuta|norte de santander|               55734|      1|                   718|\n",
      "|2004|  3|   cuc|    bog|       DHC3|         R|      N|    INTER|    10|   500|       45000.0|      271|      528.0|  CUC| CUC|camilo daza|     1027|San José de Cúcuta|norte de santander|               55734|      1|                   718|\n",
      "+----+---+------+-------+-----------+----------+-------+---------+------+------+--------------+---------+-----------+-----+----+-----------+---------+------------------+------------------+--------------------+-------+----------------------+\n",
      "only showing top 5 rows\n",
      "\n"
     ]
    }
   ],
   "source": [
    "resultado1 = vuelos.alias(\"vu\")\\\n",
    "    .join(aeropuertos_b.alias(\"aer_o\"), f.lower(col(\"vu.origen\")) == f.lower(col(\"aer_o.sigla\")), \"inner\")\n",
    "\n",
    "resultado1 = resultado1.withColumnRenamed(\"municipio\",\"municipio_o\").withColumnRenamed(\"ID_Aeropuerto_DWH\",\"idAeropuertoOrigen_DWH\")\n",
    "resultado1.show(5)"
   ]
  },
  {
   "cell_type": "markdown",
   "metadata": {},
   "source": [
    "La siguiente es la segunda transformación para hacer el join entre aeropuertos y vuelos por el destino."
   ]
  },
  {
   "cell_type": "code",
   "execution_count": 76,
   "metadata": {},
   "outputs": [
    {
     "name": "stdout",
     "output_type": "stream",
     "text": [
      "+----+---+------+-------+-----------+----------+-------+---------+------+------+--------------+---------+-----------+-----+----+-----------+---------+------------------+------------------+--------------------+-------+----------------------+-----+----+---------+---------+------------+------------+--------------------+-------+-----------------------+\n",
      "| ano|mes|origen|destino|tipo_equipo|tipo_vuelo|trafico|  empresa|vuelos|sillas|carga_ofrecida|pasajeros|carga_bordo|sigla|iata|     nombre|elevacion|       municipio_o|      departamento|numero_vuelos_origen|cambios|idAeropuertoOrigen_DWH|sigla|iata|   nombre|elevacion| municipio_d|departamento|numero_vuelos_origen|cambios|idAeropuertoDestino_DWH|\n",
      "+----+---+------+-------+-----------+----------+-------+---------+------+------+--------------+---------+-----------+-----+----+-----------+---------+------------------+------------------+--------------------+-------+----------------------+-----+----+---------+---------+------------+------------+--------------------+-------+-----------------------+\n",
      "|2012| 12|   cuc|    bog|       B732|         R|      N|AEROSUCRE|     1|     0|       15000.0|        0|     1214.0|  CUC| CUC|camilo daza|     1027|San José de Cúcuta|norte de santander|               55734|      1|                   718|  BOG| BOG|el dorado|     8356|Bogotá, D.C.|bogota, d.c.|              918833|      1|                    693|\n",
      "|2012| 12|   cuc|    bog|       B732|         R|      N|AEROSUCRE|     1|     0|       15000.0|        0|     1214.0|  CUC| CUC|camilo daza|     1027|San José de Cúcuta|norte de santander|               55734|      1|                   718|  BOG| BOG|el dorado|     8356|Bogotá, D.C.|bogota, d.c.|             1317314|      1|                    692|\n",
      "|2012| 12|   cuc|    bog|       B732|         R|      N|AEROSUCRE|     1|     0|       15000.0|        0|     1214.0|  CUC| CUC|camilo daza|     1027|San José de Cúcuta|norte de santander|               55734|      1|                   718|  BOG| BOG|el dorado|     8356|Bogotá, D.C.|bogota, d.c.|              855586|      1|                    691|\n",
      "|2012| 11|   cuc|    bog|       B732|         R|      N|AEROSUCRE|     1|     0|       15000.0|        0|     3685.0|  CUC| CUC|camilo daza|     1027|San José de Cúcuta|norte de santander|               55734|      1|                   718|  BOG| BOG|el dorado|     8356|Bogotá, D.C.|bogota, d.c.|              918833|      1|                    693|\n",
      "|2012| 11|   cuc|    bog|       B732|         R|      N|AEROSUCRE|     1|     0|       15000.0|        0|     3685.0|  CUC| CUC|camilo daza|     1027|San José de Cúcuta|norte de santander|               55734|      1|                   718|  BOG| BOG|el dorado|     8356|Bogotá, D.C.|bogota, d.c.|             1317314|      1|                    692|\n",
      "+----+---+------+-------+-----------+----------+-------+---------+------+------+--------------+---------+-----------+-----+----+-----------+---------+------------------+------------------+--------------------+-------+----------------------+-----+----+---------+---------+------------+------------+--------------------+-------+-----------------------+\n",
      "only showing top 5 rows\n",
      "\n"
     ]
    }
   ],
   "source": [
    "resultado2 = resultado1.alias(\"vu\")\\\n",
    "    .join(aeropuertos_b.alias(\"aer_d\"), f.lower(col(\"vu.destino\")) == f.lower(col(\"aer_d.sigla\")), \"inner\")\n",
    "\n",
    "resultado2 = resultado2.withColumnRenamed(\"municipio\",\"municipio_d\").withColumnRenamed(\"ID_Aeropuerto_DWH\",\"idAeropuertoDestino_DWH\")\n",
    "\n",
    "resultado2.show(5)"
   ]
  },
  {
   "cell_type": "markdown",
   "metadata": {},
   "source": [
    "Hacer 2 Join de Aeropuertos por municipio y departamento por origen y destino <br>\n",
    "El siguiente es el Join por el municipio de origen.\n"
   ]
  },
  {
   "cell_type": "code",
   "execution_count": 77,
   "metadata": {},
   "outputs": [
    {
     "name": "stdout",
     "output_type": "stream",
     "text": [
      "+----+---+------+-------+-----------+----------+-------+-------+------+------+--------------+---------+-----------+-----+----+--------------------+---------+------------+------------+--------------------+-------+----------------------+-----+----+-------------+---------+-----------+------------+--------------------+-------+-----------------------+---------------------+-------------+---------------+------------------+-----------------+--------------+-------------+------------------+------------+------------+------------+----------+--------+\n",
      "| ano|mes|origen|destino|tipo_equipo|tipo_vuelo|trafico|empresa|vuelos|sillas|carga_ofrecida|pasajeros|carga_bordo|sigla|iata|              nombre|elevacion| municipio_o|departamento|numero_vuelos_origen|cambios|idAeropuertoOrigen_DWH|sigla|iata|       nombre|elevacion|municipio_d|departamento|numero_vuelos_origen|cambios|idAeropuertoDestino_DWH|idMunicipioOrigen_DWH|idMunicipio_T|nombreMunicipio|nombreDepartamento|areaMetropolitana|      longitud|      latitud|               PIB|totalHombres|totalMujeres|fechaInicial|fechaFinal| version|\n",
      "+----+---+------+-------+-----------+----------+-------+-------+------+------+--------------+---------+-----------+-----+----+--------------------+---------+------------+------------+--------------------+-------+----------------------+-----+----+-------------+---------+-----------+------------+--------------------+-------+-----------------------+---------------------+-------------+---------------+------------------+-----------------+--------------+-------------+------------------+------------+------------+------------+----------+--------+\n",
      "|2004|  8|   bsc|    eoh|       DH8A|         R|      N|  AIRES|     2|    74|           0.0|       45|        0.0|  BSC| BSC|JOSE CELESTINO MUTIS|       80|Bahía Solano|       Chocó|               21146|      1|                   900|  EOH| EOH|OLAYA HERRERA|     4920|   Medellín|   Antioquia|              293591|      1|                    937|           8589939628|        27075|   BAHÍA SOLANO|             choco|          2.43768|-77.4275518693|6.10388977429|3822819.1728744935|      214534|      222900|    20080101|  20081231|20231231|\n",
      "|2004|  8|   bsc|    eoh|       DH8A|         R|      N|  AIRES|     2|    74|           0.0|       45|        0.0|  BSC| BSC|JOSE CELESTINO MUTIS|       80|Bahía Solano|       Chocó|               21146|      1|                   900|  EOH| EOH|OLAYA HERRERA|     4920|   Medellín|   Antioquia|              293591|      1|                    937|           8589939632|        27075|   BAHÍA SOLANO|             choco|          2.43768|-77.4027503497|6.22224546046|3822819.1728744935|      214534|      222900|    20080101|  20081231|20231231|\n",
      "|2004|  8|   bsc|    eoh|       DH8A|         R|      N|  AIRES|     2|    74|           0.0|       45|        0.0|  BSC| BSC|JOSE CELESTINO MUTIS|       80|Bahía Solano|       Chocó|               21146|      1|                   900|  EOH| EOH|OLAYA HERRERA|     4920|   Medellín|   Antioquia|              293591|      1|                    937|           8589939633|        27075|   BAHÍA SOLANO|             choco|          2.43768|-77.3864111646| 6.2643531198|3822819.1728744935|      214534|      222900|    20080101|  20081231|20231231|\n",
      "|2004|  8|   bsc|    eoh|       DH8A|         R|      N|  AIRES|     2|    74|           0.0|       45|        0.0|  BSC| BSC|JOSE CELESTINO MUTIS|       80|Bahía Solano|       Chocó|               21146|      1|                   900|  EOH| EOH|OLAYA HERRERA|     4920|   Medellín|   Antioquia|              293591|      1|                    937|           8589939634|        27075|   BAHÍA SOLANO|             choco|          2.43768|-77.4558421064|6.27065375567|3822819.1728744935|      214534|      222900|    20080101|  20081231|20231231|\n",
      "|2004|  8|   bsc|    eoh|       DH8A|         R|      N|  AIRES|     2|    74|           0.0|       45|        0.0|  BSC| BSC|JOSE CELESTINO MUTIS|       80|Bahía Solano|       Chocó|               21146|      1|                   900|  EOH| EOH|OLAYA HERRERA|     4920|   Medellín|   Antioquia|              293591|      1|                    937|           8589939635|        27075|   BAHÍA SOLANO|             choco|          2.43768|-77.3769695971|6.31009129458|3822819.1728744935|      214534|      222900|    20080101|  20081231|20231231|\n",
      "+----+---+------+-------+-----------+----------+-------+-------+------+------+--------------+---------+-----------+-----+----+--------------------+---------+------------+------------+--------------------+-------+----------------------+-----+----+-------------+---------+-----------+------------+--------------------+-------+-----------------------+---------------------+-------------+---------------+------------------+-----------------+--------------+-------------+------------------+------------+------------+------------+----------+--------+\n",
      "only showing top 5 rows\n",
      "\n"
     ]
    }
   ],
   "source": [
    "resultado3 = resultado2.alias(\"vu\")\\\n",
    "    .join(geocondemo.alias(\"gcd_o\"),  f.lower(col(\"vu.municipio_o\")) ==  f.lower(col(\"gcd_o.nombreMunicipio\")), \"inner\") \n",
    "\n",
    "resultado3 = resultado3.withColumnRenamed(\"idMunicipio_DWH\",\"idMunicipioOrigen_DWH\")\n",
    "resultado3.show(5)"
   ]
  },
  {
   "cell_type": "markdown",
   "metadata": {},
   "source": [
    "El siguiente es el Join por el municipio de destino."
   ]
  },
  {
   "cell_type": "code",
   "execution_count": 78,
   "metadata": {},
   "outputs": [
    {
     "name": "stdout",
     "output_type": "stream",
     "text": [
      "+----+---+------+-------+-----------+----------+-------+-------+------+------+--------------+---------+-----------+-----+----+-------------+---------+-----------+------------+--------------------+-------+----------------------+-----+----+--------------------+---------+------------+------------+--------------------+-------+-----------------------+---------------------+-------------+---------------+------------------+-----------------+--------------+-------------+-------------------+------------+------------+------------+----------+--------+----------------------+-------------+---------------+------------------+-----------------+--------------+-------------+------------------+------------+------------+------------+----------+--------+\n",
      "| ano|mes|origen|destino|tipo_equipo|tipo_vuelo|trafico|empresa|vuelos|sillas|carga_ofrecida|pasajeros|carga_bordo|sigla|iata|       nombre|elevacion|municipio_o|departamento|numero_vuelos_origen|cambios|idAeropuertoOrigen_DWH|sigla|iata|              nombre|elevacion| municipio_d|departamento|numero_vuelos_origen|cambios|idAeropuertoDestino_DWH|idMunicipioOrigen_DWH|idMunicipio_T|nombreMunicipio|nombreDepartamento|areaMetropolitana|      longitud|      latitud|                PIB|totalHombres|totalMujeres|fechaInicial|fechaFinal| version|idMunicipioDestino_DWH|idMunicipio_T|nombreMunicipio|nombreDepartamento|areaMetropolitana|      longitud|      latitud|               PIB|totalHombres|totalMujeres|fechaInicial|fechaFinal| version|\n",
      "+----+---+------+-------+-----------+----------+-------+-------+------+------+--------------+---------+-----------+-----+----+-------------+---------+-----------+------------+--------------------+-------+----------------------+-----+----+--------------------+---------+------------+------------+--------------------+-------+-----------------------+---------------------+-------------+---------------+------------------+-----------------+--------------+-------------+-------------------+------------+------------+------------+----------+--------+----------------------+-------------+---------------+------------------+-----------------+--------------+-------------+------------------+------------+------------+------------+----------+--------+\n",
      "|2004|  8|   eoh|    bsc|       DH8A|         R|      N|  AIRES|     2|    74|           0.0|       44|        0.0|  EOH| EOH|OLAYA HERRERA|     4920|   Medellín|   Antioquia|              293591|      1|                   937|  BSC| BSC|JOSE CELESTINO MUTIS|       80|Bahía Solano|       Chocó|               21146|      1|                    900|           8589937259|         5001|       MEDELLÍN|         antioquia|         0.287833|-75.6679063363|6.18307584128|1.208473197289277E7|     2730505|     2931594|    20080101|  20081231|20231231|            8589939628|        27075|   BAHÍA SOLANO|             choco|          2.43768|-77.4275518693|6.10388977429|3822819.1728744935|      214534|      222900|    20080101|  20081231|20231231|\n",
      "|2004|  8|   eoh|    bsc|       DH8A|         R|      N|  AIRES|     2|    74|           0.0|       44|        0.0|  EOH| EOH|OLAYA HERRERA|     4920|   Medellín|   Antioquia|              293591|      1|                   937|  BSC| BSC|JOSE CELESTINO MUTIS|       80|Bahía Solano|       Chocó|               21146|      1|                    900|           8589937259|         5001|       MEDELLÍN|         antioquia|         0.287833|-75.6679063363|6.18307584128|1.208473197289277E7|     2730505|     2931594|    20080101|  20081231|20231231|            8589939632|        27075|   BAHÍA SOLANO|             choco|          2.43768|-77.4027503497|6.22224546046|3822819.1728744935|      214534|      222900|    20080101|  20081231|20231231|\n",
      "|2004|  8|   eoh|    bsc|       DH8A|         R|      N|  AIRES|     2|    74|           0.0|       44|        0.0|  EOH| EOH|OLAYA HERRERA|     4920|   Medellín|   Antioquia|              293591|      1|                   937|  BSC| BSC|JOSE CELESTINO MUTIS|       80|Bahía Solano|       Chocó|               21146|      1|                    900|           8589937259|         5001|       MEDELLÍN|         antioquia|         0.287833|-75.6679063363|6.18307584128|1.208473197289277E7|     2730505|     2931594|    20080101|  20081231|20231231|            8589939633|        27075|   BAHÍA SOLANO|             choco|          2.43768|-77.3864111646| 6.2643531198|3822819.1728744935|      214534|      222900|    20080101|  20081231|20231231|\n",
      "|2004|  8|   eoh|    bsc|       DH8A|         R|      N|  AIRES|     2|    74|           0.0|       44|        0.0|  EOH| EOH|OLAYA HERRERA|     4920|   Medellín|   Antioquia|              293591|      1|                   937|  BSC| BSC|JOSE CELESTINO MUTIS|       80|Bahía Solano|       Chocó|               21146|      1|                    900|           8589937259|         5001|       MEDELLÍN|         antioquia|         0.287833|-75.6679063363|6.18307584128|1.208473197289277E7|     2730505|     2931594|    20080101|  20081231|20231231|            8589939634|        27075|   BAHÍA SOLANO|             choco|          2.43768|-77.4558421064|6.27065375567|3822819.1728744935|      214534|      222900|    20080101|  20081231|20231231|\n",
      "|2004|  8|   eoh|    bsc|       DH8A|         R|      N|  AIRES|     2|    74|           0.0|       44|        0.0|  EOH| EOH|OLAYA HERRERA|     4920|   Medellín|   Antioquia|              293591|      1|                   937|  BSC| BSC|JOSE CELESTINO MUTIS|       80|Bahía Solano|       Chocó|               21146|      1|                    900|           8589937259|         5001|       MEDELLÍN|         antioquia|         0.287833|-75.6679063363|6.18307584128|1.208473197289277E7|     2730505|     2931594|    20080101|  20081231|20231231|            8589939635|        27075|   BAHÍA SOLANO|             choco|          2.43768|-77.3769695971|6.31009129458|3822819.1728744935|      214534|      222900|    20080101|  20081231|20231231|\n",
      "+----+---+------+-------+-----------+----------+-------+-------+------+------+--------------+---------+-----------+-----+----+-------------+---------+-----------+------------+--------------------+-------+----------------------+-----+----+--------------------+---------+------------+------------+--------------------+-------+-----------------------+---------------------+-------------+---------------+------------------+-----------------+--------------+-------------+-------------------+------------+------------+------------+----------+--------+----------------------+-------------+---------------+------------------+-----------------+--------------+-------------+------------------+------------+------------+------------+----------+--------+\n",
      "only showing top 5 rows\n",
      "\n"
     ]
    }
   ],
   "source": [
    "resultado4 = resultado3.alias(\"vu\")\\\n",
    "    .join(geocondemo.alias(\"gcd_d\"),  f.lower(col(\"vu.municipio_d\")) ==  f.lower(col(\"gcd_d.nombreMunicipio\")), \"inner\") \n",
    "resultado4 = resultado4.withColumnRenamed(\"idMunicipio_DWH\",\"idMunicipioDestino_DWH\")\n",
    "resultado4.show(5)"
   ]
  },
  {
   "cell_type": "code",
   "execution_count": 79,
   "metadata": {},
   "outputs": [
    {
     "name": "stdout",
     "output_type": "stream",
     "text": [
      "+----+---+------+-------+-----------+----------+-------+-------+------+------+--------------+---------+-----------+-----+----+---------+---------+---------------+------------+--------------------+-------+----------------------+-----+----+---------+---------+-----------+------------+--------------------+-------+-----------------------+---------------------+-------------+---------------+------------------+-----------------+-------------+-------------+-----------+------------+------------+------------+----------+--------+----------------------+-------------+---------------+------------------+-----------------+--------------+-------------+-----------+------------+------------+------------+----------+--------+---------------+-------------+----------+----------+\n",
      "| ano|mes|origen|destino|tipo_equipo|tipo_vuelo|trafico|empresa|vuelos|sillas|carga_ofrecida|pasajeros|carga_bordo|sigla|iata|   nombre|elevacion|    municipio_o|departamento|numero_vuelos_origen|cambios|idAeropuertoOrigen_DWH|sigla|iata|   nombre|elevacion|municipio_d|departamento|numero_vuelos_origen|cambios|idAeropuertoDestino_DWH|idMunicipioOrigen_DWH|idMunicipio_T|nombreMunicipio|nombreDepartamento|areaMetropolitana|     longitud|      latitud|        PIB|totalHombres|totalMujeres|fechaInicial|fechaFinal| version|idMunicipioDestino_DWH|idMunicipio_T|nombreMunicipio|nombreDepartamento|areaMetropolitana|      longitud|      latitud|        PIB|totalHombres|totalMujeres|fechaInicial|fechaFinal| version|idTipoVuelo_DWH|idTipoVuelo_T|nombreTipo|tipoEquipo|\n",
      "+----+---+------+-------+-----------+----------+-------+-------+------+------+--------------+---------+-----------+-----+----+---------+---------+---------------+------------+--------------------+-------+----------------------+-----+----+---------+---------+-----------+------------+--------------------+-------+-----------------------+---------------------+-------------+---------------+------------------+-----------------+-------------+-------------+-----------+------------+------------+------------+----------+--------+----------------------+-------------+---------------+------------------+-----------------+--------------+-------------+-----------+------------+------------+------------+----------+--------+---------------+-------------+----------+----------+\n",
      "|2004|  8|   eja|    bga|        F50|         R|      N|AVIANCA|     1|    52|        5564.0|       52|        0.0|  EJA| EJA|yariguies|      414|Barrancabermeja|   santander|              228313|      1|                   727|  BGA| BGA|PALONEGRO|     null|Bucaramanga|   Santander|              143503|      1|                   1163|          17179869442|        68081|BARRANCABERMEJA|         santander|         0.988925|-73.762775581|6.86308518603|1.8726378E7|      988587|     1029093|    20110101|  20111231|20231231|           25769804090|        68001|    BUCARAMANGA|         santander|         0.988925|-73.1325981781|7.11626727561|2.4482373E7|     1018556|     1058792|    20140101|  20141231|20231231|         137167|       137167|   Regular|       F50|\n",
      "|2004|  8|   eja|    bga|        F50|         R|      N|AVIANCA|     1|    52|        5564.0|       52|        0.0|  EJA| EJA|yariguies|      414|Barrancabermeja|   santander|              228313|      1|                   727|  BGA| BGA|PALONEGRO|     null|Bucaramanga|   Santander|              143503|      1|                   1163|          17179869442|        68081|BARRANCABERMEJA|         santander|         0.988925|-73.762775581|6.86308518603|1.8726378E7|      988587|     1029093|    20110101|  20111231|20231231|           25769804090|        68001|    BUCARAMANGA|         santander|         0.988925|-73.1325981781|7.11626727561|2.4482373E7|     1018556|     1058792|    20140101|  20141231|20231231|         137152|       137152|   Regular|       F50|\n",
      "|2004|  8|   eja|    bga|        F50|         R|      N|AVIANCA|     1|    52|        5564.0|       52|        0.0|  EJA| EJA|yariguies|      414|Barrancabermeja|   santander|              228313|      1|                   727|  BGA| BGA|PALONEGRO|     null|Bucaramanga|   Santander|              143503|      1|                   1163|          17179869442|        68081|BARRANCABERMEJA|         santander|         0.988925|-73.762775581|6.86308518603|1.8726378E7|      988587|     1029093|    20110101|  20111231|20231231|           25769804090|        68001|    BUCARAMANGA|         santander|         0.988925|-73.1325981781|7.11626727561|2.4482373E7|     1018556|     1058792|    20140101|  20141231|20231231|         137150|       137150|   Regular|       F50|\n",
      "|2004|  8|   eja|    bga|        F50|         R|      N|AVIANCA|     1|    52|        5564.0|       52|        0.0|  EJA| EJA|yariguies|      414|Barrancabermeja|   santander|              228313|      1|                   727|  BGA| BGA|PALONEGRO|     null|Bucaramanga|   Santander|              143503|      1|                   1163|          17179869442|        68081|BARRANCABERMEJA|         santander|         0.988925|-73.762775581|6.86308518603|1.8726378E7|      988587|     1029093|    20110101|  20111231|20231231|           25769804090|        68001|    BUCARAMANGA|         santander|         0.988925|-73.1325981781|7.11626727561|2.4482373E7|     1018556|     1058792|    20140101|  20141231|20231231|         137148|       137148|   Regular|       F50|\n",
      "|2004|  8|   eja|    bga|        F50|         R|      N|AVIANCA|     1|    52|        5564.0|       52|        0.0|  EJA| EJA|yariguies|      414|Barrancabermeja|   santander|              228313|      1|                   727|  BGA| BGA|PALONEGRO|     null|Bucaramanga|   Santander|              143503|      1|                   1163|          17179869442|        68081|BARRANCABERMEJA|         santander|         0.988925|-73.762775581|6.86308518603|1.8726378E7|      988587|     1029093|    20110101|  20111231|20231231|           25769804090|        68001|    BUCARAMANGA|         santander|         0.988925|-73.1325981781|7.11626727561|2.4482373E7|     1018556|     1058792|    20140101|  20141231|20231231|         137146|       137146|   Regular|       F50|\n",
      "+----+---+------+-------+-----------+----------+-------+-------+------+------+--------------+---------+-----------+-----+----+---------+---------+---------------+------------+--------------------+-------+----------------------+-----+----+---------+---------+-----------+------------+--------------------+-------+-----------------------+---------------------+-------------+---------------+------------------+-----------------+-------------+-------------+-----------+------------+------------+------------+----------+--------+----------------------+-------------+---------------+------------------+-----------------+--------------+-------------+-----------+------------+------------+------------+----------+--------+---------------+-------------+----------+----------+\n",
      "only showing top 5 rows\n",
      "\n"
     ]
    }
   ],
   "source": [
    "resultado5 = resultado4.alias(\"vu\")\\\n",
    "    .join(tipo_vuelo.alias(\"tv\"), \n",
    "          (f.substring(col(\"tv.nombreTipo\"), 1,1) == col(\"vu.tipo_vuelo\")) & \n",
    "          (col(\"tv.tipoEquipo\") == col(\"vu.tipo_equipo\")), \"inner\")\n",
    "\n",
    "resultado5.show(5)"
   ]
  },
  {
   "cell_type": "markdown",
   "metadata": {},
   "source": [
    "Transformación para normalizar la fecha, concatenando al año y el mes el día 01"
   ]
  },
  {
   "cell_type": "code",
   "execution_count": 80,
   "metadata": {},
   "outputs": [],
   "source": [
    "resultado5 = resultado5.withColumn(\"idFecha\", f.concat(f.format_string(\"%04d\", col(\"ano\")), \n",
    "                                              f.format_string(\"%02d\", col(\"mes\")), \n",
    "                                              f.lit(\"01\")))"
   ]
  },
  {
   "cell_type": "markdown",
   "metadata": {},
   "source": [
    "Transformación para Cambiar el nombre de columna trafico a ID_Trafico_T"
   ]
  },
  {
   "cell_type": "code",
   "execution_count": 81,
   "metadata": {},
   "outputs": [],
   "source": [
    "resultado5 = resultado5.withColumn(\"miniMomentoDelHechoOrigen_DWH\", f.lit(0))\n",
    "resultado5 = resultado5.withColumnRenamed(\"trafico\",\"id_Trafico_T\")\n"
   ]
  },
  {
   "cell_type": "markdown",
   "metadata": {},
   "source": [
    "Selección de campos para cargar en la Base de Datos"
   ]
  },
  {
   "cell_type": "code",
   "execution_count": 82,
   "metadata": {},
   "outputs": [
    {
     "name": "stdout",
     "output_type": "stream",
     "text": [
      "+----------------------+-----------------------+---------------------+----------------------+-----------------------------+--------+------------+---------------+------+------+--------------+-----------+---------+\n",
      "|idAeropuertoOrigen_DWH|idAeropuertoDestino_DWH|idMunicipioOrigen_DWH|idMunicipioDestino_DWH|miniMomentoDelHechoOrigen_DWH| idFecha|id_Trafico_T|idTipoVuelo_DWH|vuelos|sillas|carga_ofrecida|carga_bordo|pasajeros|\n",
      "+----------------------+-----------------------+---------------------+----------------------+-----------------------------+--------+------------+---------------+------+------+--------------+-----------+---------+\n",
      "|                   780|                    928|           8589946432|           25769845641|                            0|20040501|           N|         276303|     1|     0|           0.0|        0.0|        5|\n",
      "|                   780|                    928|           8589946432|           25769845641|                            0|20040501|           N|            247|     1|     0|           0.0|        0.0|        5|\n",
      "|                   780|                    928|           8589946432|           25769845641|                            0|20040501|           N|            246|     1|     0|           0.0|        0.0|        5|\n",
      "|                   780|                    928|           8589946432|           25769845641|                            0|20040501|           N|            245|     1|     0|           0.0|        0.0|        5|\n",
      "|                   780|                    928|           8589946432|           25769845641|                            0|20040501|           N|         416104|     1|     0|           0.0|        0.0|        5|\n",
      "+----------------------+-----------------------+---------------------+----------------------+-----------------------------+--------+------------+---------------+------+------+--------------+-----------+---------+\n",
      "only showing top 5 rows\n",
      "\n"
     ]
    }
   ],
   "source": [
    "resultado5 = resultado5.select(\"idAeropuertoOrigen_DWH\",\"idAeropuertoDestino_DWH\",\"idMunicipioOrigen_DWH\",\"idMunicipioDestino_DWH\",\"miniMomentoDelHechoOrigen_DWH\",\"idFecha\",\"id_Trafico_T\", \"idTipoVuelo_DWH\", \"vuelos\",\"sillas\",\"carga_ofrecida\",\"carga_bordo\",\"pasajeros\")  \n",
    "\n",
    "resultado5.show(5)"
   ]
  },
  {
   "cell_type": "markdown",
   "metadata": {},
   "source": [
    "Agregar id incremental idVuelo_DWH"
   ]
  },
  {
   "cell_type": "code",
   "execution_count": 83,
   "metadata": {},
   "outputs": [
    {
     "name": "stdout",
     "output_type": "stream",
     "text": [
      "+----------------------+-----------------------+---------------------+----------------------+-----------------------------+--------+------------+---------------+------+------+--------------+-----------+---------+-----------+\n",
      "|idAeropuertoOrigen_DWH|idAeropuertoDestino_DWH|idMunicipioOrigen_DWH|idMunicipioDestino_DWH|miniMomentoDelHechoOrigen_DWH| idFecha|id_Trafico_T|idTipoVuelo_DWH|vuelos|sillas|carga_ofrecida|carga_bordo|pasajeros|idVuelo_DWH|\n",
      "+----------------------+-----------------------+---------------------+----------------------+-----------------------------+--------+------------+---------------+------+------+--------------+-----------+---------+-----------+\n",
      "|                   780|                    928|           8589946432|           25769845641|                            0|20040501|           N|         276303|     1|     0|           0.0|        0.0|        5|          1|\n",
      "|                   780|                    928|           8589946432|           25769845641|                            0|20040501|           N|            247|     1|     0|           0.0|        0.0|        5|          2|\n",
      "|                   780|                    928|           8589946432|           25769845641|                            0|20040501|           N|            246|     1|     0|           0.0|        0.0|        5|          3|\n",
      "|                   780|                    928|           8589946432|           25769845641|                            0|20040501|           N|            245|     1|     0|           0.0|        0.0|        5|          4|\n",
      "|                   780|                    928|           8589946432|           25769845641|                            0|20040501|           N|         416104|     1|     0|           0.0|        0.0|        5|          5|\n",
      "+----------------------+-----------------------+---------------------+----------------------+-----------------------------+--------+------------+---------------+------+------+--------------+-----------+---------+-----------+\n",
      "only showing top 5 rows\n",
      "\n"
     ]
    }
   ],
   "source": [
    "resultado6 = resultado5.coalesce(1).withColumn(\"idVuelo_DWH\", f.monotonically_increasing_id() + 1)\n",
    "resultado6.show(5)"
   ]
  },
  {
   "cell_type": "code",
   "execution_count": 85,
   "metadata": {},
   "outputs": [
    {
     "name": "stdout",
     "output_type": "stream",
     "text": [
      "1000\n"
     ]
    }
   ],
   "source": [
    "resultado6 = resultado6.limit(1000)\n",
    "print(resultado6.count())"
   ]
  },
  {
   "cell_type": "markdown",
   "metadata": {},
   "source": [
    "# Carga de Datos"
   ]
  },
  {
   "cell_type": "code",
   "execution_count": 86,
   "metadata": {},
   "outputs": [
    {
     "name": "stdout",
     "output_type": "stream",
     "text": [
      "1000\n"
     ]
    }
   ],
   "source": [
    "HechoVuelo = resultado6\n",
    "guardar_db(dest_db_connection_string, HechoVuelo,'Proyecto_G3_202314.HechoVuelo', db_user, db_psswd)\n",
    "print(HechoVuelo.count())"
   ]
  }
 ],
 "metadata": {
  "colab": {
   "collapsed_sections": [
    "vtE61qk986vx",
    "X9Oou0g986vy",
    "B5kFkHTD86vz",
    "ddFhEOmL86vz",
    "MuvVgJ4R86v0",
    "BZjDeVYd86v1",
    "_7xbgfCk86v1",
    "Rh_102Yy86v1",
    "HogvCqW_86v2",
    "9rKmT9jd86v2",
    "R9SnkMUH86v3",
    "k8O1GvOd86v3",
    "Mo633Vpg86v3",
    "i36NawhX86v4",
    "LvgnsPfK86v4",
    "dTv_CIOT86v5",
    "N9f10qpB86v9"
   ],
   "name": "MISW-ETL-TutorialETL.ipynb",
   "provenance": []
  },
  "kernelspec": {
   "display_name": "Python 3 (ipykernel)",
   "language": "python",
   "name": "python3"
  },
  "language_info": {
   "codemirror_mode": {
    "name": "ipython",
    "version": 3
   },
   "file_extension": ".py",
   "mimetype": "text/x-python",
   "name": "python",
   "nbconvert_exporter": "python",
   "pygments_lexer": "ipython3",
   "version": "3.7.13"
  }
 },
 "nbformat": 4,
 "nbformat_minor": 4
}
