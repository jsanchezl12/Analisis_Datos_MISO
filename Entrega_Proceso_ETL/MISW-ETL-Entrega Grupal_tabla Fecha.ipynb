{
 "cells": [
  {
   "cell_type": "markdown",
   "metadata": {
    "id": "IcY9y56n86vn"
   },
   "source": [
    "# Tutorial: creación de ETLs con PySpark"
   ]
  },
  {
   "cell_type": "code",
   "execution_count": 1,
   "metadata": {},
   "outputs": [],
   "source": [
    "import os \n",
    "from pyspark.sql import functions as f, SparkSession, types as t\n",
    "from pyspark import SparkContext, SparkConf, SQLContext\n",
    "from pyspark.sql.functions import udf, col, length, isnan, when, count, regexp_replace\n",
    "from datetime import datetime"
   ]
  },
  {
   "cell_type": "code",
   "execution_count": 2,
   "metadata": {},
   "outputs": [],
   "source": [
    "# Configuración servidor base de datos transaccional\n",
    "# Recuerde usar Estudiante_i como usuario y la contraseña asigana en el excel de conexión a maquina virtual como contraseña\n",
    "db_user = 'Estudiante_36_202314'\n",
    "db_psswd = 'aabb1122'\n",
    "source_db_connection_string = 'jdbc:mysql://157.253.236.116:8080/ProyectoTransaccional'\n",
    "dest_db_connection_string = 'jdbc:mysql://157.253.236.116:8080/Proyecto_G3_202314'\n",
    "# Driver de conexion\n",
    "path_jar_driver = 'C:\\Program Files (x86)\\MySQL\\Connector J 8.0\\mysql-connector-java-8.0.28.jar'"
   ]
  },
  {
   "cell_type": "code",
   "execution_count": null,
   "metadata": {},
   "outputs": [],
   "source": [
    "#Configuración de la sesión\n",
    "conf=SparkConf() \\\n",
    "    .set('spark.driver.extraClassPath', path_jar_driver)\n",
    "\n",
    "spark_context = SparkContext(conf=conf)\n",
    "sql_context = SQLContext(spark_context)\n",
    "spark = sql_context.sparkSession"
   ]
  },
  {
   "cell_type": "code",
   "execution_count": 4,
   "metadata": {},
   "outputs": [],
   "source": [
    "def obterner_dataframe_desde_csv(_PATH, _sep):\n",
    "    return spark.read.load(_PATH, format=\"csv\", sep=_sep, inferSchema=\"true\", header='true')\n",
    "\n",
    "def obtener_dataframe_de_bd(db_connection_string, sql, db_user, db_psswd):\n",
    "    df_bd = spark.read.format('jdbc')\\\n",
    "        .option('url', db_connection_string) \\\n",
    "        .option('dbtable', sql) \\\n",
    "        .option('user', db_user) \\\n",
    "        .option('password', db_psswd) \\\n",
    "        .option('driver', 'com.mysql.cj.jdbc.Driver') \\\n",
    "        .load()\n",
    "    return df_bd\n",
    "\n",
    "def guardar_db(db_connection_string, df, tabla, db_user, db_psswd):\n",
    "    df.select('*').write.format('jdbc') \\\n",
    "      .mode('append') \\\n",
    "      .option('url', db_connection_string) \\\n",
    "      .option('dbtable', tabla) \\\n",
    "      .option('user', db_user) \\\n",
    "      .option('password', db_psswd) \\\n",
    "      .option('driver', 'com.mysql.cj.jdbc.Driver') \\\n",
    "      .save()"
   ]
  },
  {
   "cell_type": "code",
   "execution_count": null,
   "metadata": {},
   "outputs": [],
   "source": [
    "Consulta de fechas desde la tabla Vuelos y Aeropuertos"
   ]
  },
  {
   "cell_type": "code",
   "execution_count": 6,
   "metadata": {
    "tags": []
   },
   "outputs": [
    {
     "name": "stdout",
     "output_type": "stream",
     "text": [
      "+--------+-----------+----+---+---+\n",
      "| idFecha|descripcion|anio|mes|dia|\n",
      "+--------+-----------+----+---+---+\n",
      "|20120901| 2012-09-01|2012|  9|  1|\n",
      "|20121101| 2012-11-01|2012| 11|  1|\n",
      "|20121201| 2012-12-01|2012| 12|  1|\n",
      "|20120101| 2012-01-01|2012|  1|  1|\n",
      "|20120201| 2012-02-01|2012|  2|  1|\n",
      "|20040101| 2004-01-01|2004|  1|  1|\n",
      "|20120301| 2012-03-01|2012|  3|  1|\n",
      "|20040201| 2004-02-01|2004|  2|  1|\n",
      "|20120401| 2012-04-01|2012|  4|  1|\n",
      "|20040301| 2004-03-01|2004|  3|  1|\n",
      "+--------+-----------+----+---+---+\n",
      "only showing top 10 rows\n",
      "\n"
     ]
    }
   ],
   "source": [
    "sql_fechas =  '''\n",
    "(\n",
    "SELECT\n",
    "    CAST(CONCAT(ano, LPAD(mes, 2, '0'), LPAD('1', 2, '0')) AS UNSIGNED) AS idFecha,\n",
    "    STR_TO_DATE(CONCAT(ano, '-', LPAD(mes, 2, '0'), '-', LPAD('1', 2, '0')), '%Y-%m-%d') as descripcion,\n",
    "    ano AS anio,\n",
    "    mes AS mes,\n",
    "    1 AS dia\n",
    "FROM ProyectoTransaccional.vuelos\n",
    "union\n",
    "SELECT\n",
    "    CONCAT(YEAR(fecha_construccion), LPAD(MONTH(fecha_construccion), 2, '0'), LPAD(DAY(fecha_construccion), 2, '0')) AS idFecha,\n",
    "    fecha_construccion AS descripcion,\n",
    "    YEAR(fecha_construccion) AS anio,\n",
    "    MONTH(fecha_construccion) AS mes,\n",
    "    DAY(fecha_construccion) AS dia\n",
    "FROM\n",
    "    ProyectoTransaccional.aeropuertos\n",
    "union\n",
    "SELECT\n",
    "    CONCAT(YEAR(fecha_vigencia), LPAD(MONTH(fecha_vigencia), 2, '0'), LPAD(DAY(fecha_vigencia), 2, '0')) AS idFecha,\n",
    "    fecha_vigencia AS descripcion,\n",
    "    YEAR(fecha_vigencia) AS anio,\n",
    "    MONTH(fecha_vigencia) AS mes,\n",
    "    DAY(fecha_vigencia) AS dia\n",
    "FROM\n",
    "    ProyectoTransaccional.aeropuertos\n",
    "WHERE\n",
    "    fecha_vigencia IS NOT NULL AND fecha_vigencia <> ''\n",
    "union\n",
    "SELECT\n",
    "    CONCAT(YEAR(STR_TO_DATE(CONCAT(anio, '-01-01'), '%Y-%m-%d')), '0101') AS idFecha,\n",
    "    DATE_FORMAT(STR_TO_DATE(CONCAT(anio, '-01-01'), '%Y-%m-%d'), '%Y-%m-%d') AS descripcion,\n",
    "    anio AS anio,\n",
    "    1 AS mes,\n",
    "    1 AS dia\n",
    "FROM\n",
    "    ProyectoTransaccional.aeropuertos\n",
    ") as Fecha\n",
    "'''\n",
    "Fecha = obtener_dataframe_de_bd(source_db_connection_string, sql_fechas, db_user, db_psswd)\n",
    "Fecha.show(10)"
   ]
  },
  {
   "cell_type": "code",
   "execution_count": null,
   "metadata": {},
   "outputs": [],
   "source": [
    "Transformaciones \n"
   ]
  },
  {
   "cell_type": "code",
   "execution_count": 8,
   "metadata": {},
   "outputs": [
    {
     "name": "stdout",
     "output_type": "stream",
     "text": [
      "Distinct of IdFecha : 405\n",
      "+--------+-----------+----+---+---+\n",
      "|idFecha |descripcion|anio|mes|dia|\n",
      "+--------+-----------+----+---+---+\n",
      "|19570130|1957-01-30 |1957|1  |30 |\n",
      "|19570424|1957-04-24 |1957|4  |24 |\n",
      "|19570723|1957-07-23 |1957|7  |23 |\n",
      "|19580205|1958-02-05 |1958|2  |5  |\n",
      "|19580219|1958-02-19 |1958|2  |19 |\n",
      "|19580228|1958-02-28 |1958|2  |28 |\n",
      "|19591204|1959-12-04 |1959|12 |4  |\n",
      "|19600817|1960-08-17 |1960|8  |17 |\n",
      "|19650902|1965-09-02 |1965|9  |2  |\n",
      "|19670505|1967-05-05 |1967|5  |5  |\n",
      "|19670605|1967-06-05 |1967|6  |5  |\n",
      "|19670828|1967-08-28 |1967|8  |28 |\n",
      "|19680109|1968-01-09 |1968|1  |9  |\n",
      "|19680124|1968-01-24 |1968|1  |24 |\n",
      "|19680308|1968-03-08 |1968|3  |8  |\n",
      "|19680503|1968-05-03 |1968|5  |3  |\n",
      "|19680517|1968-05-17 |1968|5  |17 |\n",
      "|19680612|1968-06-12 |1968|6  |12 |\n",
      "|19680703|1968-07-03 |1968|7  |3  |\n",
      "|19680710|1968-07-10 |1968|7  |10 |\n",
      "+--------+-----------+----+---+---+\n",
      "only showing top 20 rows\n",
      "\n"
     ]
    }
   ],
   "source": [
    "Fecha = Fecha.dropDuplicates([\"IdFecha\"])\n",
    "print(\"Distinct of IdFecha : \"+str(Fecha.count()))\n",
    "Fecha.show(truncate=False)"
   ]
  },
  {
   "cell_type": "code",
   "execution_count": null,
   "metadata": {},
   "outputs": [],
   "source": [
    "Fecha.show().orderBy(col('idFecha'))"
   ]
  },
  {
   "cell_type": "code",
   "execution_count": 10,
   "metadata": {},
   "outputs": [
    {
     "name": "stdout",
     "output_type": "stream",
     "text": [
      "+--------+-----------+----+---+---+\n",
      "| idFecha|descripcion|anio|mes|dia|\n",
      "+--------+-----------+----+---+---+\n",
      "|19570130| 1957-01-30|1957|  1| 30|\n",
      "|19570424| 1957-04-24|1957|  4| 24|\n",
      "|19570723| 1957-07-23|1957|  7| 23|\n",
      "|19580205| 1958-02-05|1958|  2|  5|\n",
      "|19580219| 1958-02-19|1958|  2| 19|\n",
      "|19580228| 1958-02-28|1958|  2| 28|\n",
      "|19591204| 1959-12-04|1959| 12|  4|\n",
      "|19600817| 1960-08-17|1960|  8| 17|\n",
      "|19650902| 1965-09-02|1965|  9|  2|\n",
      "|19670505| 1967-05-05|1967|  5|  5|\n",
      "|19670605| 1967-06-05|1967|  6|  5|\n",
      "|19670828| 1967-08-28|1967|  8| 28|\n",
      "|19680109| 1968-01-09|1968|  1|  9|\n",
      "|19680124| 1968-01-24|1968|  1| 24|\n",
      "|19680308| 1968-03-08|1968|  3|  8|\n",
      "|19680503| 1968-05-03|1968|  5|  3|\n",
      "|19680517| 1968-05-17|1968|  5| 17|\n",
      "|19680612| 1968-06-12|1968|  6| 12|\n",
      "|19680703| 1968-07-03|1968|  7|  3|\n",
      "|19680710| 1968-07-10|1968|  7| 10|\n",
      "+--------+-----------+----+---+---+\n",
      "only showing top 20 rows\n",
      "\n"
     ]
    }
   ],
   "source": [
    "Fecha = Fecha.withColumn('idFecha',col('idFecha').cast('int')).orderBy(col('idFecha'))\n",
    "Fecha.show()"
   ]
  },
  {
   "cell_type": "code",
   "execution_count": 11,
   "metadata": {},
   "outputs": [],
   "source": [
    "# CARGUE\n",
    "guardar_db(dest_db_connection_string,Fecha,'Proyecto_G3_202314.Fecha', db_user, db_psswd)"
   ]
  },
  {
   "cell_type": "code",
   "execution_count": null,
   "metadata": {},
   "outputs": [],
   "source": []
  }
 ],
 "metadata": {
  "colab": {
   "collapsed_sections": [
    "vtE61qk986vx",
    "X9Oou0g986vy",
    "B5kFkHTD86vz",
    "ddFhEOmL86vz",
    "MuvVgJ4R86v0",
    "BZjDeVYd86v1",
    "_7xbgfCk86v1",
    "Rh_102Yy86v1",
    "HogvCqW_86v2",
    "9rKmT9jd86v2",
    "R9SnkMUH86v3",
    "k8O1GvOd86v3",
    "Mo633Vpg86v3",
    "i36NawhX86v4",
    "LvgnsPfK86v4",
    "dTv_CIOT86v5",
    "N9f10qpB86v9"
   ],
   "name": "MISW-ETL-TutorialETL.ipynb",
   "provenance": []
  },
  "kernelspec": {
   "display_name": "Python 3 (ipykernel)",
   "language": "python",
   "name": "python3"
  },
  "language_info": {
   "codemirror_mode": {
    "name": "ipython",
    "version": 3
   },
   "file_extension": ".py",
   "mimetype": "text/x-python",
   "name": "python",
   "nbconvert_exporter": "python",
   "pygments_lexer": "ipython3",
   "version": "3.7.13"
  }
 },
 "nbformat": 4,
 "nbformat_minor": 4
}
