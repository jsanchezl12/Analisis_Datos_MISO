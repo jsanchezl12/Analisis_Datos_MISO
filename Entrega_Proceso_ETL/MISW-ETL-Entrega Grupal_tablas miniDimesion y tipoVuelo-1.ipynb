{
 "cells": [
  {
   "cell_type": "markdown",
   "metadata": {
    "id": "IcY9y56n86vn"
   },
   "source": [
    "# Tutorial: creación de ETLs con PySpark"
   ]
  },
  {
   "cell_type": "code",
   "execution_count": null,
   "metadata": {},
   "outputs": [],
   "source": [
    "import os \n",
    "from pyspark.sql import functions as f, SparkSession, types as t\n",
    "from pyspark import SparkContext, SparkConf, SQLContext\n",
    "from pyspark.sql.functions import udf, col, length, isnan, when, count, regexp_replace\n",
    "from datetime import datetime"
   ]
  },
  {
   "cell_type": "code",
   "execution_count": null,
   "metadata": {},
   "outputs": [],
   "source": [
    "# Configuración servidor base de datos transaccional\n",
    "# Recuerde usar Estudiante_i como usuario y la contraseña asigana en el excel de conexión a maquina virtual como contraseña\n",
    "db_user = 'Estudiante_13_202314'\n",
    "db_psswd = 'aabb1122'\n",
    "source_db_connection_string = 'jdbc:mysql://157.253.236.116:8080/ProyectoTransaccional'\n",
    "dest_db_connection_string = 'jdbc:mysql://157.253.236.116:8080/Proyecto_G3_202314'\n",
    "# Driver de conexion\n",
    "path_jar_driver = 'C:\\Program Files (x86)\\MySQL\\Connector J 8.0\\mysql-connector-java-8.0.28.jar'"
   ]
  },
  {
   "cell_type": "code",
   "execution_count": null,
   "metadata": {},
   "outputs": [],
   "source": [
    "#Configuración de la sesión\n",
    "conf=SparkConf() \\\n",
    "    .set('spark.driver.extraClassPath', path_jar_driver)\n",
    "\n",
    "spark_context = SparkContext(conf=conf)\n",
    "sql_context = SQLContext(spark_context)\n",
    "spark = sql_context.sparkSession"
   ]
  },
  {
   "cell_type": "code",
   "execution_count": 4,
   "metadata": {},
   "outputs": [],
   "source": [
    "def obterner_dataframe_desde_csv(_PATH, _sep):\n",
    "    return spark.read.load(_PATH, format=\"csv\", sep=_sep, inferSchema=\"true\", header='true')\n",
    "\n",
    "def obtener_dataframe_de_bd(db_connection_string, sql, db_user, db_psswd):\n",
    "    df_bd = spark.read.format('jdbc')\\\n",
    "        .option('url', db_connection_string) \\\n",
    "        .option('dbtable', sql) \\\n",
    "        .option('user', db_user) \\\n",
    "        .option('password', db_psswd) \\\n",
    "        .option('driver', 'com.mysql.cj.jdbc.Driver') \\\n",
    "        .load()\n",
    "    return df_bd\n",
    "\n",
    "def guardar_db(db_connection_string, df, tabla, db_user, db_psswd):\n",
    "    df.select('*').write.format('jdbc') \\\n",
    "      .mode('append') \\\n",
    "      .option('url', db_connection_string) \\\n",
    "      .option('dbtable', tabla) \\\n",
    "      .option('user', db_user) \\\n",
    "      .option('password', db_psswd) \\\n",
    "      .option('driver', 'com.mysql.cj.jdbc.Driver') \\\n",
    "      .save()"
   ]
  },
  {
   "cell_type": "code",
   "execution_count": null,
   "metadata": {},
   "outputs": [],
   "source": [
    "Entidad 1"
   ]
  },
  {
   "cell_type": "code",
   "execution_count": 18,
   "metadata": {},
   "outputs": [
    {
     "name": "stdout",
     "output_type": "stream",
     "text": [
      "+-----------+\n",
      "|maxLongitud|\n",
      "+-----------+\n",
      "|       5832|\n",
      "+-----------+\n",
      "\n",
      "+--------+\n",
      "|maxAncho|\n",
      "+--------+\n",
      "|     136|\n",
      "+--------+\n",
      "\n",
      "+---------------+\n",
      "|maxVuelosOrigen|\n",
      "+---------------+\n",
      "|        1495098|\n",
      "+---------------+\n",
      "\n"
     ]
    }
   ],
   "source": [
    "sql_MaxLongitudPista =  '''(SELECT MAX(longitud_pista) as maxLongitud FROM ProyectoTransaccional.aeropuertos) as maxLongitud'''\n",
    "MaxLongitudPista = obtener_dataframe_de_bd(source_db_connection_string, sql_MaxLongitudPista, db_user, db_psswd)\n",
    "MaxLongitudPista.show()\n",
    "\n",
    "sql_MaxAnchoPista =  '''(SELECT MAX(ancho_pista) as maxAncho FROM ProyectoTransaccional.aeropuertos) as maxAncho'''\n",
    "MaxAnchoPista = obtener_dataframe_de_bd(source_db_connection_string, sql_MaxAnchoPista, db_user, db_psswd)\n",
    "MaxAnchoPista.show()\n",
    "\n",
    "sql_MaxVuelosOrigen =  '''(SELECT MAX(numero_vuelos_origen) as maxVuelosOrigen FROM ProyectoTransaccional.aeropuertos) as maxVuelosOrigen'''\n",
    "MaxVuelosOrigen = obtener_dataframe_de_bd(source_db_connection_string, sql_MaxVuelosOrigen, db_user, db_psswd)\n",
    "MaxVuelosOrigen.show()"
   ]
  },
  {
   "cell_type": "code",
   "execution_count": 63,
   "metadata": {},
   "outputs": [
    {
     "name": "stdout",
     "output_type": "stream",
     "text": [
      "+----------+------------------+---------------+-----------------------+-----+----------+---------------+\n",
      "|idMini_DWH|rangoLongitudPista|rangoAnchoPista|rangoNumeroVuelosOrigen|clase|      tipo|siglaAeropuerto|\n",
      "+----------+------------------+---------------+-----------------------+-----+----------+---------------+\n",
      "|         1|                R1|             R1|                     R1|   1A|   Privado|            7FO|\n",
      "|         2|                R1|             R1|                     R1|   1A|   Privado|            7FO|\n",
      "|         3|                R1|             R1|                     R1|   1A|   Privado|            7FO|\n",
      "|         4|                R1|             R1|                     R1|   1A|Fumigación|            7FU|\n",
      "|         5|                R2|             R1|                     R1|   1A|Fumigación|            7FU|\n",
      "|         6|                R1|             R1|                     R1|   1A|Fumigación|            7FU|\n",
      "|         7|                R1|             R1|                     R1|   1A|   Privado|            7FW|\n",
      "|         8|                R2|             R2|                     R1|   1A|   Privado|            7FW|\n",
      "|         9|                R1|             R2|                     R1|   1A|   Privado|            7FW|\n",
      "|        10|                R1|             R1|                     R2|   1A|   Público|            7FX|\n",
      "|        11|                R2|             R2|                     R1|   1A|   Público|            7FX|\n",
      "|        12|                R1|             R1|                     R1|   1A|   Público|            7FX|\n",
      "|        13|                R1|             R1|                     R2|   1A|   Privado|            7FY|\n",
      "|        14|                R1|             R1|                     R1|   1A|   Privado|            7FY|\n",
      "|        15|                R2|             R1|                     R1|   1A|   Privado|            7FY|\n",
      "|        16|                R1|             R1|                     R1|   1A|   Privado|            7FZ|\n",
      "|        17|                R1|             R1|                     R1|   1A|   Privado|            7FZ|\n",
      "|        18|                R1|             R1|                     R1|   1A|   Privado|            7FZ|\n",
      "|        19|                R1|             R1|                     R1|   1A|   Privado|            7GA|\n",
      "|        20|                R1|             R1|                     R1|   1A|   Privado|            7GA|\n",
      "+----------+------------------+---------------+-----------------------+-----+----------+---------------+\n",
      "only showing top 20 rows\n",
      "\n"
     ]
    }
   ],
   "source": [
    "sql_MiniDimensionAeropuerto = '''(SELECT ROW_NUMBER() OVER (ORDER BY sigla) AS idMini_DWH, \n",
    "        case \n",
    "            when ((SELECT MAX(longitud_pista) FROM ProyectoTransaccional.aeropuertos) / longitud_pista) < 25 then 'R1'\n",
    "            when (((SELECT MAX(longitud_pista) FROM ProyectoTransaccional.aeropuertos) / longitud_pista) >= 25 and  ((SELECT MAX(longitud_pista) FROM ProyectoTransaccional.aeropuertos) / longitud_pista) < 50) then 'R2'\n",
    "            when (((SELECT MAX(longitud_pista) FROM ProyectoTransaccional.aeropuertos) / longitud_pista) >= 50 and  ((SELECT MAX(longitud_pista) FROM ProyectoTransaccional.aeropuertos) / longitud_pista) < 75) then 'R3'\n",
    "            else 'R4'\n",
    "        end as rangoLongitudPista,\n",
    "        case \n",
    "            when ((SELECT MAX(ancho_pista) FROM ProyectoTransaccional.aeropuertos) / ancho_pista) < 25 then 'R1'\n",
    "            when (((SELECT MAX(ancho_pista) FROM ProyectoTransaccional.aeropuertos) / ancho_pista) >= 25 and  ((SELECT MAX(ancho_pista) FROM ProyectoTransaccional.aeropuertos) / ancho_pista) < 50) then 'R2'\n",
    "            when (((SELECT MAX(ancho_pista) FROM ProyectoTransaccional.aeropuertos) / ancho_pista) >= 50 and  ((SELECT MAX(ancho_pista) FROM ProyectoTransaccional.aeropuertos) / ancho_pista) < 75) then 'R3'\n",
    "            else 'R4'\n",
    "        end as rangoAnchoPista,\n",
    "        \n",
    "        case \n",
    "            when ((SELECT MAX(numero_vuelos_origen) FROM ProyectoTransaccional.aeropuertos) / numero_vuelos_origen) < 25 then 'R1'\n",
    "            when (((SELECT MAX(numero_vuelos_origen) FROM ProyectoTransaccional.aeropuertos) / numero_vuelos_origen) >= 25 and  ((SELECT MAX(numero_vuelos_origen) FROM ProyectoTransaccional.aeropuertos) / numero_vuelos_origen) < 50) then 'R2'\n",
    "            when (((SELECT MAX(numero_vuelos_origen) FROM ProyectoTransaccional.aeropuertos) / numero_vuelos_origen) >= 50 and  ((SELECT MAX(numero_vuelos_origen) FROM ProyectoTransaccional.aeropuertos) / numero_vuelos_origen) < 75) then 'R3'\n",
    "            else 'R4'\n",
    "        end as rangoNumeroVuelosOrigen,\n",
    "        clase, tipo, sigla as siglaAeropuerto FROM ProyectoTransaccional.aeropuertos) as MiniDimensionAeropuerto'''\n",
    "\n",
    "\n",
    "MiniDimensionAeropuerto = obtener_dataframe_de_bd(source_db_connection_string, sql_MiniDimensionAeropuerto, db_user, db_psswd)\n",
    "MiniDimensionAeropuerto.show()"
   ]
  },
  {
   "cell_type": "code",
   "execution_count": 29,
   "metadata": {},
   "outputs": [
    {
     "ename": "NameError",
     "evalue": "name 'Trandormaciones' is not defined",
     "output_type": "error",
     "traceback": [
      "\u001b[1;31m---------------------------------------------------------------------------\u001b[0m",
      "\u001b[1;31mNameError\u001b[0m                                 Traceback (most recent call last)",
      "\u001b[1;32m~\\AppData\\Local\\Temp\\ipykernel_12428\\1559235743.py\u001b[0m in \u001b[0;36m<module>\u001b[1;34m\u001b[0m\n\u001b[1;32m----> 1\u001b[1;33m \u001b[0mTrandormaciones\u001b[0m\u001b[1;33m\u001b[0m\u001b[1;33m\u001b[0m\u001b[0m\n\u001b[0m\u001b[0;32m      2\u001b[0m \u001b[1;33m\u001b[0m\u001b[0m\n",
      "\u001b[1;31mNameError\u001b[0m: name 'Trandormaciones' is not defined"
     ]
    }
   ],
   "source": [
    "Trandormaciones \n"
   ]
  },
  {
   "cell_type": "code",
   "execution_count": 64,
   "metadata": {},
   "outputs": [
    {
     "name": "stdout",
     "output_type": "stream",
     "text": [
      "+----------+------------------+---------------+-----------------------+-----+----+---------------+\n",
      "|idMini_DWH|rangoLongitudPista|rangoAnchoPista|rangoNumeroVuelosOrigen|clase|tipo|siglaAeropuerto|\n",
      "+----------+------------------+---------------+-----------------------+-----+----+---------------+\n",
      "|         0|                NA|             NA|                     NA|   NA|  NA|             NA|\n",
      "+----------+------------------+---------------+-----------------------+-----+----+---------------+\n",
      "\n"
     ]
    }
   ],
   "source": [
    "MiniDimensionAeropuerto_0 = [(0,'NA', 'NA', 'NA', 'NA', 'NA', 'NA')]\n",
    "columns = ['idMini_DWH','rangoLongitudPista','rangoAnchoPista','rangoNumeroVuelosOrigen','clase','tipo', 'siglaAeropuerto']\n",
    "MiniDimensionAeropuerto_0 = spark.createDataFrame(data = MiniDimensionAeropuerto_0, schema = columns)\n",
    "MiniDimensionAeropuerto_0.show()"
   ]
  },
  {
   "cell_type": "code",
   "execution_count": 66,
   "metadata": {},
   "outputs": [
    {
     "name": "stdout",
     "output_type": "stream",
     "text": [
      "+----------+------------------+---------------+-----------------------+-----+----------+---------------+\n",
      "|idMini_DWH|rangoLongitudPista|rangoAnchoPista|rangoNumeroVuelosOrigen|clase|      tipo|siglaAeropuerto|\n",
      "+----------+------------------+---------------+-----------------------+-----+----------+---------------+\n",
      "|         1|                R1|             R1|                     R1|   1A|   Privado|            7FO|\n",
      "|         2|                R1|             R1|                     R1|   1A|   Privado|            7FO|\n",
      "|         3|                R1|             R1|                     R1|   1A|   Privado|            7FO|\n",
      "|         4|                R1|             R1|                     R1|   1A|Fumigación|            7FU|\n",
      "|         5|                R2|             R1|                     R1|   1A|Fumigación|            7FU|\n",
      "|         6|                R1|             R1|                     R1|   1A|Fumigación|            7FU|\n",
      "|         7|                R1|             R1|                     R1|   1A|   Privado|            7FW|\n",
      "|         8|                R2|             R2|                     R1|   1A|   Privado|            7FW|\n",
      "|         9|                R1|             R2|                     R1|   1A|   Privado|            7FW|\n",
      "|        10|                R1|             R1|                     R2|   1A|   Público|            7FX|\n",
      "|        11|                R2|             R2|                     R1|   1A|   Público|            7FX|\n",
      "|        12|                R1|             R1|                     R1|   1A|   Público|            7FX|\n",
      "|        13|                R1|             R1|                     R2|   1A|   Privado|            7FY|\n",
      "|        14|                R1|             R1|                     R1|   1A|   Privado|            7FY|\n",
      "|        15|                R2|             R1|                     R1|   1A|   Privado|            7FY|\n",
      "|        16|                R1|             R1|                     R1|   1A|   Privado|            7FZ|\n",
      "|        17|                R1|             R1|                     R1|   1A|   Privado|            7FZ|\n",
      "|        18|                R1|             R1|                     R1|   1A|   Privado|            7FZ|\n",
      "|        19|                R1|             R1|                     R1|   1A|   Privado|            7GA|\n",
      "|        20|                R1|             R1|                     R1|   1A|   Privado|            7GA|\n",
      "+----------+------------------+---------------+-----------------------+-----+----------+---------------+\n",
      "only showing top 20 rows\n",
      "\n"
     ]
    },
    {
     "ename": "AttributeError",
     "evalue": "'NoneType' object has no attribute 'orderBy'",
     "output_type": "error",
     "traceback": [
      "\u001b[1;31m---------------------------------------------------------------------------\u001b[0m",
      "\u001b[1;31mAttributeError\u001b[0m                            Traceback (most recent call last)",
      "\u001b[1;32m~\\AppData\\Local\\Temp\\ipykernel_12428\\834729932.py\u001b[0m in \u001b[0;36m<module>\u001b[1;34m\u001b[0m\n\u001b[0;32m      1\u001b[0m \u001b[0mMiniDimensionAeropuerto\u001b[0m \u001b[1;33m=\u001b[0m \u001b[0mMiniDimensionAeropuerto\u001b[0m\u001b[1;33m.\u001b[0m\u001b[0munion\u001b[0m\u001b[1;33m(\u001b[0m\u001b[0mMiniDimensionAeropuerto_0\u001b[0m\u001b[1;33m)\u001b[0m\u001b[1;33m\u001b[0m\u001b[1;33m\u001b[0m\u001b[0m\n\u001b[1;32m----> 2\u001b[1;33m \u001b[0mMiniDimensionAeropuerto\u001b[0m\u001b[1;33m.\u001b[0m\u001b[0mshow\u001b[0m\u001b[1;33m(\u001b[0m\u001b[1;33m)\u001b[0m\u001b[1;33m.\u001b[0m\u001b[0morderBy\u001b[0m\u001b[1;33m(\u001b[0m\u001b[0mcol\u001b[0m\u001b[1;33m(\u001b[0m\u001b[1;34m'idMini_DWH'\u001b[0m\u001b[1;33m)\u001b[0m\u001b[1;33m)\u001b[0m\u001b[1;33m\u001b[0m\u001b[1;33m\u001b[0m\u001b[0m\n\u001b[0m",
      "\u001b[1;31mAttributeError\u001b[0m: 'NoneType' object has no attribute 'orderBy'"
     ]
    }
   ],
   "source": [
    "MiniDimensionAeropuerto = MiniDimensionAeropuerto.union(MiniDimensionAeropuerto_0)\n",
    "MiniDimensionAeropuerto.show().orderBy(col('idMini_DWH'))"
   ]
  },
  {
   "cell_type": "code",
   "execution_count": 39,
   "metadata": {},
   "outputs": [
    {
     "name": "stdout",
     "output_type": "stream",
     "text": [
      "+----------+------------------+---------------+-----------------------+-----+----------+\n",
      "|idMini_DWH|rangoLongitudPista|rangoAnchoPista|rangoNumeroVuelosOrigen|clase|      tipo|\n",
      "+----------+------------------+---------------+-----------------------+-----+----------+\n",
      "|         0|                NA|             NA|                     NA|   NA|        NA|\n",
      "|         0|                NA|             NA|                     NA|   NA|        NA|\n",
      "|         0|                NA|             NA|                     NA|   NA|        NA|\n",
      "|         0|                NA|             NA|                     NA|   NA|        NA|\n",
      "|         0|                NA|             NA|                     NA|   NA|        NA|\n",
      "|         1|                R1|             R1|                     R1|   1A|   Privado|\n",
      "|         2|                R1|             R1|                     R1|   1A|   Privado|\n",
      "|         3|                R1|             R1|                     R1|   1A|   Privado|\n",
      "|         4|                R1|             R1|                     R1|   1A|Fumigación|\n",
      "|         5|                R2|             R1|                     R1|   1A|Fumigación|\n",
      "|         6|                R1|             R1|                     R1|   1A|Fumigación|\n",
      "|         7|                R1|             R1|                     R1|   1A|   Privado|\n",
      "|         8|                R2|             R2|                     R1|   1A|   Privado|\n",
      "|         9|                R1|             R2|                     R1|   1A|   Privado|\n",
      "|        10|                R1|             R1|                     R2|   1A|   Público|\n",
      "|        11|                R2|             R2|                     R1|   1A|   Público|\n",
      "|        12|                R1|             R1|                     R1|   1A|   Público|\n",
      "|        13|                R1|             R1|                     R2|   1A|   Privado|\n",
      "|        14|                R1|             R1|                     R1|   1A|   Privado|\n",
      "|        15|                R2|             R1|                     R1|   1A|   Privado|\n",
      "+----------+------------------+---------------+-----------------------+-----+----------+\n",
      "only showing top 20 rows\n",
      "\n"
     ]
    }
   ],
   "source": [
    "MiniDimensionAeropuerto = MiniDimensionAeropuerto.withColumn('idMini_DWH',col('idMini_DWH').cast('int')).orderBy(col('idMini_DWH'))\n",
    "MiniDimensionAeropuerto.show()"
   ]
  },
  {
   "cell_type": "code",
   "execution_count": 40,
   "metadata": {},
   "outputs": [],
   "source": [
    "# CARGUE\n",
    "guardar_db(dest_db_connection_string,MiniDimensionAeropuerto,'Proyecto_G3_202314.MiniDimensionAeropuerto', db_user, db_psswd)"
   ]
  },
  {
   "cell_type": "code",
   "execution_count": null,
   "metadata": {},
   "outputs": [],
   "source": [
    "Entidad 2"
   ]
  },
  {
   "cell_type": "code",
   "execution_count": 46,
   "metadata": {
    "scrolled": true
   },
   "outputs": [
    {
     "name": "stdout",
     "output_type": "stream",
     "text": [
      "+---------------+-------------+----------+----------+\n",
      "|idTipoVuelo_DWH|idTipoVuelo_T|nombreTipo|tipoEquipo|\n",
      "+---------------+-------------+----------+----------+\n",
      "|              1|            1|      Taxi|      PA34|\n",
      "|              2|            2|      Taxi|      C210|\n",
      "|              3|            3|      Taxi|      B190|\n",
      "|              4|            4|      Taxi|      C402|\n",
      "|              5|            5|      Taxi|      C402|\n",
      "|              6|            6|      Taxi|      C402|\n",
      "|              7|            7|      Taxi|      C402|\n",
      "|              8|            8|      Taxi|      C402|\n",
      "|              9|            9|      Taxi|      PA34|\n",
      "|             10|           10|      Taxi|      C402|\n",
      "|             11|           11|      Taxi|      PA34|\n",
      "|             12|           12|      Taxi|      C402|\n",
      "|             13|           13|      Taxi|      PA34|\n",
      "|             14|           14|      Taxi|      PA31|\n",
      "|             15|           15|      Taxi|      PA31|\n",
      "|             16|           16|      Taxi|      PA31|\n",
      "|             17|           17|      Taxi|      PA31|\n",
      "|             18|           18|      Taxi|      PA34|\n",
      "|             19|           19|      Taxi|      C402|\n",
      "|             20|           20|      Taxi|      C402|\n",
      "+---------------+-------------+----------+----------+\n",
      "only showing top 20 rows\n",
      "\n"
     ]
    }
   ],
   "source": [
    "sql_TipoVuelo = '''(SELECT ROW_NUMBER() OVER (ORDER BY origen) AS idTipoVuelo_DWH,\n",
    "\t\tROW_NUMBER() OVER (ORDER BY origen) AS idTipoVuelo_T,\n",
    "          case \n",
    "            when (tipo_vuelo) = 'R' then 'Regular'\n",
    "            when (tipo_vuelo) = 'T' then 'Taxi'\n",
    "            when (tipo_vuelo) = 'C' then 'Caracter'\n",
    "            else 'Adicionales'\n",
    "        end as nombreTipo,\n",
    "       tipo_equipo as tipoEquipo FROM ProyectoTransaccional.vuelos) as TipoVuelo'''\n",
    "\n",
    "\n",
    "TipoVuelo = obtener_dataframe_de_bd(source_db_connection_string, sql_TipoVuelo, db_user, db_psswd)\n",
    "TipoVuelo.show()"
   ]
  },
  {
   "cell_type": "code",
   "execution_count": null,
   "metadata": {},
   "outputs": [],
   "source": [
    "Trasformaciones"
   ]
  },
  {
   "cell_type": "code",
   "execution_count": 47,
   "metadata": {},
   "outputs": [
    {
     "name": "stdout",
     "output_type": "stream",
     "text": [
      "+---------------+-------------+----------+----------+\n",
      "|idTipoVuelo_DWH|idTipoVuelo_T|nombreTipo|tipoEquipo|\n",
      "+---------------+-------------+----------+----------+\n",
      "|              0|            0|        NA|        NA|\n",
      "+---------------+-------------+----------+----------+\n",
      "\n"
     ]
    }
   ],
   "source": [
    "TipoVuelo_0 = [(0, 0, 'NA', 'NA')]\n",
    "columns = ['idTipoVuelo_DWH','idTipoVuelo_T','nombreTipo','tipoEquipo']\n",
    "TipoVuelo_0 = spark.createDataFrame(data = TipoVuelo_0, schema = columns)\n",
    "TipoVuelo_0.show()"
   ]
  },
  {
   "cell_type": "code",
   "execution_count": 48,
   "metadata": {},
   "outputs": [
    {
     "name": "stdout",
     "output_type": "stream",
     "text": [
      "+---------------+-------------+----------+----------+\n",
      "|idTipoVuelo_DWH|idTipoVuelo_T|nombreTipo|tipoEquipo|\n",
      "+---------------+-------------+----------+----------+\n",
      "|              1|            1|      Taxi|      PA34|\n",
      "|              2|            2|      Taxi|      C210|\n",
      "|              3|            3|      Taxi|      B190|\n",
      "|              4|            4|      Taxi|      C402|\n",
      "|              5|            5|      Taxi|      C402|\n",
      "|              6|            6|      Taxi|      C402|\n",
      "|              7|            7|      Taxi|      C402|\n",
      "|              8|            8|      Taxi|      C402|\n",
      "|              9|            9|      Taxi|      PA34|\n",
      "|             10|           10|      Taxi|      C402|\n",
      "|             11|           11|      Taxi|      PA34|\n",
      "|             12|           12|      Taxi|      C402|\n",
      "|             13|           13|      Taxi|      PA34|\n",
      "|             14|           14|      Taxi|      PA31|\n",
      "|             15|           15|      Taxi|      PA31|\n",
      "|             16|           16|      Taxi|      PA31|\n",
      "|             17|           17|      Taxi|      PA31|\n",
      "|             18|           18|      Taxi|      PA34|\n",
      "|             19|           19|      Taxi|      C402|\n",
      "|             20|           20|      Taxi|      C402|\n",
      "+---------------+-------------+----------+----------+\n",
      "only showing top 20 rows\n",
      "\n"
     ]
    },
    {
     "ename": "AttributeError",
     "evalue": "'NoneType' object has no attribute 'orderBy'",
     "output_type": "error",
     "traceback": [
      "\u001b[1;31m---------------------------------------------------------------------------\u001b[0m",
      "\u001b[1;31mAttributeError\u001b[0m                            Traceback (most recent call last)",
      "\u001b[1;32m~\\AppData\\Local\\Temp\\ipykernel_12428\\2661747285.py\u001b[0m in \u001b[0;36m<module>\u001b[1;34m\u001b[0m\n\u001b[0;32m      1\u001b[0m \u001b[0mTipoVuelo\u001b[0m \u001b[1;33m=\u001b[0m \u001b[0mTipoVuelo\u001b[0m\u001b[1;33m.\u001b[0m\u001b[0munion\u001b[0m\u001b[1;33m(\u001b[0m\u001b[0mTipoVuelo_0\u001b[0m\u001b[1;33m)\u001b[0m\u001b[1;33m\u001b[0m\u001b[1;33m\u001b[0m\u001b[0m\n\u001b[1;32m----> 2\u001b[1;33m \u001b[0mTipoVuelo\u001b[0m\u001b[1;33m.\u001b[0m\u001b[0mshow\u001b[0m\u001b[1;33m(\u001b[0m\u001b[1;33m)\u001b[0m\u001b[1;33m.\u001b[0m\u001b[0morderBy\u001b[0m\u001b[1;33m(\u001b[0m\u001b[0mcol\u001b[0m\u001b[1;33m(\u001b[0m\u001b[1;34m'idTipoVuelo_DWH'\u001b[0m\u001b[1;33m)\u001b[0m\u001b[1;33m)\u001b[0m\u001b[1;33m\u001b[0m\u001b[1;33m\u001b[0m\u001b[0m\n\u001b[0m",
      "\u001b[1;31mAttributeError\u001b[0m: 'NoneType' object has no attribute 'orderBy'"
     ]
    }
   ],
   "source": [
    "TipoVuelo = TipoVuelo.union(TipoVuelo_0)\n",
    "TipoVuelo.show()"
   ]
  },
  {
   "cell_type": "code",
   "execution_count": 49,
   "metadata": {},
   "outputs": [
    {
     "name": "stdout",
     "output_type": "stream",
     "text": [
      "+---------------+-------------+----------+----------+\n",
      "|idTipoVuelo_DWH|idTipoVuelo_T|nombreTipo|tipoEquipo|\n",
      "+---------------+-------------+----------+----------+\n",
      "|              0|            0|        NA|        NA|\n",
      "|              1|            1|      Taxi|      PA34|\n",
      "|              2|            2|      Taxi|      C210|\n",
      "|              3|            3|      Taxi|      B190|\n",
      "|              4|            4|      Taxi|      C402|\n",
      "|              5|            5|      Taxi|      C402|\n",
      "|              6|            6|      Taxi|      C402|\n",
      "|              7|            7|      Taxi|      C402|\n",
      "|              8|            8|      Taxi|      C402|\n",
      "|              9|            9|      Taxi|      PA34|\n",
      "|             10|           10|      Taxi|      C402|\n",
      "|             11|           11|      Taxi|      PA34|\n",
      "|             12|           12|      Taxi|      C402|\n",
      "|             13|           13|      Taxi|      PA34|\n",
      "|             14|           14|      Taxi|      PA31|\n",
      "|             15|           15|      Taxi|      PA31|\n",
      "|             16|           16|      Taxi|      PA31|\n",
      "|             17|           17|      Taxi|      PA31|\n",
      "|             18|           18|      Taxi|      PA34|\n",
      "|             19|           19|      Taxi|      C402|\n",
      "+---------------+-------------+----------+----------+\n",
      "only showing top 20 rows\n",
      "\n"
     ]
    }
   ],
   "source": [
    "TipoVuelo = TipoVuelo.withColumn('idTipoVuelo_DWH',col('idTipoVuelo_DWH').cast('int')).orderBy(col('idTipoVuelo_DWH'))\n",
    "TipoVuelo.show()"
   ]
  },
  {
   "cell_type": "code",
   "execution_count": 50,
   "metadata": {},
   "outputs": [],
   "source": [
    "# CARGUE\n",
    "guardar_db(dest_db_connection_string, TipoVuelo,'Proyecto_G3_202314. TipoVuelo', db_user, db_psswd)"
   ]
  },
  {
   "cell_type": "code",
   "execution_count": null,
   "metadata": {},
   "outputs": [],
   "source": []
  }
 ],
 "metadata": {
  "colab": {
   "collapsed_sections": [
    "vtE61qk986vx",
    "X9Oou0g986vy",
    "B5kFkHTD86vz",
    "ddFhEOmL86vz",
    "MuvVgJ4R86v0",
    "BZjDeVYd86v1",
    "_7xbgfCk86v1",
    "Rh_102Yy86v1",
    "HogvCqW_86v2",
    "9rKmT9jd86v2",
    "R9SnkMUH86v3",
    "k8O1GvOd86v3",
    "Mo633Vpg86v3",
    "i36NawhX86v4",
    "LvgnsPfK86v4",
    "dTv_CIOT86v5",
    "N9f10qpB86v9"
   ],
   "name": "MISW-ETL-TutorialETL.ipynb",
   "provenance": []
  },
  "kernelspec": {
   "display_name": "Python 3 (ipykernel)",
   "language": "python",
   "name": "python3"
  },
  "language_info": {
   "codemirror_mode": {
    "name": "ipython",
    "version": 3
   },
   "file_extension": ".py",
   "mimetype": "text/x-python",
   "name": "python",
   "nbconvert_exporter": "python",
   "pygments_lexer": "ipython3",
   "version": "3.7.13"
  }
 },
 "nbformat": 4,
 "nbformat_minor": 4
}
