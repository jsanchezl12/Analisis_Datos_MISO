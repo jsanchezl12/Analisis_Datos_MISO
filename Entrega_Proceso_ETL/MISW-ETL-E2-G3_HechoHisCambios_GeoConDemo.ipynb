{
 "cells": [
  {
   "cell_type": "markdown",
   "metadata": {
    "id": "IcY9y56n86vn"
   },
   "source": [
    "# Creación de ETLs con PySpark - HechoHistoriaCambios - GeografiaConDemografia"
   ]
  },
  {
   "cell_type": "markdown",
   "metadata": {
    "id": "LqQVz5s686vq"
   },
   "source": [
    "## Proceso de ETL para una dimensión."
   ]
  },
  {
   "cell_type": "markdown",
   "metadata": {
    "id": "A2UT2Ia586vr"
   },
   "source": [
    "Las llaves ID_XXXX presentes en el modelo hacen referencia a las llaves de la bodega. Por otra parte, en el proceso de ETL se van a tener en cuenta las llaves transaccionales (**ProyectoTransaccional**). La nomenclatura para utilizar es:\n",
    "\n",
    "1.   ID_XXXX_DWH, para las llaves de la bodega.\n",
    "2.   ID_XXXX_T, para las llaves transaccionales.\n"
   ]
  },
  {
   "cell_type": "markdown",
   "metadata": {
    "id": "gIa8WW1M86vt"
   },
   "source": [
    "Proceso de Conexion e inicialización"
   ]
  },
  {
   "cell_type": "code",
   "execution_count": 1,
   "metadata": {
    "id": "os1iJYmu86vt"
   },
   "outputs": [],
   "source": [
    "# Configuración servidor base de datos transaccional\n",
    "# Recuerde usar Estudiante_i como usuario y la contraseña asigana en el excel de conexión a maquina virtual como contraseña\n",
    "db_user = 'Estudiante_59_202314'\n",
    "db_psswd = 'aabb1122'\n",
    "source_db_connection_string = 'jdbc:mysql://157.253.236.116:8080/ProyectoTransaccional'\n",
    "\n",
    "dest_db_connection_string = 'jdbc:mysql://157.253.236.116:8080/Proyecto_G3_202314'\n",
    "\n",
    "# Driver de conexion\n",
    "path_jar_driver = 'C:\\Program Files (x86)\\MySQL\\Connector J 8.0\\mysql-connector-java-8.0.28.jar'"
   ]
  },
  {
   "cell_type": "code",
   "execution_count": 2,
   "metadata": {
    "id": "HAGk_V1986vu"
   },
   "outputs": [],
   "source": [
    "import os \n",
    "from pyspark.sql import functions as f, SparkSession, types as t\n",
    "from pyspark import SparkContext, SparkConf, SQLContext\n",
    "from pyspark.sql.functions import udf, col, length, isnan, when, count, regexp_replace\n",
    "from datetime import datetime\n",
    "from pyspark.sql.window import Window\n",
    "import pandas as pd\n",
    "from pyspark.sql.types import FloatType"
   ]
  },
  {
   "cell_type": "code",
   "execution_count": 3,
   "metadata": {
    "id": "TQ3DM_Xf86vv",
    "outputId": "f2cdb157-a92d-4edc-a174-6f3bd09b9885"
   },
   "outputs": [
    {
     "name": "stderr",
     "output_type": "stream",
     "text": [
      "C:\\Users\\estudiante\\anaconda3\\envs\\Tutoriales\\lib\\site-packages\\pyspark\\sql\\context.py:79: FutureWarning: Deprecated in 3.0.0. Use SparkSession.builder.getOrCreate() instead.\n",
      "  FutureWarning\n"
     ]
    }
   ],
   "source": [
    "#Configuración de la sesión\n",
    "conf=SparkConf() \\\n",
    "    .set('spark.driver.extraClassPath', path_jar_driver)\n",
    "\n",
    "if 'spark_context' in locals():\n",
    "    spark_context.stop()\n",
    "\n",
    "spark_context = SparkContext(conf=conf)\n",
    "sql_context = SQLContext(spark_context)\n",
    "spark = sql_context.sparkSession"
   ]
  },
  {
   "cell_type": "markdown",
   "metadata": {
    "id": "buA7s-vL86vw"
   },
   "source": [
    "### Conexión y carga de datos"
   ]
  },
  {
   "cell_type": "markdown",
   "metadata": {
    "id": "r_QZ-j9q86vw"
   },
   "source": [
    "Se define la función para conexión y cargue de dataframes desde la base de datos origen y luego la función para guardar un dataframe en una tabla de la base de datos destino."
   ]
  },
  {
   "cell_type": "code",
   "execution_count": 4,
   "metadata": {
    "id": "Mhy0jbh_86vw"
   },
   "outputs": [],
   "source": [
    "def obterner_dataframe_desde_csv(_PATH, _sep):\n",
    "    return spark.read.load(_PATH, format=\"csv\", sep=_sep, inferSchema=\"true\", header='true')\n",
    "\n",
    "def obtener_dataframe_de_bd(db_connection_string, sql, db_user, db_psswd):\n",
    "    df_bd = spark.read.format('jdbc')\\\n",
    "        .option('url', db_connection_string) \\\n",
    "        .option('dbtable', sql) \\\n",
    "        .option('user', db_user) \\\n",
    "        .option('password', db_psswd) \\\n",
    "        .option('driver', 'com.mysql.cj.jdbc.Driver') \\\n",
    "        .load()\n",
    "    return df_bd\n",
    "\n",
    "def guardar_db(db_connection_string, df, tabla, db_user, db_psswd):\n",
    "    df.select('*').write.format('jdbc') \\\n",
    "      .mode('append') \\\n",
    "      .option('url', db_connection_string) \\\n",
    "      .option('dbtable', tabla) \\\n",
    "      .option('user', db_user) \\\n",
    "      .option('password', db_psswd) \\\n",
    "      .option('driver', 'com.mysql.cj.jdbc.Driver') \\\n",
    "      .save()"
   ]
  },
  {
   "cell_type": "markdown",
   "metadata": {
    "id": "ZhFsv4ba86vw"
   },
   "source": [
    "### BLOQUE - HechoHistoriaCambios\n",
    "Empezamos con el bloque de la dimensión <i>HechoHistoriaCambios</i>, su fuente de datos viene de la tabla transaccional <i>Aeropuertos</i>."
   ]
  },
  {
   "cell_type": "markdown",
   "metadata": {
    "id": "XNKxFA-f86vx"
   },
   "source": [
    "#### Extracción\n",
    "A continuación, nos conectamos a la base de datos y extraemos la información deseada por medio de SQL, cargandola en un DataFrame PySpark, es decir en memoria. De la tabla de personas, En este paso, solo nos interesan la informacion de los aeropuertos (sigla, longitud, ancho_pista,clase,tipo,numero_vuelos_origen,fecha_construccion,fecha_vigencia), por lo cual se hace un filtro por medio del WHERE, buscando la informacion necesaria para los aeropuertos."
   ]
  },
  {
   "cell_type": "code",
   "execution_count": 5,
   "metadata": {
    "id": "IopBNYuc86vx",
    "outputId": "0589f8a9-527e-4b28-d096-a176efd48e97"
   },
   "outputs": [
    {
     "name": "stdout",
     "output_type": "stream",
     "text": [
      "+-----+--------------------+--------+-----------+-----+----------+--------------------+------------------+--------------+\n",
      "|sigla|              nombre|longitud|ancho_pista|clase|      tipo|numero_vuelos_origen|fecha_construccion|fecha_vigencia|\n",
      "+-----+--------------------+--------+-----------+-----+----------+--------------------+------------------+--------------+\n",
      "|  7FO|             la isla|-71.6271|         14|   1A|   Privado|              171525|        2015-06-05|    2018-06-11|\n",
      "|  7FO|             la isla|-71.6271|         15|   1A|   Privado|              571675|        2015-06-05|    2018-06-11|\n",
      "|  7FO|             la isla|-71.6271|         18|   1A|   Privado|              994420|        2015-06-05|    2018-06-11|\n",
      "|  7FU|        la escondida|-71.1935|         16|   1A|Fumigación|              252325|        2013-04-26|    2016-05-07|\n",
      "|  7FU|        la escondida|-71.1935|         13|   1A|Fumigación|              126667|        2013-04-26|    2016-05-07|\n",
      "|  7FU|        la escondida|-71.1935|         13|   1A|Fumigación|              175953|        2013-04-26|    2016-05-07|\n",
      "|  7FW|           morichito|-71.7932|          8|   1A|   Privado|              444936|        2009-05-07|              |\n",
      "|  7FW|           morichito|-71.7932|          4|   1A|   Privado|             -253202|        2009-05-07|              |\n",
      "|  7FW|           morichito|-71.7932|          4|   1A|   Privado|              289424|        2009-05-07|              |\n",
      "|  7FX|carolina del prin...|-75.2909|          8|   1A|   Público|               38246|        2013-11-19|              |\n",
      "+-----+--------------------+--------+-----------+-----+----------+--------------------+------------------+--------------+\n",
      "only showing top 10 rows\n",
      "\n"
     ]
    }
   ],
   "source": [
    "sql_aeropuertos = '''(SELECT DISTINCT sigla, nombre, longitud, ancho_pista, clase, tipo, numero_vuelos_origen, fecha_construccion, fecha_vigencia  FROM aeropuertos) AS Temp_aeropuertos'''\n",
    "aeropuertos = obtener_dataframe_de_bd(source_db_connection_string, sql_aeropuertos, db_user, db_psswd)\n",
    "aeropuertos.show(10)"
   ]
  },
  {
   "cell_type": "markdown",
   "metadata": {
    "id": "vtE61qk986vx"
   },
   "source": [
    "#### Transformación\n",
    "\n",
    "1. Limpieza de Datos: En ese paso la idea es poder limpiar los datos asociados a vacios, valores negativos, y completar fechas."
   ]
  },
  {
   "cell_type": "code",
   "execution_count": 6,
   "metadata": {},
   "outputs": [
    {
     "name": "stdout",
     "output_type": "stream",
     "text": [
      "valores sin negativos\n",
      "+-----+--------------------+--------+-----------+-----+----------+--------------------+------------------+--------------+\n",
      "|sigla|              nombre|longitud|ancho_pista|clase|      tipo|numero_vuelos_origen|fecha_construccion|fecha_vigencia|\n",
      "+-----+--------------------+--------+-----------+-----+----------+--------------------+------------------+--------------+\n",
      "|  7FO|             la isla|-71.6271|         14|   1A|   Privado|              171525|        2015-06-05|    2018-06-11|\n",
      "|  7FO|             la isla|-71.6271|         15|   1A|   Privado|              571675|        2015-06-05|    2018-06-11|\n",
      "|  7FO|             la isla|-71.6271|         18|   1A|   Privado|              994420|        2015-06-05|    2018-06-11|\n",
      "|  7FU|        la escondida|-71.1935|         16|   1A|Fumigación|              252325|        2013-04-26|    2016-05-07|\n",
      "|  7FU|        la escondida|-71.1935|         13|   1A|Fumigación|              126667|        2013-04-26|    2016-05-07|\n",
      "|  7FU|        la escondida|-71.1935|         13|   1A|Fumigación|              175953|        2013-04-26|    2016-05-07|\n",
      "|  7FW|           morichito|-71.7932|          8|   1A|   Privado|              444936|        2009-05-07|              |\n",
      "|  7FW|           morichito|-71.7932|          4|   1A|   Privado|              253202|        2009-05-07|              |\n",
      "|  7FW|           morichito|-71.7932|          4|   1A|   Privado|              289424|        2009-05-07|              |\n",
      "|  7FX|carolina del prin...|-75.2909|          8|   1A|   Público|               38246|        2013-11-19|              |\n",
      "+-----+--------------------+--------+-----------+-----+----------+--------------------+------------------+--------------+\n",
      "only showing top 10 rows\n",
      "\n",
      "fechas no vacias\n",
      "+-----+--------------------+--------+-----------+-----+----------+--------------------+------------------+--------------+\n",
      "|sigla|              nombre|longitud|ancho_pista|clase|      tipo|numero_vuelos_origen|fecha_construccion|fecha_vigencia|\n",
      "+-----+--------------------+--------+-----------+-----+----------+--------------------+------------------+--------------+\n",
      "|  7FO|             la isla|-71.6271|         14|   1A|   Privado|              171525|        2015-06-05|    2018-06-11|\n",
      "|  7FO|             la isla|-71.6271|         15|   1A|   Privado|              571675|        2015-06-05|    2018-06-11|\n",
      "|  7FO|             la isla|-71.6271|         18|   1A|   Privado|              994420|        2015-06-05|    2018-06-11|\n",
      "|  7FU|        la escondida|-71.1935|         16|   1A|Fumigación|              252325|        2013-04-26|    2016-05-07|\n",
      "|  7FU|        la escondida|-71.1935|         13|   1A|Fumigación|              126667|        2013-04-26|    2016-05-07|\n",
      "|  7FU|        la escondida|-71.1935|         13|   1A|Fumigación|              175953|        2013-04-26|    2016-05-07|\n",
      "|  7FW|           morichito|-71.7932|          8|   1A|   Privado|              444936|        2009-05-07|    2023-12-31|\n",
      "|  7FW|           morichito|-71.7932|          4|   1A|   Privado|              253202|        2009-05-07|    2023-12-31|\n",
      "|  7FW|           morichito|-71.7932|          4|   1A|   Privado|              289424|        2009-05-07|    2023-12-31|\n",
      "|  7FX|carolina del prin...|-75.2909|          8|   1A|   Público|               38246|        2013-11-19|    2023-12-31|\n",
      "+-----+--------------------+--------+-----------+-----+----------+--------------------+------------------+--------------+\n",
      "only showing top 10 rows\n",
      "\n"
     ]
    }
   ],
   "source": [
    "# TRANSFORMACION\n",
    "\n",
    "aeropuertos = aeropuertos.withColumn('numero_vuelos_origen', f.when(aeropuertos[\"numero_vuelos_origen\"] < 0, aeropuertos[\"numero_vuelos_origen\"] * -1).otherwise(aeropuertos[\"numero_vuelos_origen\"]))\n",
    "print('valores sin negativos')\n",
    "aeropuertos.show(10)\n",
    "aeropuertos = aeropuertos.withColumn('fecha_vigencia', f.when(aeropuertos[\"fecha_vigencia\"] == '', '2023-12-31').otherwise(aeropuertos[\"fecha_vigencia\"]))\n",
    "print('fechas no vacias')\n",
    "aeropuertos.show(10)"
   ]
  },
  {
   "cell_type": "markdown",
   "metadata": {},
   "source": [
    "2. Se debe agregar la fila de cambios como version 1"
   ]
  },
  {
   "cell_type": "code",
   "execution_count": 7,
   "metadata": {},
   "outputs": [
    {
     "name": "stdout",
     "output_type": "stream",
     "text": [
      "se agrega la columna de cambios con V1\n",
      "+-----+--------------------+--------+-----------+-----+----------+--------------------+------------------+--------------+-------+\n",
      "|sigla|              nombre|longitud|ancho_pista|clase|      tipo|numero_vuelos_origen|fecha_construccion|fecha_vigencia|cambios|\n",
      "+-----+--------------------+--------+-----------+-----+----------+--------------------+------------------+--------------+-------+\n",
      "|  7FO|             la isla|-71.6271|         14|   1A|   Privado|              171525|        2015-06-05|    2018-06-11|      1|\n",
      "|  7FO|             la isla|-71.6271|         15|   1A|   Privado|              571675|        2015-06-05|    2018-06-11|      1|\n",
      "|  7FO|             la isla|-71.6271|         18|   1A|   Privado|              994420|        2015-06-05|    2018-06-11|      1|\n",
      "|  7FU|        la escondida|-71.1935|         16|   1A|Fumigación|              252325|        2013-04-26|    2016-05-07|      1|\n",
      "|  7FU|        la escondida|-71.1935|         13|   1A|Fumigación|              126667|        2013-04-26|    2016-05-07|      1|\n",
      "|  7FU|        la escondida|-71.1935|         13|   1A|Fumigación|              175953|        2013-04-26|    2016-05-07|      1|\n",
      "|  7FW|           morichito|-71.7932|          8|   1A|   Privado|              444936|        2009-05-07|    2023-12-31|      1|\n",
      "|  7FW|           morichito|-71.7932|          4|   1A|   Privado|              253202|        2009-05-07|    2023-12-31|      1|\n",
      "|  7FW|           morichito|-71.7932|          4|   1A|   Privado|              289424|        2009-05-07|    2023-12-31|      1|\n",
      "|  7FX|carolina del prin...|-75.2909|          8|   1A|   Público|               38246|        2013-11-19|    2023-12-31|      1|\n",
      "+-----+--------------------+--------+-----------+-----+----------+--------------------+------------------+--------------+-------+\n",
      "only showing top 10 rows\n",
      "\n"
     ]
    }
   ],
   "source": [
    "aeropuertos = aeropuertos.withColumn('cambios', f.lit(1))\n",
    "print('se agrega la columna de cambios con V1')\n",
    "aeropuertos.show(10)"
   ]
  },
  {
   "cell_type": "markdown",
   "metadata": {},
   "source": [
    "3. Se deberia obtener la cantidad de cambios realizados por cada uno de las caracteristicas (longitud, ancho, clase, tipo, número de vuelos). Tener en cuenta que todos empiezan con Version 1, en caso de existir un cambio se deberia sumar este valor para saber que hubo un cambio."
   ]
  },
  {
   "cell_type": "code",
   "execution_count": 11,
   "metadata": {},
   "outputs": [
    {
     "name": "stdout",
     "output_type": "stream",
     "text": [
      "+-----+--------------------+--------+-----------+-----+----------+--------------------+------------------+--------------+-------+-----------+----------+\n",
      "|sigla|              nombre|longitud|ancho_pista|clase|      tipo|numero_vuelos_origen|fecha_construccion|fecha_vigencia|cambios|fechaInicio|fechaFinal|\n",
      "+-----+--------------------+--------+-----------+-----+----------+--------------------+------------------+--------------+-------+-----------+----------+\n",
      "|  7FO|             la isla|-71.6271|         14|   1A|   Privado|              171525|        2015-06-05|    2018-06-11|      5|   20150605|  20180611|\n",
      "|  7FO|             la isla|-71.6271|         15|   1A|   Privado|              571675|        2015-06-05|    2018-06-11|      5|   20150605|  20180611|\n",
      "|  7FO|             la isla|-71.6271|         18|   1A|   Privado|              994420|        2015-06-05|    2018-06-11|      5|   20150605|  20180611|\n",
      "|  7FU|        la escondida|-71.1935|         16|   1A|Fumigación|              252325|        2013-04-26|    2016-05-07|      4|   20130426|  20160507|\n",
      "|  7FU|        la escondida|-71.1935|         13|   1A|Fumigación|              126667|        2013-04-26|    2016-05-07|      4|   20130426|  20160507|\n",
      "|  7FU|        la escondida|-71.1935|         13|   1A|Fumigación|              175953|        2013-04-26|    2016-05-07|      4|   20130426|  20160507|\n",
      "|  7FW|           morichito|-71.7932|          8|   1A|   Privado|              444936|        2009-05-07|    2023-12-31|      4|   20090507|  20231231|\n",
      "|  7FW|           morichito|-71.7932|          4|   1A|   Privado|              253202|        2009-05-07|    2023-12-31|      4|   20090507|  20231231|\n",
      "|  7FW|           morichito|-71.7932|          4|   1A|   Privado|              289424|        2009-05-07|    2023-12-31|      4|   20090507|  20231231|\n",
      "|  7FX|carolina del prin...|-75.2909|          8|   1A|   Público|               38246|        2013-11-19|    2023-12-31|      5|   20131119|  20231231|\n",
      "+-----+--------------------+--------+-----------+-----+----------+--------------------+------------------+--------------+-------+-----------+----------+\n",
      "only showing top 10 rows\n",
      "\n"
     ]
    }
   ],
   "source": [
    "window_spec = Window.partitionBy(\"sigla\").orderBy(\"fecha_vigencia\")\n",
    "\n",
    "columns_to_check = [\"longitud\", \"ancho_pista\", \"clase\", \"tipo\", \"numero_vuelos_origen\"]\n",
    "aeropuertos_check = aeropuertos;\n",
    "for column in columns_to_check:\n",
    "    aeropuertos_check = aeropuertos_check.withColumn(f\"next_{column}\", f.lead(column).over(window_spec))\n",
    "\n",
    "for column in columns_to_check:\n",
    "    aeropuertos_check = aeropuertos_check.withColumn(f\"change_{column}\", f.when(f.col(column) != f.col(f\"next_{column}\"), 1).otherwise(0))\n",
    "\n",
    "aeropuertos_check = aeropuertos_check.withColumn(\"cambios_temp\", sum(f.col(f\"change_{column}\") for column in columns_to_check))\n",
    "\n",
    "aeropuertos_check = aeropuertos_check.withColumn(\"cambios\", f.sum(\"cambios_temp\").over(Window.partitionBy(\"sigla\")))\n",
    "\n",
    "columns_to_drop = [f\"next_{column}\" for column in columns_to_check] + [f\"change_{column}\" for column in columns_to_check] + [\"cambios_temp\"]\n",
    "aeropuertos_check = aeropuertos_check.drop(*columns_to_drop)\n",
    "\n",
    "aeropuertos_check = aeropuertos_check.withColumn('cambios', aeropuertos_check[\"cambios\"] + 1)\n",
    "# Obtener fechaInicio y fechaFinal\n",
    "aeropuertos_check = aeropuertos_check.withColumn(\"fechaInicio\", f.min(\"fecha_construccion\").over(window_spec))\n",
    "aeropuertos_check = aeropuertos_check.withColumn(\"fechaFinal\", f.max(\"fecha_vigencia\").over(window_spec))\n",
    "\n",
    "# Cambiar el formato de fecha\n",
    "aeropuertos_check = aeropuertos_check.withColumn(\"fechaInicio\", f.date_format(f.col(\"fechaInicio\"), \"yyyyMMdd\"))\n",
    "aeropuertos_check = aeropuertos_check.withColumn(\"fechaFinal\", f.date_format(f.col(\"fechaFinal\"), \"yyyyMMdd\"))\n",
    "\n",
    "aeropuertos_check.show(10)    "
   ]
  },
  {
   "cell_type": "markdown",
   "metadata": {},
   "source": [
    "4. Se debe generar un nuevo esquema para poder ser cargado."
   ]
  },
  {
   "cell_type": "code",
   "execution_count": 12,
   "metadata": {},
   "outputs": [
    {
     "name": "stdout",
     "output_type": "stream",
     "text": [
      "+---------------+-------+-----------+----------+\n",
      "|ID_Aeropuerto_T|cambios|fechaInicio|fechaFinal|\n",
      "+---------------+-------+-----------+----------+\n",
      "|            7FO|      5|   20150605|  20180611|\n",
      "|            7FU|      4|   20130426|  20160507|\n",
      "|            7FW|      4|   20090507|  20231231|\n",
      "|            7FX|      5|   20131119|  20231231|\n",
      "|            7FY|      5|   20130320|  20231231|\n",
      "|            7FZ|      5|   20141111|  20231231|\n",
      "|            7GA|      5|   20121025|  20151107|\n",
      "|            7GB|      5|   20091006|  20231231|\n",
      "|            7GC|      6|   20120816|  20231231|\n",
      "|            7GD|      6|   20130516|  20231231|\n",
      "+---------------+-------+-----------+----------+\n",
      "only showing top 10 rows\n",
      "\n"
     ]
    }
   ],
   "source": [
    "hechohistoriacambios = aeropuertos_check.select(\"sigla\", \"cambios\", \"fechaInicio\", \"fechaFinal\").distinct().withColumnRenamed('sigla','ID_Aeropuerto_T')\n",
    "hechohistoriacambios.show(10)"
   ]
  },
  {
   "cell_type": "markdown",
   "metadata": {
    "id": "X9Oou0g986vy"
   },
   "source": [
    "#### Carga\n",
    "Una vez realizado esto, se guardan los resultados en la base de datos destino"
   ]
  },
  {
   "cell_type": "code",
   "execution_count": 13,
   "metadata": {
    "id": "qICUWYCa86vy"
   },
   "outputs": [
    {
     "name": "stdout",
     "output_type": "stream",
     "text": [
      "598\n"
     ]
    }
   ],
   "source": [
    "# CARGUE\n",
    "guardar_db(dest_db_connection_string, hechohistoriacambios,'Proyecto_G3_202314.HechoHistoriaCambios', db_user, db_psswd)\n",
    "print(hechohistoriacambios.count())"
   ]
  },
  {
   "cell_type": "markdown",
   "metadata": {
    "id": "K6k37LtO86vy"
   },
   "source": [
    "Verifique los resultados usando MySQL Workbench"
   ]
  },
  {
   "cell_type": "markdown",
   "metadata": {
    "id": "fvj5E1GS86vz"
   },
   "source": [
    "### BLOQUE GeografiaConDemografia\n",
    "\n",
    "La idea de este bloque es poder formar la informacion de <i>GeografiaConDemografia</i> con los datos de las tablas de <i>Aeropuertos, Divipola, PIB, Proyecciones</i>. Para esto debemos sacar la informacion necesaria de cada tabla."
   ]
  },
  {
   "cell_type": "markdown",
   "metadata": {
    "id": "B5kFkHTD86vz"
   },
   "source": [
    "#### Extracción"
   ]
  },
  {
   "cell_type": "code",
   "execution_count": 66,
   "metadata": {
    "id": "FEW2mcMn86vz",
    "outputId": "a18be86c-fd81-4b56-de5c-bec1f41db118"
   },
   "outputs": [
    {
     "name": "stdout",
     "output_type": "stream",
     "text": [
      "+------------------+------------------+---------------+---------------+-------------------+--------------------+--------------+--------------+\n",
      "|CodigoDepartamento|NombreDepartamento|CodigoMunicipio|NombreMunicipio|CodigoCentroPoblado| NombreCentroPoblado|      Longitud|       Latitud|\n",
      "+------------------+------------------+---------------+---------------+-------------------+--------------------+--------------+--------------+\n",
      "|                91|          amazonas|          91001|        LETICIA|           91001000|             LETICIA|-69.9414267076|-4.19983693453|\n",
      "|                91|          amazonas|          91001|        LETICIA|           91001017|COMUNIDAD INDÍGEN...|-69.9588125704|-4.19469878932|\n",
      "|                91|          amazonas|          91001|        LETICIA|           91001016|COMUNIDAD INDÍGEN...|-69.9753934295|-4.17750342085|\n",
      "|                91|          amazonas|          91001|        LETICIA|           91001030|   BARRIO SAN MIGUEL|-69.9288659026|-4.17628953753|\n",
      "|                91|          amazonas|          91001|        LETICIA|           91001034|COMUNIDAD INDÍGEN...|-69.9582013552|-4.15376330453|\n",
      "+------------------+------------------+---------------+---------------+-------------------+--------------------+--------------+--------------+\n",
      "only showing top 5 rows\n",
      "\n",
      "+---+---------+----+-------+------------+------------+-------+\n",
      "| DP|    DPNOM| AÑO|AreaGeo|totalHombres|totalMujeres|  Total|\n",
      "+---+---------+----+-------+------------+------------+-------+\n",
      "|  5|antioquia|2005|  Total|     2630787|     2830056|5460843|\n",
      "|  5|antioquia|2006|  Total|     2663957|     2864164|5528121|\n",
      "|  5|antioquia|2007|  Total|     2697202|     2897978|5595180|\n",
      "|  5|antioquia|2008|  Total|     2730505|     2931594|5662099|\n",
      "|  5|antioquia|2009|  Total|     2764235|     2966142|5730377|\n",
      "+---+---------+----+-------+------------+------------+-------+\n",
      "only showing top 5 rows\n",
      "\n",
      "+----------------------------+-------------+-------+-------+------------------+-----------------+-------+-------+-----------------+-------+-------+-------+-------+-------+-------+\n",
      "|CodigoDepartamento(DIVIPOLA)|DEPARTAMENTOS|   2006|   2007|              2008|             2010|   2011|   2012|             2013|   2014|   2015|   2016|   2017|   2009|   2005|\n",
      "+----------------------------+-------------+-------+-------+------------------+-----------------+-------+-------+-----------------+-------+-------+-------+-------+-------+-------+\n",
      "|                          47| El Magdalena|4202994|4618524| 5293554.101685749|6119382.927756879|6441145|6942728|7530341.883201833|7620221|8285062|9081224|9488025|5858657|3938108|\n",
      "|                          54|     norte de|4562230|5093601| 5756904.272168976|6377160.081745004|6845992|7152319|7716659.361075875|8310220|8890010|9693223|9984804|6139384|3928796|\n",
      "|                          18|     CaquetÃ¡|3575615|4060678| 4519574.129383702|5048396.606737779|5516404|6476778| 7161524.44383983|7990249|8401448|9164641|9639203|4901195|3306217|\n",
      "|                          99|      Vichada|4114080|4091512|  4337203.79854487|4285403.948100506|4377994|4639459|4856888.325019439|4733848|5271600|5586503|5677781|4390230|3887315|\n",
      "|                          27|    El ChocÃ³|3314596|3497940|3822819.1728744935|6317316.431162511|7769706|7400499|6282262.504550394|6291011|7011686|8146211|7511347|4690095|3060247|\n",
      "+----------------------------+-------------+-------+-------+------------------+-----------------+-------+-------+-----------------+-------+-------+-------+-------+-------+-------+\n",
      "only showing top 5 rows\n",
      "\n",
      "divipola - proyecciones - pib\n",
      "['CodigoDepartamento', 'NombreDepartamento', 'CodigoMunicipio', 'NombreMunicipio', 'CodigoCentroPoblado', 'NombreCentroPoblado', 'Longitud', 'Latitud'] ['DP', 'DPNOM', 'AÑO', 'AreaGeo', 'totalHombres', 'totalMujeres', 'Total'] ['CodigoDepartamento(DIVIPOLA)', 'DEPARTAMENTOS', '2006', '2007', '2008', '2010', '2011', '2012', '2013', '2014', '2015', '2016', '2017', '2009', '2005']\n"
     ]
    }
   ],
   "source": [
    "#EXTRACCION\n",
    "\n",
    "sql_divipola = '''(SELECT CodigoDepartamento, NombreDepartamento, CodigoMunicipio, NombreMunicipio, CodigoCentroPoblado, NombreCentroPoblado, Longitud, Latitud FROM divipola) as Temp_divipola'''\n",
    "sql_proyecciones = '''(SELECT DP, DPNOM, `AÑO`, `AREA GEOGRAFICA` as 'AreaGeo', `Total Hombres` as 'totalHombres', `Total Mujeres` as 'totalMujeres', `Total` FROM proyecciones WHERE `AREA GEOGRAFICA` = 'Total') as Temp_proyecciones'''\n",
    "sql_pib = '''(SELECT * from pib) as Temp_pib'''\n",
    "\n",
    "divipola = obtener_dataframe_de_bd(source_db_connection_string, sql_divipola, db_user, db_psswd)\n",
    "proyecciones = obtener_dataframe_de_bd(source_db_connection_string, sql_proyecciones, db_user, db_psswd)\n",
    "pib = obtener_dataframe_de_bd(source_db_connection_string, sql_pib, db_user, db_psswd)\n",
    "\n",
    "divipola.show(5)\n",
    "\n",
    "proyecciones.show(5)\n",
    "\n",
    "pib.show(5)\n",
    "\n",
    "print('divipola - proyecciones - pib')\n",
    "print(divipola.columns, proyecciones.columns, pib.columns)"
   ]
  },
  {
   "cell_type": "markdown",
   "metadata": {
    "id": "ddFhEOmL86vz"
   },
   "source": [
    "#### Transformación"
   ]
  },
  {
   "cell_type": "markdown",
   "metadata": {},
   "source": [
    "1. Se debe estandarizar los nombres de los departamentos"
   ]
  },
  {
   "cell_type": "code",
   "execution_count": 67,
   "metadata": {},
   "outputs": [
    {
     "name": "stdout",
     "output_type": "stream",
     "text": [
      "+------------------+------------------+\n",
      "|CodigoDepartamento|NombreDepartamento|\n",
      "+------------------+------------------+\n",
      "|                99|           vichada|\n",
      "|                68|         santander|\n",
      "|                86|          putumayo|\n",
      "|                18|           caqueta|\n",
      "|                70|             sucre|\n",
      "+------------------+------------------+\n",
      "only showing top 5 rows\n",
      "\n"
     ]
    }
   ],
   "source": [
    "departamentos_unicos = divipola.select(\"CodigoDepartamento\", \"NombreDepartamento\").distinct()\n",
    "\n",
    "# Muestra el resultado\n",
    "departamentos_unicos.show(5)"
   ]
  },
  {
   "cell_type": "markdown",
   "metadata": {},
   "source": [
    "2. Se debe normalizar los nombres de la tabla de PIB"
   ]
  },
  {
   "cell_type": "code",
   "execution_count": 68,
   "metadata": {},
   "outputs": [
    {
     "name": "stdout",
     "output_type": "stream",
     "text": [
      "+------------------+--------+--------+--------------------+--------------------+--------+--------+--------------------+--------+--------+--------+--------+--------+--------+------+\n",
      "|      Departamento|    2006|    2007|                2008|                2010|    2011|    2012|                2013|    2014|    2015|    2016|    2017|    2009|    2005|CodDep|\n",
      "+------------------+--------+--------+--------------------+--------------------+--------+--------+--------------------+--------+--------+--------+--------+--------+--------+------+\n",
      "|         antioquia|10362481|11530203| 1.208473197289277E7|1.3099961280563224E7|14580906|15552451|1.6425657101736834E7|17607117|18817790|20289054|21021421|12444001| 9340469|     5|\n",
      "|         atlantico| 7194985| 8299825|   8858405.054387597|   9481200.322350295|10288314|11421539|1.2434114309437651E7|13681473|14921849|15893944|16559026| 9317808| 6388791|     8|\n",
      "|           bolivar| 7044660| 7956639|    8593127.45117461|   9624568.977941897|11153868|11869745| 1.318480716895266E7|13463342|14096587|15359019|16403989| 8702860| 6205737|    13|\n",
      "|            boyaca| 8046451| 9523137|1.1059677686639624E7| 1.242231192528656E7|14744101|15572164| 1.640181715011036E7|17552741|18575739|19726304|20520809|11433547| 7211579|    15|\n",
      "|            caldas| 6934270| 7682864|   8282623.389774731|   8962648.929718789| 9499869| 9917777|1.0684153263749927E7|11718627|12712322|13977005|14877999| 8485412| 6036872|    17|\n",
      "|           caqueta| 3575615| 4060678|   4519574.129383702|   5048396.606737779| 5516404| 6476778|    7161524.44383983| 7990249| 8401448| 9164641| 9639203| 4901195| 3306217|    18|\n",
      "|             cesar| 7684507| 8146177|   9845956.914284049| 1.060369244638335E7|12692156|13176012|1.2414299180017456E7|12460838|13076198|14953901|16818961|10227409| 6810781|    20|\n",
      "|           cordoba| 4362011| 5186748|   5129321.435273318|   5503257.383173957| 5893042| 6439647|   6914460.222596752| 7555705| 7910948| 8405654| 8957509| 5235480| 3912903|    23|\n",
      "|      cundinamarca|11046444|12259261|1.3547103387097966E7|1.4837915942552006E7|16105151|16789186|1.7283140677228298E7|17888991|18894518|20178863|20095677|14138511|10268544|    25|\n",
      "|             choco| 3314596| 3497940|  3822819.1728744935|   6317316.431162511| 7769706| 7400499|   6282262.504550394| 6291011| 7011686| 8146211| 7511347| 4690095| 3060247|    27|\n",
      "|             huila| 6895658| 7441987|   8686536.103258422|    9548624.85406653|11113741|11400169|1.1967750469189592E7|12755711|13006651|13682003|14008430| 8679324| 6451275|    41|\n",
      "|        la guajira| 7204102| 7342993|   9388252.122098325|   9587598.465312555|10937733|11229423| 1.062505937785779E7|10629004|10790562|11477178|12747584| 9608067| 6503249|    44|\n",
      "|         magdalena| 4202994| 4618524|   5293554.101685749|   6119382.927756879| 6441145| 6942728|   7530341.883201833| 7620221| 8285062| 9081224| 9488025| 5858657| 3938108|    47|\n",
      "|norte de santander| 4562230| 5093601|   5756904.272168976|   6377160.081745004| 6845992| 7152319|   7716659.361075875| 8310220| 8890010| 9693223| 9984804| 6139384| 3928796|    54|\n",
      "|           quindio| 6350376| 6908084|  7449000.1041983375|   8274578.662692363| 9183441|10067779|1.0457303722966803E7|10917328|12119442|13461509|14295764| 7790106| 5378939|    63|\n",
      "|         risaralda| 7174399| 7703890|   8322006.277038564|    9324849.19850393| 9890624|10557237|1.1593542382441336E7|12762046|13704944|14951359|15956983| 8873225| 6277539|    66|\n",
      "|         santander|11318386|12762161| 1.454511437228981E7|1.6392991177437823E7|18726378|19764532|2.1093453800777685E7|24482373|24796146|26029905|27702140|14433162| 9951651|    68|\n",
      "|             sucre| 3481809| 3947168|    4306632.20660848|   4853787.178851366| 5358089| 5924989|   6438657.193935071| 7085546| 7580170| 8190520| 8667295| 4742348| 3045612|    70|\n",
      "|            tolima| 6708554| 7681132|   8663628.979194354|   9114316.075288389|10283555|10931945|1.1593794372127226E7|12554593|13158216|14254326|15071622| 8719595| 5905371|    73|\n",
      "|   valle del cauca| 9364012|10568989|1.1278072598064829E7|1.2538425837418156E7|13461456|14347570|1.5262933073640091E7|16490649|17755474|19277535|20251506|11991481| 8233652|    76|\n",
      "+------------------+--------+--------+--------------------+--------------------+--------+--------+--------------------+--------+--------+--------+--------+--------+--------+------+\n",
      "only showing top 20 rows\n",
      "\n"
     ]
    }
   ],
   "source": [
    "pib_normal = pib.join(departamentos_unicos, pib[\"CodigoDepartamento(DIVIPOLA)\"] == departamentos_unicos[\"CodigoDepartamento\"], 'left')\n",
    "\n",
    "pib_normal = pib_normal.withColumn(\"DEPARTAMENTOS\", f.coalesce(pib_normal[\"NombreDepartamento\"], pib_normal[\"DEPARTAMENTOS\"]))\n",
    "\n",
    "pib_normal = pib_normal.drop(\"NombreDepartamento\").drop(\"CodigoDepartamento(DIVIPOLA)\").distinct().withColumnRenamed('DEPARTAMENTOS','Departamento').withColumnRenamed('CodigoDepartamento','CodDep')\n",
    "pib_normal = pib_normal.where(pib_normal.CodDep.isNotNull())\n",
    "pib_normal = pib_normal.orderBy('CodDep', ascending=True)\n",
    "pib_normal.show()"
   ]
  },
  {
   "cell_type": "markdown",
   "metadata": {},
   "source": [
    "3. Generar dato de area metropolitana con latitud y longitud de centro poblado"
   ]
  },
  {
   "cell_type": "code",
   "execution_count": 78,
   "metadata": {},
   "outputs": [],
   "source": [
    "# Calculo de area por arreglo de coordenadas entrantes en ° al 2 \n",
    "\n",
    "def calculate_area(coords):\n",
    "    n = len(coords)\n",
    "    if n < 3:\n",
    "        return 0\n",
    "\n",
    "    if coords[0] != coords[-1]:\n",
    "        coords.append(coords[0])\n",
    "\n",
    "    area = sum((coords[i][0] * coords[i + 1][1] - coords[i + 1][0] * coords[i][1]) for i in range(n)) / 2.0\n",
    "    return abs(area)\n",
    "\n",
    "# Generar Area calculada por datos de entrada\n",
    "@f.udf(FloatType())\n",
    "def calculate_area_udf(longitudes, latitudes):\n",
    "    if not (isinstance(longitudes, list) and isinstance(latitudes, list)):\n",
    "        return 0.0\n",
    "    coords = list(zip(longitudes, latitudes))\n",
    "    return float(calculate_area(coords))\n"
   ]
  },
  {
   "cell_type": "code",
   "execution_count": 79,
   "metadata": {},
   "outputs": [
    {
     "name": "stdout",
     "output_type": "stream",
     "text": [
      "+------------------+------------------+---------------+---------------+-------------------+--------------------+--------------+--------------+-----------------+\n",
      "|CodigoDepartamento|NombreDepartamento|CodigoMunicipio|NombreMunicipio|CodigoCentroPoblado| NombreCentroPoblado|      Longitud|       Latitud|areaMetropolitana|\n",
      "+------------------+------------------+---------------+---------------+-------------------+--------------------+--------------+--------------+-----------------+\n",
      "|                91|          amazonas|          91001|        LETICIA|           91001000|             LETICIA|-69.9414267076|-4.19983693453|        5.9488072|\n",
      "|                91|          amazonas|          91001|        LETICIA|           91001017|COMUNIDAD INDÍGEN...|-69.9588125704|-4.19469878932|        5.9488072|\n",
      "|                91|          amazonas|          91001|        LETICIA|           91001016|COMUNIDAD INDÍGEN...|-69.9753934295|-4.17750342085|        5.9488072|\n",
      "|                91|          amazonas|          91001|        LETICIA|           91001030|   BARRIO SAN MIGUEL|-69.9288659026|-4.17628953753|        5.9488072|\n",
      "|                91|          amazonas|          91001|        LETICIA|           91001034|COMUNIDAD INDÍGEN...|-69.9582013552|-4.15376330453|        5.9488072|\n",
      "|                91|          amazonas|          91001|        LETICIA|           91001028|COMUNIDAD INDÍGEN...|-69.9677815964|-4.15278709135|        5.9488072|\n",
      "|                91|          amazonas|          91001|        LETICIA|           91001035|COMUNIDAD INDÍGEN...|-69.9560161735|-4.14474198026|        5.9488072|\n",
      "|                91|          amazonas|          91001|        LETICIA|           91001029|COMUNIDAD INDÍGEN...|-69.9269763785|-4.14403692257|        5.9488072|\n",
      "|                91|          amazonas|          91001|        LETICIA|           91001027|COMUNIDAD INDÍGEN...|-69.9826625129|-4.13294558377|        5.9488072|\n",
      "|                91|          amazonas|          91001|        LETICIA|           91001013|COMUNIDAD INDÍGEN...|-69.9478546236|-4.11998678746|        5.9488072|\n",
      "|                91|          amazonas|          91001|        LETICIA|           91001022|COMUNIDAD INDÍGEN...|-69.9293064418|-4.11580779439|        5.9488072|\n",
      "|                91|          amazonas|          91001|        LETICIA|           91001033|COMUNIDAD INDÍGEN...|-70.0285785394|-4.11198257304|        5.9488072|\n",
      "|                91|          amazonas|          91001|        LETICIA|           91001031|COMUNIDAD INDÍGEN...|-70.0326371429|-4.11065337236|        5.9488072|\n",
      "|                91|          amazonas|          91001|        LETICIA|           91001002|COMUNIDAD INDÍGEN...|-70.0405987276|-4.10196755726|        5.9488072|\n",
      "|                91|          amazonas|          91001|        LETICIA|           91001023|ASENTAMIENTO HUMA...|-69.9401998354|-4.09983266385|        5.9488072|\n",
      "|                91|          amazonas|          91001|        LETICIA|           91001032|COMUNIDAD INDÍGEN...|-70.0016143904|-4.07568834994|        5.9488072|\n",
      "|                91|          amazonas|          91001|        LETICIA|           91001005|COMUNIDAD INDÍGEN...|-70.0539208267|-4.05305758964|        5.9488072|\n",
      "|                91|          amazonas|          91001|        LETICIA|           91001018|COMUNIDAD INDÍGEN...|-70.1077817492|-4.01846537578|        5.9488072|\n",
      "|                91|          amazonas|          91001|        LETICIA|           91001011|COMUNIDAD INDÍGEN...|-70.1129489066|-4.01578087339|        5.9488072|\n",
      "|                91|          amazonas|          91001|        LETICIA|           91001024|COMUNIDAD INDÍGEN...|-70.1339203511|-4.00653499739|        5.9488072|\n",
      "+------------------+------------------+---------------+---------------+-------------------+--------------------+--------------+--------------+-----------------+\n",
      "only showing top 20 rows\n",
      "\n"
     ]
    }
   ],
   "source": [
    "diviconarea = divipola\n",
    "grouped = diviconarea.groupBy(\"CodigoDepartamento\").agg(f.collect_list(\"Longitud\").alias(\"Longitudes\"),\n",
    "                                                     f.collect_list(\"Latitud\").alias(\"Latitudes\"))\n",
    "\n",
    "areas = grouped.withColumn(\"areaMetropolitana\", calculate_area_udf(f.col(\"Longitudes\"), f.col(\"Latitudes\")))\n",
    "\n",
    "diviconarea = diviconarea.join(areas.select(\"CodigoDepartamento\", \"areaMetropolitana\"), on=\"CodigoDepartamento\", how=\"left\")\n",
    "\n",
    "diviconarea.show()"
   ]
  },
  {
   "cell_type": "markdown",
   "metadata": {},
   "source": [
    "4. Se deberia sacar los datos de PIB, totalHombres, totalMujeres"
   ]
  },
  {
   "cell_type": "code",
   "execution_count": 93,
   "metadata": {},
   "outputs": [
    {
     "name": "stdout",
     "output_type": "stream",
     "text": [
      "+---+----+------------------+-------+------------+------------+-------+------------------+-----------+\n",
      "| DP| AÑO|             DPNOM|AreaGeo|totalHombres|totalMujeres|  Total|      Departamento|        PIB|\n",
      "+---+----+------------------+-------+------------+------------+-------+------------------+-----------+\n",
      "|  8|2005|         atlantico|  Total|     1024962|     1089174|2114136|         atlantico|  6388791.0|\n",
      "| 44|2005|        la guajira|  Total|      312535|      333183| 645718|        la guajira|  6503249.0|\n",
      "| 47|2005|         magdalena|  Total|      547902|      549849|1097751|         magdalena|  3938108.0|\n",
      "| 54|2005|norte de santander|  Total|      637108|      660541|1297649|norte de santander|  3928796.0|\n",
      "| 95|2005|          guaviare|  Total|       40593|       32703|  73296|          guaviare|  4759905.0|\n",
      "| 18|2005|           caqueta|  Total|      194127|      185146| 379273|           caqueta|  3306217.0|\n",
      "| 99|2005|           vichada|  Total|       42508|       35136|  77644|           vichada|  3887315.0|\n",
      "| 81|2005|            arauca|  Total|      112977|      107875| 220852|            arauca|1.6097955E7|\n",
      "| 63|2005|           quindio|  Total|      250376|      260805| 511181|           quindio|  5378939.0|\n",
      "| 23|2005|           cordoba|  Total|      767945|      771368|1539313|           cordoba|  3912903.0|\n",
      "|  5|2005|         antioquia|  Total|     2630787|     2830056|5460843|         antioquia|  9340469.0|\n",
      "| 27|2005|             choco|  Total|      196043|      206666| 402709|             choco|  3060247.0|\n",
      "| 73|2005|            tolima|  Total|      647256|      656960|1304216|            tolima|  5905371.0|\n",
      "| 91|2005|          amazonas|  Total|       31532|       28048|  59580|          amazonas|  3830908.0|\n",
      "| 41|2005|             huila|  Total|      469940|      471823| 941763|             huila|  6451275.0|\n",
      "| 13|2005|           bolivar|  Total|      888180|      911614|1799794|           bolivar|  6205737.0|\n",
      "| 66|2005|         risaralda|  Total|      431999|      445975| 877974|         risaralda|  6277539.0|\n",
      "| 70|2005|             sucre|  Total|      393101|      390434| 783535|             sucre|  3045612.0|\n",
      "| 17|2005|            caldas|  Total|      485625|      510809| 996434|            caldas|  6036872.0|\n",
      "| 15|2005|            boyaca|  Total|      557351|      583314|1140665|            boyaca|  7211579.0|\n",
      "+---+----+------------------+-------+------------+------------+-------+------------------+-----------+\n",
      "only showing top 20 rows\n",
      "\n"
     ]
    }
   ],
   "source": [
    "pib_nor = pib_normal\n",
    "proy = proyecciones\n",
    "pib_nor = pib_nor.withColumnRenamed(\"CodDep\", \"DP\")\n",
    "#pib_nor.show(5)\n",
    "proy = proy.withColumn(\"AÑO\", f.col(\"AÑO\").cast(\"string\"))\n",
    "# proy.show(5)\n",
    "pib_melted = (pib_nor.withColumn(\"AÑO\", f.lit(\"2005\")).select(\"DP\", \"Departamento\", \"AÑO\", f.col(\"2005\").alias(\"PIB\"))\n",
    "             .unionByName(pib_nor.withColumn(\"AÑO\", f.lit(\"2006\")).select(\"DP\", \"Departamento\", \"AÑO\", f.col(\"2006\").alias(\"PIB\")))\n",
    "             .unionByName(pib_nor.withColumn(\"AÑO\", f.lit(\"2007\")).select(\"DP\", \"Departamento\", \"AÑO\", f.col(\"2007\").alias(\"PIB\")))\n",
    "             .unionByName(pib_nor.withColumn(\"AÑO\", f.lit(\"2008\")).select(\"DP\", \"Departamento\", \"AÑO\", f.col(\"2008\").alias(\"PIB\")))\n",
    "             .unionByName(pib_nor.withColumn(\"AÑO\", f.lit(\"2009\")).select(\"DP\", \"Departamento\", \"AÑO\", f.col(\"2009\").alias(\"PIB\")))\n",
    "             .unionByName(pib_nor.withColumn(\"AÑO\", f.lit(\"2010\")).select(\"DP\", \"Departamento\", \"AÑO\", f.col(\"2010\").alias(\"PIB\")))\n",
    "             .unionByName(pib_nor.withColumn(\"AÑO\", f.lit(\"2011\")).select(\"DP\", \"Departamento\", \"AÑO\", f.col(\"2011\").alias(\"PIB\")))\n",
    "             .unionByName(pib_nor.withColumn(\"AÑO\", f.lit(\"2012\")).select(\"DP\", \"Departamento\", \"AÑO\", f.col(\"2012\").alias(\"PIB\")))\n",
    "             .unionByName(pib_nor.withColumn(\"AÑO\", f.lit(\"2013\")).select(\"DP\", \"Departamento\", \"AÑO\", f.col(\"2013\").alias(\"PIB\")))\n",
    "             .unionByName(pib_nor.withColumn(\"AÑO\", f.lit(\"2014\")).select(\"DP\", \"Departamento\", \"AÑO\", f.col(\"2014\").alias(\"PIB\")))\n",
    "             .unionByName(pib_nor.withColumn(\"AÑO\", f.lit(\"2015\")).select(\"DP\", \"Departamento\", \"AÑO\", f.col(\"2015\").alias(\"PIB\")))\n",
    "             .unionByName(pib_nor.withColumn(\"AÑO\", f.lit(\"2016\")).select(\"DP\", \"Departamento\", \"AÑO\", f.col(\"2016\").alias(\"PIB\")))\n",
    "             .unionByName(pib_nor.withColumn(\"AÑO\", f.lit(\"2017\")).select(\"DP\", \"Departamento\", \"AÑO\", f.col(\"2017\").alias(\"PIB\"))))\n",
    "# pib_melted.show(5)\n",
    "pibproy = proy.join(pib_melted, [\"DP\", \"AÑO\"], 'inner').distinct()\n",
    "pibproy.show()"
   ]
  },
  {
   "cell_type": "markdown",
   "metadata": {},
   "source": [
    "5. calcular la fecha inicial y fecha final"
   ]
  },
  {
   "cell_type": "code",
   "execution_count": 99,
   "metadata": {},
   "outputs": [
    {
     "name": "stdout",
     "output_type": "stream",
     "text": [
      "+---+----+------------------+-------+------------+------------+-------+------------------+---------+------------+----------+\n",
      "| DP| AÑO|             DPNOM|AreaGeo|totalHombres|totalMujeres|  Total|      Departamento|      PIB|fechaInicial|fechaFinal|\n",
      "+---+----+------------------+-------+------------+------------+-------+------------------+---------+------------+----------+\n",
      "|  8|2005|         atlantico|  Total|     1024962|     1089174|2114136|         atlantico|6388791.0|    20050101|  20051231|\n",
      "| 44|2005|        la guajira|  Total|      312535|      333183| 645718|        la guajira|6503249.0|    20050101|  20051231|\n",
      "| 47|2005|         magdalena|  Total|      547902|      549849|1097751|         magdalena|3938108.0|    20050101|  20051231|\n",
      "| 54|2005|norte de santander|  Total|      637108|      660541|1297649|norte de santander|3928796.0|    20050101|  20051231|\n",
      "| 95|2005|          guaviare|  Total|       40593|       32703|  73296|          guaviare|4759905.0|    20050101|  20051231|\n",
      "+---+----+------------------+-------+------------+------------+-------+------------------+---------+------------+----------+\n",
      "only showing top 5 rows\n",
      "\n"
     ]
    }
   ],
   "source": [
    "pibproyf = pibproy.withColumn(\"fechaInicial\", f.concat(f.col(\"AÑO\"), f.lit(\"0101\")))\n",
    "pibproyf = pibproyf.withColumn(\"fechaFinal\", f.concat(f.col(\"AÑO\"), f.lit(\"1231\")))\n",
    "pibproyf = pibproyf.orderBy('AÑO', ascending=True)\n",
    "pibproyf.show(5)"
   ]
  },
  {
   "cell_type": "markdown",
   "metadata": {},
   "source": [
    "6. Organizar la informacion, agregar iterador idMunicipio_DWH y añadir version como 1"
   ]
  },
  {
   "cell_type": "code",
   "execution_count": 102,
   "metadata": {},
   "outputs": [
    {
     "name": "stdout",
     "output_type": "stream",
     "text": [
      "+---------------+-------------+---------------+------------------+-----------------+--------------+-------------+---------+------------+------------+------------+----------+--------+\n",
      "|idMunicipio_DWH|idMunicipio_T|nombreMunicipio|nombreDepartamento|areaMetropolitana|      longitud|      latitud|      PIB|totalHombres|totalMujeres|fechaInicial|fechaFinal| version|\n",
      "+---------------+-------------+---------------+------------------+-----------------+--------------+-------------+---------+------------+------------+------------+----------+--------+\n",
      "|              1|         5483|         NARIÑO|         antioquia|       0.28783268|-75.1933688442| 5.5213764074|9340469.0|     2630787|     2830056|    20050101|  20051231|20231231|\n",
      "|              2|         5145|      CARAMANTA|         antioquia|       0.28783268|-75.6073829806|5.54640695192|9340469.0|     2630787|     2830056|    20050101|  20051231|20231231|\n",
      "|              3|         5145|      CARAMANTA|         antioquia|       0.28783268|-75.6438684536|5.54853040415|9340469.0|     2630787|     2830056|    20050101|  20051231|20231231|\n",
      "|              4|         5034|          ANDES|         antioquia|       0.28783268|-75.8999038798|5.56385121946|9340469.0|     2630787|     2830056|    20050101|  20051231|20231231|\n",
      "|              5|         5145|      CARAMANTA|         antioquia|       0.28783268|-75.6065199507|5.57974222203|9340469.0|     2630787|     2830056|    20050101|  20051231|20231231|\n",
      "|              6|         5364|         JARDÍN|         antioquia|       0.28783268| -75.856799518|5.58686462151|9340469.0|     2630787|     2830056|    20050101|  20051231|20231231|\n",
      "|              7|         5364|         JARDÍN|         antioquia|       0.28783268|-75.8036282073|5.58998057275|9340469.0|     2630787|     2830056|    20050101|  20051231|20231231|\n",
      "|              8|         5364|         JARDÍN|         antioquia|       0.28783268|-75.8189809206|5.59754174066|9340469.0|     2630787|     2830056|    20050101|  20051231|20231231|\n",
      "|              9|         5789|        TÁMESIS|         antioquia|       0.28783268|-75.6827174608|5.60337833354|9340469.0|     2630787|     2830056|    20050101|  20051231|20231231|\n",
      "|             10|         5483|         NARIÑO|         antioquia|       0.28783268|-75.1762613179|5.61077458468|9340469.0|     2630787|     2830056|    20050101|  20051231|20231231|\n",
      "|             11|         5034|          ANDES|         antioquia|       0.28783268|-75.9173376495|5.61261866342|9340469.0|     2630787|     2830056|    20050101|  20051231|20231231|\n",
      "|             12|         5856|     VALPARAÍSO|         antioquia|       0.28783268| -75.624458885|5.61455072464|9340469.0|     2630787|     2830056|    20050101|  20051231|20231231|\n",
      "|             13|         5364|         JARDÍN|         antioquia|       0.28783268|-75.8707240153|5.62814782826|9340469.0|     2630787|     2830056|    20050101|  20051231|20231231|\n",
      "|             14|         5034|          ANDES|         antioquia|       0.28783268|-75.8534178162|5.63761512544|9340469.0|     2630787|     2830056|    20050101|  20051231|20231231|\n",
      "|             15|         5034|          ANDES|         antioquia|       0.28783268| -75.924471304|5.65284805539|9340469.0|     2630787|     2830056|    20050101|  20051231|20231231|\n",
      "|             16|         5034|          ANDES|         antioquia|       0.28783268|-75.8787918873|5.65677485248|9340469.0|     2630787|     2830056|    20050101|  20051231|20231231|\n",
      "|             17|         5789|        TÁMESIS|         antioquia|       0.28783268|-75.7143206871|5.66446663613|9340469.0|     2630787|     2830056|    20050101|  20051231|20231231|\n",
      "|             18|         5034|          ANDES|         antioquia|       0.28783268|-75.8355556903|5.68285462254|9340469.0|     2630787|     2830056|    20050101|  20051231|20231231|\n",
      "|             19|         5034|          ANDES|         antioquia|       0.28783268|-75.9650550585|5.70092904594|9340469.0|     2630787|     2830056|    20050101|  20051231|20231231|\n",
      "|             20|         5756|         SONSÓN|         antioquia|       0.28783268|-75.3093951469|5.71481164114|9340469.0|     2630787|     2830056|    20050101|  20051231|20231231|\n",
      "+---------------+-------------+---------------+------------------+-----------------+--------------+-------------+---------+------------+------------+------------+----------+--------+\n",
      "only showing top 20 rows\n",
      "\n"
     ]
    }
   ],
   "source": [
    "merged_df = pibproyf.join(\n",
    "    diviconarea,\n",
    "    (pibproyf.DP == diviconarea.CodigoDepartamento) & (pibproyf.Departamento == diviconarea.NombreDepartamento),\n",
    "    \"inner\"\n",
    ")\n",
    "\n",
    "merged_df = merged_df.orderBy('AÑO',ascending=True)\n",
    "\n",
    "geografiaConDemografie = merged_df.select(\n",
    "    (f.monotonically_increasing_id() + 1).alias(\"idMunicipio_DWH\"),\n",
    "    f.col(\"CodigoMunicipio\").alias(\"idMunicipio_T\"),\n",
    "    f.col(\"NombreMunicipio\").alias(\"nombreMunicipio\"),\n",
    "    f.col(\"NombreDepartamento\").alias(\"nombreDepartamento\"),\n",
    "    f.col(\"areaMetropolitana\"),\n",
    "    f.col(\"Longitud\").alias(\"longitud\"),\n",
    "    f.col(\"Latitud\").alias(\"latitud\"),\n",
    "    f.col(\"PIB\"),\n",
    "    f.col(\"totalHombres\"),\n",
    "    f.col(\"totalMujeres\"),\n",
    "    f.col(\"fechaInicial\"),\n",
    "    f.col(\"fechaFinal\"),\n",
    "    f.lit(\"20231231\").alias(\"version\")  # Asumiendo que la versión es 2023 para todos los registros\n",
    ")\n",
    "\n",
    "geografiaConDemografie.show()\n"
   ]
  },
  {
   "cell_type": "markdown",
   "metadata": {
    "id": "MuvVgJ4R86v0"
   },
   "source": [
    "#### Carga"
   ]
  },
  {
   "cell_type": "code",
   "execution_count": 103,
   "metadata": {
    "id": "yCC2zZqY86v0"
   },
   "outputs": [
    {
     "name": "stdout",
     "output_type": "stream",
     "text": [
      "173420\n"
     ]
    }
   ],
   "source": [
    "# CARGUE\n",
    "guardar_db(dest_db_connection_string, geografiaConDemografie,'Proyecto_G3_202314.GeografiaConDemografia', db_user, db_psswd)\n",
    "print(geografiaConDemografie.count())"
   ]
  },
  {
   "cell_type": "markdown",
   "metadata": {
    "id": "0Fo-J97586v0"
   },
   "source": [
    "Verifique los resultados usando MySQL Workbench"
   ]
  }
 ],
 "metadata": {
  "colab": {
   "collapsed_sections": [
    "vtE61qk986vx",
    "X9Oou0g986vy",
    "B5kFkHTD86vz",
    "ddFhEOmL86vz",
    "MuvVgJ4R86v0",
    "BZjDeVYd86v1",
    "_7xbgfCk86v1",
    "Rh_102Yy86v1",
    "HogvCqW_86v2",
    "9rKmT9jd86v2",
    "R9SnkMUH86v3",
    "k8O1GvOd86v3",
    "Mo633Vpg86v3",
    "i36NawhX86v4",
    "LvgnsPfK86v4",
    "dTv_CIOT86v5",
    "N9f10qpB86v9"
   ],
   "name": "MISW-ETL-TutorialETL.ipynb",
   "provenance": []
  },
  "kernelspec": {
   "display_name": "Python 3 (ipykernel)",
   "language": "python",
   "name": "python3"
  },
  "language_info": {
   "codemirror_mode": {
    "name": "ipython",
    "version": 3
   },
   "file_extension": ".py",
   "mimetype": "text/x-python",
   "name": "python",
   "nbconvert_exporter": "python",
   "pygments_lexer": "ipython3",
   "version": "3.7.13"
  }
 },
 "nbformat": 4,
 "nbformat_minor": 4
}
