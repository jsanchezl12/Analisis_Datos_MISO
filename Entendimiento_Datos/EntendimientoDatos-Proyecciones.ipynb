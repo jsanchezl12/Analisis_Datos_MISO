{
 "cells": [
  {
   "cell_type": "markdown",
   "metadata": {
    "id": "YLE3Y7VOPn3G"
   },
   "source": [
    "# Entendimiento de los datos con PySpark - Proyecciones"
   ]
  },
  {
   "cell_type": "markdown",
   "metadata": {
    "id": "dm33nuYTPn3L"
   },
   "source": [
    "## Configuración e importe de paquetes\n",
    "Se utilizará el paquete de pandas profiling para apoyar el análisis estadístico, y se importan los paquetes de python\n",
    "necesarios"
   ]
  },
  {
   "cell_type": "code",
   "execution_count": 2,
   "metadata": {
    "id": "gGiDdRBNPn3M"
   },
   "outputs": [],
   "source": [
    "from pyspark.sql import SparkSession\n",
    "from pyspark.sql import functions\n",
    "from pyspark.sql.types import StructType\n",
    "from pyspark import SparkContext, SparkConf, SQLContext\n",
    "from pyspark.sql.types import FloatType, StringType, IntegerType, DateType\n",
    "from pyspark.sql.functions import udf, col, length, isnan, when, count\n",
    "import pyspark.sql.functions as f\n",
    "import os \n",
    "from datetime import datetime\n",
    "from pyspark.sql import types as t\n",
    "from pandas_profiling import ProfileReport\n",
    "#import matplotlib.pyplot as plt\n",
    "import numpy as np"
   ]
  },
  {
   "cell_type": "markdown",
   "metadata": {
    "id": "Tyk0YmZRPn3N"
   },
   "source": [
    "Configuración del controlador e inicio de sesion Spark"
   ]
  },
  {
   "cell_type": "code",
   "execution_count": 3,
   "metadata": {
    "id": "0r-yix1rPn3O"
   },
   "outputs": [],
   "source": [
    "path_jar_driver = 'C:\\Program Files (x86)\\MySQL\\Connector J 8.0\\mysql-connector-java-8.0.28.jar'"
   ]
  },
  {
   "cell_type": "code",
   "execution_count": 4,
   "metadata": {
    "id": "0-m3Q2MtPn3O",
    "outputId": "459f0ec2-9a36-4a36-edac-427852524d95"
   },
   "outputs": [
    {
     "name": "stderr",
     "output_type": "stream",
     "text": [
      "C:\\Users\\estudiante\\anaconda3\\envs\\Tutoriales\\lib\\site-packages\\pyspark\\sql\\context.py:79: FutureWarning: Deprecated in 3.0.0. Use SparkSession.builder.getOrCreate() instead.\n",
      "  FutureWarning\n"
     ]
    }
   ],
   "source": [
    "#Configuración de la sesión\n",
    "conf=SparkConf() \\\n",
    "    .set('spark.driver.extraClassPath', path_jar_driver)\n",
    "\n",
    "spark_context = SparkContext(conf=conf)\n",
    "sql_context = SQLContext(spark_context)\n",
    "spark = sql_context.sparkSession"
   ]
  },
  {
   "cell_type": "code",
   "execution_count": 5,
   "metadata": {
    "id": "0eQw66SIPn3P"
   },
   "outputs": [],
   "source": [
    "# Si quiere practicar la conexion con el servidor de base de datos:\n",
    "db_connection_string = 'jdbc:mysql://157.253.236.116:8080/ProyectoTransaccional'\n",
    "# El usuario es su estudiante _i asignado y su contraseña la encontrará en el archivo excel de Coursera \n",
    "db_user = 'Estudiante_13_202314'\n",
    "db_psswd = 'aabb1122'\n",
    "\n",
    "PATH='./'"
   ]
  },
  {
   "cell_type": "markdown",
   "metadata": {
    "id": "LKHpN3nzPn3R"
   },
   "source": [
    "#### Conexión a fuente de datos\n",
    "A continuación encuentra las funciones para conectarse a la fuente de datos (archivo csv o base de datos) y retornar un dataframe que es el que se utilizará posteriormente para manipular los datos."
   ]
  },
  {
   "cell_type": "code",
   "execution_count": 6,
   "metadata": {
    "id": "SsdwInchPn3R"
   },
   "outputs": [],
   "source": [
    "def obtener_dataframe_de_bd(db_connection_string, sql, db_user, db_psswd):\n",
    "    df_bd = spark.read.format('jdbc')\\\n",
    "        .option('url', db_connection_string) \\\n",
    "        .option('dbtable', sql) \\\n",
    "        .option('user', db_user) \\\n",
    "        .option('password', db_psswd) \\\n",
    "        .option('driver', 'com.mysql.cj.jdbc.Driver') \\\n",
    "        .load()\n",
    "    return df_bd"
   ]
  },
  {
   "cell_type": "markdown",
   "metadata": {
    "id": "3HZloEq5Pn3S"
   },
   "source": [
    "#### Cargue de datos\n",
    "Para consultar desde la base de datos se puede acceder directamente a la tabla dado su nombre o se puede especificar la sentencia SQL de un \"SELECT\" completo para traer la información total o parcial de la tabla que se requiere. A continuación un ejemplo de cada uno de estos usos. \n",
    "Acceso directo para el caso de órdenes y acceso con sentencia SQL para el caso de detallesOrdenes."
   ]
  },
  {
   "cell_type": "code",
   "execution_count": 9,
   "metadata": {
    "id": "xMaQViPnPn3S"
   },
   "outputs": [],
   "source": [
    "sql_proyecciones = 'ProyectoTransaccional.proyeccionesCopia'"
   ]
  },
  {
   "cell_type": "code",
   "execution_count": 10,
   "metadata": {
    "id": "fDRojcVMPn3S"
   },
   "outputs": [],
   "source": [
    "sql_detallesproyecciones = '''(SELECT \n",
    "        Anio, \n",
    "        DP, \n",
    "        ID_Producto, \n",
    "        DPNOM, \n",
    "        Total Hombres, \n",
    "        Total Mujeres\n",
    "        FROM'ProyectoTransaccional.proyeccionesCopia) AS Compatible'''"
   ]
  },
  {
   "cell_type": "code",
   "execution_count": 12,
   "metadata": {
    "id": "Ajy_XMshPn3T"
   },
   "outputs": [],
   "source": [
    "#Se cargan los dataframes desde la base de datos\n",
    "proyecciones = obtener_dataframe_de_bd(db_connection_string, sql_proyecciones, db_user, db_psswd)\n"
   ]
  },
  {
   "cell_type": "markdown",
   "metadata": {
    "id": "qxN27II0Pn3T"
   },
   "source": [
    "### Entendimiento general de datos"
   ]
  },
  {
   "cell_type": "markdown",
   "metadata": {
    "id": "BMULJYE2Pn3T"
   },
   "source": [
    "Para ver una muestra de los datos, utilice el comando <i>show</i> ingresando el número de filas que quiere ver"
   ]
  },
  {
   "cell_type": "code",
   "execution_count": 14,
   "metadata": {
    "id": "HtrqSl0zPn3T",
    "outputId": "c20c03fc-68d4-4d2e-eb8f-91a06cdd3174"
   },
   "outputs": [
    {
     "name": "stdout",
     "output_type": "stream",
     "text": [
      "+----+---+---------+-------------+-------------+\n",
      "|Anio| DP|    DPNOM|Total Hombres|Total Mujeres|\n",
      "+----+---+---------+-------------+-------------+\n",
      "|2005| 25|antioquia|      2630787|      2830056|\n",
      "|2006| 25|antioquia|      2663957|      2864164|\n",
      "|2007| 25|antioquia|      2697202|      2897978|\n",
      "|2008| 25|antioquia|      2730505|      2931594|\n",
      "|2009| 25|antioquia|      2764235|      2966142|\n",
      "+----+---+---------+-------------+-------------+\n",
      "only showing top 5 rows\n",
      "\n"
     ]
    }
   ],
   "source": [
    "proyecciones.show(5)"
   ]
  },
  {
   "cell_type": "code",
   "execution_count": 15,
   "metadata": {
    "id": "lLV_ItLhPn3U",
    "outputId": "db9438a4-0a6d-4809-ea99-752add60ad64"
   },
   "outputs": [
    {
     "data": {
      "text/plain": [
       "StructType(List(StructField(Anio,IntegerType,true),StructField(DP,IntegerType,true),StructField(DPNOM,StringType,true),StructField(Total Hombres,IntegerType,true),StructField(Total Mujeres,IntegerType,true)))"
      ]
     },
     "execution_count": 15,
     "metadata": {},
     "output_type": "execute_result"
    }
   ],
   "source": [
    "proyecciones.schema"
   ]
  },
  {
   "cell_type": "markdown",
   "metadata": {
    "id": "seP-zo8JPn3U"
   },
   "source": [
    "Por otra parte, en los detalles de ordenes se tiene **información del pedido y del producto**. Del pedido se tiene el identificador del detalle <i>Detalle_orden_ID</i>, el identificador de la orden a la que está relacionado cada detalle <i>ID_de_pedido</i>, la <i>Cantidad_seleccionada</i> del producto para la orden, la fecha de selección <i>Seleccion_completada_cuando</i>. Del producto tenemos el <i>ID_Producto</i>, su <i>Descripcion</i>, el tipo de paquete <i>ID_Tipo_Paquete</i> (Ej. 1.Bolsa, 4. Caja), la <i>Cantidad</i>, el <i>Precio_unitario</i>, y la <i>Tasa_impuesto</i> asociada a ese producto. Una primera aclaración a solicitar por parte del negocio es cuál es la diferencia entre cantidad y cantidad seleccionada"
   ]
  },
  {
   "cell_type": "markdown",
   "metadata": {
    "id": "uw09BODdPn3V"
   },
   "source": [
    "Una vez entendida en términos generales la estructura de los datos, es necesario conocer la cantidad de datos disponibles, esto se hace con count() y con columns, que retornan el número de filas y número de columnas respectivamente."
   ]
  },
  {
   "cell_type": "code",
   "execution_count": 16,
   "metadata": {
    "id": "g0Lvl535Pn3V",
    "outputId": "6fb3f30d-2179-4d50-ddd5-4880e28673d8"
   },
   "outputs": [
    {
     "name": "stdout",
     "output_type": "stream",
     "text": [
      "(330, 5)\n"
     ]
    }
   ],
   "source": [
    "print((proyecciones.count(), len(proyecciones.columns)))"
   ]
  },
  {
   "cell_type": "markdown",
   "metadata": {
    "id": "kqwEyUFpPn3V"
   },
   "source": [
    "**¿Cuantos datos nos compartieron para el proyecto?**\n",
    "En total tenemos 58.320 órdenes y 88.258 detalles de orden y tenemos en total 24 variables a revisar de las cuales 8 son nùmericas asociadas a las órdenes, dos son de tipo fecha y las demás son cadenas de caracteres."
   ]
  },
  {
   "cell_type": "markdown",
   "metadata": {
    "id": "GnAScmClPn3W"
   },
   "source": [
    "### Revisión de reglas de negocio \n",
    "\n",
    "Primero se confirman las reglas proporcionadas por el negocio, la primera que asegura que la tasa de impuesto es de 10% o 15% vemos que no es correcta pues al seleccionar esa columna e indicar que queremos ver los valores distintos que puede tomar se observa únicamente el valor 15"
   ]
  },
  {
   "cell_type": "code",
   "execution_count": 27,
   "metadata": {
    "id": "ssjlV5xbPn3W",
    "outputId": "2ab69e67-fcc0-42c0-bf32-425d65c5118b"
   },
   "outputs": [
    {
     "name": "stdout",
     "output_type": "stream",
     "text": [
      "+-------------+\n",
      "|Total Hombres|\n",
      "+-------------+\n",
      "|      2110069|\n",
      "+-------------+\n",
      "\n"
     ]
    }
   ],
   "source": [
    "proyecciones.select(\"Total Hombres\").where((col('DPNOM')=='valle del cauca')).where((col('Anio')=='2014')).distinct().show()"
   ]
  },
  {
   "cell_type": "markdown",
   "metadata": {
    "id": "55FLtckZPn3W"
   },
   "source": [
    "Si se quiere saber cuántos registros hay por cada valor posible, existen varias formas de hacerlo, en la siguiente celda se muestra cómo iterar sobre los valores resultado de una consulta y cómo filtrar el número de registros para cada valor usando filter y select where, también se da un ejemplo de uso de group by y agregaciones\n",
    "\n",
    "Pyspark tiene funcionalidades de los DataFrames que permiten explorar los datos por medio de agregaciones y estas funcionan similar a como se usan en SQL\n",
    "\n",
    "Primero, se debe agrupar sobre una columna con el método <i>groupBy</i> y después se pueden realizar agregaciones sobre otras columnas con el método <i>agg</i>. La sintaxis es la siguiente: \n",
    " ``` \n",
    "    DataFrame.groupBy('COLUMN NAME').agg({'COLUMN NAME 1': 'mean', 'COLUMN NAME 2': 'count', 'COLUMN NAME 3': 'max'})\n",
    "  ``` \n",
    "\n",
    "En cualquiera de los 3 casos se observa que el resultado es el mismo"
   ]
  },
  {
   "cell_type": "code",
   "execution_count": 31,
   "metadata": {
    "id": "oF0aFycqPn3W",
    "outputId": "62fc6101-ad21-4e65-b2d2-849c9752d005"
   },
   "outputs": [
    {
     "name": "stdout",
     "output_type": "stream",
     "text": [
      "+--------------------+-----+\n",
      "|               DPNOM|count|\n",
      "+--------------------+-----+\n",
      "|               sucre|   10|\n",
      "|              caldas|   10|\n",
      "|              vaupes|   10|\n",
      "|           antioquia|   10|\n",
      "|                meta|   10|\n",
      "|archipielago de s...|   10|\n",
      "|             quindio|   10|\n",
      "|            guaviare|   10|\n",
      "|               cesar|   10|\n",
      "|             cordoba|   10|\n",
      "|           risaralda|   10|\n",
      "|          la guajira|   10|\n",
      "|           santander|   10|\n",
      "|        cundinamarca|   10|\n",
      "|               choco|   10|\n",
      "|             guainia|   10|\n",
      "|           magdalena|   10|\n",
      "|           atlantico|   10|\n",
      "|               cauca|   10|\n",
      "|            putumayo|   10|\n",
      "|              tolima|   10|\n",
      "|              arauca|   10|\n",
      "|              boyaca|   10|\n",
      "|             vichada|   10|\n",
      "|             nariÃ±o|   10|\n",
      "|            amazonas|   10|\n",
      "|            casanare|   10|\n",
      "|     valle del cauca|   10|\n",
      "|  norte de santander|   10|\n",
      "|               huila|   10|\n",
      "|             caqueta|   10|\n",
      "|        bogota, d.c.|   10|\n",
      "|             bolivar|   10|\n",
      "+--------------------+-----+\n",
      "\n"
     ]
    }
   ],
   "source": [
    "proyecciones.groupBy(\"DPNOM\").count().show(100)"
   ]
  },
  {
   "cell_type": "markdown",
   "metadata": {
    "id": "rIrRLyudPn3W"
   },
   "source": [
    "La conclusión es entonces que la regla no es completamente cierta, pues en los datos no hay ningun registro con tasa_de_impuesto de 10%, es necesario pedir aclaraciones al negocio en relación a este descubrimiento. La segunda regla de negocio implica conocer el número de registros y de variables que los describen, es decir, el número de filas y columnas del DataFrame respectivamente, esto se logra usando count() y columns"
   ]
  },
  {
   "cell_type": "code",
   "execution_count": 32,
   "metadata": {
    "id": "FzPokPTyPn3W",
    "outputId": "d931d421-b755-496a-f77c-e04c616c7842"
   },
   "outputs": [
    {
     "name": "stdout",
     "output_type": "stream",
     "text": [
      "(330, 5)\n"
     ]
    }
   ],
   "source": [
    "print((proyecciones.count(), len(proyecciones.columns)))"
   ]
  },
  {
   "cell_type": "markdown",
   "metadata": {
    "id": "eegq6VGqPn3Z"
   },
   "source": [
    "Algo que se debe tener en cuenta en el perfilamiento de reglas de negocio es que dichas reglas pueden estar incompletas, por ende se recomienda tener especial cuidado con las columnas tipo caracter o string dado que suelen ser pasadas por alto en el análisis estadistico, un ejemplo es la columna **Descripcion**, al ser una columna de descripción del producto se espera que tenga un cierto número de caracteres. Sin embargo haciendo la validación vemos que algunas descripciones son textos incompletos como \"a\". Este podría llegar a ser un problema a futuro por lo que se decide notificar a la organización."
   ]
  },
  {
   "cell_type": "code",
   "execution_count": 37,
   "metadata": {
    "id": "ZLHB_pwSPn3Z",
    "outputId": "67a68544-272a-44af-f39f-52dcd5a09d4c"
   },
   "outputs": [
    {
     "name": "stdout",
     "output_type": "stream",
     "text": [
      "+----+---+---------+-------------+-------------+\n",
      "|Anio| DP|    DPNOM|Total Hombres|Total Mujeres|\n",
      "+----+---+---------+-------------+-------------+\n",
      "|2005| 25|antioquia|      2630787|      2830056|\n",
      "|2006| 25|antioquia|      2663957|      2864164|\n",
      "|2007| 25|antioquia|      2697202|      2897978|\n",
      "|2008| 25|antioquia|      2730505|      2931594|\n",
      "|2009| 25|antioquia|      2764235|      2966142|\n",
      "|2010| 25|antioquia|      2798757|      3001403|\n",
      "|2011| 25|antioquia|      2833245|      3035946|\n",
      "|2012| 25|antioquia|      2866567|      3069349|\n",
      "|2013| 25|antioquia|      2898803|      3102348|\n",
      "|2014| 25|antioquia|      2930948|      3135858|\n",
      "|2005| 25|atlantico|      1024962|      1089174|\n",
      "|2006| 25|atlantico|      1040124|      1104675|\n",
      "|2007| 25|atlantico|      1055195|      1119793|\n",
      "|2008| 25|atlantico|      1070008|      1134356|\n",
      "|2009| 25|atlantico|      1084589|      1148685|\n",
      "|2010| 25|atlantico|      1098964|      1162692|\n",
      "|2011| 25|atlantico|      1112916|      1176031|\n",
      "|2012| 25|atlantico|      1126426|      1188935|\n",
      "|2013| 25|atlantico|      1139766|      1201569|\n",
      "|2014| 25|atlantico|      1153029|      1213870|\n",
      "+----+---+---------+-------------+-------------+\n",
      "only showing top 20 rows\n",
      "\n"
     ]
    }
   ],
   "source": [
    "proyecciones.where(length(col(\"Anio\")) <= '2014').show()"
   ]
  },
  {
   "cell_type": "markdown",
   "metadata": {
    "id": "UuZspay3Pn3Z"
   },
   "source": [
    "### Análisis descriptivo\n",
    "Una vez cubierto lo básico de reglas de negocio, pasamos a perfilamiento estadístico. Para ver estadisticos generales como conteo, mínimo, máximo, desviación estandar y percentiles utilice summary()"
   ]
  },
  {
   "cell_type": "code",
   "execution_count": 38,
   "metadata": {
    "id": "TkWrIdDhPn3Z",
    "outputId": "7d37ef91-452e-49d9-8282-f1676c2b5ea9"
   },
   "outputs": [
    {
     "name": "stdout",
     "output_type": "stream",
     "text": [
      "+-------+-----------------+----+--------+-----------------+------------------+\n",
      "|summary|             Anio|  DP|   DPNOM|    Total Hombres|     Total Mujeres|\n",
      "+-------+-----------------+----+--------+-----------------+------------------+\n",
      "|  count|              330| 330|     330|              330|               330|\n",
      "|   mean|           2009.5|25.0|    null|650666.4242424242| 843740.4454545454|\n",
      "| stddev|2.876643180486918| 0.0|    null|751024.7851013226|3097897.0672473223|\n",
      "|    min|             2005|  25|amazonas|            13825|             11636|\n",
      "|    25%|             2007|  25|    null|           173396|            170374|\n",
      "|    50%|             2009|  25|    null|           477977|            489035|\n",
      "|    75%|             2012|  25|    null|           777720|            795592|\n",
      "|    max|             2014|  25| vichada|          3476538|          55000000|\n",
      "+-------+-----------------+----+--------+-----------------+------------------+\n",
      "\n"
     ]
    }
   ],
   "source": [
    "proyecciones.summary().show()"
   ]
  },
  {
   "cell_type": "code",
   "execution_count": 39,
   "metadata": {
    "id": "dn8Ez79LPn3a",
    "outputId": "4fdf9370-9987-46a8-80c0-8b4c79655534"
   },
   "outputs": [
    {
     "data": {
      "text/plain": [
       "{'whiskers': [<matplotlib.lines.Line2D at 0x1d4fd2f8fc8>,\n",
       "  <matplotlib.lines.Line2D at 0x1d4fd367bc8>],\n",
       " 'caps': [<matplotlib.lines.Line2D at 0x1d4fd367ac8>,\n",
       "  <matplotlib.lines.Line2D at 0x1d4fd367fc8>],\n",
       " 'boxes': [<matplotlib.lines.Line2D at 0x1d4fd34ca48>],\n",
       " 'medians': [<matplotlib.lines.Line2D at 0x1d4fd3645c8>],\n",
       " 'fliers': [<matplotlib.lines.Line2D at 0x1d4fd367f88>],\n",
       " 'means': []}"
      ]
     },
     "execution_count": 39,
     "metadata": {},
     "output_type": "execute_result"
    },
    {
     "data": {
      "image/png": "[encoded data removed]",
      "text/plain": [
       "<Figure size 432x288 with 1 Axes>"
      ]
     },
     "metadata": {
      "needs_background": "light"
     },
     "output_type": "display_data"
    }
   ],
   "source": [
    "%matplotlib inline\n",
    "import matplotlib.pyplot as plt\n",
    "\n",
    "fig1, ax1 = plt.subplots()\n",
    "ax1.set_title('total de Mujeres')\n",
    "ax1.boxplot(np.array(proyecciones.select('Total Mujeres').collect()))"
   ]
  },
  {
   "cell_type": "code",
   "execution_count": 42,
   "metadata": {
    "id": "AsMRmF37Pn3a",
    "outputId": "9530d350-dc3e-44ea-fd4f-3e8da68cd702"
   },
   "outputs": [
    {
     "data": {
      "text/plain": [
       "{'whiskers': [<matplotlib.lines.Line2D at 0x1d4fd469f48>,\n",
       "  <matplotlib.lines.Line2D at 0x1d4fe53a648>],\n",
       " 'caps': [<matplotlib.lines.Line2D at 0x1d4fe53a748>,\n",
       "  <matplotlib.lines.Line2D at 0x1d4fe53af48>],\n",
       " 'boxes': [<matplotlib.lines.Line2D at 0x1d4fd469648>],\n",
       " 'medians': [<matplotlib.lines.Line2D at 0x1d4fe540988>],\n",
       " 'fliers': [<matplotlib.lines.Line2D at 0x1d4fe540bc8>],\n",
       " 'means': []}"
      ]
     },
     "execution_count": 42,
     "metadata": {},
     "output_type": "execute_result"
    },
    {
     "data": {
      "image/png": "[encoded data removed]",
      "text/plain": [
       "<Figure size 432x288 with 1 Axes>"
      ]
     },
     "metadata": {
      "needs_background": "light"
     },
     "output_type": "display_data"
    }
   ],
   "source": [
    "fig1, ax1 = plt.subplots()\n",
    "ax1.set_title('Cantidad seleccionada')\n",
    "my_list = [float(i) for i in proyecciones.select(f.collect_list('Total Hombres')).first()[0]]\n",
    "ax1.boxplot(my_list)"
   ]
  },
  {
   "cell_type": "markdown",
   "metadata": {
    "id": "c0_4fokYPn3a"
   },
   "source": [
    "El análisis anterior es muy útil para variables de tipo numérico, sin embargo es incompleto para las variables de tipo caracter o las variables categoricas, por ende es necesario implementar nuestro propio código par obtener estadisticos como la moda y la mediana. A continuación obtenemos la moda para la variable Descripcion:"
   ]
  },
  {
   "cell_type": "code",
   "execution_count": 43,
   "metadata": {
    "id": "iz9SiUvHPn3b",
    "outputId": "449aaac6-4825-4104-e748-78056fc4f88f"
   },
   "outputs": [
    {
     "name": "stdout",
     "output_type": "stream",
     "text": [
      "+---------+-----+\n",
      "|    DPNOM|count|\n",
      "+---------+-----+\n",
      "|    sucre|   10|\n",
      "|   caldas|   10|\n",
      "|   vaupes|   10|\n",
      "|antioquia|   10|\n",
      "|     meta|   10|\n",
      "+---------+-----+\n",
      "only showing top 5 rows\n",
      "\n"
     ]
    }
   ],
   "source": [
    "proyecciones.groupby(\"DPNOM\").count().orderBy(\"count\", ascending=False).show(5)"
   ]
  },
  {
   "cell_type": "markdown",
   "metadata": {
    "id": "9bG1x9gWPn3b",
    "tags": []
   },
   "source": [
    "## Análisis de calidad de datos\n",
    "La calidad de los datos consiste en validar la idoneidad de los datos analizando varias dimensiones, entre las cuales resaltamos:\n",
    "- Completitud: Datos que no existen o no se conocen\n",
    "- Unicidad (Duplicidad): Datos que son idénticos en diferentes registros o registros con valores idénticos en atributos en los que no debería ocurrir\n",
    "- Consistencia: Esta medida se define por la validez o integridad del dato, en la definición de su estructura, al interior de una fila o entre diferentes filas de la misma fuente o de diferentes fuentes. El manejo de unidades en los datos y el significado del dato son generadores de inconsistencias.\n",
    "- Validez: a nivel de formato y de sentido de los datos más alla de sus valores\n",
    "\n",
    "Para asegurar una calidad mínima de los datos en estas dimensiones hay que entender su origen y posteriormente realizar un proceso de validación de cada una de las dimensiones de perfilamiento que llevará a un entendimiento de los datos disponibles.\n"
   ]
  },
  {
   "cell_type": "markdown",
   "metadata": {
    "id": "WKPFuI9uPn3b"
   },
   "source": [
    "A continuación se definen dos funciones, la primera cuenta los valores vacios por columna de dataframe, la segunda retorna un diccionario de columnas con cardinalidad superior al 50%\n",
    "\n",
    "Te invito a revisar los recursos de calidad de datos que hemos visto en el curso, a continuacion ejemplos daremos algunos ejemplos por cada dimensión para el caso del tutorial"
   ]
  },
  {
   "cell_type": "markdown",
   "metadata": {
    "id": "ZHLs1H0hPn3b"
   },
   "source": [
    "### Unicidad y validez\n",
    "\n",
    "La unicidad se revisó en la segunda regla de negocio y la validez se reviso en el perfilamiento general, en la regla de negocio 3 y en el análisis de la descripción al final de la sección de revisión de reglas de negocio"
   ]
  },
  {
   "cell_type": "markdown",
   "metadata": {
    "id": "QgkzeSm4Pn3b"
   },
   "source": [
    "### Completitud y validez"
   ]
  },
  {
   "cell_type": "code",
   "execution_count": 44,
   "metadata": {
    "id": "mIWH-vVoPn3b"
   },
   "outputs": [],
   "source": [
    "def contar_vacios(df):\n",
    "    resultados = []\n",
    "    for c in df.columns:\n",
    "        vacios = df.filter(df[c].isNull()).count()\n",
    "        if vacios!=0:\n",
    "            print('número de vacíos para columna '+c+': '+str( vacios ))\n",
    "            resultados.append(vacios)\n",
    "    return resultados\n",
    "\n",
    "def cardinalidad(df):\n",
    "    resultado = {}\n",
    "    for c in df.columns:\n",
    "        cardinalidad = df.select(col(c)).distinct().count()\n",
    "        if cardinalidad>=df.count()*0.5:\n",
    "            resultado[c] = cardinalidad\n",
    "    return resultado"
   ]
  },
  {
   "cell_type": "code",
   "execution_count": 45,
   "metadata": {
    "id": "da_z_ti-Pn3b",
    "outputId": "ecac9b39-d97a-422a-a579-698c5733ab7b"
   },
   "outputs": [],
   "source": [
    "columnas_vacias_ordenes = contar_vacios(proyecciones)\n"
   ]
  },
  {
   "cell_type": "code",
   "execution_count": 46,
   "metadata": {
    "id": "NxXQm_KEPn3c",
    "outputId": "419b9709-25fe-43dd-d63a-a9be645d11f7"
   },
   "outputs": [
    {
     "data": {
      "text/plain": [
       "{'Total Hombres': 329, 'Total Mujeres': 329}"
      ]
     },
     "execution_count": 46,
     "metadata": {},
     "output_type": "execute_result"
    }
   ],
   "source": [
    "columnas_alta_cardinalidad_proyecciones = cardinalidad(proyecciones)\n",
    "columnas_alta_cardinalidad_proyecciones"
   ]
  },
  {
   "cell_type": "markdown",
   "metadata": {
    "id": "LZyQcqCvPn3c"
   },
   "source": [
    "### Consistencia\n",
    "A nivel de consistencia algunos ejemplos de revisión son precios negativos, productos que aparecen en las ordenes pero que no esten registrados en la tabla de produtos. En nuestro caso vamos a verificar que todas las ordenes tengan detalle de orden y viceversa"
   ]
  },
  {
   "cell_type": "code",
   "execution_count": 59,
   "metadata": {
    "id": "uHEz7IylPn3c",
    "outputId": "0f987de9-4b5e-4532-e42a-a547d3207985"
   },
   "outputs": [
    {
     "data": {
      "text/plain": [
       "33"
      ]
     },
     "execution_count": 59,
     "metadata": {},
     "output_type": "execute_result"
    }
   ],
   "source": [
    "#consistencia: revisar genially: definicion de consistencia\n",
    "ids_proyecciones = set([x.DPNOM for x in proyecciones.select('DPNOM').collect()])\n",
    "len(ids_proyecciones)"
   ]
  },
  {
   "cell_type": "markdown",
   "metadata": {
    "id": "oU6a547APn3c"
   },
   "source": [
    "Como se puede observar hay una diferencia de 44.359 ordenes que no tienen detalles y hay 28.956 detalles que no tienen orden. Ninguno de los casos tiene sentido en el contexto de WideWorldImporters. Esta inconsistencia se notifica al negocio dado que no hay forma de conocer cuáles son los registros que pueden tener ids que no existen"
   ]
  },
  {
   "cell_type": "markdown",
   "metadata": {
    "id": "ct4KbukcPn3c"
   },
   "source": [
    "## Herramientas para facilitar el entendimiento de datos"
   ]
  },
  {
   "cell_type": "markdown",
   "metadata": {
    "id": "62jY4uoQPn3d"
   },
   "source": [
    "Algunas de las estadísticas antes desarrolladas pueden obtenerse por medio de herramientas como Pandas Profiling una herramienta muy útil, <b><i>Pero no perfecta ni completa</i></b>, es Pandas profiling que dado un conjunto de datos, nos muestra histogramas, estadísticas etc. A continuación guardamos el reporte en html"
   ]
  },
  {
   "cell_type": "code",
   "execution_count": 50,
   "metadata": {
    "colab": {
     "referenced_widgets": [
      "18d36d8316d14fb2b1046fd12e844ae4",
      "2d029404a2994346918423391fc63c41",
      "0ab77442375c4f09ab98151e743deebc",
      "fec3309b395249d6ac3ecb39f2031344"
     ]
    },
    "id": "TlWywoCUPn3d",
    "outputId": "1a013e5c-269b-4099-a169-b2dd14182d8a"
   },
   "outputs": [
    {
     "name": "stderr",
     "output_type": "stream",
     "text": [
      "Summarize dataset: 100%|██████████| 27/27 [00:05<00:00,  5.28it/s, Completed]                           \n",
      "Generate report structure: 100%|██████████| 1/1 [00:02<00:00,  2.11s/it]\n",
      "Render HTML: 100%|██████████| 1/1 [00:00<00:00,  1.47it/s]\n",
      "Export report to file: 100%|██████████| 1/1 [00:00<00:00, 124.99it/s]\n"
     ]
    }
   ],
   "source": [
    "reporte = ProfileReport(proyecciones.toPandas())\n",
    "reporte.to_file(PATH+\"reporte_prefilamiento.html\")"
   ]
  },
  {
   "cell_type": "markdown",
   "metadata": {
    "id": "cBQ9PDaBPn3d"
   },
   "source": [
    "<b>Cabe aclarar que un pandas profiling sin interpretación no es suficiente como análisis para realizar el entendimiento de los datos.\n",
    "\n",
    "Así mismo, recuerde que si es necesario, se debe utilizar otra herramienta (código, visualizaciones, etc) para poder completar el análisis estadístico.</b>"
   ]
  },
  {
   "cell_type": "markdown",
   "metadata": {
    "id": "eDf54JyKPn3d"
   },
   "source": [
    "### Algunas gráficas utiles: Diagrama de caja, dispersion, histogramas para entender las distribuciones de las variables\n",
    "\n",
    "Generalmente las gráficas se emplean para entender la distribución de cada variable, también sirven para visualizar la relación entre 2 o más variables\n",
    "\n",
    "Algunas gráficas útiles son los histogramas, disepersión, diagramas de caja. Hay varias maneras de implementarlos, con paquetes como matplotlib o pandas, con funciones propias de pyspark, etc, a continuacón mostramos cómo hacerlo a travez de pandas"
   ]
  },
  {
   "cell_type": "code",
   "execution_count": 51,
   "metadata": {
    "id": "HB--WS4-Pn3d",
    "outputId": "c2a41c9f-14f8-4d52-e59c-efc769e414c0"
   },
   "outputs": [
    {
     "data": {
      "text/plain": [
       "array([[<AxesSubplot:title={'center':'Total Mujeres'}>]], dtype=object)"
      ]
     },
     "execution_count": 51,
     "metadata": {},
     "output_type": "execute_result"
    },
    {
     "data": {
      "image/png": "[encoded data removed]",
      "text/plain": [
       "<Figure size 432x288 with 1 Axes>"
      ]
     },
     "metadata": {
      "needs_background": "light"
     },
     "output_type": "display_data"
    }
   ],
   "source": [
    "#para valores extremos(subir a calidad)\n",
    "proyecciones.toPandas().hist(column='Total Mujeres')"
   ]
  },
  {
   "cell_type": "code",
   "execution_count": 52,
   "metadata": {
    "id": "bJQ6CqOJPn3d"
   },
   "outputs": [],
   "source": [
    "cantidades = proyecciones.groupby(\"Total Hombres\").count().orderBy(\"count\", ascending=False)"
   ]
  },
  {
   "cell_type": "markdown",
   "metadata": {
    "id": "YRGn5uXAPn3e"
   },
   "source": [
    "Como se puede observar, el método retorna un dataframe, que vamos a usar para obtener dos arreglos, uno con el rango de cada una de las barras y otro con la cantidad de registros por rango. Se puede usar Matplotlib para graficar esta información:"
   ]
  },
  {
   "cell_type": "code",
   "execution_count": 53,
   "metadata": {
    "id": "wZY56uzKPn3e",
    "outputId": "d2323c1b-d785-49b8-8fd9-b76094b51657"
   },
   "outputs": [
    {
     "data": {
      "image/png": "[encoded data removed]",
      "text/plain": [
       "<Figure size 30794.4x576 with 1 Axes>"
      ]
     },
     "metadata": {
      "needs_background": "light"
     },
     "output_type": "display_data"
    }
   ],
   "source": [
    "def plotHistogramData(data):\n",
    "    binSides, binCounts = [row[0] for row in data.collect()], [row[1] for row in data.collect()]\n",
    "    binSides = [round(i, 2) for i in binSides]\n",
    "    N = len(binCounts)\n",
    "    ind = np.arange(N)\n",
    "    width = 1\n",
    "\n",
    "    fig, ax = plt.subplots()\n",
    "    rects1 = ax.bar(ind+0.5, binCounts, width, color='b')\n",
    "    \n",
    "    fig.set_size_inches(1.3*N, 8)\n",
    "\n",
    "    ax.set_ylabel('Frecuencia')\n",
    "    ax.set_xlabel('Rango')\n",
    "    ax.set_title('Histograma')\n",
    "    ax.set_xticks(np.arange(N))\n",
    "    ax.set_xticklabels(binSides)\n",
    "\n",
    "    plt.show()\n",
    "\n",
    "plotHistogramData(cantidades)"
   ]
  },
  {
   "cell_type": "markdown",
   "metadata": {
    "id": "47eVd0NJPn3e"
   },
   "source": [
    "El diagrama de dispersion, nos muestra los datos para dos variables en forma de puntos y es muy útil para entender la relación entre dichas variables"
   ]
  },
  {
   "cell_type": "markdown",
   "metadata": {
    "id": "ltTluhtIPn3e"
   },
   "source": [
    "### Otras opciones de exploración\n",
    "PySpark también da la opción de crear tablas de pivotes. En el siguiente ejemplo, se muestra cómo hacer una tabla que permite ver cuántas ordenes hay por cada <i>Fecha_de_pedido</i> y por cada <i>ID_de_vendedor</i>, es decir por fecha y por empleado cuantas ordenes existen:"
   ]
  },
  {
   "cell_type": "code",
   "execution_count": 56,
   "metadata": {
    "id": "jTU_GHMIPn3e",
    "outputId": "d5c71e84-8815-4723-c916-d9b7ee138952"
   },
   "outputs": [
    {
     "name": "stdout",
     "output_type": "stream",
     "text": [
      "+----+-----+-----+-----+-----+-----+-----+-----+-----+-----+-----+-----+-----+-----+-----+-----+-----+-----+-----+-----+-----+-----+-----+-----+-----+-----+-----+-----+-----+-----+-----+-----+-----+-----+-----+-----+-----+-----+-----+-----+-----+-----+-----+-----+-----+-----+-----+-----+-----+-----+-----+-----+-----+-----+-----+-----+-----+-----+-----+-----+------+------+------+------+------+------+------+------+------+------+------+------+------+------+------+------+------+------+------+------+------+------+------+------+------+------+------+------+------+------+------+------+------+------+------+------+------+------+------+------+------+------+------+------+------+------+------+------+------+------+------+------+------+------+------+------+------+------+------+------+------+------+------+------+------+------+------+------+------+------+------+------+------+------+------+------+------+------+------+------+------+------+------+------+------+------+------+------+------+------+------+------+------+------+------+------+------+------+------+------+------+------+------+------+------+------+------+------+------+------+------+------+------+------+------+------+------+------+------+------+------+------+------+------+------+------+------+------+------+------+------+------+------+------+------+------+------+------+------+------+------+------+------+------+------+------+------+------+------+------+------+------+------+------+------+------+------+------+------+------+------+------+------+------+------+------+------+------+------+------+------+------+------+------+------+------+------+------+------+------+------+------+------+------+------+------+------+------+------+------+------+------+------+------+------+------+------+------+------+------+------+------+------+------+------+------+------+------+------+------+------+------+------+------+------+------+------+------+------+------+------+-------+-------+-------+-------+-------+-------+-------+-------+-------+-------+-------+-------+-------+-------+-------+-------+-------+-------+-------+-------+-------+-------+-------+-------+-------+-------+-------+-------+-------+-------+-------+-------+-------+-------+-------+-------+-------+-------+-------+-------+-------+-------+-------+-------+-------+-------+-------+-------+-------+\n",
      "|Anio|13825|14432|15049|15672|16309|16471|16952|17075|17583|17700|18189|18331|18772|18970|19342|19618|20277|20936|21592|22255|29938|30031|30124|30212|30299|30387|30467|30522|30560|30590|31532|32154|32799|33455|34128|34823|35519|36185|36820|37441|40141|40225|40229|40380|40402|40593|40659|40993|41413|42508|43710|44913|46112|47300|48475|49631|50760|51862|52935|112977|113593|114316|115119|115994|116920|117863|118849|119949|121163|136169|139291|142390|145454|148527|151651|154768|157774|160646|163476|166083|169752|173396|176988|180544|184079|187570|191002|194127|194387|195356|196043|196527|197620|197737|198643|199607|200496|201277|201933|202342|202486|208515|214534|220391|226099|231643|236978|242086|246978|250376|250680|250951|251102|251261|251615|252145|252665|253113|253680|312535|320191|327971|335959|344148|352424|360643|368824|377103|385429|393101|397806|402497|407126|408399|411689|416199|418608|420608|424910|428628|429167|431999|433385|434105|435950|437290|438402|438404|439688|441158|442420|443234|444006|447974|457389|466621|469380|469940|475589|476209|476877|477526|477612|477977|478412|478972|479860|481106|482415|482529|484019|484276|484685|485625|488493|492738|492766|494510|500543|501081|506594|509564|512596|518092|518509|524405|526675|535449|544408|547902|557351|557414|560139|562966|565846|566934|568820|571890|574989|576405|578055|581106|584185|585776|594975|603843|612369|620696|628812|637000|637108|644588|644684|647256|648428|649474|650382|651213|651915|652038|652059|652907|653672|654332|654966|658927|659069|665721|665762|672068|672454|677790|679140|683000|685669|688002|692013|692774|698313|746790|753747|759963|765214|767945|769713|773821|777720|778089|781329|784486|787396|788040|797777|807305|816643|825752|834612|843264|851746|888180|900563|912524|920224|923967|932086|934914|941237|943816|945404|955324|955356|957976|964783|966637|973814|977786|977852|982494|988587|998904|1001043|1008850|1018556|1024962|1027694|1040124|1055195|1057907|1070008|1084589|1091454|1098964|1112916|1126426|1128159|1139766|1153029|1168237|1211933|2045007|2056340|2066255|2073603|2079385|2085202|2091233|2096204|2099236|2110069|2630787|2663957|2697202|2730505|2764235|2798757|2833245|2866567|2898803|2930948|3236477|3275739|3312248|3345878|3377089|3406262|3431791|3451673|3466060|3476538|\n",
      "+----+-----+-----+-----+-----+-----+-----+-----+-----+-----+-----+-----+-----+-----+-----+-----+-----+-----+-----+-----+-----+-----+-----+-----+-----+-----+-----+-----+-----+-----+-----+-----+-----+-----+-----+-----+-----+-----+-----+-----+-----+-----+-----+-----+-----+-----+-----+-----+-----+-----+-----+-----+-----+-----+-----+-----+-----+-----+-----+-----+------+------+------+------+------+------+------+------+------+------+------+------+------+------+------+------+------+------+------+------+------+------+------+------+------+------+------+------+------+------+------+------+------+------+------+------+------+------+------+------+------+------+------+------+------+------+------+------+------+------+------+------+------+------+------+------+------+------+------+------+------+------+------+------+------+------+------+------+------+------+------+------+------+------+------+------+------+------+------+------+------+------+------+------+------+------+------+------+------+------+------+------+------+------+------+------+------+------+------+------+------+------+------+------+------+------+------+------+------+------+------+------+------+------+------+------+------+------+------+------+------+------+------+------+------+------+------+------+------+------+------+------+------+------+------+------+------+------+------+------+------+------+------+------+------+------+------+------+------+------+------+------+------+------+------+------+------+------+------+------+------+------+------+------+------+------+------+------+------+------+------+------+------+------+------+------+------+------+------+------+------+------+------+------+------+------+------+------+------+------+------+------+------+------+------+------+------+------+------+------+------+------+------+------+------+------+------+------+------+------+------+------+------+------+------+------+------+------+------+------+------+-------+-------+-------+-------+-------+-------+-------+-------+-------+-------+-------+-------+-------+-------+-------+-------+-------+-------+-------+-------+-------+-------+-------+-------+-------+-------+-------+-------+-------+-------+-------+-------+-------+-------+-------+-------+-------+-------+-------+-------+-------+-------+-------+-------+-------+-------+-------+-------+-------+\n",
      "|2007| null| null|    1| null| null| null| null| null| null|    1| null| null| null| null| null| null| null| null| null| null| null| null| null| null| null| null| null|    1| null| null| null| null|    1| null| null| null| null| null| null| null| null|    1| null| null| null| null| null| null| null| null| null|    1| null| null| null| null| null| null| null|  null|  null|     1|  null|  null|  null|  null|  null|  null|  null|  null|  null|     1|  null|  null|  null|  null|  null|  null|  null|  null|  null|     1|  null|  null|  null|  null|  null|  null|  null|  null|  null|     1|  null|  null|  null|  null|  null|  null|  null|  null|  null|     1|  null|  null|  null|  null|  null|  null|  null|  null|  null|     1|  null|  null|  null|  null|  null|  null|  null|  null|  null|     1|  null|  null|  null|  null|  null|  null|  null|  null|  null|     1|  null|  null|  null|  null|  null|  null|  null|     1|  null|  null|  null|  null|     1|  null|  null|  null|  null|  null|  null|  null|  null|  null|  null|  null|  null|  null|  null|  null|  null|  null|  null|  null|  null|  null|  null|  null|     1|     1|  null|  null|     1|  null|  null|  null|  null|  null|  null|  null|  null|  null|  null|  null|  null|  null|  null|  null|  null|  null|  null|  null|  null|     1|  null|     1|  null|  null|  null|  null|  null|  null|  null|  null|  null|  null|  null|  null|  null|  null|  null|  null|  null|  null|  null|     1|  null|  null|     1|     1|  null|  null|  null|  null|  null|  null|  null|  null|  null|  null|  null|  null|  null|  null|  null|  null|  null|  null|  null|  null|  null|     1|  null|  null|  null|  null|  null|  null|  null|  null|  null|     1|  null|  null|  null|  null|  null|  null|  null|  null|  null|     1|  null|  null|  null|  null|  null|     1|  null|  null|  null|  null|  null|  null|  null|  null|     1|  null|  null|  null|   null|   null|   null|   null|   null|   null|      1|   null|   null|   null|   null|   null|   null|   null|   null|   null|   null|   null|   null|   null|   null|      1|   null|   null|   null|   null|   null|   null|   null|   null|   null|      1|   null|   null|   null|   null|   null|   null|   null|   null|   null|      1|   null|   null|   null|   null|   null|   null|   null|\n",
      "|2006| null|    1| null| null| null| null| null|    1| null| null| null| null| null| null| null| null| null| null| null| null| null| null| null| null| null| null| null| null|    1| null| null|    1| null| null| null| null| null| null| null| null| null| null| null|    1| null| null| null| null| null| null|    1| null| null| null| null| null| null| null| null|  null|     1|  null|  null|  null|  null|  null|  null|  null|  null|  null|     1|  null|  null|  null|  null|  null|  null|  null|  null|  null|     1|  null|  null|  null|  null|  null|  null|  null|  null|     1|  null|  null|  null|  null|  null|  null|  null|  null|  null|     1|  null|  null|  null|  null|  null|  null|  null|  null|  null|  null|     1|  null|  null|  null|  null|  null|  null|  null|  null|  null|     1|  null|  null|  null|  null|  null|  null|  null|  null|  null|     1|  null|  null|  null|  null|  null|     1|  null|  null|  null|  null|  null|  null|     1|  null|  null|  null|  null|  null|  null|  null|  null|  null|  null|  null|  null|  null|  null|  null|     1|     1|  null|  null|  null|  null|  null|  null|  null|  null|  null|     1|  null|  null|  null|  null|  null|  null|  null|  null|  null|  null|  null|  null|  null|  null|  null|  null|  null|  null|  null|  null|     1|     1|  null|  null|  null|  null|  null|  null|  null|  null|  null|  null|  null|  null|  null|  null|  null|  null|  null|  null|     1|     1|  null|     1|  null|  null|  null|  null|  null|  null|  null|  null|  null|  null|  null|  null|  null|  null|  null|  null|  null|  null|  null|  null|  null|  null|  null|  null|  null|     1|  null|  null|  null|  null|  null|  null|     1|  null|  null|  null|  null|  null|  null|  null|  null|  null|  null|  null|  null|     1|  null|  null|  null|     1|  null|  null|  null|  null|  null|  null|     1|  null|  null|  null|  null|  null|  null|  null|  null|   null|   null|   null|   null|   null|      1|   null|   null|   null|   null|   null|   null|   null|   null|   null|   null|   null|   null|   null|   null|      1|   null|   null|   null|   null|   null|   null|   null|   null|   null|      1|   null|   null|   null|   null|   null|   null|   null|   null|   null|      1|   null|   null|   null|   null|   null|   null|   null|   null|\n",
      "|2013| null| null| null| null| null| null| null| null| null| null| null| null|    1| null| null| null| null| null|    1| null| null|    1| null| null| null| null| null| null| null| null| null| null| null| null| null| null| null| null|    1| null| null| null| null| null| null| null| null|    1| null| null| null| null| null| null| null| null| null|    1| null|  null|  null|  null|  null|  null|  null|  null|  null|     1|  null|  null|  null|  null|  null|  null|  null|  null|  null|     1|  null|  null|  null|  null|  null|  null|  null|  null|  null|  null|     1|  null|  null|  null|  null|  null|  null|  null|  null|  null|     1|  null|  null|  null|  null|  null|  null|  null|  null|     1|  null|  null|  null|  null|  null|  null|  null|  null|  null|     1|  null|  null|  null|  null|  null|  null|  null|  null|  null|     1|  null|  null|  null|  null|  null|  null|  null|  null|  null|  null|  null|  null|     1|  null|  null|  null|  null|  null|  null|  null|  null|  null|  null|     1|  null|  null|  null|  null|  null|  null|  null|  null|  null|  null|     1|  null|  null|  null|  null|  null|  null|  null|  null|     1|  null|  null|  null|  null|  null|  null|  null|  null|  null|  null|  null|  null|     1|  null|  null|     1|  null|  null|  null|  null|  null|  null|  null|  null|  null|  null|  null|  null|  null|     1|  null|  null|  null|  null|  null|     1|  null|  null|  null|  null|  null|  null|  null|  null|  null|  null|  null|  null|  null|  null|  null|     1|  null|  null|  null|  null|  null|  null|  null|  null|  null|  null|  null|     1|     1|  null|  null|  null|  null|  null|  null|  null|  null|  null|  null|  null|  null|     1|  null|  null|  null|  null|  null|  null|  null|     1|  null|  null|  null|  null|  null|  null|  null|  null|  null|  null|  null|  null|  null|  null|  null|  null|     1|  null|  null|  null|  null|  null|   null|      1|   null|   null|   null|   null|   null|   null|   null|   null|   null|   null|   null|   null|   null|      1|   null|      1|   null|   null|   null|   null|   null|   null|   null|   null|   null|      1|   null|   null|   null|   null|   null|   null|   null|   null|   null|      1|   null|   null|   null|   null|   null|   null|   null|   null|   null|      1|   null|\n",
      "|2014| null| null| null| null| null| null| null| null| null| null| null| null| null| null|    1| null| null| null| null|    1|    1| null| null| null| null| null| null| null| null| null| null| null| null| null| null| null| null| null| null|    1| null| null| null| null| null| null| null| null|    1| null| null| null| null| null| null| null| null| null|    1|  null|  null|  null|  null|  null|  null|  null|  null|  null|     1|  null|  null|  null|  null|  null|  null|  null|  null|  null|     1|  null|  null|  null|  null|  null|  null|  null|  null|  null|  null|  null|  null|  null|  null|     1|  null|  null|  null|  null|  null|  null|     1|  null|  null|  null|  null|  null|  null|  null|     1|  null|  null|  null|  null|  null|  null|  null|  null|  null|     1|  null|  null|  null|  null|  null|  null|  null|  null|  null|     1|  null|  null|  null|  null|  null|  null|  null|  null|  null|  null|  null|  null|  null|     1|  null|  null|  null|  null|  null|  null|  null|  null|  null|     1|  null|  null|  null|  null|  null|  null|  null|  null|     1|  null|  null|  null|  null|  null|  null|  null|  null|  null|  null|  null|  null|  null|     1|  null|  null|  null|  null|  null|  null|  null|  null|  null|     1|  null|  null|     1|  null|  null|  null|  null|  null|  null|  null|  null|  null|  null|  null|  null|  null|     1|  null|  null|  null|  null|  null|     1|  null|  null|  null|  null|  null|  null|  null|  null|  null|  null|  null|  null|  null|  null|  null|     1|  null|  null|  null|  null|  null|  null|  null|  null|  null|  null|  null|  null|     1|     1|  null|  null|  null|  null|  null|  null|  null|  null|  null|  null|  null|     1|  null|  null|  null|  null|  null|  null|  null|     1|  null|  null|  null|  null|  null|  null|  null|  null|  null|  null|  null|  null|  null|  null|  null|  null|  null|  null|     1|  null|  null|   null|   null|      1|   null|   null|   null|   null|   null|   null|   null|   null|   null|   null|   null|   null|   null|      1|   null|      1|   null|   null|   null|   null|   null|   null|   null|   null|   null|      1|   null|   null|   null|   null|   null|   null|   null|   null|   null|      1|   null|   null|   null|   null|   null|   null|   null|   null|   null|      1|\n",
      "|2012| null| null| null| null| null| null| null| null| null| null|    1| null| null| null| null| null| null|    1| null| null| null| null|    1| null| null| null| null| null| null| null| null| null| null| null| null| null| null|    1| null| null| null| null| null| null| null| null|    1| null| null| null| null| null| null| null| null| null|    1| null| null|  null|  null|  null|  null|  null|  null|  null|     1|  null|  null|  null|  null|  null|  null|  null|  null|  null|     1|  null|  null|  null|  null|  null|  null|  null|  null|  null|     1|  null|  null|  null|  null|  null|  null|  null|  null|  null|  null|     1|  null|  null|  null|  null|  null|  null|  null|  null|     1|  null|  null|  null|  null|  null|  null|  null|  null|  null|     1|  null|  null|  null|  null|  null|  null|  null|  null|  null|     1|  null|  null|  null|  null|  null|  null|  null|  null|  null|  null|  null|     1|  null|  null|  null|  null|  null|  null|  null|  null|  null|  null|  null|     1|  null|  null|  null|  null|  null|  null|  null|     1|  null|  null|  null|  null|     1|  null|  null|  null|  null|  null|  null|  null|  null|  null|  null|  null|  null|  null|  null|  null|  null|  null|  null|     1|  null|  null|  null|     1|  null|  null|  null|  null|  null|  null|  null|  null|  null|  null|  null|  null|  null|     1|  null|  null|  null|  null|  null|     1|  null|  null|  null|  null|  null|  null|  null|  null|  null|  null|  null|  null|  null|  null|  null|     1|  null|  null|  null|  null|  null|  null|  null|  null|  null|  null|     1|     1|  null|  null|  null|  null|  null|  null|  null|  null|  null|  null|  null|  null|  null|     1|  null|  null|  null|  null|  null|  null|  null|     1|  null|  null|  null|  null|  null|  null|  null|  null|  null|  null|  null|  null|  null|  null|  null|     1|  null|  null|  null|  null|  null|  null|     1|   null|   null|   null|   null|   null|   null|   null|   null|   null|   null|   null|   null|   null|      1|      1|   null|   null|   null|   null|   null|   null|   null|   null|   null|   null|   null|      1|   null|   null|   null|   null|   null|   null|   null|   null|   null|      1|   null|   null|   null|   null|   null|   null|   null|   null|   null|      1|   null|   null|\n",
      "|2009| null| null| null| null|    1| null| null| null| null| null| null| null| null|    1| null| null| null| null| null| null| null| null| null| null| null|    1| null| null| null| null| null| null| null| null|    1| null| null| null| null| null|    1| null| null| null| null| null| null| null| null| null| null| null| null|    1| null| null| null| null| null|  null|  null|  null|  null|     1|  null|  null|  null|  null|  null|  null|  null|  null|  null|     1|  null|  null|  null|  null|  null|  null|  null|  null|  null|     1|  null|  null|  null|  null|  null|  null|  null|  null|  null|  null|     1|  null|  null|  null|  null|  null|  null|  null|  null|     1|  null|  null|  null|  null|  null|  null|  null|  null|  null|     1|  null|  null|  null|  null|  null|  null|  null|  null|  null|     1|  null|  null|  null|  null|  null|  null|  null|  null|  null|  null|     1|  null|  null|  null|  null|  null|  null|  null|  null|  null|  null|  null|     1|  null|  null|  null|  null|  null|  null|     1|  null|  null|  null|  null|  null|  null|  null|  null|  null|  null|  null|  null|     1|  null|  null|  null|  null|  null|  null|  null|  null|  null|  null|     1|  null|     1|  null|  null|  null|  null|  null|  null|  null|  null|  null|  null|  null|  null|  null|  null|  null|  null|     1|  null|  null|  null|  null|  null|  null|     1|  null|  null|  null|  null|  null|  null|  null|  null|  null|  null|  null|  null|  null|     1|  null|  null|  null|  null|  null|  null|  null|  null|  null|     1|     1|  null|  null|  null|  null|  null|  null|  null|  null|  null|  null|  null|  null|  null|  null|  null|     1|  null|  null|  null|  null|  null|  null|  null|  null|     1|  null|  null|  null|  null|  null|  null|  null|  null|  null|  null|  null|     1|  null|  null|  null|  null|  null|  null|  null|     1|  null|  null|  null|  null|  null|  null|   null|   null|   null|   null|      1|   null|   null|   null|   null|      1|   null|   null|   null|   null|   null|   null|   null|   null|   null|   null|   null|   null|   null|      1|   null|   null|   null|   null|   null|   null|   null|   null|   null|      1|   null|   null|   null|   null|   null|   null|   null|   null|   null|      1|   null|   null|   null|   null|   null|\n",
      "|2005|    1| null| null| null| null|    1| null| null| null| null| null| null| null| null| null| null| null| null| null| null| null| null| null| null| null| null| null| null| null|    1|    1| null| null| null| null| null| null| null| null| null| null| null| null| null| null|    1| null| null| null|    1| null| null| null| null| null| null| null| null| null|     1|  null|  null|  null|  null|  null|  null|  null|  null|  null|     1|  null|  null|  null|  null|  null|  null|  null|  null|  null|     1|  null|  null|  null|  null|  null|  null|  null|     1|  null|  null|     1|  null|  null|  null|  null|  null|  null|  null|  null|  null|  null|  null|  null|  null|  null|  null|  null|  null|  null|     1|  null|  null|  null|  null|  null|  null|  null|  null|  null|     1|  null|  null|  null|  null|  null|  null|  null|  null|  null|     1|  null|  null|  null|     1|  null|  null|  null|  null|  null|  null|  null|     1|  null|  null|  null|  null|  null|  null|  null|  null|  null|  null|  null|  null|  null|  null|     1|     1|  null|  null|  null|  null|  null|  null|  null|  null|  null|  null|  null|  null|  null|  null|  null|     1|  null|  null|  null|  null|  null|  null|  null|  null|  null|  null|  null|  null|  null|  null|  null|     1|     1|  null|  null|  null|  null|  null|  null|  null|  null|  null|  null|  null|  null|  null|  null|  null|  null|  null|  null|     1|     1|  null|  null|     1|  null|  null|  null|  null|  null|  null|  null|  null|  null|  null|  null|  null|  null|  null|  null|  null|  null|  null|  null|  null|  null|  null|  null|  null|  null|     1|  null|  null|  null|     1|  null|  null|  null|  null|  null|  null|  null|  null|  null|  null|  null|  null|  null|  null|  null|     1|  null|  null|     1|  null|  null|  null|     1|  null|  null|  null|  null|  null|  null|  null|  null|  null|  null|  null|  null|  null|   null|   null|   null|      1|   null|   null|   null|   null|   null|   null|   null|   null|   null|   null|   null|   null|   null|   null|   null|      1|   null|   null|   null|   null|   null|   null|   null|   null|   null|      1|   null|   null|   null|   null|   null|   null|   null|   null|   null|      1|   null|   null|   null|   null|   null|   null|   null|   null|   null|\n",
      "|2010| null| null| null| null| null| null|    1| null| null| null| null| null| null| null| null|    1| null| null| null| null| null| null| null| null|    1| null| null| null| null| null| null| null| null| null| null|    1| null| null| null| null| null| null|    1| null| null| null| null| null| null| null| null| null| null| null|    1| null| null| null| null|  null|  null|  null|  null|  null|     1|  null|  null|  null|  null|  null|  null|  null|  null|  null|     1|  null|  null|  null|  null|  null|  null|  null|  null|  null|     1|  null|  null|  null|  null|  null|  null|  null|  null|  null|  null|     1|  null|  null|  null|  null|  null|  null|  null|  null|     1|  null|  null|  null|  null|  null|  null|  null|  null|  null|     1|  null|  null|  null|  null|  null|  null|  null|  null|  null|     1|  null|  null|  null|  null|  null|  null|  null|  null|  null|  null|     1|  null|  null|  null|  null|  null|  null|  null|  null|  null|  null|  null|  null|     1|  null|  null|  null|  null|  null|     1|  null|  null|  null|  null|  null|  null|  null|  null|  null|  null|     1|  null|  null|  null|  null|  null|  null|  null|  null|  null|  null|  null|  null|     1|  null|  null|     1|  null|  null|  null|  null|  null|  null|  null|  null|  null|  null|  null|  null|  null|  null|  null|     1|  null|  null|  null|  null|  null|  null|     1|  null|  null|  null|  null|  null|  null|  null|  null|  null|  null|  null|  null|  null|  null|  null|     1|  null|  null|  null|  null|  null|  null|  null|  null|     1|     1|  null|  null|  null|  null|  null|  null|  null|  null|  null|  null|  null|  null|  null|  null|     1|  null|  null|  null|  null|  null|  null|  null|  null|     1|  null|  null|  null|  null|  null|  null|  null|  null|  null|  null|  null|  null|  null|     1|  null|  null|  null|  null|  null|  null|     1|  null|  null|  null|  null|   null|   null|   null|   null|   null|   null|   null|      1|   null|   null|   null|      1|   null|   null|   null|   null|   null|   null|   null|   null|   null|   null|   null|   null|      1|   null|   null|   null|   null|   null|   null|   null|   null|   null|      1|   null|   null|   null|   null|   null|   null|   null|   null|   null|      1|   null|   null|   null|   null|\n",
      "|2011| null| null| null| null| null| null| null| null|    1| null| null| null| null| null| null| null|    1| null| null| null| null| null| null|    1| null| null| null| null| null| null| null| null| null| null| null| null|    1| null| null| null| null| null| null| null|    1| null| null| null| null| null| null| null| null| null| null|    1| null| null| null|  null|  null|  null|  null|  null|  null|     1|  null|  null|  null|  null|  null|  null|  null|  null|  null|     1|  null|  null|  null|  null|  null|  null|  null|  null|  null|     1|  null|  null|  null|  null|  null|  null|  null|  null|  null|  null|     1|  null|  null|  null|  null|  null|  null|  null|  null|     1|  null|  null|  null|  null|  null|  null|  null|  null|  null|     1|  null|  null|  null|  null|  null|  null|  null|  null|  null|     1|  null|  null|  null|  null|  null|  null|  null|  null|  null|  null|  null|     1|  null|  null|  null|  null|  null|  null|  null|  null|  null|  null|  null|     1|  null|  null|  null|  null|  null|     1|  null|  null|  null|  null|  null|  null|  null|  null|     1|  null|  null|  null|  null|  null|  null|  null|  null|  null|  null|  null|  null|  null|  null|  null|     1|  null|  null|     1|  null|  null|  null|  null|  null|  null|  null|  null|  null|  null|  null|  null|  null|  null|     1|  null|  null|  null|  null|  null|  null|     1|  null|  null|  null|  null|  null|  null|  null|  null|  null|  null|  null|  null|  null|  null|  null|     1|  null|  null|  null|  null|  null|  null|  null|  null|  null|     1|     1|  null|  null|  null|  null|  null|  null|  null|  null|  null|  null|  null|  null|  null|     1|  null|  null|  null|  null|  null|  null|  null|  null|     1|  null|  null|  null|  null|  null|  null|  null|  null|  null|  null|  null|  null|  null|  null|     1|  null|  null|  null|  null|  null|  null|  null|     1|  null|   null|   null|   null|   null|   null|   null|   null|   null|   null|   null|      1|   null|      1|   null|   null|   null|   null|   null|   null|   null|   null|   null|   null|   null|   null|      1|   null|   null|   null|   null|   null|   null|   null|   null|   null|      1|   null|   null|   null|   null|   null|   null|   null|   null|   null|      1|   null|   null|   null|\n",
      "|2008| null| null| null|    1| null| null| null| null| null| null| null|    1| null| null| null| null| null| null| null| null| null| null| null| null| null| null|    1| null| null| null| null| null| null|    1| null| null| null| null| null| null|    1| null| null| null| null| null| null| null| null| null| null| null|    1| null| null| null| null| null| null|  null|  null|  null|     1|  null|  null|  null|  null|  null|  null|  null|  null|  null|     1|  null|  null|  null|  null|  null|  null|  null|  null|  null|     1|  null|  null|  null|  null|  null|  null|  null|  null|  null|     1|  null|  null|  null|  null|  null|  null|  null|  null|  null|     1|  null|  null|  null|  null|  null|  null|  null|  null|  null|     1|  null|  null|  null|  null|  null|  null|  null|  null|  null|     1|  null|  null|  null|  null|  null|  null|  null|  null|  null|     1|  null|  null|  null|  null|  null|  null|  null|  null|  null|  null|  null|  null|     1|  null|     1|  null|  null|  null|  null|  null|  null|  null|  null|  null|  null|  null|  null|  null|  null|  null|  null|  null|  null|  null|     1|  null|  null|  null|  null|  null|  null|     1|  null|     1|  null|  null|  null|  null|  null|  null|  null|  null|  null|  null|  null|  null|  null|  null|  null|  null|  null|     1|  null|  null|  null|  null|     1|  null|  null|  null|  null|  null|  null|  null|  null|  null|  null|  null|  null|  null|  null|  null|  null|     1|  null|  null|  null|  null|  null|  null|  null|  null|     1|     1|  null|  null|  null|  null|  null|  null|  null|  null|  null|  null|  null|  null|  null|  null|  null|     1|  null|  null|  null|  null|  null|  null|  null|  null|  null|     1|  null|  null|  null|  null|  null|  null|  null|  null|  null|  null|     1|  null|  null|  null|  null|  null|     1|  null|  null|  null|  null|  null|  null|  null|  null|  null|  null|      1|   null|   null|   null|   null|   null|   null|   null|      1|   null|   null|   null|   null|   null|   null|   null|   null|   null|   null|   null|   null|   null|      1|   null|   null|   null|   null|   null|   null|   null|   null|   null|      1|   null|   null|   null|   null|   null|   null|   null|   null|   null|      1|   null|   null|   null|   null|   null|   null|\n",
      "+----+-----+-----+-----+-----+-----+-----+-----+-----+-----+-----+-----+-----+-----+-----+-----+-----+-----+-----+-----+-----+-----+-----+-----+-----+-----+-----+-----+-----+-----+-----+-----+-----+-----+-----+-----+-----+-----+-----+-----+-----+-----+-----+-----+-----+-----+-----+-----+-----+-----+-----+-----+-----+-----+-----+-----+-----+-----+-----+-----+------+------+------+------+------+------+------+------+------+------+------+------+------+------+------+------+------+------+------+------+------+------+------+------+------+------+------+------+------+------+------+------+------+------+------+------+------+------+------+------+------+------+------+------+------+------+------+------+------+------+------+------+------+------+------+------+------+------+------+------+------+------+------+------+------+------+------+------+------+------+------+------+------+------+------+------+------+------+------+------+------+------+------+------+------+------+------+------+------+------+------+------+------+------+------+------+------+------+------+------+------+------+------+------+------+------+------+------+------+------+------+------+------+------+------+------+------+------+------+------+------+------+------+------+------+------+------+------+------+------+------+------+------+------+------+------+------+------+------+------+------+------+------+------+------+------+------+------+------+------+------+------+------+------+------+------+------+------+------+------+------+------+------+------+------+------+------+------+------+------+------+------+------+------+------+------+------+------+------+------+------+------+------+------+------+------+------+------+------+------+------+------+------+------+------+------+------+------+------+------+------+------+------+------+------+------+------+------+------+------+------+------+------+------+------+------+------+------+------+------+------+-------+-------+-------+-------+-------+-------+-------+-------+-------+-------+-------+-------+-------+-------+-------+-------+-------+-------+-------+-------+-------+-------+-------+-------+-------+-------+-------+-------+-------+-------+-------+-------+-------+-------+-------+-------+-------+-------+-------+-------+-------+-------+-------+-------+-------+-------+-------+-------+-------+\n",
      "\n"
     ]
    }
   ],
   "source": [
    "proyecciones.groupBy('Anio').pivot('Total Hombres').count().show()"
   ]
  },
  {
   "cell_type": "markdown",
   "metadata": {
    "id": "h0eRDQmcPn3f"
   },
   "source": [
    "Otro análisis muy útil es el de la correlación lineal entre dos variables, para ver la matriz de correlacion que mide esta dependencia o la fuerza de la relación lineal entre dos variables vamos a usar pandas, la interpretación es que si entre dos variables A y B  el valor obtenido es cercano a -1 o a 1, se interpreta como que A y B contienen la misma información y por ende no es necesario mantener ambas columnas"
   ]
  },
  {
   "cell_type": "code",
   "execution_count": 57,
   "metadata": {
    "id": "TydBsUX-Pn3f",
    "outputId": "e4779562-9cd6-4881-e97f-d18e5e75f253"
   },
   "outputs": [
    {
     "name": "stderr",
     "output_type": "stream",
     "text": [
      "C:\\Users\\estudiante\\anaconda3\\envs\\Tutoriales\\lib\\site-packages\\pandas\\io\\formats\\style.py:2813: RuntimeWarning: All-NaN slice encountered\n",
      "  smin = np.nanmin(gmap) if vmin is None else vmin\n",
      "C:\\Users\\estudiante\\anaconda3\\envs\\Tutoriales\\lib\\site-packages\\pandas\\io\\formats\\style.py:2814: RuntimeWarning: All-NaN slice encountered\n",
      "  smax = np.nanmax(gmap) if vmax is None else vmax\n"
     ]
    },
    {
     "data": {
      "text/html": [
       "<style type=\"text/css\">\n",
       "#T_0fa29_row0_col0, #T_0fa29_row2_col2, #T_0fa29_row3_col3 {\n",
       "  background-color: #b40426;\n",
       "  color: #f1f1f1;\n",
       "}\n",
       "#T_0fa29_row0_col1, #T_0fa29_row1_col0, #T_0fa29_row1_col1, #T_0fa29_row1_col2, #T_0fa29_row1_col3, #T_0fa29_row2_col1, #T_0fa29_row3_col1 {\n",
       "  background-color: #000000;\n",
       "  color: #f1f1f1;\n",
       "}\n",
       "#T_0fa29_row0_col2, #T_0fa29_row0_col3, #T_0fa29_row3_col0 {\n",
       "  background-color: #3b4cc0;\n",
       "  color: #f1f1f1;\n",
       "}\n",
       "#T_0fa29_row2_col0 {\n",
       "  background-color: #4358cb;\n",
       "  color: #f1f1f1;\n",
       "}\n",
       "#T_0fa29_row2_col3 {\n",
       "  background-color: #82a6fb;\n",
       "  color: #f1f1f1;\n",
       "}\n",
       "#T_0fa29_row3_col2 {\n",
       "  background-color: #7a9df8;\n",
       "  color: #f1f1f1;\n",
       "}\n",
       "</style>\n",
       "<table id=\"T_0fa29_\">\n",
       "  <thead>\n",
       "    <tr>\n",
       "      <th class=\"blank level0\" >&nbsp;</th>\n",
       "      <th class=\"col_heading level0 col0\" >Anio</th>\n",
       "      <th class=\"col_heading level0 col1\" >DP</th>\n",
       "      <th class=\"col_heading level0 col2\" >Total Hombres</th>\n",
       "      <th class=\"col_heading level0 col3\" >Total Mujeres</th>\n",
       "    </tr>\n",
       "  </thead>\n",
       "  <tbody>\n",
       "    <tr>\n",
       "      <th id=\"T_0fa29_level0_row0\" class=\"row_heading level0 row0\" >Anio</th>\n",
       "      <td id=\"T_0fa29_row0_col0\" class=\"data row0 col0\" >1.000000</td>\n",
       "      <td id=\"T_0fa29_row0_col1\" class=\"data row0 col1\" >nan</td>\n",
       "      <td id=\"T_0fa29_row0_col2\" class=\"data row0 col2\" >0.026346</td>\n",
       "      <td id=\"T_0fa29_row0_col3\" class=\"data row0 col3\" >-0.002607</td>\n",
       "    </tr>\n",
       "    <tr>\n",
       "      <th id=\"T_0fa29_level0_row1\" class=\"row_heading level0 row1\" >DP</th>\n",
       "      <td id=\"T_0fa29_row1_col0\" class=\"data row1 col0\" >nan</td>\n",
       "      <td id=\"T_0fa29_row1_col1\" class=\"data row1 col1\" >nan</td>\n",
       "      <td id=\"T_0fa29_row1_col2\" class=\"data row1 col2\" >nan</td>\n",
       "      <td id=\"T_0fa29_row1_col3\" class=\"data row1 col3\" >nan</td>\n",
       "    </tr>\n",
       "    <tr>\n",
       "      <th id=\"T_0fa29_level0_row2\" class=\"row_heading level0 row2\" >Total Hombres</th>\n",
       "      <td id=\"T_0fa29_row2_col0\" class=\"data row2 col0\" >0.026346</td>\n",
       "      <td id=\"T_0fa29_row2_col1\" class=\"data row2 col1\" >nan</td>\n",
       "      <td id=\"T_0fa29_row2_col2\" class=\"data row2 col2\" >1.000000</td>\n",
       "      <td id=\"T_0fa29_row2_col3\" class=\"data row2 col3\" >0.218155</td>\n",
       "    </tr>\n",
       "    <tr>\n",
       "      <th id=\"T_0fa29_level0_row3\" class=\"row_heading level0 row3\" >Total Mujeres</th>\n",
       "      <td id=\"T_0fa29_row3_col0\" class=\"data row3 col0\" >-0.002607</td>\n",
       "      <td id=\"T_0fa29_row3_col1\" class=\"data row3 col1\" >nan</td>\n",
       "      <td id=\"T_0fa29_row3_col2\" class=\"data row3 col2\" >0.218155</td>\n",
       "      <td id=\"T_0fa29_row3_col3\" class=\"data row3 col3\" >1.000000</td>\n",
       "    </tr>\n",
       "  </tbody>\n",
       "</table>\n"
      ],
      "text/plain": [
       "<pandas.io.formats.style.Styler at 0x1d485cc0288>"
      ]
     },
     "execution_count": 57,
     "metadata": {},
     "output_type": "execute_result"
    }
   ],
   "source": [
    "corr = proyecciones.toPandas().corr(method='pearson')\n",
    "corr.style.background_gradient(cmap='coolwarm')"
   ]
  },
  {
   "cell_type": "markdown",
   "metadata": {
    "id": "kxj4KoVDPn3f"
   },
   "source": [
    "## Conclusiones/resultados"
   ]
  },
  {
   "cell_type": "markdown",
   "metadata": {},
   "source": [
    "## Tabla proyeccionesCopia\n",
    "\n",
    "## 1. **Completitud de los datos:**\n",
    "\n",
    "> ### 1.1 **Cantidad de registros y cantidad de columnas por tipo de dato:**\n",
    "\n",
    " \n",
    "> Como se puede ver en la imagen anterior se logra generar el esquema de un DataFrame de la tabla ProyeccionesCopia el cual incluye los nombres de las columnas así como el tipo de dato de cada una de ellas. Ademas se logra identificar que la tabla solo tiene 9 columnas y 330 filas.\n",
    "\n",
    "\n",
    "\n",
    "En la anterior imagen se logra identifcar que la regla de negocio que habla de que en el valle del cauca hay 210069 hombres es verdicia, es decir se confirma.\n",
    "\n",
    ">   \n",
    "> ### 1.2 **Significado de una Fila:**\n",
    "\n",
    "> Al observar una fila de la tabla proyeccionesCopia se puede identificar que corresponde a la información que se genera cuando se realiza una proyeccion entre los departmamentos, la cantidad de hombres y de mujeres que son clientes potenciales para la compañia, Es aqui donde se almacena informacion que puede ser util en el futuro.\n",
    "\n",
    "\n",
    "> ### 1.3 **Estadística descriptiva:**\n",
    "\n",
    "\n",
    "> Al observar la imagen anterior se puede inferir  varias cosas lo primero es que todas las columnas de cada una de las filas tiene informacion coherente, que el año promedio de las proyeciones es el 2009, en toda la tabla hay un promedio de 650666 hombres y de un promedio de 843740 mujeres, ademas que el departmenot con menos hombres y mejuers es el amazones y el que tiene mas es el vichada.\n",
    "\n",
    "\n",
    "\n",
    "> En la anterior imagen se puede observar la distrubución de hombres y mujeres en toda la tabla.\n",
    "\n",
    "\n",
    "De la anterior imagen se puede decir que los departmentos que tienen mas registros son los que se ven alli.\n",
    "\n",
    "## 2. **Análisis de los datos:**\n",
    "\n",
    "> ### 2.1 **Completitud de los datos:**\n",
    "\n",
    "> Como se puede identificar en la siguente imagen se didentifica que la tabla es valida y completa dado que no existen columnas que se encuntren vacias o sin infromación\n",
    "\n",
    "\n",
    "\n",
    "> ### 2.2 **Unicidad de lso datos:**\n",
    "\n",
    "\n",
    "\n",
    "como se puede indentificar en la imagen anterior tenemos unicidad por que al comparar las filas sobre los hombres y sobre las mujeres vemos que ambos datoa tieenen la misma cantidad de registros es decir la tabla tiene una alta unicidad sobre estos campos.\n",
    "\n",
    "\n",
    "> ### 2.3 **Consistencia:**\n",
    "\n",
    "\n",
    "\n",
    "> En la imagen anterior se muestra que los datos se encuentran correctamente analizados, dado que no existen mas 32 departmantos y si aunamdo a eso le sumamos el distrito capitial como ente independientese observan los 33 datos alli mostrados.\n",
    "\n",
    "\n",
    "> ### 2.3 **Validez:**\n",
    "\n",
    "> Desde mi punto de vista y al identificar, analizar y ver las columnas con relacion a cada una de las filas esta tabla si es valida, dado que no hay incositncias de informacion, no existen nulos, ni vacios ni mucho menos informacion incomprensible sobre cada uno de los datos de esta.\n",
    "\n",
    "\n",
    "\n",
    "## 3. **Conclusión:**\n",
    "\n",
    "> ### 3.1 **Análisis basado en tableros:**\n",
    "Yo diria que si se puede hacer analisis basado en tableros dado la informacion es veraz, unificada y valida. Sin embargo  hay que identificar el propsito de la tabla según las demas tablas.\n",
    "> \n",
    "\n",
    "> ### 3.2 **Fila Promedio:**\n",
    "Esta fila promedio proporcionaria informacion generalizada de las proyecciones en terminos de género a lo largo de todos los departamentos y años.\n",
    "\n",
    "> ### 3.3. Solución de Preguntas:\n",
    "\n",
    "> ### 3.4. Dudas o Supuestos:\n",
    "\n",
    "Para este apartado no me queda claro está tabla como se relaciona con los vuelos y los viajes, a noser de que sea proyeciones de los posibles clientes que se peudan tner en un año para que viajen en avion.\n"
   ]
  }
 ],
 "metadata": {
  "colab": {
   "collapsed_sections": [
    "qxN27II0Pn3T",
    "GnAScmClPn3W",
    "UuZspay3Pn3Z",
    "ZHLs1H0hPn3b",
    "QgkzeSm4Pn3b",
    "LZyQcqCvPn3c",
    "eDf54JyKPn3d",
    "ltTluhtIPn3e",
    "IPhtXcD1Pn3g",
    "-axExLnhPn3g",
    "YfSMeXZQPn3g"
   ],
   "name": "MISW-ETL-Entendimiento.ipynb",
   "provenance": []
  },
  "kernelspec": {
   "display_name": "Python 3 (ipykernel)",
   "language": "python",
   "name": "python3"
  },
  "language_info": {
   "codemirror_mode": {
    "name": "ipython",
    "version": 3
   },
   "file_extension": ".py",
   "mimetype": "text/x-python",
   "name": "python",
   "nbconvert_exporter": "python",
   "pygments_lexer": "ipython3",
   "version": "3.7.13"
  },
  "toc-autonumbering": true,
  "toc-showcode": true
 },
 "nbformat": 4,
 "nbformat_minor": 4
}
