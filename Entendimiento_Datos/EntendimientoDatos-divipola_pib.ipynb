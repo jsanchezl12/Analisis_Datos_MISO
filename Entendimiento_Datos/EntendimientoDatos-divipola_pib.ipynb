{
 "cells": [
  {
   "cell_type": "markdown",
   "metadata": {
    "id": "cpWpho0CPn3f",
    "tags": []
   },
   "source": [
    "# Entendimiento de los datos con PySpark - PIBcopia, divipolacopia\n",
    "\n",
    "En esta parte se realizaron los pasos correspondientes con el entendimiento de los datos asociados a la primera entrega del proyecto"
   ]
  },
  {
   "cell_type": "markdown",
   "metadata": {
    "id": "IPhtXcD1Pn3g"
   },
   "source": [
    "### Perfilamiento de datos"
   ]
  },
  {
   "cell_type": "markdown",
   "metadata": {},
   "source": [
    "Configuración y Conexión de Datos"
   ]
  },
  {
   "cell_type": "code",
   "execution_count": 2,
   "metadata": {},
   "outputs": [],
   "source": [
    "from pyspark.sql import SparkSession\n",
    "from pyspark.sql import functions\n",
    "from pyspark.sql.types import StructType\n",
    "from pyspark import SparkContext, SparkConf, SQLContext\n",
    "from pyspark.sql.types import FloatType, StringType, IntegerType, DateType\n",
    "from pyspark.sql.functions import udf, col, length, isnan, when, count\n",
    "import pyspark.sql.functions as f\n",
    "import os \n",
    "from datetime import datetime\n",
    "from pyspark.sql import types as t\n",
    "from pandas_profiling import ProfileReport\n",
    "import numpy as np"
   ]
  },
  {
   "cell_type": "code",
   "execution_count": 3,
   "metadata": {},
   "outputs": [],
   "source": [
    "path_jar_driver = 'C:\\Program Files (x86)\\MySQL\\Connector J 8.0\\mysql-connector-java-8.0.28.jar'"
   ]
  },
  {
   "cell_type": "code",
   "execution_count": 5,
   "metadata": {},
   "outputs": [
    {
     "name": "stderr",
     "output_type": "stream",
     "text": [
      "C:\\Users\\estudiante\\anaconda3\\envs\\Tutoriales\\lib\\site-packages\\pyspark\\sql\\context.py:79: FutureWarning: Deprecated in 3.0.0. Use SparkSession.builder.getOrCreate() instead.\n",
      "  FutureWarning\n"
     ]
    }
   ],
   "source": [
    "#Configuración de la sesión\n",
    "#if spark:\n",
    "#    spark.stop()\n",
    "    \n",
    "conf=SparkConf() \\\n",
    "    .set('spark.driver.extraClassPath', path_jar_driver)\n",
    "\n",
    "spark_context = SparkContext(conf=conf)\n",
    "sql_context = SQLContext(spark_context)\n",
    "spark = sql_context.sparkSession"
   ]
  },
  {
   "cell_type": "code",
   "execution_count": 6,
   "metadata": {},
   "outputs": [],
   "source": [
    "# Si quiere practicar la conexion con el servidor de base de datos:\n",
    "db_connection_string = 'jdbc:mysql://157.253.236.116:8080/ProyectoTransaccional'\n",
    "db_user = 'Estudiante_59_202314'\n",
    "db_psswd = 'aabb1122'\n",
    "\n",
    "PATH='./'"
   ]
  },
  {
   "cell_type": "code",
   "execution_count": 7,
   "metadata": {},
   "outputs": [],
   "source": [
    "def obtener_dataframe_de_bd(db_connection_string, sql, db_user, db_psswd):\n",
    "    df_bd = spark.read.format('jdbc')\\\n",
    "        .option('url', db_connection_string) \\\n",
    "        .option('dbtable', sql) \\\n",
    "        .option('user', db_user) \\\n",
    "        .option('password', db_psswd) \\\n",
    "        .option('driver', 'com.mysql.cj.jdbc.Driver') \\\n",
    "        .load()\n",
    "    return df_bd"
   ]
  },
  {
   "cell_type": "code",
   "execution_count": 8,
   "metadata": {},
   "outputs": [],
   "source": [
    "sql_pibcopia = 'ProyectoTransaccional.PIBCopia'\n",
    "sql_divipolacopia = 'ProyectoTransaccional.divipolaCopia'"
   ]
  },
  {
   "cell_type": "code",
   "execution_count": 9,
   "metadata": {},
   "outputs": [],
   "source": [
    "#Se cargan los dataframes desde la base de datos\n",
    "pibcopia = obtener_dataframe_de_bd(db_connection_string, sql_pibcopia, db_user, db_psswd)\n",
    "divipolacopia = obtener_dataframe_de_bd(db_connection_string, sql_divipolacopia, db_user, db_psswd)"
   ]
  },
  {
   "cell_type": "markdown",
   "metadata": {},
   "source": [
    "1.1 Cantidad de registros y cantidad de columnas por tipo de dato"
   ]
  },
  {
   "cell_type": "code",
   "execution_count": 10,
   "metadata": {},
   "outputs": [
    {
     "name": "stdout",
     "output_type": "stream",
     "text": [
      "+-------------------------------+-------------+-------+--------+--------------------+--------------------+--------+--------+--------------------+--------+\n",
      "|CÃ³digo Departamento (DIVIPOLA)|DEPARTAMENTOS|   2006|    2007|                2008|                2010|    2011|    2012|                2013|    2014|\n",
      "+-------------------------------+-------------+-------+--------+--------------------+--------------------+--------+--------+--------------------+--------+\n",
      "|                             41|         uila|6895658| 7441987|   8686536.103258422|    9548624.85406653|11113741|11400169|1.1967750469189592E7|12755711|\n",
      "|                             18|     CaquetÃ¡|3575615| 4060678|   4519574.129383702|   5048396.606737779| 5516404| 6476778|    7161524.44383983| 7990249|\n",
      "|                              8|   AtlÃ¡ntico|7194985| 8299825|   8858405.054387597|   9481200.322350295|10288314|11421539|1.2434114309437651E7|13681473|\n",
      "|                             63|     QuindiÃ³|6350376| 6908084|  7449000.1041983375|   8274578.662692363| 9183441|10067779|1.0457303722966803E7|10917328|\n",
      "|                             76|     el valle|9364012|10568989|1.1278072598064829E7|1.2538425837418156E7|13461456|14347570|1.5262933073640093E7|16490649|\n",
      "+-------------------------------+-------------+-------+--------+--------------------+--------------------+--------+--------+--------------------+--------+\n",
      "only showing top 5 rows\n",
      "\n",
      "+-------------------+----------------+---------------------+-------------------+----------------+---------------------+-------------------+--------------+--------------+---------------+----------------------------------------+-------------------------+\n",
      "|Código Departamento|Código Municipio|Código Centro Poblado|Nombre Departamento|Nombre Municipio|Nombre Centro Poblado|Tipo Centro Poblado|      Longitud|       Latitud|Nombre Distrito|Municipio/Áreas No Municipalizadas (ANM)|Nombre Área Metropolitana|\n",
      "+-------------------+----------------+---------------------+-------------------+----------------+---------------------+-------------------+--------------+--------------+---------------+----------------------------------------+-------------------------+\n",
      "|                 41|           91001|             91001033|           amazonas|           NEIVA| COMUNIDAD INDÍGEN...|     CENTRO POBLADO|-70.0285785394|-4.11198257304|               |                               MUNICIPIO|                         |\n",
      "|                 41|           91001|             91001005|           amazonas|           NEIVA| COMUNIDAD INDÍGEN...|     CENTRO POBLADO|-70.0539208267|-4.05305758964|               |                               MUNICIPIO|                         |\n",
      "|                 41|           91001|             91001026|           amazonas|           NEIVA| COMUNIDAD INDÍGEN...|     CENTRO POBLADO|-70.1657071533|  -3.956020168|               |                               MUNICIPIO|                         |\n",
      "|                 41|           91540|             91540004|           amazonas|           NEIVA|           NARANJALES|     CENTRO POBLADO|-70.5178943433|-3.86731728447|               |                               MUNICIPIO|                         |\n",
      "|                 41|           91001|             91001020|           amazonas|           NEIVA| COMUNIDAD INDÍGEN...|     CENTRO POBLADO|-70.2216413306|-3.84723456612|               |                               MUNICIPIO|                         |\n",
      "+-------------------+----------------+---------------------+-------------------+----------------+---------------------+-------------------+--------------+--------------+---------------+----------------------------------------+-------------------------+\n",
      "only showing top 5 rows\n",
      "\n"
     ]
    }
   ],
   "source": [
    "pibcopia.show(5) \n",
    "divipolacopia.show(5)"
   ]
  },
  {
   "cell_type": "markdown",
   "metadata": {},
   "source": [
    "En el primer dataframe de pibcopia encontramos datos asociados al PIB de cada departamento, esto asociando su codigo, nombre, y el valor en cada año.\n",
    "\n",
    "En el segundo dataframe de divipolacopia encontramos datos asociados a los departamentos, con su codigo de departamento (ANM), codigo de municipio, codigo centro poblado, nombre de departamento, nombre de municipio, nombre de centro poblado, tipo de centro poblado, longitud, latitud, nombre distrito y municipio no municipalizada y nombre de area metropolitana."
   ]
  },
  {
   "cell_type": "code",
   "execution_count": 13,
   "metadata": {},
   "outputs": [
    {
     "name": "stdout",
     "output_type": "stream",
     "text": [
      "pibcopia\n",
      "(27, 10)\n"
     ]
    }
   ],
   "source": [
    "print('pibcopia')\n",
    "print((pibcopia.count(), len(pibcopia.columns)))"
   ]
  },
  {
   "cell_type": "markdown",
   "metadata": {},
   "source": [
    "Para este analisis nos compartieron un total de 27 datos asociados al PIB y tenemos 10 variables a revisar."
   ]
  },
  {
   "cell_type": "code",
   "execution_count": 14,
   "metadata": {},
   "outputs": [
    {
     "name": "stdout",
     "output_type": "stream",
     "text": [
      "divipolacopia\n",
      "(9508, 12)\n"
     ]
    }
   ],
   "source": [
    "print('divipolacopia')\n",
    "print((divipolacopia.count(), len(divipolacopia.columns)))"
   ]
  },
  {
   "cell_type": "markdown",
   "metadata": {},
   "source": [
    "Y por otro lado nos copartieron un total de 9508 datos asociados a divipola y tenemos 12 variables a revisar."
   ]
  },
  {
   "cell_type": "markdown",
   "metadata": {},
   "source": [
    "1.2 Significado de una fila"
   ]
  },
  {
   "cell_type": "code",
   "execution_count": 15,
   "metadata": {},
   "outputs": [
    {
     "data": {
      "text/plain": [
       "StructType(List(StructField(CÃ³digo Departamento (DIVIPOLA),LongType,true),StructField(DEPARTAMENTOS,StringType,true),StructField(2006,LongType,true),StructField(2007,LongType,true),StructField(2008,DoubleType,true),StructField(2010,DoubleType,true),StructField(2011,LongType,true),StructField(2012,LongType,true),StructField(2013,DoubleType,true),StructField(2014,LongType,true)))"
      ]
     },
     "execution_count": 15,
     "metadata": {},
     "output_type": "execute_result"
    }
   ],
   "source": [
    "pibcopia.schema"
   ]
  },
  {
   "cell_type": "markdown",
   "metadata": {},
   "source": [
    "Encontramos en el schema valores de tipo Long, String, Double\n",
    "\n",
    "Con estos analisis podemos concluir que una fila de la tabla de pibbopia representa un dato del PIB asociado a un departamento divido por cada año."
   ]
  },
  {
   "cell_type": "code",
   "execution_count": 16,
   "metadata": {},
   "outputs": [
    {
     "data": {
      "text/plain": [
       "StructType(List(StructField(Código Departamento,IntegerType,true),StructField(Código Municipio,IntegerType,true),StructField(Código Centro Poblado,IntegerType,true),StructField(Nombre Departamento,StringType,true),StructField(Nombre Municipio,StringType,true),StructField(Nombre Centro Poblado,StringType,true),StructField(Tipo Centro Poblado,StringType,true),StructField(Longitud,DoubleType,true),StructField(Latitud,DoubleType,true),StructField(Nombre Distrito,StringType,true),StructField(Municipio/Áreas No Municipalizadas (ANM),StringType,true),StructField(Nombre Área Metropolitana,StringType,true)))"
      ]
     },
     "execution_count": 16,
     "metadata": {},
     "output_type": "execute_result"
    }
   ],
   "source": [
    "divipolacopia.schema"
   ]
  },
  {
   "cell_type": "markdown",
   "metadata": {},
   "source": [
    "Encontramos en el schema valores de tipo Integer, String, Double.\n",
    "\n",
    "Con estos analisis podemos concluir que una fila de la tabla de divipolacopia representa informacion de un municipio, junto con su informacion asociada de departamento al que pertenece, nombre, tipo, longitud y latitud, "
   ]
  },
  {
   "cell_type": "markdown",
   "metadata": {},
   "source": [
    "### Revisión de reglas de negocio"
   ]
  },
  {
   "cell_type": "code",
   "execution_count": 23,
   "metadata": {},
   "outputs": [
    {
     "name": "stdout",
     "output_type": "stream",
     "text": [
      "Cantidad departamentos distintos:17\n"
     ]
    }
   ],
   "source": [
    "cantidad_pibcopia = pibcopia.select('CÃ³digo Departamento (DIVIPOLA)').distinct().count()\n",
    "print(\"Cantidad departamentos distintos:\" + str(cantidad_pibcopia))"
   ]
  },
  {
   "cell_type": "markdown",
   "metadata": {},
   "source": [
    "Para esta primera se pedia revisar si hay informacion del PIB para los 32 departamentos desde 2005 hasta 2018, y para esto solo se debio hacer un filtro por la columna, contando los valores distintos ya que este representa los codigos unicos de cada departamento. Pero primero encontramos que solo hay informacion asociada a 17 departamentos."
   ]
  },
  {
   "cell_type": "code",
   "execution_count": 22,
   "metadata": {},
   "outputs": [
    {
     "name": "stdout",
     "output_type": "stream",
     "text": [
      "['CÃ³digo Departamento (DIVIPOLA)', 'DEPARTAMENTOS', '2006', '2007', '2008', '2010', '2011', '2012', '2013', '2014']\n"
     ]
    }
   ],
   "source": [
    "print(pibcopia.columns)"
   ]
  },
  {
   "cell_type": "markdown",
   "metadata": {},
   "source": [
    "Y como podemos observar no se tienen registros ni del año 2005, ni del 2015 en adelante.\n",
    "\n",
    "NOTA: Para esta parte se deberia pedirle al cliente que se deberian agregar los datos asociados a estos años faltantes, y agregar tambien la informacion de los departamentos faltantes."
   ]
  },
  {
   "cell_type": "code",
   "execution_count": 24,
   "metadata": {},
   "outputs": [
    {
     "name": "stdout",
     "output_type": "stream",
     "text": [
      "Cantidad centros poblados distintos:7879\n"
     ]
    }
   ],
   "source": [
    "cantidad_divipolacopia = divipolacopia.select('Código Centro Poblado').distinct().count()\n",
    "print(\"Cantidad centros poblados distintos:\" + str(cantidad_divipolacopia))"
   ]
  },
  {
   "cell_type": "markdown",
   "metadata": {},
   "source": [
    "Para la segunda se pedia revisar si hay información de 7879 centros poblados. Para esto se debio hacer un filtropor la columna de Código Centro Poblado, contando los valores distintos.\n",
    "\n",
    "Y logramos corroborar la cantidad exacta."
   ]
  },
  {
   "cell_type": "markdown",
   "metadata": {},
   "source": [
    "1.3 Estadísticas descriptivas por columna (numérica, categórica, fechas)"
   ]
  },
  {
   "cell_type": "code",
   "execution_count": 27,
   "metadata": {},
   "outputs": [
    {
     "name": "stdout",
     "output_type": "stream",
     "text": [
      "+-------+-------------------------------+-------------+------------------+-----------------+-------------------+--------------------+-----------------+--------------------+--------------------+--------------------+\n",
      "|summary|CÃ³digo Departamento (DIVIPOLA)|DEPARTAMENTOS|              2006|             2007|               2008|                2010|             2011|                2012|                2013|                2014|\n",
      "+-------+-------------------------------+-------------+------------------+-----------------+-------------------+--------------------+-----------------+--------------------+--------------------+--------------------+\n",
      "|  count|                             27|           27|                27|               27|                 27|                  27|               27|                  27|                  27|                  27|\n",
      "|   mean|               48.7037037037037|         null| 6413240.740740741|7130828.037037037|  7851694.186446355|   8737185.290427044|9728735.962962963|1.0380039925925925E7|1.1111859341725312E7|1.1774719888888888E7|\n",
      "| stddev|             35.843478985095544|         null|2611248.9626708487|2977845.769359228|  3262076.800897536|  3708953.8408978363|4313294.524653619|   4492796.711956715|   4785220.102769231|   5118298.026004297|\n",
      "|    min|                              0|    ANTIOQUIA|           3575615|          4060678|   4337203.79854487|   4285403.948100506|          4377994|             4639459|   4856888.325019439|             4733848|\n",
      "|    25%|                             15|         null|           4362011|          4553399|  4854812.196886142|     5337184.1303263|          5516404|             6439647|   6914460.222596752|             7555705|\n",
      "|    50%|                             41|         null|           5133194|          5776380|  7107721.504297101|   9481200.322350295|         10288314|            11400169|1.1967750469189592E7|            12460838|\n",
      "|    75%|                             86|         null|           8046451|          9523137|        1.1048217E7|         1.2340797E7|         13461456|            14347570|1.5262933073640093E7|            16490649|\n",
      "|    max|                             99|         uila|          14770879|         16332253|1.754190668595805E7|1.9690380697771702E7|         21347503|            22865844| 2.453659082487613E7|            26337646|\n",
      "+-------+-------------------------------+-------------+------------------+-----------------+-------------------+--------------------+-----------------+--------------------+--------------------+--------------------+\n",
      "\n"
     ]
    }
   ],
   "source": [
    "pibcopia.summary().show()"
   ]
  },
  {
   "cell_type": "markdown",
   "metadata": {},
   "source": [
    "A partir de la tabla pibcopia, podemos obtener lo siguiente:\n",
    "\n",
    "Datos Generales:\n",
    "- La tabla ofrece información sobre el Producto Interno Bruto (PIB) de diferentes departamentos en Colombia a lo largo de varios años (2006, 2007, 2008, 2010, 2011, 2012, 2013 y 2014).\n",
    "\n",
    "Dimensiones del Dataset: \n",
    "- El dataset contiene 27 registros, que se corresponden con 27 departamentos de Colombia.\n",
    "\n",
    "Tendencias Temporales en el PIB:\n",
    "- A lo largo de los años, hay un aumento general en el PIB. Al comparar el valor medio del PIB en 2006 (6,413,240) con el de 2014 (11,774,719,888), se evidencia un crecimiento sustancial.\n",
    "- La desviación estándar también aumenta con el tiempo, lo que sugiere una creciente variabilidad en el PIB entre los departamentos.\n",
    "\n",
    "Departamentos:\n",
    "- Los códigos de los departamentos varían entre 0 y 99, pero es curioso que el promedio sea aproximadamente 48.7.\n",
    "- Los nombres de los departamentos, en base a los valores mínimos y máximos, varían desde \"ANTIOQUIA\" hasta \"uila\". Es necesario mencionar que \"uila\" parece ser una escritura incorrecta o inconsistente de \"Huila\", lo que indica un posible error en los datos.\n",
    "\n",
    "Variabilidad entre Departamentos:\n",
    "- Hay una variabilidad considerable en el PIB entre los departamentos, con algunos teniendo PIBs tan bajos como 3,575,615 en 2006 y otros tan altos como 14,770,879 en el mismo año. Esto puede reflejar diferencias en el desarrollo económico y las industrias predominantes entre los departamentos."
   ]
  },
  {
   "cell_type": "code",
   "execution_count": 25,
   "metadata": {
    "id": "0JCXGvj0Pn3g",
    "tags": []
   },
   "outputs": [
    {
     "name": "stdout",
     "output_type": "stream",
     "text": [
      "+-------+-------------------+------------------+---------------------+-------------------+----------------+---------------------+-------------------+------------------+------------------+--------------------+----------------------------------------+-------------------------+\n",
      "|summary|Código Departamento|  Código Municipio|Código Centro Poblado|Nombre Departamento|Nombre Municipio|Nombre Centro Poblado|Tipo Centro Poblado|          Longitud|           Latitud|     Nombre Distrito|Municipio/Áreas No Municipalizadas (ANM)|Nombre Área Metropolitana|\n",
      "+-------+-------------------+------------------+---------------------+-------------------+----------------+---------------------+-------------------+------------------+------------------+--------------------+----------------------------------------+-------------------------+\n",
      "|  count|               9508|              9508|                 9508|               9508|            9508|                 9508|               9508|              9508|              9508|                9508|                                    9508|                     9508|\n",
      "|   mean|               41.0| 40581.06994110223| 4.0581083873159446E7|               null|            null|                 null|               null|-74.58826264179658| 5.503320507854293|                null|                                    null|                     null|\n",
      "| stddev|                0.0|26073.879984952444|  2.607388262641055E7|               null|            null|                 null|               null| 4.214896199193669|3.6691444969329488|                null|                                    null|                     null|\n",
      "|    min|                 41|              5001|              5001000|          ANTIOQUIA|           NEIVA|           13 DE MAYO| CABECERA MUNICIPAL|    -81.7300009044|    -4.19469878932|                    |                    AREA NO MUNICIPAL...|                         |\n",
      "|    25%|                 41|             19100|             19100020|               null|            null|                 null|               null|    -76.3551928772|     3.01605390077|                null|                                    null|                     null|\n",
      "|    50%|                 41|             27615|             27615023|               null|            null|                 null|               null|    -75.1846870877|     5.44661322782|                null|                                    null|                     null|\n",
      "|    75%|                 41|             68092|             68092000|               null|            null|                 null|               null|    -73.5653004569|     8.55580584876|                null|                                    null|                     null|\n",
      "|    max|                 41|             99773|             99773027|            vichada|           NEIVA|                ÚTICA|     CENTRO POBLADO|               0.0|     13.3839692233|TURBO, DISTRITO E...|                               MUNICIPIO|     AREA METROPOLITAN...|\n",
      "+-------+-------------------+------------------+---------------------+-------------------+----------------+---------------------+-------------------+------------------+------------------+--------------------+----------------------------------------+-------------------------+\n",
      "\n"
     ]
    }
   ],
   "source": [
    "divipolacopia.summary().show()"
   ]
  },
  {
   "cell_type": "markdown",
   "metadata": {},
   "source": [
    "A partir de la tabla de divipolacopia, podemos obtener lo siguiente:\n",
    "\n",
    "Datos Generales: La tabla proporciona información sobre centros poblados, indicando códigos de departamentos, municipios, nombres de estos, coordenadas geográficas, entre otros.\n",
    "\n",
    "Dimensiones del Dataset: Se registraron datos de 9,508 centros poblados, ya que todos los campos count indican este número.\n",
    "\n",
    "Ubicación Geográfica:\n",
    "- Todos los registros pertenecen al departamento con código \"41\", que es \"ANTIOQUIA\".\n",
    "- Las coordenadas geográficas (longitud y latitud) de estos centros poblados varían desde un mínimo de -81.73 (longitud) y -4.19 (latitud) hasta un valor máximo de 0.0 (longitud) y 13.38 (latitud).\n",
    "- En general, podemos decir que la mayoría de los centros poblados están agrupados en una longitud media de -74.58 y una latitud media de 5.50.\n",
    "\n",
    "Municipios y Centros Poblados:\n",
    "- El rango de códigos de municipio va desde 5001 hasta 99773, con una media aproximada de 40581.\n",
    "- Los nombres de los municipios y centros poblados varían, con \"NEIVA\" y \"13 DE MAYO\" siendo los valores mínimos respectivos y \"vichada\" y \"ÚTICA\" como los valores máximos respectivos.\n",
    "NOTA: Es importante verificar si estos nombres mínimos y máximos tienen sentido en el contexto de los datos, ya que podría haber errores o entradas incorrectas.\n",
    "\n",
    "Inconsistencias Potenciales:\n",
    "- Hay columnas, como Nombre Área Metropolitana y Nombre Distrito, que muestran datos nulos en sus estadísticas descriptivas. De pronto se deberia revisar más a fondo si deberían tener datos o si es esperado que estén mayormente vacías.\n",
    "- Es curioso que el nombre mínimo de Nombre Departamento sea \"ANTIOQUIA\" y el máximo sea \"vichada\" (en minúsculas). Este último podría ser un error o inconsistencia que requiere corrección o revisión."
   ]
  },
  {
   "cell_type": "code",
   "execution_count": null,
   "metadata": {},
   "outputs": [
    {
     "data": {
      "image/png": "[encoded data removed]",
      "text/plain": [
       "<Figure size 1080x576 with 1 Axes>"
      ]
     },
     "metadata": {
      "needs_background": "light"
     },
     "output_type": "display_data"
    }
   ],
   "source": [
    "%matplotlib inline\n",
    "import matplotlib.pyplot as plt\n",
    "import pandas as pd\n",
    "import seaborn as sns\n",
    "\n",
    "pdf_pibcopia = pibcopia.toPandas()\n",
    "pdf_pibcopia = pdf_pibcopia.drop(columns=[\"CÃ³digo Departamento (DIVIPOLA)\"])\n",
    "\n",
    "# Transformar el DataFrame para que sea \"largo\"\n",
    "df_melted = pdf_pibcopia.melt(id_vars=[\"DEPARTAMENTOS\"], \n",
    "                    var_name=\"Año\", \n",
    "                    value_name=\"PIB\")\n",
    "\n",
    "# Crear el boxplot usando seaborn\n",
    "plt.figure(figsize=(15,8))\n",
    "sns.boxplot(x=\"DEPARTAMENTOS\", y=\"PIB\", hue=\"Año\", data=df_melted, palette=\"Set3\")\n",
    "plt.title('Distribución del PIB por Departamento y Año')\n",
    "plt.xticks(rotation=45)\n",
    "plt.tight_layout()\n",
    "plt.show()"
   ]
  },
  {
   "cell_type": "markdown",
   "metadata": {},
   "source": [
    "Dada la siguiente informacion se lobra observar que hay un crecimiento del PIB a lo largo de los años. Bogota es uno de los municipios que mas a aumentado este valor."
   ]
  },
  {
   "cell_type": "code",
   "execution_count": 44,
   "metadata": {},
   "outputs": [
    {
     "data": {
      "image/png": "[encoded data removed]",
      "text/plain": [
       "<Figure size 1584x432 with 1 Axes>"
      ]
     },
     "metadata": {
      "needs_background": "light"
     },
     "output_type": "display_data"
    }
   ],
   "source": [
    "%matplotlib inline\n",
    "import matplotlib.pyplot as plt\n",
    "import pandas as pd\n",
    "\n",
    "aggregated = (divipolacopia.groupBy(\"Nombre Departamento\")\n",
    "              .agg(f.countDistinct(\"Código Municipio\").alias(\"Num_Municipios\"))\n",
    "              .orderBy(f.desc(\"Num_Municipios\")))\n",
    "pdf = aggregated.toPandas()\n",
    "# Graficar\n",
    "pdf.plot(kind='bar', x='Nombre Departamento', y='Num_Municipios', figsize=(22, 6), legend=False)\n",
    "plt.title('Número de Municipios por Departamento')\n",
    "plt.ylabel('Número de Municipios')\n",
    "plt.xlabel('Departamento')\n",
    "plt.xticks(rotation=45)\n",
    "plt.tight_layout()\n",
    "plt.show()"
   ]
  },
  {
   "cell_type": "markdown",
   "metadata": {},
   "source": [
    "Dada la siguiente grafica podemos observar la cantidad de municipios asociados a un departamento. Como podemos observar esta informacion es muy variable debido a que los nombres de los departamentos no estan unificados y establecidos, lo cual debe ser un problema para preguntarle al cliente."
   ]
  },
  {
   "cell_type": "code",
   "execution_count": 46,
   "metadata": {},
   "outputs": [
    {
     "name": "stdout",
     "output_type": "stream",
     "text": [
      "Moda para la columna CÃ³digo Departamento (DIVIPOLA):\n",
      "+-------------------------------+-----+\n",
      "|CÃ³digo Departamento (DIVIPOLA)|count|\n",
      "+-------------------------------+-----+\n",
      "|                             41|    2|\n",
      "|                             23|    2|\n",
      "|                              8|    2|\n",
      "|                             76|    2|\n",
      "|                             18|    2|\n",
      "+-------------------------------+-----+\n",
      "only showing top 5 rows\n",
      "\n",
      "Moda para la columna DEPARTAMENTOS:\n",
      "+-------------+-----+\n",
      "|DEPARTAMENTOS|count|\n",
      "+-------------+-----+\n",
      "|     CaquetÃ¡|    2|\n",
      "|   AtlÃ¡ntico|    2|\n",
      "|      VICHADA|    2|\n",
      "|     guaviare|    2|\n",
      "|      cordoba|    2|\n",
      "+-------------+-----+\n",
      "only showing top 5 rows\n",
      "\n",
      "Moda para la columna 2006:\n",
      "+-------+-----+\n",
      "|   2006|count|\n",
      "+-------+-----+\n",
      "|4362011|    2|\n",
      "|4883522|    2|\n",
      "|8046451|    2|\n",
      "|4655932|    2|\n",
      "|4114080|    2|\n",
      "+-------+-----+\n",
      "only showing top 5 rows\n",
      "\n",
      "Moda para la columna 2007:\n",
      "+--------+-----+\n",
      "|    2007|count|\n",
      "+--------+-----+\n",
      "| 8299825|    2|\n",
      "| 5617663|    2|\n",
      "| 5186748|    2|\n",
      "| 9523137|    2|\n",
      "|10568989|    2|\n",
      "+--------+-----+\n",
      "only showing top 5 rows\n",
      "\n",
      "Moda para la columna 2008:\n",
      "+--------------------+-----+\n",
      "|                2008|count|\n",
      "+--------------------+-----+\n",
      "|   8686536.103258422|    2|\n",
      "|1.1059677686639624E7|    2|\n",
      "|  6071819.4082645755|    2|\n",
      "|    4337203.79854487|    2|\n",
      "|   7107721.504297101|    2|\n",
      "+--------------------+-----+\n",
      "only showing top 5 rows\n",
      "\n",
      "Moda para la columna 2010:\n",
      "+--------------------+-----+\n",
      "|                2010|count|\n",
      "+--------------------+-----+\n",
      "|     5337184.1303263|    2|\n",
      "|   4285403.948100506|    2|\n",
      "|   5048396.606737779|    2|\n",
      "|1.2538425837418156E7|    2|\n",
      "|   9481200.322350295|    2|\n",
      "+--------------------+-----+\n",
      "only showing top 5 rows\n",
      "\n",
      "Moda para la columna 2011:\n",
      "+--------+-----+\n",
      "|    2011|count|\n",
      "+--------+-----+\n",
      "|13461456|    2|\n",
      "|14744101|    2|\n",
      "| 5516404|    2|\n",
      "| 5893042|    2|\n",
      "|11967934|    2|\n",
      "+--------+-----+\n",
      "only showing top 5 rows\n",
      "\n",
      "Moda para la columna 2012:\n",
      "+--------+-----+\n",
      "|    2012|count|\n",
      "+--------+-----+\n",
      "| 7137782|    2|\n",
      "| 4639459|    2|\n",
      "|15572164|    2|\n",
      "| 6439647|    2|\n",
      "| 6476778|    2|\n",
      "+--------+-----+\n",
      "only showing top 5 rows\n",
      "\n",
      "Moda para la columna 2013:\n",
      "+--------------------+-----+\n",
      "|                2013|count|\n",
      "+--------------------+-----+\n",
      "|1.1967750469189592E7|    2|\n",
      "|    7617278.55224508|    2|\n",
      "|1.4234561981335444E7|    2|\n",
      "|   6342338.479623697|    2|\n",
      "|   4856888.325019439|    2|\n",
      "+--------------------+-----+\n",
      "only showing top 5 rows\n",
      "\n",
      "Moda para la columna 2014:\n",
      "+--------+-----+\n",
      "|    2014|count|\n",
      "+--------+-----+\n",
      "| 7555705|    2|\n",
      "|13936142|    2|\n",
      "| 4733848|    2|\n",
      "| 8146529|    2|\n",
      "| 6550834|    2|\n",
      "+--------+-----+\n",
      "only showing top 5 rows\n",
      "\n"
     ]
    }
   ],
   "source": [
    "for column in pibcopia.columns:\n",
    "    print(f\"Moda para la columna {column}:\")\n",
    "    pibcopia.groupby(column).count().orderBy(\"count\", ascending=False).show(5) "
   ]
  },
  {
   "cell_type": "code",
   "execution_count": 47,
   "metadata": {},
   "outputs": [
    {
     "name": "stdout",
     "output_type": "stream",
     "text": [
      "Moda para la columna Código Departamento:\n",
      "+-------------------+-----+\n",
      "|Código Departamento|count|\n",
      "+-------------------+-----+\n",
      "|                 41| 9508|\n",
      "+-------------------+-----+\n",
      "\n",
      "Moda para la columna Código Municipio:\n",
      "+----------------+-----+\n",
      "|Código Municipio|count|\n",
      "+----------------+-----+\n",
      "|           52835|  169|\n",
      "|           76109|  112|\n",
      "|           66001|   93|\n",
      "|           23001|   75|\n",
      "|           76001|   61|\n",
      "+----------------+-----+\n",
      "only showing top 5 rows\n",
      "\n",
      "Moda para la columna Código Centro Poblado:\n",
      "+---------------------+-----+\n",
      "|Código Centro Poblado|count|\n",
      "+---------------------+-----+\n",
      "|             54720005|    2|\n",
      "|             19807007|    2|\n",
      "|             44098001|    2|\n",
      "|             76275019|    2|\n",
      "|             44001005|    2|\n",
      "+---------------------+-----+\n",
      "only showing top 5 rows\n",
      "\n",
      "Moda para la columna Nombre Departamento:\n",
      "+-------------------+-----+\n",
      "|Nombre Departamento|count|\n",
      "+-------------------+-----+\n",
      "|          ANTIOQUIA|  734|\n",
      "|           el valle|  531|\n",
      "|             NARIÑO|  513|\n",
      "|            CORDOBA|  506|\n",
      "|       CUNDINAMARCA|  454|\n",
      "+-------------------+-----+\n",
      "only showing top 5 rows\n",
      "\n",
      "Moda para la columna Nombre Municipio:\n",
      "+----------------+-----+\n",
      "|Nombre Municipio|count|\n",
      "+----------------+-----+\n",
      "|           NEIVA| 9508|\n",
      "+----------------+-----+\n",
      "\n",
      "Moda para la columna Nombre Centro Poblado:\n",
      "+---------------------+-----+\n",
      "|Nombre Centro Poblado|count|\n",
      "+---------------------+-----+\n",
      "|         PUEBLO NUEVO|   51|\n",
      "|          SAN ANTONIO|   37|\n",
      "|           SANTA ROSA|   35|\n",
      "|             SAN JOSÉ|   34|\n",
      "|           SAN ISIDRO|   34|\n",
      "+---------------------+-----+\n",
      "only showing top 5 rows\n",
      "\n",
      "Moda para la columna Tipo Centro Poblado:\n",
      "+-------------------+-----+\n",
      "|Tipo Centro Poblado|count|\n",
      "+-------------------+-----+\n",
      "|     CENTRO POBLADO| 8169|\n",
      "| CABECERA MUNICIPAL| 1339|\n",
      "+-------------------+-----+\n",
      "\n",
      "Moda para la columna Longitud:\n",
      "+--------+-----+\n",
      "|Longitud|count|\n",
      "+--------+-----+\n",
      "|   -71.0|  165|\n",
      "|   -74.0|  155|\n",
      "|   -70.0|  154|\n",
      "|   -80.0|  153|\n",
      "|   -76.0|  151|\n",
      "+--------+-----+\n",
      "only showing top 5 rows\n",
      "\n",
      "Moda para la columna Latitud:\n",
      "+-------+-----+\n",
      "|Latitud|count|\n",
      "+-------+-----+\n",
      "|   10.0|  150|\n",
      "|    3.0|  146|\n",
      "|    4.0|  146|\n",
      "|   12.0|  140|\n",
      "|    2.0|  140|\n",
      "+-------+-----+\n",
      "only showing top 5 rows\n",
      "\n",
      "Moda para la columna Nombre Distrito:\n",
      "+--------------------+-----+\n",
      "|     Nombre Distrito|count|\n",
      "+--------------------+-----+\n",
      "|                    | 9134|\n",
      "|BUENAVENTURA, DIS...|  112|\n",
      "|SANTIAGO DE CALI,...|   61|\n",
      "|TURBO, DISTRITO E...|   43|\n",
      "|CARTAGENA DE INDI...|   40|\n",
      "+--------------------+-----+\n",
      "only showing top 5 rows\n",
      "\n",
      "Moda para la columna Municipio/Áreas No Municipalizadas (ANM):\n",
      "+----------------------------------------+-----+\n",
      "|Municipio/Áreas No Municipalizadas (ANM)|count|\n",
      "+----------------------------------------+-----+\n",
      "|                               MUNICIPIO| 9476|\n",
      "|                    AREA NO MUNICIPAL...|   26|\n",
      "|                                    ISLA|    6|\n",
      "+----------------------------------------+-----+\n",
      "\n",
      "Moda para la columna Nombre Área Metropolitana:\n",
      "+-------------------------+-----+\n",
      "|Nombre Área Metropolitana|count|\n",
      "+-------------------------+-----+\n",
      "|                         | 9028|\n",
      "|     AREA METROPOLITAN...|  158|\n",
      "|     AREA METROPOLITAN...|  113|\n",
      "|     AREA METROPOLITAN...|   74|\n",
      "|     AREA METROPOLITAN...|   71|\n",
      "+-------------------------+-----+\n",
      "only showing top 5 rows\n",
      "\n"
     ]
    }
   ],
   "source": [
    "for column in divipolacopia.columns:\n",
    "    print(f\"Moda para la columna {column}:\")\n",
    "    divipolacopia.groupby(column).count().orderBy(\"count\", ascending=False).show(5) "
   ]
  },
  {
   "cell_type": "markdown",
   "metadata": {},
   "source": [
    "En la siguiente sentencia se logra obtener la moda de cada columna de la tabla de movimientos junto con el top 5 de los valores mas frecuentes. Esto para ambas tablas (divipolacopia, y pibcopia) En donde podemos observar que la mayoria de municipios estan asociados a un departamento (antioquia)."
   ]
  },
  {
   "cell_type": "markdown",
   "metadata": {
    "id": "-axExLnhPn3g"
   },
   "source": [
    "### Análisis de calidad de datos"
   ]
  },
  {
   "cell_type": "markdown",
   "metadata": {},
   "source": [
    "2.1 Completitud: Datos que no existen o no se conocen"
   ]
  },
  {
   "cell_type": "code",
   "execution_count": 48,
   "metadata": {},
   "outputs": [],
   "source": [
    "def contar_vacios(df):\n",
    "    resultados = []\n",
    "    for c in df.columns:\n",
    "        df_temp = df.withColumn(c, df[c].cast(\"string\"))        \n",
    "        vacios = df_temp.filter((df_temp[c].isNull()) | (df_temp[c] == \"\")).count()\n",
    "        if vacios != 0:\n",
    "            print('Número de vacíos para columna ' + c + ': ' + str(vacios))\n",
    "            resultados.append(vacios)\n",
    "    return resultados\n",
    "\n",
    "def cardinalidad(df):\n",
    "    resultado = {}\n",
    "    for c in df.columns:\n",
    "        cardinalidad = df.select(col(c)).distinct().count()\n",
    "        if cardinalidad>=df.count()*0.5:\n",
    "            resultado[c] = cardinalidad\n",
    "    return resultado"
   ]
  },
  {
   "cell_type": "code",
   "execution_count": 50,
   "metadata": {
    "tags": []
   },
   "outputs": [
    {
     "name": "stdout",
     "output_type": "stream",
     "text": [
      "pibcopia: \n",
      "[]\n"
     ]
    }
   ],
   "source": [
    "print('pibcopia: ')\n",
    "columnas_vacias_pibcopia = contar_vacios(pibcopia)\n",
    "print(str(columnas_vacias_pibcopia))"
   ]
  },
  {
   "cell_type": "markdown",
   "metadata": {},
   "source": [
    "Como podemos observar para el dataframe de pibcopia no cuenta con datos vacios"
   ]
  },
  {
   "cell_type": "code",
   "execution_count": 51,
   "metadata": {},
   "outputs": [
    {
     "name": "stdout",
     "output_type": "stream",
     "text": [
      "divipolacopia: \n",
      "Número de vacíos para columna Nombre Distrito: 9134\n",
      "Número de vacíos para columna Nombre Área Metropolitana: 9028\n",
      "[9134, 9028]\n"
     ]
    }
   ],
   "source": [
    "print('divipolacopia: ')\n",
    "columnas_vacias_divipolacopia = contar_vacios(divipolacopia)\n",
    "print(str(columnas_vacias_divipolacopia))"
   ]
  },
  {
   "cell_type": "markdown",
   "metadata": {},
   "source": [
    "Como podemos observar para el dataframe de divipolacopia cuenta con valores vacios en las columnas de Nombre Distrito (9134) y Nombre Área Metropolitana (9028)"
   ]
  },
  {
   "cell_type": "code",
   "execution_count": 52,
   "metadata": {},
   "outputs": [
    {
     "name": "stdout",
     "output_type": "stream",
     "text": [
      "{'CÃ³digo Departamento (DIVIPOLA)': 17, 'DEPARTAMENTOS': 17, '2006': 17, '2007': 17, '2008': 17, '2010': 17, '2011': 17, '2012': 17, '2013': 17, '2014': 17}\n"
     ]
    }
   ],
   "source": [
    "columnas_alta_cardinalidad_pibcopia = cardinalidad(pibcopia)\n",
    "print(columnas_alta_cardinalidad_pibcopia)"
   ]
  },
  {
   "cell_type": "code",
   "execution_count": 53,
   "metadata": {},
   "outputs": [
    {
     "name": "stdout",
     "output_type": "stream",
     "text": [
      "{'Código Centro Poblado': 7879, 'Nombre Centro Poblado': 5512, 'Longitud': 7078, 'Latitud': 7079}\n"
     ]
    }
   ],
   "source": [
    "columnas_alta_cardinalidad_divipolacopia = cardinalidad(divipolacopia)\n",
    "print(columnas_alta_cardinalidad_divipolacopia)"
   ]
  },
  {
   "cell_type": "markdown",
   "metadata": {},
   "source": [
    "Como podemos observar para las ordenes las columnas ProveedorID tiene 197182 vacios, OrdenDeCompraID: 197182.\n",
    "\n",
    "Respecto a cardinalidad, varias columnas tienen una cardinalidad superior al 50%."
   ]
  },
  {
   "cell_type": "markdown",
   "metadata": {},
   "source": [
    "2.2 Unicidad: Datos que son idénticos en diferentes registros o registros con valores idénticos en atributos en los que no debería ocurrir"
   ]
  },
  {
   "cell_type": "code",
   "execution_count": 54,
   "metadata": {},
   "outputs": [],
   "source": [
    "def revisar_unicidad(df, columnas_unicas=[]):\n",
    "    resultado = {}\n",
    "    for columna in columnas_unicas:\n",
    "        duplicados = df.groupBy(columna).count().filter(functions.col('count') > 1).count()\n",
    "        if duplicados > 0:\n",
    "            resultado[columna] = duplicados\n",
    "    print('columnas especificas')\n",
    "    print(str(resultado))\n",
    "\n",
    "    for columna in df.columns:\n",
    "        if columna not in columnas_unicas:\n",
    "            duplicados = df.groupBy(columna).count().filter(functions.col('count') > 1).count()\n",
    "            if duplicados > 0:\n",
    "                resultado[columna] = duplicados\n",
    "    print('todas las columnas')\n",
    "    print(str(resultado))\n",
    "    return resultado"
   ]
  },
  {
   "cell_type": "code",
   "execution_count": 56,
   "metadata": {},
   "outputs": [
    {
     "name": "stdout",
     "output_type": "stream",
     "text": [
      "columnas especificas\n",
      "{'CÃ³digo Departamento (DIVIPOLA)': 10, 'DEPARTAMENTOS': 10}\n",
      "todas las columnas\n",
      "{'CÃ³digo Departamento (DIVIPOLA)': 10, 'DEPARTAMENTOS': 10, '2006': 10, '2007': 10, '2008': 10, '2010': 10, '2011': 10, '2012': 10, '2013': 10, '2014': 10}\n"
     ]
    }
   ],
   "source": [
    "columnas_sin_duplicados_pibcopia = [\"CÃ³digo Departamento (DIVIPOLA)\", \"DEPARTAMENTOS\"] \n",
    "resultado = revisar_unicidad(pibcopia, columnas_sin_duplicados_pibcopia)"
   ]
  },
  {
   "cell_type": "markdown",
   "metadata": {},
   "source": [
    "Ya que se necesitaba revisar la unicidad, a traves de la ejecución de la siguiente funcion, podemos obtener las columnas que tienen duplicados junto con su cantidad (tanto especificas como todas de el dataframe)\n",
    "Y para este caso encontramos que para dos de las columnas especificas tienen los siguientes valores duplicados:\n",
    "- 'CÃ³digo Departamento (DIVIPOLA)': 10\n",
    "- 'DEPARTAMENTOS': 10"
   ]
  },
  {
   "cell_type": "code",
   "execution_count": 57,
   "metadata": {},
   "outputs": [
    {
     "name": "stdout",
     "output_type": "stream",
     "text": [
      "columnas especificas\n",
      "{'Código Centro Poblado': 1629, 'Nombre Centro Poblado': 1860}\n",
      "todas las columnas\n",
      "{'Código Centro Poblado': 1629, 'Nombre Centro Poblado': 1860, 'Código Departamento': 1, 'Código Municipio': 969, 'Nombre Departamento': 64, 'Nombre Municipio': 1, 'Tipo Centro Poblado': 2, 'Longitud': 49, 'Latitud': 50, 'Nombre Distrito': 9, 'Municipio/Áreas No Municipalizadas (ANM)': 3, 'Nombre Área Metropolitana': 7}\n"
     ]
    }
   ],
   "source": [
    "columnas_sin_duplicados_divipolacopia = [\"Código Centro Poblado\", \"Nombre Centro Poblado\"] \n",
    "resultado = revisar_unicidad(divipolacopia, columnas_sin_duplicados_divipolacopia)"
   ]
  },
  {
   "cell_type": "markdown",
   "metadata": {},
   "source": [
    "Ya que se necesitaba revisar la unicidad, a traves de la ejecución de la siguiente funcion, podemos obtener las columnas que tienen duplicados junto con su cantidad (tanto especificas como todas de el dataframe)\n",
    "Y para este caso encontramos que para dos de las columnas especificas tienen los siguientes valores duplicados:\n",
    "- 'Código Centro Poblado': 1629\n",
    "- 'Nombre Centro Poblado': 1860"
   ]
  },
  {
   "cell_type": "markdown",
   "metadata": {},
   "source": [
    "2.3 Consistencia: Esta medida se define por la validez o integridad del dato, en la definición de su estructura, al interior de una fila o entre diferentes filas de la misma fuente o de diferentes fuentes. El manejo de unidades en los datos y el significado del dato son generadores de inconsistencias."
   ]
  },
  {
   "cell_type": "code",
   "execution_count": 60,
   "metadata": {},
   "outputs": [
    {
     "name": "stdout",
     "output_type": "stream",
     "text": [
      "Número de filas con caracteres no válidos en la columna 'DEPARTAMENTOS': 6\n",
      "Número de filas con repetición excesiva de caracteres en 'DEPARTAMENTOS': 2\n"
     ]
    }
   ],
   "source": [
    "#Caracteres no validos\n",
    "invalid_chars_df = pibcopia.filter(~col(\"DEPARTAMENTOS\").rlike(\"^[\\\\p{ASCII}]*$\"))\n",
    "count_invalid = invalid_chars_df.count()\n",
    "print(f\"Número de filas con caracteres no válidos en la columna 'DEPARTAMENTOS': {count_invalid}\")\n",
    "\n",
    "# Repeticion Excesiva\n",
    "pattern = r\"(.)\\1{3,}\"\n",
    "repeated_chars_df = pibcopia.filter(col(\"DEPARTAMENTOS\").rlike(pattern))\n",
    "count_repeated = repeated_chars_df.count()\n",
    "print(f\"Número de filas con repetición excesiva de caracteres en 'DEPARTAMENTOS': {count_repeated}\")"
   ]
  },
  {
   "cell_type": "markdown",
   "metadata": {},
   "source": [
    "Para poder medir la consistencia de los datos podemos evaluar los siguientes puntos:\n",
    "- Caracteres no validos\n",
    "- Repeticion de letras excesiva\n",
    "\n",
    "Despues de evaluar se encontro que:\n",
    "- Hay 6 departamentos con caracteres no validos.\n",
    "- Hay 2 departamentos con repetición excesiva de caracteres."
   ]
  },
  {
   "cell_type": "markdown",
   "metadata": {
    "id": "-sUZP8wjPn3g"
   },
   "source": [
    "2.4 Validez: Datos correctos en el contexto completitud del analisis de la calidad de datos"
   ]
  },
  {
   "cell_type": "code",
   "execution_count": 67,
   "metadata": {},
   "outputs": [
    {
     "name": "stdout",
     "output_type": "stream",
     "text": [
      "Número de valores nulos en DEPARTAMENTOS: 0\n",
      "Número de valores fuera de rango para Latitud: 0\n",
      "Número de valores fuera de rango para Longitud: 0\n",
      "Códigos de departamento en PIBCopia que no están en divipolacopia: 25\n"
     ]
    }
   ],
   "source": [
    "from pyspark.sql.functions import col, count, when, isnan\n",
    "\n",
    "#Valores nulos\n",
    "null_count = pibcopia.filter(col(\"DEPARTAMENTOS\").isNull()).count()\n",
    "print(f\"Número de valores nulos en DEPARTAMENTOS: {null_count}\")\n",
    "\n",
    "# Valores fuera de rango para la latitud y longitud\n",
    "out_of_range_lat = divipolacopia.filter((col(\"Latitud\") < -90) | (col(\"Latitud\") > 90)).count()\n",
    "out_of_range_long = divipolacopia.filter((col(\"Longitud\") < -180) | (col(\"Longitud\") > 180)).count()\n",
    "\n",
    "print(f\"Número de valores fuera de rango para Latitud: {out_of_range_lat}\")\n",
    "print(f\"Número de valores fuera de rango para Longitud: {out_of_range_long}\")\n",
    "\n",
    "# Asegurarse de consistencia de relacion de datos\n",
    "missing_departments = pibcopia.join(divipolacopia, pibcopia[\"CÃ³digo Departamento (DIVIPOLA)\"] == divipolacopia[\"Código Departamento\"], how=\"left_anti\")\n",
    "print(f\"Códigos de departamento en PIBCopia que no están en divipolacopia: {missing_departments.count()}\")"
   ]
  },
  {
   "cell_type": "code",
   "execution_count": 45,
   "metadata": {},
   "outputs": [
    {
     "name": "stdout",
     "output_type": "stream",
     "text": [
      "Hay 197158 cantidades inválidas!\n"
     ]
    }
   ],
   "source": [
    "from pyspark.sql.functions import col, count\n",
    "\n",
    "ids_producto_invalidos = movimientos.filter((col('ProductoID') < 1)).count()\n",
    "if ids_producto_invalidos > 0:\n",
    "    print(f\"Hay {ids_producto_invalidos} IDs de producto fuera de rango!\")\n",
    "\n",
    "cantidades_invalidas = movimientos.filter((col('Cantidad') < 0)).count() \n",
    "if cantidades_invalidas > 0:\n",
    "    print(f\"Hay {cantidades_invalidas} cantidades inválidas!\")"
   ]
  },
  {
   "cell_type": "markdown",
   "metadata": {},
   "source": [
    "Para esta parte se logro realizar la validez de los datos revisando:\n",
    "- Valores nulos\n",
    "- Valores fuera de rango para la latitud y longitud\n",
    "- Asegurarse de consistencia de relacion de datos\n",
    "\n",
    "Y a partir de los resultados se encontro:\n",
    "- Hay 25 codigos de departamento de PIBCopia que no esta en divipolacopia lo cual nos indica que hacen falta datos."
   ]
  },
  {
   "cell_type": "markdown",
   "metadata": {
    "id": "YfSMeXZQPn3g"
   },
   "source": [
    "### Conclusiones"
   ]
  },
  {
   "cell_type": "markdown",
   "metadata": {},
   "source": [
    "#### Conclusiones generales\n",
    "\n",
    "- pibcopia: El conjunto de datos proporciona una visión del crecimiento económico de varios departamentos de Colombia a lo largo de un período de tiempo, con una tendencia ascendente en el PIB.\n",
    "- divipolacopia: El conjunto de datos describe centros poblados, principalmente en el departamento de ANTIOQUIA. Proporciona información detallada sobre las ubicaciones, municipios y características geográficas.\n",
    "\n",
    "#### Conclusiones de Negocio\n",
    "\n",
    "- Los departamentos registrados en pibcopia han experimentado un crecimiento económico sostenido, lo que indica una economía en crecimiento para estos departamentos durante los años registrados.\n",
    "- El departamento de ANTIOQUIA, según divipolacopia, es una región con muchos centros poblados. Estos centros poblados pueden tener diferentes necesidades y oportunidades de inversión o desarrollo.\n",
    "\n",
    "\n",
    "#### Conclusiones de Calidad\n",
    "\n",
    "- Hay inconsistencias en los nombres de los departamentos y posiblemente en los códigos. Por ejemplo, \"uila\" debería ser \"Huila\".\n",
    "- En divipolacopia, hay posibles problemas con los datos en minúsculas y nombres de municipios o centros poblados que pueden no ser precisos o estar mal escritos.\n",
    "- La falta de datos para ciertos años y departamentos en pibcopia indica que se necesita una recolección de datos más consistente o que se verifiquen las fuentes de datos."
   ]
  },
  {
   "cell_type": "markdown",
   "metadata": {},
   "source": [
    "3.1 Justificación de si es posible resolver los análisis basados en tableros de contros propuestos."
   ]
  },
  {
   "cell_type": "markdown",
   "metadata": {},
   "source": [
    "- Histogramas/Gráficos de Barras: nos permitio entender la distribución de datos relacionados con la cantidad de centros poblados por municipio.\n",
    "- Gráficos de Tiempo: nos permitio entender las tendencias en el PIB a lo largo del tiempo, proporcionando información sobre el crecimiento económico."
   ]
  },
  {
   "cell_type": "markdown",
   "metadata": {},
   "source": [
    "3.2 Incluir la síntesis de lo que representa la fila promedio de los datos analizados"
   ]
  },
  {
   "cell_type": "markdown",
   "metadata": {},
   "source": [
    "pibcopia:\n",
    "\n",
    "- PIB: El crecimiento del PIB a lo largo de los años indica una tendencia positiva. En 2006, el PIB promedio de un departamento es de aproximadamente 6,413,240, y este valor ha aumentado considerablemente hasta 2014, donde llega a un promedio de aproximadamente 11,774,719,888. Esto refleja un crecimiento económico generalizado para los departamentos representados.\n",
    "- Alerta: Es esencial notar que, aunque hay registros desde 2006 hasta 2014, faltan datos para algunos años y departamentos. Es crucial solicitar estos datos faltantes para obtener una imagen más completa del crecimiento económico.\n",
    "\n",
    "divipolacopia:\n",
    "\n",
    "- Códigos: En promedio, se observa un código de municipio cercano a 40581. Sin embargo, al igual que el código de departamento, este número actúa como un identificador y no tiene una interpretación inherente más allá de eso.\n",
    "- Alerta: Algunas columnas, como el Nombre del Distrito y el Nombre del Área Metropolitana, parecen tener muchos valores faltantes. Es esencial verificar si estos datos son relevantes y, de ser así, solicitar su inclusión. Si no son necesarios, se pueden considerar para la eliminación para optimizar el espacio y la eficiencia del análisis.\n",
    "\n",
    "Observaciones Generales:\n",
    "\n",
    "- Hay indicaciones claras de datos faltantes o posiblemente erróneos en ambas tablas, como los nombres de los departamentos con caracteres extraños o no estándar y valores faltantes en ciertas columnas. Es fundamental abordar estos problemas con la organización para asegurar la precisión y confiabilidad de los análisis futuros."
   ]
  },
  {
   "cell_type": "markdown",
   "metadata": {},
   "source": [
    "3.3 Lista de preguntas o comentarios realizados a la organización"
   ]
  },
  {
   "cell_type": "markdown",
   "metadata": {},
   "source": [
    "1. ¿Por qué hay datos faltantes para ciertos años y departamentos en el conjunto de datos pibcopia?\n",
    "2. ¿Puede proporcionarse una clarificación sobre las inconsistencias observadas en los nombres de los departamentos y municipios?\n",
    "3. ¿Hay alguna razón específica por la que todos los registros en divipolacopia pertenecen al departamento de ANTIOQUIA? ¿Faltan datos de otros departamentos?\n",
    "4. ¿Existe alguna otra fuente de datos que pueda ayudar a verificar o complementar la información proporcionada en estos conjuntos de datos?"
   ]
  }
 ],
 "metadata": {
  "colab": {
   "collapsed_sections": [
    "qxN27II0Pn3T",
    "GnAScmClPn3W",
    "UuZspay3Pn3Z",
    "ZHLs1H0hPn3b",
    "QgkzeSm4Pn3b",
    "LZyQcqCvPn3c",
    "eDf54JyKPn3d",
    "ltTluhtIPn3e",
    "IPhtXcD1Pn3g",
    "-axExLnhPn3g",
    "YfSMeXZQPn3g"
   ],
   "name": "MISW-ETL-Entendimiento.ipynb",
   "provenance": []
  },
  "kernelspec": {
   "display_name": "Python 3 (ipykernel)",
   "language": "python",
   "name": "python3"
  },
  "language_info": {
   "codemirror_mode": {
    "name": "ipython",
    "version": 3
   },
   "file_extension": ".py",
   "mimetype": "text/x-python",
   "name": "python",
   "nbconvert_exporter": "python",
   "pygments_lexer": "ipython3",
   "version": "3.7.13"
  },
  "toc-autonumbering": true,
  "toc-showcode": true
 },
 "nbformat": 4,
 "nbformat_minor": 4
}
