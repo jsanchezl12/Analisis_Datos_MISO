{
 "cells": [
  {
   "cell_type": "markdown",
   "metadata": {
    "id": "YLE3Y7VOPn3G"
   },
   "source": [
    "# Tutorial: Entendimiento de los datos con PySpark"
   ]
  },
  {
   "cell_type": "markdown",
   "metadata": {
    "id": "7wFQzBv_Pn3J"
   },
   "source": [
    "## Introducción\n",
    "    ¿Qué aprenderá? \n",
    "    En este tutorial aprenderá cómo puede realizar el entendimiento de los datos en el contexto de un proyecto de analítica. A nivel de la metodología ASUM-DM estamos en la fase de entendimiento de datos y en la arquitectura nos encontramos trabajando con el componente de fuentes de datos.\n",
    "\n",
    "    ¿Qué construirá? \n",
    "    En este tutorial realizará la exploración o perfilamiento de un conjunto de datos provenientes de una base de datos relacional, al igual que un análisis de la calidad de los datos utilizando los DataFrames de PySpark. Además, generará las conclusiones requeridas para ser compartidas en reuniones y formalizadas en la documentación del proyecto. Las conclusiones son variadas pero en general podemos decir que siempre deberían incluir una lista de preguntas o aclaraciones para la organización, conclusiones de los datos/problemas de calidad y alternativas para la limpieza. Un entendimiento de datos sin conclusiones no es útil y tampoco es entendible para personas de negocio.\n",
    "    \n",
    "    ¿Para qué?\n",
    "    Antes de realizar cualquier tipo de proyecto de datos es necesario entender los datos con unas tareas de exploración o perfilamiento de datos y de análisis de calidad. Esta fase de la metodología permite determinar si es posible o no realizar el proyecto dada la cantidad y calidad de los datos, el tiempo requerido para su preparación y las diferentes actividades que se requieren para mejorar los datos en caso de requerirse.  \n",
    "    \n",
    "    ¿Qué necesita?\n",
    "    Los siguientes requisitos se encuentran instalados en la máquina virtual asignada a cada estudiante, específicamente en el ambiente de anaconda llamado \"Tutoriales\". Recuerde que tiene a su disposición el tutorial de conexión a máquinas virtuales en la semana 1 de Coursera\n",
    "    1. Python 3 con pip instalado\n",
    "    2. Jupyter Labs\n",
    "    3. Paquetes: Pyspark (3.2.1), pandas (1.2.1), numpy (1.20.0) y matplotlib (3.3.4)\n",
    "    Otros:\n",
    "    1. Controlador Connector J(ya se encuentra configurado)\n",
    "    2. Acceso a servidor remoto MySQL con base de datos relacional \"WWImportersTransactional\". Recuerde que tiene a su disposición el tutorial de conexión remoto a Mysql en la semana 1 de Coursera\n"
   ]
  },
  {
   "cell_type": "markdown",
   "metadata": {
    "id": "V3leWyj9Pn3L"
   },
   "source": [
    "Continuando con el proyecto de consultoria de Wide World Importers, el primer paso para iniciar la comprensión de los datos es explorar y entender las fuentes de datos disponibles. Note que esto también nos ayuda a comprender mejor la organización."
   ]
  },
  {
   "cell_type": "markdown",
   "metadata": {
    "id": "dm33nuYTPn3L"
   },
   "source": [
    "## Configuración e importe de paquetes\n",
    "Se utilizará el paquete de pandas profiling para apoyar el análisis estadístico, y se importan los paquetes de python\n",
    "necesarios"
   ]
  },
  {
   "cell_type": "code",
   "execution_count": 1,
   "metadata": {
    "id": "gGiDdRBNPn3M"
   },
   "outputs": [],
   "source": [
    "from pyspark.sql import SparkSession\n",
    "from pyspark.sql import functions\n",
    "from pyspark.sql.types import StructType\n",
    "from pyspark import SparkContext, SparkConf, SQLContext\n",
    "from pyspark.sql.types import FloatType, StringType, IntegerType, DateType\n",
    "from pyspark.sql.functions import udf, col, length, isnan, when, count\n",
    "import pyspark.sql.functions as f\n",
    "import os \n",
    "from datetime import datetime\n",
    "from pyspark.sql import types as t\n",
    "from pandas_profiling import ProfileReport\n",
    "#import matplotlib.pyplot as plt\n",
    "import numpy as np"
   ]
  },
  {
   "cell_type": "code",
   "execution_count": 2,
   "metadata": {
    "id": "gGiDdRBNPn3M"
   },
   "outputs": [],
   "source": [
    "path_jar_driver = 'C:\\Program Files (x86)\\MySQL\\Connector J 8.0\\mysql-connector-java-8.0.28.jar'"
   ]
  },
  {
   "cell_type": "markdown",
   "metadata": {
    "id": "Tyk0YmZRPn3N"
   },
   "source": [
    "Configuración del controlador e inicio de sesion Spark"
   ]
  },
  {
   "cell_type": "code",
   "execution_count": 3,
   "metadata": {
    "id": "0-m3Q2MtPn3O",
    "outputId": "459f0ec2-9a36-4a36-edac-427852524d95"
   },
   "outputs": [
    {
     "name": "stderr",
     "output_type": "stream",
     "text": [
      "C:\\Users\\estudiante\\anaconda3\\envs\\Tutoriales\\lib\\site-packages\\pyspark\\sql\\context.py:79: FutureWarning: Deprecated in 3.0.0. Use SparkSession.builder.getOrCreate() instead.\n",
      "  FutureWarning\n"
     ]
    }
   ],
   "source": [
    "#Configuración de la sesión\n",
    "conf=SparkConf() \\\n",
    "    .set('spark.driver.extraClassPath', path_jar_driver)\n",
    "\n",
    "spark_context = SparkContext(conf=conf)\n",
    "sql_context = SQLContext(spark_context)\n",
    "spark = sql_context.sparkSession"
   ]
  },
  {
   "cell_type": "code",
   "execution_count": 4,
   "metadata": {
    "id": "0eQw66SIPn3P"
   },
   "outputs": [],
   "source": [
    "# Si quiere practicar la conexion con el servidor de base de datos:\n",
    "db_connection_string = 'jdbc:mysql://157.253.236.116:8080/ProyectoTransaccional'\n",
    "# El usuario es su estudiante _i asignado y su contraseña la encontrará en el archivo excel de Coursera \n",
    "db_user = 'Estudiante_68_202314'\n",
    "db_psswd = 'aabb1122'\n",
    "\n",
    "PATH='./'"
   ]
  },
  {
   "cell_type": "markdown",
   "metadata": {
    "id": "P1nkSAn5Pn3Q"
   },
   "source": [
    "## Perfilamiento de los datos\n",
    "El perfilamiento se basa en varios aspectos: **entendimiento general** de los datos compartidos, validación de **reglas de negocio**, **análisis descriptivo** utilizando estadística descriptiva y diagramas para la visualización de los datos y **análisis de calidad**. El primero hace referencia a tener una comprensiòn global antes de entrar en los detalles, la segunda sobre las reglas, corresponden a especificaciones dadas por el negocio en relación con los datos, un ejemplo de regla de negocio dada es: \"Todo producto de la canasta familiar debe tener un precio de IVA equivalente a 19%\", dada esta regla de negocio, se debe revisar en los datos suministrados que no hayan valores de IVA menores a 19%. En el tercer aspecto, relacionado con el análisis descriptivo, se revisan estadísticas: mínimo, máximo, media, mediana, distribuciones de los datos, valores nulos, cardinalidad con el fin de comprender en mayor nivel de profundidad los datos compartidos.\n"
   ]
  },
  {
   "cell_type": "markdown",
   "metadata": {
    "id": "p6KvbuvpPn3Q"
   },
   "source": [
    "### Información dada por la organización relacionada con los datos\n",
    "Los datos compartidos por la empresa son registros de vuelos, aeropuertos, información de centros poblados (concentración de mínimo 20 viviendas contiguas) donde el negocio asume que un aeropuerto está asignado a un centro poblado, un centro poblado solo puede estar en un municipio, información de proyección de poblacion y de PIB por departamentos. Dichos datos pueden tener errores ya que no han sido utilizados previamente para ser analizados. Con respecto a los datos, la empresa nos comentan lo siguiente:\n",
    "\n",
    "- Hay informacion del PIB para los 32 departamentos desde 2005 hasta 2018\n",
    "- Se tiene la información de proyecciones de vida por género y edad para los 32 departamentos desde 2005 hasta 2015\n",
    "- El total de hombres de valle del cauca para 2014 es 2110069\n",
    "- Hay información de 605.448 vuelos entre 2004 y 2018 y de 865 aeropuertos construidos desde 2013 hasta 2020\n",
    "- Hay información de 7879 centros poblados"
   ]
  },
  {
   "cell_type": "markdown",
   "metadata": {
    "id": "Xw96w3ywPn3R"
   },
   "source": [
    "### Conexión a fuente de datos y acceso a los datos"
   ]
  },
  {
   "cell_type": "markdown",
   "metadata": {
    "id": "LKHpN3nzPn3R"
   },
   "source": [
    "#### Conexión a fuente de datos\n",
    "A continuación encuentra las funciones para conectarse a la fuente de datos (archivo csv o base de datos) y retornar un dataframe que es el que se utilizará posteriormente para manipular los datos."
   ]
  },
  {
   "cell_type": "code",
   "execution_count": 5,
   "metadata": {
    "id": "SsdwInchPn3R"
   },
   "outputs": [],
   "source": [
    "def obtener_dataframe_de_bd(db_connection_string, sql, db_user, db_psswd):\n",
    "    df_bd = spark.read.format('jdbc')\\\n",
    "        .option('url', db_connection_string) \\\n",
    "        .option('dbtable', sql) \\\n",
    "        .option('user', db_user) \\\n",
    "        .option('password', db_psswd) \\\n",
    "        .option('driver', 'com.mysql.cj.jdbc.Driver') \\\n",
    "        .load()\n",
    "    return df_bd"
   ]
  },
  {
   "cell_type": "markdown",
   "metadata": {
    "id": "3HZloEq5Pn3S"
   },
   "source": [
    "#### Cargue de datos\n",
    "Para consultar desde la base de datos se puede acceder directamente a la tabla dado su nombre o se puede especificar la sentencia SQL de un \"SELECT\" completo para traer la información total o parcial de la tabla que se requiere. A continuación un ejemplo de cada uno de estos usos. \n",
    "Acceso directo para el caso de órdenes y acceso con sentencia SQL para el caso de detallesOrdenes."
   ]
  },
  {
   "cell_type": "code",
   "execution_count": 6,
   "metadata": {
    "id": "xMaQViPnPn3S"
   },
   "outputs": [],
   "source": [
    "sql_aeropuertos = 'ProyectoTransaccional.aeropuertosCopia'"
   ]
  },
  {
   "cell_type": "code",
   "execution_count": 7,
   "metadata": {
    "id": "Ajy_XMshPn3T"
   },
   "outputs": [],
   "source": [
    "#Se cargan los dataframes desde la base de datos\n",
    "aeropuertos = obtener_dataframe_de_bd(db_connection_string, sql_aeropuertos, db_user, db_psswd)"
   ]
  },
  {
   "cell_type": "markdown",
   "metadata": {
    "id": "qxN27II0Pn3T"
   },
   "source": [
    "### Entendimiento general de datos"
   ]
  },
  {
   "cell_type": "markdown",
   "metadata": {
    "id": "BMULJYE2Pn3T"
   },
   "source": [
    "Para ver una muestra de los datos, utilice el comando <i>show</i> ingresando el número de filas que quiere ver"
   ]
  },
  {
   "cell_type": "code",
   "execution_count": 8,
   "metadata": {
    "id": "HtrqSl0zPn3T",
    "outputId": "c20c03fc-68d4-4d2e-eb8f-91a06cdd3174"
   },
   "outputs": [
    {
     "name": "stdout",
     "output_type": "stream",
     "text": [
      "+-----+----+--------------------+--------------------+------------+----------+-------+--------+-----------------+--------------------+--------------+-----------+------+-----------+---------+----------+------------------+--------------+-----+--------+--------------------+----------------+-------------+\n",
      "|sigla|iata|              nombre|           municipio|departamento| categoria|latitud|longitud|      propietario|          explotador|longitud_pista|ancho_pista|  pbmo|orientacion|elevacion|resolucion|fecha_construccion|fecha_vigencia|clase|    tipo|numero_vuelos_origen|gcd_departamento|gcd_municipio|\n",
      "+-----+----+--------------------+--------------------+------------+----------+-------+--------+-----------------+--------------------+--------------+-----------+------+-----------+---------+----------+------------------+--------------+-----+--------+--------------------+----------------+-------------+\n",
      "|  9cg|    |san jose del ariporo|      Paz de Ariporo|    casanare|AerÃ³dromo|    500|-70.0128|        MUNICIPIO|           MUNICIPIO|           250|        8.0|2000.0|           |    318.0|  4541,000|        2006-10-27|    2016-11-07|   1A|PÃºblico|              -146.0|              85|        85250|\n",
      "|  mii|    |                mani|               ManÃ­|    casanare|AerÃ³dromo|    500|        |                 |                    |           250|        8.0|      |           |         |          |                  |              |     |        |               -20.0|              85|        85139|\n",
      "|  slo|    |           yaguarito|San Carlos de Guaroa|        meta|AerÃ³dromo|    500|        |                 |                    |           250|        8.0|      |           |         |          |                  |              |     |        |               -83.0|              50|        50680|\n",
      "|  bql|    |      barranquillita|          Miraflores|    guaviare|AerÃ³dromo|    500|-72.3258|      GOBERNACION|INS POL BARRANQUI...|           250|        8.0|5000.0|           |    800.0|  2989,000|                  |              |   1A|PÃºblico|               -79.0|              95|        95200|\n",
      "|  pro|    |              pororo|    AgustÃ­n Codazzi|       cesar|AerÃ³dromo|    500|-73.2687|PALMAS PORORO SAS|   PALMAS PORORO SAS|           250|        8.0|6000.0|           |    328.0|   276,000|                  |              |   1A| Privado|                -6.0|              20|        20013|\n",
      "+-----+----+--------------------+--------------------+------------+----------+-------+--------+-----------------+--------------------+--------------+-----------+------+-----------+---------+----------+------------------+--------------+-----+--------+--------------------+----------------+-------------+\n",
      "only showing top 5 rows\n",
      "\n"
     ]
    }
   ],
   "source": [
    "aeropuertos.show(5)"
   ]
  },
  {
   "cell_type": "markdown",
   "metadata": {
    "id": "Q_aZvenTPn3U"
   },
   "source": [
    "Como puede observar en la tabla de aeropuertosCopia tenemos información **relacionada con los aeropuertos de los diferentes departamentos del país, la sigla que los identifica y toda la información relacionada con cada uno de ellos**. La información del propietario, esto es si el dueño es el departamento, el municipio, etc. También encontramos información relacionada en cuanto al tipo de aeropuerto; es decir, si es público o privado, de que categoría es, teniendo en cuenta que existe una categorización para cada uno de ellos. Otra información que se encuentra almacenada en esta tabla es la relacionada a su ubicación geografica, departamento, municipio. El número de vuelos que salen de cada uno de estos aeropuertos."
   ]
  },
  {
   "cell_type": "code",
   "execution_count": 9,
   "metadata": {
    "id": "lLV_ItLhPn3U",
    "outputId": "db9438a4-0a6d-4809-ea99-752add60ad64"
   },
   "outputs": [
    {
     "data": {
      "text/plain": [
       "StructType(List(StructField(sigla,StringType,true),StructField(iata,StringType,true),StructField(nombre,StringType,true),StructField(municipio,StringType,true),StructField(departamento,StringType,true),StructField(categoria,StringType,true),StructField(latitud,IntegerType,true),StructField(longitud,StringType,true),StructField(propietario,StringType,true),StructField(explotador,StringType,true),StructField(longitud_pista,IntegerType,true),StructField(ancho_pista,DoubleType,true),StructField(pbmo,StringType,true),StructField(orientacion,StringType,true),StructField(elevacion,StringType,true),StructField(resolucion,StringType,true),StructField(fecha_construccion,StringType,true),StructField(fecha_vigencia,StringType,true),StructField(clase,StringType,true),StructField(tipo,StringType,true),StructField(numero_vuelos_origen,DoubleType,true),StructField(gcd_departamento,IntegerType,true),StructField(gcd_municipio,IntegerType,true)))"
      ]
     },
     "execution_count": 9,
     "metadata": {},
     "output_type": "execute_result"
    }
   ],
   "source": [
    "aeropuertos.schema"
   ]
  },
  {
   "cell_type": "markdown",
   "metadata": {
    "id": "seP-zo8JPn3U"
   },
   "source": [
    "Por otra parte, se puede ver que cuenta con 17 campos de tipo String, se tienen 2 campos de tipo Double y 4 campos de tipo entdero. El identificador del aeropuerto es la sigla. Una primera aclaración a solicitar por parte del negocio es que información almacenan los campos \"iata\" y \"pbmo\" y si es posible eliminarlos ya que existen varios registros vacios."
   ]
  },
  {
   "cell_type": "markdown",
   "metadata": {
    "id": "GJDrzRVHPn3V"
   },
   "source": [
    "**¿Qué es una fila de cada fuente compartida?**\n",
    "Con estos análisis podemos concluir que una fila de la tabla aeropuertosCopia representa la información relacionada con los aeropuertos que se encuentran en los diferentes municipios del país, del tipo que son estos aeropuertos y la ubicación geografica de cada uno de ellos."
   ]
  },
  {
   "cell_type": "markdown",
   "metadata": {
    "id": "uw09BODdPn3V"
   },
   "source": [
    "Una vez entendida en términos generales la estructura de los datos, es necesario conocer la cantidad de datos disponibles, esto se hace con count() y con columns, que retornan el número de filas y número de columnas respectivamente."
   ]
  },
  {
   "cell_type": "code",
   "execution_count": 10,
   "metadata": {
    "id": "g0Lvl535Pn3V",
    "outputId": "6fb3f30d-2179-4d50-ddd5-4880e28673d8"
   },
   "outputs": [
    {
     "name": "stdout",
     "output_type": "stream",
     "text": [
      "(547, 23)\n"
     ]
    }
   ],
   "source": [
    "print((aeropuertos.count(), len(aeropuertos.columns)))"
   ]
  },
  {
   "cell_type": "markdown",
   "metadata": {
    "id": "kqwEyUFpPn3V"
   },
   "source": [
    "**¿Cuantos datos nos compartieron para el proyecto?**\n",
    "En total tenemos 547 registros de aeropuertos y tenemos en total 23 variables a revisar de las cuales 17 son de cadenas de caracteres y las restantes 6 son numéricas, de esas 6 dos son de tipo Double y las demás son enteras. Acá tenemos una conclusión ya que el negocio nos manifestó que se contaba con 865 aeropuertos, pero esta información no es cierta."
   ]
  },
  {
   "cell_type": "markdown",
   "metadata": {
    "id": "GnAScmClPn3W"
   },
   "source": [
    "### Revisión de reglas de negocio \n",
    "\n",
    "Primero se confirman las reglas proporcionadas por el negocio, para la tabla de aeropuertosCopia se asegura que hay información de 605.448 vuelos entre 2004 y 2018 y de 865 aeropuertos construidos desde 2013 hasta 2020"
   ]
  },
  {
   "cell_type": "code",
   "execution_count": 24,
   "metadata": {
    "id": "ssjlV5xbPn3W",
    "outputId": "2ab69e67-fcc0-42c0-bf32-425d65c5118b"
   },
   "outputs": [
    {
     "name": "stdout",
     "output_type": "stream",
     "text": [
      "547\n",
      "+--------------------+\n",
      "|              nombre|\n",
      "+--------------------+\n",
      "|       santa rosalia|\n",
      "|        san jeronimo|\n",
      "|           araguaney|\n",
      "|jorge e. gonzalez t.|\n",
      "|       puerto gaitan|\n",
      "|      chicoral estra|\n",
      "|   hato la esperanza|\n",
      "|              julian|\n",
      "|     gemelos dorados|\n",
      "|            san luis|\n",
      "|        el lago - ca|\n",
      "|          vanguardia|\n",
      "|              falcon|\n",
      "|             sirenas|\n",
      "|           la aurora|\n",
      "|san felipe del pauto|\n",
      "|              mutata|\n",
      "|       nueva fortuna|\n",
      "|    las violetas- ca|\n",
      "|          los guires|\n",
      "+--------------------+\n",
      "only showing top 20 rows\n",
      "\n",
      "+--------------------+\n",
      "|numero_vuelos_origen|\n",
      "+--------------------+\n",
      "|              -924.0|\n",
      "|               147.0|\n",
      "|                 8.0|\n",
      "|                70.0|\n",
      "|             -4108.0|\n",
      "|                 0.0|\n",
      "|                69.0|\n",
      "|              -313.0|\n",
      "|              2143.0|\n",
      "|               -52.0|\n",
      "|             -1754.0|\n",
      "|                -5.0|\n",
      "|               -50.0|\n",
      "|              -376.0|\n",
      "|              -257.0|\n",
      "|              6784.0|\n",
      "|              -134.0|\n",
      "|                -2.0|\n",
      "|            -15994.0|\n",
      "|              -658.0|\n",
      "+--------------------+\n",
      "only showing top 20 rows\n",
      "\n",
      "None\n"
     ]
    }
   ],
   "source": [
    "print((aeropuertos.select(\"numero_vuelos_origen\").count()))\n",
    "aeropuertos.select(\"nombre\").distinct().show()\n",
    "print(aeropuertos.select(\"numero_vuelos_origen\").distinct().show())"
   ]
  },
  {
   "cell_type": "markdown",
   "metadata": {
    "id": "0bQrARjCPn3V",
    "outputId": "081c3dac-70e5-4d6f-c33e-051f7e688ec8"
   },
   "source": [
    "Con las anteriores consultas podemos ver que esta regla no es cierta ya que no existen 865 aeropuertos, solo existen 547. Esta información se debe entregar en las conclusiones al negocio. Por otra parte se debe pedir la aclaración del porque en la cantidad de numero_vuelos_origen se tiene información negativa. Se puede arreglar este valor filtrando los registros negativos y multiplicandolos por -1 para dejarelos positivos."
   ]
  },
  {
   "cell_type": "code",
   "execution_count": 27,
   "metadata": {
    "id": "MyjWrCe-Pn3T",
    "outputId": "cd7b96e1-d88a-4aef-a525-cc8b810e21d1"
   },
   "outputs": [
    {
     "name": "stdout",
     "output_type": "stream",
     "text": [
      "+--------------------+-----+\n",
      "|           municipio|count|\n",
      "+--------------------+-----+\n",
      "|             Condoto|    2|\n",
      "|             Palermo|    3|\n",
      "|           El Espino|    1|\n",
      "|       Fuente de Oro|    9|\n",
      "|        Bugalagrande|    1|\n",
      "|   VigÃ­a del Fuerte|    2|\n",
      "|          Villanueva|    9|\n",
      "|              Amalfi|    1|\n",
      "|San Luis de Palenque|    4|\n",
      "|            CiÃ©naga|    3|\n",
      "|           Rioblanco|    1|\n",
      "|           Papunahua|    1|\n",
      "|            San Luis|    2|\n",
      "|           El Charco|    1|\n",
      "|           ApartadÃ³|    1|\n",
      "|               Pasto|    1|\n",
      "|            Trinidad|    7|\n",
      "|          Candelaria|    2|\n",
      "|  San Juan del Cesar|    2|\n",
      "|               Neiva|    1|\n",
      "+--------------------+-----+\n",
      "only showing top 20 rows\n",
      "\n"
     ]
    }
   ],
   "source": [
    "aeropuertos.groupBy(\"municipio\").count().show()"
   ]
  },
  {
   "cell_type": "markdown",
   "metadata": {
    "id": "55FLtckZPn3W"
   },
   "source": [
    "Si se quiere saber cuántos registros hay por cada valor posible, existen varias formas de hacerlo, en la siguiente celda se muestra cómo iterar sobre los valores resultado de una consulta y cómo filtrar el número de registros para cada valor usando filter y select where, también se da un ejemplo de uso de group by y agregaciones\n",
    "\n",
    "Pyspark tiene funcionalidades de los DataFrames que permiten explorar los datos por medio de agregaciones y estas funcionan similar a como se usan en SQL\n",
    "\n",
    "Primero, se debe agrupar sobre una columna con el método <i>groupBy</i> y después se pueden realizar agregaciones sobre otras columnas con el método <i>agg</i>. La sintaxis es la siguiente: \n",
    " ``` \n",
    "    DataFrame.groupBy('COLUMN NAME').agg({'COLUMN NAME 1': 'mean', 'COLUMN NAME 2': 'count', 'COLUMN NAME 3': 'max'})\n",
    "  ``` \n",
    "\n",
    "En cualquiera de los 3 casos se observa que el resultado es el mismo"
   ]
  },
  {
   "cell_type": "code",
   "execution_count": 35,
   "metadata": {
    "id": "oF0aFycqPn3W",
    "outputId": "62fc6101-ad21-4e65-b2d2-849c9752d005"
   },
   "outputs": [
    {
     "name": "stdout",
     "output_type": "stream",
     "text": [
      "+--------------------+-----+\n",
      "|numero_vuelos_origen|count|\n",
      "+--------------------+-----+\n",
      "|              -924.0|    2|\n",
      "|               147.0|    1|\n",
      "|                 8.0|    3|\n",
      "|                70.0|    1|\n",
      "|             -4108.0|    1|\n",
      "|                 0.0|   92|\n",
      "|                69.0|    1|\n",
      "|              -313.0|    1|\n",
      "|              2143.0|    1|\n",
      "|               -52.0|    1|\n",
      "|             -1754.0|    2|\n",
      "|                -5.0|   12|\n",
      "|               -50.0|    2|\n",
      "|              -376.0|    2|\n",
      "|              -257.0|    1|\n",
      "|              6784.0|    1|\n",
      "|              -134.0|    1|\n",
      "|                -2.0|   22|\n",
      "|            -15994.0|    1|\n",
      "|              -658.0|    1|\n",
      "+--------------------+-----+\n",
      "only showing top 20 rows\n",
      "\n"
     ]
    },
    {
     "ename": "TypeError",
     "evalue": "Column is not iterable",
     "output_type": "error",
     "traceback": [
      "\u001b[1;31m---------------------------------------------------------------------------\u001b[0m",
      "\u001b[1;31mTypeError\u001b[0m                                 Traceback (most recent call last)",
      "\u001b[1;32m~\\AppData\\Local\\Temp\\ipykernel_6316\\4025037194.py\u001b[0m in \u001b[0;36m<module>\u001b[1;34m\u001b[0m\n\u001b[0;32m      1\u001b[0m \u001b[0maeropuertos\u001b[0m\u001b[1;33m.\u001b[0m\u001b[0mgroupBy\u001b[0m\u001b[1;33m(\u001b[0m\u001b[1;34m\"numero_vuelos_origen\"\u001b[0m\u001b[1;33m)\u001b[0m\u001b[1;33m.\u001b[0m\u001b[0mcount\u001b[0m\u001b[1;33m(\u001b[0m\u001b[1;33m)\u001b[0m\u001b[1;33m.\u001b[0m\u001b[0mshow\u001b[0m\u001b[1;33m(\u001b[0m\u001b[1;33m)\u001b[0m\u001b[1;33m\u001b[0m\u001b[1;33m\u001b[0m\u001b[0m\n\u001b[1;32m----> 2\u001b[1;33m \u001b[0maeropuertos\u001b[0m\u001b[1;33m.\u001b[0m\u001b[0mselect\u001b[0m\u001b[1;33m(\u001b[0m\u001b[0msum\u001b[0m\u001b[1;33m(\u001b[0m\u001b[0maeropuertos\u001b[0m\u001b[1;33m[\u001b[0m\u001b[1;34m\"numero_vuelos_origen\"\u001b[0m\u001b[1;33m]\u001b[0m\u001b[1;33m)\u001b[0m\u001b[1;33m)\u001b[0m\u001b[1;33m.\u001b[0m\u001b[0mshow\u001b[0m\u001b[1;33m(\u001b[0m\u001b[1;33m)\u001b[0m\u001b[1;33m\u001b[0m\u001b[1;33m\u001b[0m\u001b[0m\n\u001b[0m",
      "\u001b[1;32m~\\anaconda3\\envs\\Tutoriales\\lib\\site-packages\\pyspark\\sql\\column.py\u001b[0m in \u001b[0;36m__iter__\u001b[1;34m(self)\u001b[0m\n\u001b[0;32m    461\u001b[0m \u001b[1;33m\u001b[0m\u001b[0m\n\u001b[0;32m    462\u001b[0m     \u001b[1;32mdef\u001b[0m \u001b[0m__iter__\u001b[0m\u001b[1;33m(\u001b[0m\u001b[0mself\u001b[0m\u001b[1;33m)\u001b[0m\u001b[1;33m:\u001b[0m\u001b[1;33m\u001b[0m\u001b[1;33m\u001b[0m\u001b[0m\n\u001b[1;32m--> 463\u001b[1;33m         \u001b[1;32mraise\u001b[0m \u001b[0mTypeError\u001b[0m\u001b[1;33m(\u001b[0m\u001b[1;34m\"Column is not iterable\"\u001b[0m\u001b[1;33m)\u001b[0m\u001b[1;33m\u001b[0m\u001b[1;33m\u001b[0m\u001b[0m\n\u001b[0m\u001b[0;32m    464\u001b[0m \u001b[1;33m\u001b[0m\u001b[0m\n\u001b[0;32m    465\u001b[0m     \u001b[1;31m# string methods\u001b[0m\u001b[1;33m\u001b[0m\u001b[1;33m\u001b[0m\u001b[1;33m\u001b[0m\u001b[0m\n",
      "\u001b[1;31mTypeError\u001b[0m: Column is not iterable"
     ]
    }
   ],
   "source": [
    "\n",
    "aeropuertos.groupBy(\"numero_vuelos_origen\").count().show()\n",
    "aeropuertos.select(sum(aeropuertos[\"numero_vuelos_origen\"])).show()"
   ]
  },
  {
   "cell_type": "markdown",
   "metadata": {
    "id": "rIrRLyudPn3W"
   },
   "source": [
    "La conclusión es entonces que la regla no es completamente cierta, pues en la cantidad de datos no existe la cantidad de aeropuertos que informagocio, es necesario pedir aclaraciones al negocio en relación a este descubrimiento. Al contar con valores negativos no es posible determinar con exactitud la cantidad de vuelos que informa el negocio, para esto sería necesario realizar el cambio a valores positivos, claro esta que con la aclaración del porque existen valores negativos para este campo."
   ]
  },
  {
   "cell_type": "code",
   "execution_count": 36,
   "metadata": {
    "id": "yWq4-hOHPn3X",
    "outputId": "03b34472-ec29-47c9-c37a-33e9439e0eb2"
   },
   "outputs": [
    {
     "data": {
      "text/plain": [
       "444"
      ]
     },
     "execution_count": 36,
     "metadata": {},
     "output_type": "execute_result"
    }
   ],
   "source": [
    "aeropuertos.distinct().count()"
   ]
  },
  {
   "cell_type": "markdown",
   "metadata": {
    "id": "1kH3BhCgPn3X"
   },
   "source": [
    "Como pueden ver hay 444 aeropuertos únicos. Es decir que sabemos que hay 123 aeropuertos completamente repetidos, esto sigue siendo una conclusión para que negocio lo aclare."
   ]
  },
  {
   "cell_type": "code",
   "execution_count": 39,
   "metadata": {
    "id": "MTV-XifxPn3X",
    "outputId": "6406990d-b30b-4e99-828a-bacbd587c951"
   },
   "outputs": [
    {
     "data": {
      "text/plain": [
       "413"
      ]
     },
     "execution_count": 39,
     "metadata": {},
     "output_type": "execute_result"
    }
   ],
   "source": [
    "aeropuertos.select(col('nombre')).distinct().count()"
   ]
  },
  {
   "cell_type": "markdown",
   "metadata": {
    "id": "CxNL9EcuPn3Y"
   },
   "source": [
    "De esta manera vemos que hay una diferencia de 154 registros cuyo identificador es el mismo.\n",
    "\n",
    "Lo siguiente es verificar las fechas en los datos, nos dicen hay información de 605.448 vuelos entre 2004 y 2018 "
   ]
  },
  {
   "cell_type": "code",
   "execution_count": 41,
   "metadata": {
    "id": "YOjCx-PyPn3Y",
    "outputId": "fd34900d-de7a-40e4-d317-bf9b1ecc458f"
   },
   "outputs": [
    {
     "name": "stdout",
     "output_type": "stream",
     "text": [
      "+-------------------+\n",
      "|min(fecha_vigencia)|\n",
      "+-------------------+\n",
      "|                   |\n",
      "+-------------------+\n",
      "\n"
     ]
    }
   ],
   "source": [
    "aeropuertos.agg({\"fecha_vigencia\": \"min\"}).show()"
   ]
  },
  {
   "cell_type": "markdown",
   "metadata": {
    "id": "IwubJmKdPn3Y"
   },
   "source": [
    "como se ve en la anterior consulta no contamos con una fecha minima en el campo vigencia que se entiende es la fecha desde que esta en operación el aeropuerto. Es necesario informar de este hallazgo al negocio o pedir aclaración ya que no se sabe si este es el campo que almacena la información de inicio de operación del aeropuerto."
   ]
  },
  {
   "cell_type": "markdown",
   "metadata": {
    "id": "8_WfDYLHPn3Y"
   },
   "source": [
    "La siguiente regla nos indica que es necesario revisar el formato de las fechas YYYY-MM-DD HH:MM:SS, un ejemplo es el atributo <i>fecha_construccion</i> y el campo <i>fecha_vigencia</i>. Para esto vamos a hacer uso de expresiones regulares, que son patrones de búsqueda, en este caso queremos 4 dígitos entre 0 y 9 que indican el año seguido del símbolo - luego tenemos un número de 2 dígitos que puede empezar con 0 seguido de un número entre 1 y 9 (meses 01 hasta 09) o 1 seguido de 1 o 2 (meses 11 o 12), sigue otro -, y terminamos con un número de 2 dígitos que van desde el día 01 hasta el 31, se usa rlike smilar a LIKE de SQL"
   ]
  },
  {
   "cell_type": "code",
   "execution_count": 44,
   "metadata": {
    "id": "_KzyrNQ_Pn3Y",
    "outputId": "f9029802-04b2-4bd3-fb29-eb32c5dc175a"
   },
   "outputs": [
    {
     "name": "stdout",
     "output_type": "stream",
     "text": [
      "Número total de aeropuertos: 547, número de fechas con formato correcto en la fecha de construcción: 164\n",
      "Número total de aeropuertos: 547, número de fechas con formato correcto en la fecha de vigencia: 87\n"
     ]
    }
   ],
   "source": [
    "regex = \"[0-2]\\d{3}-(0[1-9]|1[0-2])-(0[1-9]|[1-2][0-9]|3[0-1])\"\n",
    "cumplenFormato = aeropuertos.filter(aeropuertos[\"fecha_construccion\"].rlike(regex))\n",
    "print(\"Número total de aeropuertos: \"+str(aeropuertos.count())+\", número de fechas con formato correcto en la fecha de construcción: \"+str(cumplenFormato.count()))\n",
    "\n",
    "regex = \"[0-2]\\d{3}-(0[1-9]|1[0-2])-(0[1-9]|[1-2][0-9]|3[0-1])\"\n",
    "cumplenFormato = aeropuertos.filter(aeropuertos[\"fecha_vigencia\"].rlike(regex))\n",
    "print(\"Número total de aeropuertos: \"+str(aeropuertos.count())+\", número de fechas con formato correcto en la fecha de vigencia: \"+str(cumplenFormato.count()))"
   ]
  },
  {
   "cell_type": "markdown",
   "metadata": {
    "id": "JNAo5XdkPn3Y"
   },
   "source": [
    "Para ver los registros que no cumplen con el formato podemos negar la condición del filtro con el símbolo ~ al principio:"
   ]
  },
  {
   "cell_type": "code",
   "execution_count": 45,
   "metadata": {
    "id": "cfRkDawmPn3Z",
    "outputId": "d1e48a40-41de-4df1-8f43-ff2f6294ae4e"
   },
   "outputs": [
    {
     "name": "stdout",
     "output_type": "stream",
     "text": [
      "+------------------+\n",
      "|fecha_construccion|\n",
      "+------------------+\n",
      "|                  |\n",
      "|                  |\n",
      "|                  |\n",
      "|                  |\n",
      "|                  |\n",
      "|                  |\n",
      "|                  |\n",
      "|                  |\n",
      "|                  |\n",
      "|                  |\n",
      "|                  |\n",
      "|                  |\n",
      "|                  |\n",
      "|                  |\n",
      "|                  |\n",
      "|                  |\n",
      "|                  |\n",
      "|                  |\n",
      "|                  |\n",
      "|                  |\n",
      "+------------------+\n",
      "only showing top 20 rows\n",
      "\n"
     ]
    },
    {
     "data": {
      "text/plain": [
       "(383, None)"
      ]
     },
     "execution_count": 45,
     "metadata": {},
     "output_type": "execute_result"
    }
   ],
   "source": [
    "noCumplenFormato = aeropuertos.filter(~aeropuertos[\"fecha_construccion\"].rlike(regex))\n",
    "noCumplenFormato.count(), noCumplenFormato.select(col(\"fecha_construccion\")).show()"
   ]
  },
  {
   "cell_type": "code",
   "execution_count": 46,
   "metadata": {
    "id": "cfRkDawmPn3Z",
    "outputId": "d1e48a40-41de-4df1-8f43-ff2f6294ae4e"
   },
   "outputs": [
    {
     "name": "stdout",
     "output_type": "stream",
     "text": [
      "+--------------+\n",
      "|fecha_vigencia|\n",
      "+--------------+\n",
      "|              |\n",
      "|              |\n",
      "|              |\n",
      "|              |\n",
      "|              |\n",
      "|              |\n",
      "|              |\n",
      "|              |\n",
      "|              |\n",
      "|              |\n",
      "|              |\n",
      "|              |\n",
      "|              |\n",
      "|              |\n",
      "|              |\n",
      "|              |\n",
      "|              |\n",
      "|              |\n",
      "|              |\n",
      "|              |\n",
      "+--------------+\n",
      "only showing top 20 rows\n",
      "\n"
     ]
    },
    {
     "data": {
      "text/plain": [
       "(460, None)"
      ]
     },
     "execution_count": 46,
     "metadata": {},
     "output_type": "execute_result"
    }
   ],
   "source": [
    "noCumplenFormato = aeropuertos.filter(~aeropuertos[\"fecha_vigencia\"].rlike(regex))\n",
    "noCumplenFormato.count(), noCumplenFormato.select(col(\"fecha_vigencia\")).show()"
   ]
  },
  {
   "cell_type": "markdown",
   "metadata": {
    "id": "N7T3ewQWPn3Z"
   },
   "source": [
    "Concluimos entonces, que hay 383 registros cuya fecha de construcción y 460 en el campo de fecha de vigencia que no cumplen con el formato especificado. Se debe solicitar una aclaración de parte de negocio para saber si es mejor eliminar el campo o llenar con alguna fecha por defecto.\n",
    "\n",
    "Para facilitar los análisis y evitar inconsistencias o conclusiones erradas vamos a estandarizar los datos, en este caso las fechas. Sin embargo, esta actividad puede hacerse sobre formatos de números, texto entre otras. "
   ]
  },
  {
   "cell_type": "markdown",
   "metadata": {
    "id": "eegq6VGqPn3Z"
   },
   "source": [
    "Algo que se debe tener en cuenta en el perfilamiento de reglas de negocio es que dichas reglas pueden estar incompletas, por ende se recomienda tener especial cuidado con las columnas tipo caracter o string dado que suelen ser pasadas por alto en el análisis estadistico, un ejemplo es la columna **Descripcion**, al ser una columna de descripción del producto se espera que tenga un cierto número de caracteres. Sin embargo haciendo la validación vemos que algunas descripciones son textos incompletos como \"a\". Este podría llegar a ser un problema a futuro por lo que se decide notificar a la organización."
   ]
  },
  {
   "cell_type": "code",
   "execution_count": 53,
   "metadata": {
    "id": "ZLHB_pwSPn3Z",
    "outputId": "67a68544-272a-44af-f39f-52dcd5a09d4c"
   },
   "outputs": [
    {
     "name": "stdout",
     "output_type": "stream",
     "text": [
      "+-----+----+--------------------+--------------------+------------------+---------+-------+--------+--------------------+--------------------+--------------+-----------+-------+-----------+---------+----------+------------------+--------------+-----+---------+--------------------+----------------+-------------+\n",
      "|sigla|iata|              nombre|           municipio|      departamento|categoria|latitud|longitud|         propietario|          explotador|longitud_pista|ancho_pista|   pbmo|orientacion|elevacion|resolucion|fecha_construccion|fecha_vigencia|clase|     tipo|numero_vuelos_origen|gcd_departamento|gcd_municipio|\n",
      "+-----+----+--------------------+--------------------+------------------+---------+-------+--------+--------------------+--------------------+--------------+-----------+-------+-----------+---------+----------+------------------+--------------+-----+---------+--------------------+----------------+-------------+\n",
      "|  pbo|    |      puerto bolivar|              Uribia|        la guajira|         |    500|-71.9843|CARBONES DEL CERR...|CARBONES DEL CERR...|           250|        8.0|       |           |     98.0|   831,000|                  |              |   3D|  Privado|             -3507.0|              44|        44847|\n",
      "|  sje| SJE|jorge e. gonzalez t.|San JosÃ© del Gua...|          guaviare|         |    500|-72.6393|         GOBERNACION|        DEPARTAMENTO|           250|        8.0|22000.0|           |    603.0|   984,000|                  |              |   2B| PÃºblico|            -32581.0|              95|        95001|\n",
      "|  caq|    |        juan h.white|            Caucasia|         antioquia|         |    500|-75.1982|AEROLINEA DE ANTI...|AEROLINEA DE ANTIOQ.|           250|        8.0|       |           |    207.0|  5052,000|        2014-10-02|    2017-10-03|   2B|  Privado|            -15994.0|               5|         5154|\n",
      "|  vup| VUP|alfonso lopez pum...|          Valledupar|             cesar|         |    500|-73.2494|           AEROCIVIL|AEROCIVIL -ORIENT...|           250|        8.0|       |           |    450.0|   352,000|        1968-05-17|              |   4C|Aerocivil|            -23158.0|              20|        20001|\n",
      "|  ida|    |cesar gaviria tru...|            InÃ­rida|           guainia|         |    500|-67.9063|         GOBERNACION|         GOBERNACION|           250|        8.0|       |           |    311.0|   499,000|                  |              |   3C| PÃºblico|             -4942.0|              94|        94001|\n",
      "|  lqm|    |             caucaya|   Puerto LeguÃ­zamo|          putumayo|         |    500|-74.7708|           MUNICIPIO|           MUNICIPIO|           250|        8.0|28000.0|           |    609.0|  6268,000|                  |              |   2B| PÃºblico|              5810.0|              86|        86573|\n",
      "|  mqu| MQU|      jose celestino|San SebastiÃ¡n de...|            tolima|         |    500|-74.8837|           AEROCIVIL|           AEROCIVIL|           250|        8.0|       |           |   1531.0|    51,000|        1968-01-24|              |   2A|Aerocivil|              1428.0|              73|        73443|\n",
      "|  bog| BOG|           el dorado|       BogotÃ¡, D.C.|      bogota, d.c.|         |    500|-74.1469|           AEROCIVIL|  EN CONCESION CODAD|           250|        8.0|       |           |   8356.0|   320,000|        1959-12-04|              |   4E|Aerocivil|          -1028334.0|              11|        11001|\n",
      "|  czu| CZU|          las brujas|             Corozal|             sucre|         |    500|-75.2853|           AEROCIVIL|EN CONCESION-SOAC...|           250|        8.0|       |           |    519.0|  1862,000|        1971-07-19|              |   3C|Aerocivil|            -14822.0|              70|        70215|\n",
      "|  apo| APO|antonio roldan be...|              Carepa|         antioquia|         |    500|-76.7164|           AEROCIVIL|EN CONCESION- SOA...|           250|        8.0|       |           |     46.0|  1590,000|        1969-06-10|              |   4C|Aerocivil|            -40556.0|               5|         5147|\n",
      "|  cuc| CUC|         camilo daza|San JosÃ© de CÃºcuta|norte de santander|         |    500|-72.5116|           AEROCIVIL|AEROCIVIL -ORIENT...|           250|        8.0|       |           |   1027.0|   984,000|        1987-02-02|              |   4D|Aerocivil|             72216.0|              54|        54001|\n",
      "|  bun| BUN|buenaventura-gera...|        Buenaventura|   valle del cauca|         |    500|-76.9899|           AEROCIVIL|           AEROCIVIL|           250|        8.0|       |           |     44.0|  1026,000|        1967-08-28|              |   2C|Aerocivil|             -4776.0|              76|        76109|\n",
      "|  ppn| PPN|guillermo leon va...|            PopayÃ¡n|             cauca|         |    500|-76.6099|           AEROCIVIL|           AEROCIVIL|           250|        8.0|       |           |   5669.0|   455,000|        1969-05-19|              |   4C|Aerocivil|             17602.0|              19|        19001|\n",
      "|  lmc| LMC|         la macarena|         La Macarena|              meta|         |    500|-73.7861|           MUNICIPIO|           MUNICIPIO|           250|        8.0|26000.0|           |    770.0|  1940,000|                  |              |   2C| PÃºblico|            -27136.0|              50|        50350|\n",
      "|  cuc| CUC|    camilo daza no.2|San JosÃ© de CÃºcuta|norte de santander|         |    500|-72.5116|           AEROCIVIL|AEROCIVIL -ORIENT...|           250|        8.0|       |           |   1027.0|   984,000|        1987-02-02|              |   4A|Aerocivil|                 0.0|              54|        54001|\n",
      "|  czu| CZU|          las brujas|             Corozal|             sucre|         |    500|-75.2853|           AEROCIVIL|EN CONCESION-SOAC...|           250|        8.0|       |           |    519.0|  1862,000|        1971-07-19|              |   3C|Aerocivil|            -14822.0|              70|        70215|\n",
      "|  rch| RCH|   almirante padilla|            Riohacha|        la guajira|         |    500|-72.9267|           MUNICIPIO|AEROCIVIL -ORIENT...|           250|        8.0|       |           |     43.0|   187,000|        1987-02-02|              |   4C|Aerocivil|              6241.0|              44|        44001|\n",
      "|  mvp| MVP|fabio a. leon ben...|               MitÃº|            vaupes|         |    500|-70.2341|           MUNICIPIO|           AEROCIVIL|           250|        8.0|       |           |    680.0|    34,000|        1958-02-19|              |   3C|Aerocivil|             35858.0|              97|        97001|\n",
      "|  fla| FLA|gustavo artunduag...|           Florencia|           caqueta|         |    500|-75.5643|           AEROCIVIL|           AEROCIVIL|           250|        8.0|       |           |    803.0|   984,000|        1987-02-02|              |   3C|Aerocivil|            -16997.0|              18|        18001|\n",
      "|  lch| LCR|virgilio barco va...|         La Chorrera|          amazonas|         |    500|-72.8011|        CAJA AGRARIA|COMISARIA DEL AMA...|           250|        8.0|       |           |    593.0|   916,000|                  |              |   2A| PÃºblico|             -1754.0|              91|        91405|\n",
      "+-----+----+--------------------+--------------------+------------------+---------+-------+--------+--------------------+--------------------+--------------+-----------+-------+-----------+---------+----------+------------------+--------------+-----+---------+--------------------+----------------+-------------+\n",
      "only showing top 20 rows\n",
      "\n"
     ]
    }
   ],
   "source": [
    "aeropuertos.where(length(col(\"categoria\")) <= 1).show()"
   ]
  },
  {
   "cell_type": "markdown",
   "metadata": {
    "id": "cfRkDawmPn3Z",
    "outputId": "d1e48a40-41de-4df1-8f43-ff2f6294ae4e"
   },
   "source": [
    "Se debe informar al negocio que el campo categoria tiene información con longitud menor a 1 y en muchos casos en blanco, esto podría dificultar una consulta de cantidad de vuelos por categoria, si es que el negocio llega a requerirlo."
   ]
  },
  {
   "cell_type": "markdown",
   "metadata": {
    "id": "UuZspay3Pn3Z"
   },
   "source": [
    "### Análisis descriptivo\n",
    "Una vez cubierto lo básico de reglas de negocio, pasamos a perfilamiento estadístico. Para ver estadisticos generales como conteo, mínimo, máximo, desviación estandar y percentiles utilice summary()"
   ]
  },
  {
   "cell_type": "code",
   "execution_count": 54,
   "metadata": {
    "id": "TkWrIdDhPn3Z",
    "outputId": "7d37ef91-452e-49d9-8282-f1676c2b5ea9"
   },
   "outputs": [
    {
     "name": "stdout",
     "output_type": "stream",
     "text": [
      "+-------+-----+----+--------+---------+------------+----------+-------+------------------+--------------------+-------------+--------------+------------------+------------------+-----------+------------------+----------+------------------+--------------+------------------+--------+--------------------+------------------+-----------------+\n",
      "|summary|sigla|iata|  nombre|municipio|departamento| categoria|latitud|          longitud|         propietario|   explotador|longitud_pista|       ancho_pista|              pbmo|orientacion|         elevacion|resolucion|fecha_construccion|fecha_vigencia|             clase|    tipo|numero_vuelos_origen|  gcd_departamento|    gcd_municipio|\n",
      "+-------+-----+----+--------+---------+------------+----------+-------+------------------+--------------------+-------------+--------------+------------------+------------------+-----------+------------------+----------+------------------+--------------+------------------+--------+--------------------+------------------+-----------------+\n",
      "|  count|  547| 547|     547|      547|         547|       547|    547|               547|                 547|          547|           547|               547|               547|        547|               547|       547|               547|           547|               547|     547|                 547|               547|              547|\n",
      "|   mean| null|null|    null|     null|        null|      null|  500.0|-73.07385328255542|                null|         null|         250.0|6.7714808043875685|4503.7223796033995|       null|             953.5|      null|              null|          null|               3.5|    null|   -1495.54844606947|62.029250457038394|62342.82998171847|\n",
      "| stddev| null|null|    null|     null|        null|      null|    0.0|  2.06994564160601|                null|         null|           0.0|2.8868893676039455| 4660.122309527231|       null|1196.5364393186208|      null|              null|          null|0.5773502691896257|    null|  46097.478663370515| 28.13857428200601|28082.87921613649|\n",
      "|    min|  4jc|    |acapulco|  AcandÃ­|    amazonas|          |    500|                  |                    |             |           250|               0.0|                  |           |                  |          |                  |              |                  |        |          -1028334.0|                 5|             5001|\n",
      "|    25%| null|null|    null|     null|        null|      null|    500|          -74.8894|                null|         null|           250|               8.0|            2000.0|       null|             419.0|      null|              null|          null|               3.0|    null|               -12.0|                47|            47058|\n",
      "|    50%| null|null|    null|     null|        null|      null|    500|           -72.978|                null|         null|           250|               8.0|            3000.0|       null|             620.0|      null|              null|          null|               3.0|    null|                 0.0|                73|            73001|\n",
      "|    75%| null|null|    null|     null|        null|      null|    500|          -71.6584|                null|         null|           250|               8.0|            5000.0|       null|             865.0|      null|              null|          null|               4.0|    null|                 6.0|                85|            85230|\n",
      "|    max|  yyp| VVC|yavarate|   Zarzal|     vichada|AerÃ³dromo|    500|           -78.765|ZORROZA Y SUAREZ ...|UNIPALMA S.A.|           250|               8.0|            7250.0|           |             991.0| 13268,000|        2014-12-15|    2018-06-11|                UL|PÃºblico|            207439.0|                99|            99773|\n",
      "+-------+-----+----+--------+---------+------------+----------+-------+------------------+--------------------+-------------+--------------+------------------+------------------+-----------+------------------+----------+------------------+--------------+------------------+--------+--------------------+------------------+-----------------+\n",
      "\n"
     ]
    }
   ],
   "source": [
    "aeropuertos.summary().show()"
   ]
  },
  {
   "cell_type": "markdown",
   "metadata": {
    "id": "0zEoTVtOPn3Z"
   },
   "source": [
    "En las estadísticas anteriores vemos que las columnas sigla, iata, nombre, municipio, departamento tienen el 75 percentil emn null, es decir son columnas vacías por lo que se pueden eliminar, también observamos el calculo de la media para las columnas ID, Se confirma que la fecha minima es 0, también la cantidad de vuelos es 0 y la máxima de 7439."
   ]
  },
  {
   "cell_type": "code",
   "execution_count": 55,
   "metadata": {
    "id": "dn8Ez79LPn3a",
    "outputId": "4fdf9370-9987-46a8-80c0-8b4c79655534"
   },
   "outputs": [
    {
     "data": {
      "text/plain": [
       "{'whiskers': [<matplotlib.lines.Line2D at 0x18680fd13c8>,\n",
       "  <matplotlib.lines.Line2D at 0x18680fe10c8>],\n",
       " 'caps': [<matplotlib.lines.Line2D at 0x18680fe11c8>,\n",
       "  <matplotlib.lines.Line2D at 0x18680fe1d48>],\n",
       " 'boxes': [<matplotlib.lines.Line2D at 0x18680f50b88>],\n",
       " 'medians': [<matplotlib.lines.Line2D at 0x18680fe5348>],\n",
       " 'fliers': [<matplotlib.lines.Line2D at 0x18680fe1e08>],\n",
       " 'means': []}"
      ]
     },
     "execution_count": 55,
     "metadata": {},
     "output_type": "execute_result"
    },
    {
     "data": {
      "image/png": "[encoded data removed]",
      "text/plain": [
       "<Figure size 432x288 with 1 Axes>"
      ]
     },
     "metadata": {
      "needs_background": "light"
     },
     "output_type": "display_data"
    }
   ],
   "source": [
    "%matplotlib inline\n",
    "import matplotlib.pyplot as plt\n",
    "\n",
    "fig1, ax1 = plt.subplots()\n",
    "ax1.set_title('numero_vuelos_origen')\n",
    "ax1.boxplot(np.array(aeropuertos.select('numero_vuelos_origen').collect()))"
   ]
  },
  {
   "cell_type": "code",
   "execution_count": 57,
   "metadata": {
    "id": "iz9SiUvHPn3b",
    "outputId": "449aaac6-4825-4104-e748-78056fc4f88f"
   },
   "outputs": [
    {
     "name": "stdout",
     "output_type": "stream",
     "text": [
      "+------------+-----+\n",
      "|departamento|count|\n",
      "+------------+-----+\n",
      "|    casanare|  124|\n",
      "|        meta|   89|\n",
      "|      tolima|   44|\n",
      "|      vaupes|   38|\n",
      "|       cesar|   29|\n",
      "+------------+-----+\n",
      "only showing top 5 rows\n",
      "\n"
     ]
    }
   ],
   "source": [
    "aeropuertos.groupby(\"departamento\").count().orderBy(\"count\", ascending=False).show(5)"
   ]
  },
  {
   "cell_type": "markdown",
   "metadata": {
    "id": "9bG1x9gWPn3b",
    "tags": []
   },
   "source": [
    "## Análisis de calidad de datos\n",
    "La calidad de los datos consiste en validar la idoneidad de los datos analizando varias dimensiones, entre las cuales resaltamos:\n",
    "- Completitud: Datos que no existen o no se conocen\n",
    "- Unicidad (Duplicidad): Datos que son idénticos en diferentes registros o registros con valores idénticos en atributos en los que no debería ocurrir\n",
    "- Consistencia: Esta medida se define por la validez o integridad del dato, en la definición de su estructura, al interior de una fila o entre diferentes filas de la misma fuente o de diferentes fuentes. El manejo de unidades en los datos y el significado del dato son generadores de inconsistencias.\n",
    "- Validez: a nivel de formato y de sentido de los datos más alla de sus valores\n",
    "\n",
    "Para asegurar una calidad mínima de los datos en estas dimensiones hay que entender su origen y posteriormente realizar un proceso de validación de cada una de las dimensiones de perfilamiento que llevará a un entendimiento de los datos disponibles.\n"
   ]
  },
  {
   "cell_type": "markdown",
   "metadata": {
    "id": "WKPFuI9uPn3b"
   },
   "source": [
    "A continuación se definen dos funciones, la primera cuenta los valores vacios por columna de dataframe, la segunda retorna un diccionario de columnas con cardinalidad superior al 50%\n"
   ]
  },
  {
   "cell_type": "markdown",
   "metadata": {
    "id": "ZHLs1H0hPn3b"
   },
   "source": [
    "### Unicidad y validez\n",
    "\n",
    "La unicidad y la validez se revisaron al comprobar las reglas de negocio en análisis previos. "
   ]
  },
  {
   "cell_type": "markdown",
   "metadata": {
    "id": "QgkzeSm4Pn3b"
   },
   "source": [
    "### Completitud y validez"
   ]
  },
  {
   "cell_type": "code",
   "execution_count": 62,
   "metadata": {
    "id": "mIWH-vVoPn3b"
   },
   "outputs": [],
   "source": [
    "def contar_vacios(df):\n",
    "    resultados = []\n",
    "    for c in df.columns:\n",
    "        vacios = df.filter(df[c].isNull()).count()\n",
    "        if vacios!=0:\n",
    "            print('número de vacíos para columna '+c+': '+str( vacios ))\n",
    "            resultados.append(vacios)\n",
    "    return resultados\n",
    "\n",
    "def cardinalidad(df):\n",
    "    resultado = {}\n",
    "    for c in df.columns:\n",
    "        cardinalidad = df.select(col(c)).distinct().count()\n",
    "        if cardinalidad>=df.count()*0.5:\n",
    "            resultado[c] = cardinalidad\n",
    "    return resultado"
   ]
  },
  {
   "cell_type": "code",
   "execution_count": 63,
   "metadata": {
    "id": "da_z_ti-Pn3b",
    "outputId": "ecac9b39-d97a-422a-a579-698c5733ab7b"
   },
   "outputs": [
    {
     "name": "stdout",
     "output_type": "stream",
     "text": [
      "detalles de aeropuertos: \n"
     ]
    }
   ],
   "source": [
    "columnas_vacias_aeropuertos = contar_vacios(aeropuertos)\n",
    "print('detalles de aeropuertos: ')"
   ]
  },
  {
   "cell_type": "code",
   "execution_count": 64,
   "metadata": {
    "id": "NxXQm_KEPn3c",
    "outputId": "419b9709-25fe-43dd-d63a-a9be645d11f7"
   },
   "outputs": [],
   "source": [
    "columnas_alta_cardinalidad_aeropuertos = cardinalidad(aeropuertos)"
   ]
  },
  {
   "cell_type": "markdown",
   "metadata": {
    "id": "vDX10qmfPn3c"
   },
   "source": [
    "En esta tabla tenemos varias celdas con con campos que se encuentran en null y otro que estan vacios. Por ejemplo en el códido iata, en el campo longitud, en el campo pmob y en los camos de fechas."
   ]
  },
  {
   "cell_type": "markdown",
   "metadata": {
    "id": "LZyQcqCvPn3c"
   },
   "source": [
    "### Consistencia\n",
    "A nivel de consistencia algunos ejemplos de revisión son precios negativos, en este caso tenemos la columna de numero_vuelos_origen que presenta valores en negativo. Otro campo es el campo municipio y categoría que presentaninformación incompleta y otros que alamcenan caracteres especiales que no debería esta allí."
   ]
  },
  {
   "cell_type": "markdown",
   "metadata": {
    "id": "ct4KbukcPn3c"
   },
   "source": [
    "## Herramientas para facilitar el entendimiento de datos"
   ]
  },
  {
   "cell_type": "markdown",
   "metadata": {
    "id": "62jY4uoQPn3d"
   },
   "source": [
    "Algunas de las estadísticas antes desarrolladas pueden obtenerse por medio de herramientas como Pandas Profiling una herramienta muy útil, <b><i>Pero no perfecta ni completa</i></b>, es Pandas profiling que dado un conjunto de datos, nos muestra histogramas, estadísticas etc. A continuación guardamos el reporte en html"
   ]
  },
  {
   "cell_type": "code",
   "execution_count": 70,
   "metadata": {
    "colab": {
     "referenced_widgets": [
      "18d36d8316d14fb2b1046fd12e844ae4",
      "2d029404a2994346918423391fc63c41",
      "0ab77442375c4f09ab98151e743deebc",
      "fec3309b395249d6ac3ecb39f2031344"
     ]
    },
    "id": "TlWywoCUPn3d",
    "outputId": "1a013e5c-269b-4099-a169-b2dd14182d8a"
   },
   "outputs": [
    {
     "data": {
      "application/json": {
       "ascii": false,
       "bar_format": null,
       "colour": null,
       "elapsed": 0.011999845504760742,
       "initial": 0,
       "n": 0,
       "ncols": null,
       "nrows": null,
       "postfix": null,
       "prefix": "Summarize dataset",
       "rate": null,
       "total": 5,
       "unit": "it",
       "unit_divisor": 1000,
       "unit_scale": false
      },
      "application/vnd.jupyter.widget-view+json": {
       "model_id": "5ce958fe7ced4abaada59c39cf6304cc",
       "version_major": 2,
       "version_minor": 0
      },
      "text/plain": [
       "Summarize dataset:   0%|          | 0/5 [00:00<?, ?it/s]"
      ]
     },
     "metadata": {},
     "output_type": "display_data"
    },
    {
     "data": {
      "application/json": {
       "ascii": false,
       "bar_format": null,
       "colour": null,
       "elapsed": 0.015620708465576172,
       "initial": 0,
       "n": 0,
       "ncols": null,
       "nrows": null,
       "postfix": null,
       "prefix": "Generate report structure",
       "rate": null,
       "total": 1,
       "unit": "it",
       "unit_divisor": 1000,
       "unit_scale": false
      },
      "application/vnd.jupyter.widget-view+json": {
       "model_id": "9fba61e194114f9a877b559f17141792",
       "version_major": 2,
       "version_minor": 0
      },
      "text/plain": [
       "Generate report structure:   0%|          | 0/1 [00:00<?, ?it/s]"
      ]
     },
     "metadata": {},
     "output_type": "display_data"
    },
    {
     "data": {
      "application/json": {
       "ascii": false,
       "bar_format": null,
       "colour": null,
       "elapsed": 0.011000871658325195,
       "initial": 0,
       "n": 0,
       "ncols": null,
       "nrows": null,
       "postfix": null,
       "prefix": "Render HTML",
       "rate": null,
       "total": 1,
       "unit": "it",
       "unit_divisor": 1000,
       "unit_scale": false
      },
      "application/vnd.jupyter.widget-view+json": {
       "model_id": "2046dbfa048141ffb3426342965e4693",
       "version_major": 2,
       "version_minor": 0
      },
      "text/plain": [
       "Render HTML:   0%|          | 0/1 [00:00<?, ?it/s]"
      ]
     },
     "metadata": {},
     "output_type": "display_data"
    },
    {
     "data": {
      "application/json": {
       "ascii": false,
       "bar_format": null,
       "colour": null,
       "elapsed": 0.01563405990600586,
       "initial": 0,
       "n": 0,
       "ncols": null,
       "nrows": null,
       "postfix": null,
       "prefix": "Export report to file",
       "rate": null,
       "total": 1,
       "unit": "it",
       "unit_divisor": 1000,
       "unit_scale": false
      },
      "application/vnd.jupyter.widget-view+json": {
       "model_id": "186188f5666547d09ec1006ff7d79af1",
       "version_major": 2,
       "version_minor": 0
      },
      "text/plain": [
       "Export report to file:   0%|          | 0/1 [00:00<?, ?it/s]"
      ]
     },
     "metadata": {},
     "output_type": "display_data"
    }
   ],
   "source": [
    "reporte = ProfileReport(aeropuertos.toPandas())\n",
    "reporte.to_file(PATH+\"reporte_prefilamiento_aeropuertos.html\")"
   ]
  },
  {
   "cell_type": "markdown",
   "metadata": {
    "id": "Ng5FqIGqPn3d"
   },
   "source": [
    "Lo primero que hay que notar es que hay 3 secciones principales. La primera es un resumen, la segunda es un análisis por cada variable y luego tenemos interacciones y correlaciones entre variables. \n",
    "\n",
    "Seccion general del reporte:\n",
    "1. Tenemos 23 variables y 547 registros (es decir, aeropuerts), de las cuales 17 son Strings, 2 Double, 2 enteros (la herramienta entiende tipo de variable como tipo de dato, asi que la información que nos da no es necesariamente correcta en este aspecto).\n",
    "\n",
    "2. En los datos hay 17.2% de datos vacíos, (conclusión)\n",
    "\n",
    "3. El archivo ocupa en memoria 89.9 Kb\n",
    "\n",
    "4. Hay 94 datos duplicados\n",
    "\n",
    "Sección de variables del reporte:\n",
    "\n",
    "5. Note que para cada variable sigla se tienen 443 registros únicos.\n"
   ]
  },
  {
   "cell_type": "markdown",
   "metadata": {
    "id": "cBQ9PDaBPn3d"
   },
   "source": [
    "<b>Cabe aclarar que un pandas profiling sin interpretación no es suficiente como análisis para realizar el entendimiento de los datos.\n",
    "\n",
    "Así mismo, recuerde que si es necesario, se debe utilizar otra herramienta (código, visualizaciones, etc) para poder completar el análisis estadístico.</b>"
   ]
  },
  {
   "cell_type": "markdown",
   "metadata": {
    "id": "eDf54JyKPn3d"
   },
   "source": [
    "### Algunas gráficas utiles: Diagrama de caja, dispersion, histogramas para entender las distribuciones de las variables\n",
    "\n",
    "Generalmente las gráficas se emplean para entender la distribución de cada variable, también sirven para visualizar la relación entre 2 o más variables\n",
    "\n",
    "Algunas gráficas útiles son los histogramas, disepersión, diagramas de caja. Hay varias maneras de implementarlos, con paquetes como matplotlib o pandas, con funciones propias de pyspark, etc, a continuacón mostramos cómo hacerlo a travez de pandas"
   ]
  },
  {
   "cell_type": "code",
   "execution_count": 71,
   "metadata": {
    "id": "HB--WS4-Pn3d",
    "outputId": "c2a41c9f-14f8-4d52-e59c-efc769e414c0"
   },
   "outputs": [
    {
     "data": {
      "text/plain": [
       "array([[<AxesSubplot:title={'center':'numero_vuelos_origen'}>]],\n",
       "      dtype=object)"
      ]
     },
     "execution_count": 71,
     "metadata": {},
     "output_type": "execute_result"
    },
    {
     "data": {
      "image/png": "[encoded data removed]",
      "text/plain": [
       "<Figure size 432x288 with 1 Axes>"
      ]
     },
     "metadata": {
      "needs_background": "light"
     },
     "output_type": "display_data"
    }
   ],
   "source": [
    "#para valores extremos(subir a calidad)\n",
    "aeropuertos.toPandas().hist(column='numero_vuelos_origen')"
   ]
  },
  {
   "cell_type": "code",
   "execution_count": 74,
   "metadata": {
    "id": "bJQ6CqOJPn3d"
   },
   "outputs": [],
   "source": [
    "cantidades = aeropuertos.groupby(\"departamento\").count().orderBy(\"count\", ascending=False)"
   ]
  },
  {
   "cell_type": "markdown",
   "metadata": {
    "id": "YRGn5uXAPn3e"
   },
   "source": [
    "Como se puede observar, el método retorna un dataframe, que vamos a usar para obtener dos arreglos, uno con el rango de cada una de las barras y otro con la cantidad de registros por rango. Se puede usar Matplotlib para graficar esta información:"
   ]
  },
  {
   "cell_type": "code",
   "execution_count": 75,
   "metadata": {
    "id": "wZY56uzKPn3e",
    "outputId": "d2323c1b-d785-49b8-8fd9-b76094b51657"
   },
   "outputs": [
    {
     "ename": "TypeError",
     "evalue": "type str doesn't define __round__ method",
     "output_type": "error",
     "traceback": [
      "\u001b[1;31m---------------------------------------------------------------------------\u001b[0m",
      "\u001b[1;31mTypeError\u001b[0m                                 Traceback (most recent call last)",
      "\u001b[1;32m~\\AppData\\Local\\Temp\\ipykernel_6316\\3501144351.py\u001b[0m in \u001b[0;36m<module>\u001b[1;34m\u001b[0m\n\u001b[0;32m     19\u001b[0m     \u001b[0mplt\u001b[0m\u001b[1;33m.\u001b[0m\u001b[0mshow\u001b[0m\u001b[1;33m(\u001b[0m\u001b[1;33m)\u001b[0m\u001b[1;33m\u001b[0m\u001b[1;33m\u001b[0m\u001b[0m\n\u001b[0;32m     20\u001b[0m \u001b[1;33m\u001b[0m\u001b[0m\n\u001b[1;32m---> 21\u001b[1;33m \u001b[0mplotHistogramData\u001b[0m\u001b[1;33m(\u001b[0m\u001b[0mcantidades\u001b[0m\u001b[1;33m)\u001b[0m\u001b[1;33m\u001b[0m\u001b[1;33m\u001b[0m\u001b[0m\n\u001b[0m",
      "\u001b[1;32m~\\AppData\\Local\\Temp\\ipykernel_6316\\3501144351.py\u001b[0m in \u001b[0;36mplotHistogramData\u001b[1;34m(data)\u001b[0m\n\u001b[0;32m      1\u001b[0m \u001b[1;32mdef\u001b[0m \u001b[0mplotHistogramData\u001b[0m\u001b[1;33m(\u001b[0m\u001b[0mdata\u001b[0m\u001b[1;33m)\u001b[0m\u001b[1;33m:\u001b[0m\u001b[1;33m\u001b[0m\u001b[1;33m\u001b[0m\u001b[0m\n\u001b[0;32m      2\u001b[0m     \u001b[0mbinSides\u001b[0m\u001b[1;33m,\u001b[0m \u001b[0mbinCounts\u001b[0m \u001b[1;33m=\u001b[0m \u001b[1;33m[\u001b[0m\u001b[0mrow\u001b[0m\u001b[1;33m[\u001b[0m\u001b[1;36m0\u001b[0m\u001b[1;33m]\u001b[0m \u001b[1;32mfor\u001b[0m \u001b[0mrow\u001b[0m \u001b[1;32min\u001b[0m \u001b[0mdata\u001b[0m\u001b[1;33m.\u001b[0m\u001b[0mcollect\u001b[0m\u001b[1;33m(\u001b[0m\u001b[1;33m)\u001b[0m\u001b[1;33m]\u001b[0m\u001b[1;33m,\u001b[0m \u001b[1;33m[\u001b[0m\u001b[0mrow\u001b[0m\u001b[1;33m[\u001b[0m\u001b[1;36m1\u001b[0m\u001b[1;33m]\u001b[0m \u001b[1;32mfor\u001b[0m \u001b[0mrow\u001b[0m \u001b[1;32min\u001b[0m \u001b[0mdata\u001b[0m\u001b[1;33m.\u001b[0m\u001b[0mcollect\u001b[0m\u001b[1;33m(\u001b[0m\u001b[1;33m)\u001b[0m\u001b[1;33m]\u001b[0m\u001b[1;33m\u001b[0m\u001b[1;33m\u001b[0m\u001b[0m\n\u001b[1;32m----> 3\u001b[1;33m     \u001b[0mbinSides\u001b[0m \u001b[1;33m=\u001b[0m \u001b[1;33m[\u001b[0m\u001b[0mround\u001b[0m\u001b[1;33m(\u001b[0m\u001b[0mi\u001b[0m\u001b[1;33m,\u001b[0m \u001b[1;36m2\u001b[0m\u001b[1;33m)\u001b[0m \u001b[1;32mfor\u001b[0m \u001b[0mi\u001b[0m \u001b[1;32min\u001b[0m \u001b[0mbinSides\u001b[0m\u001b[1;33m]\u001b[0m\u001b[1;33m\u001b[0m\u001b[1;33m\u001b[0m\u001b[0m\n\u001b[0m\u001b[0;32m      4\u001b[0m     \u001b[0mN\u001b[0m \u001b[1;33m=\u001b[0m \u001b[0mlen\u001b[0m\u001b[1;33m(\u001b[0m\u001b[0mbinCounts\u001b[0m\u001b[1;33m)\u001b[0m\u001b[1;33m\u001b[0m\u001b[1;33m\u001b[0m\u001b[0m\n\u001b[0;32m      5\u001b[0m     \u001b[0mind\u001b[0m \u001b[1;33m=\u001b[0m \u001b[0mnp\u001b[0m\u001b[1;33m.\u001b[0m\u001b[0marange\u001b[0m\u001b[1;33m(\u001b[0m\u001b[0mN\u001b[0m\u001b[1;33m)\u001b[0m\u001b[1;33m\u001b[0m\u001b[1;33m\u001b[0m\u001b[0m\n",
      "\u001b[1;32m~\\AppData\\Local\\Temp\\ipykernel_6316\\3501144351.py\u001b[0m in \u001b[0;36m<listcomp>\u001b[1;34m(.0)\u001b[0m\n\u001b[0;32m      1\u001b[0m \u001b[1;32mdef\u001b[0m \u001b[0mplotHistogramData\u001b[0m\u001b[1;33m(\u001b[0m\u001b[0mdata\u001b[0m\u001b[1;33m)\u001b[0m\u001b[1;33m:\u001b[0m\u001b[1;33m\u001b[0m\u001b[1;33m\u001b[0m\u001b[0m\n\u001b[0;32m      2\u001b[0m     \u001b[0mbinSides\u001b[0m\u001b[1;33m,\u001b[0m \u001b[0mbinCounts\u001b[0m \u001b[1;33m=\u001b[0m \u001b[1;33m[\u001b[0m\u001b[0mrow\u001b[0m\u001b[1;33m[\u001b[0m\u001b[1;36m0\u001b[0m\u001b[1;33m]\u001b[0m \u001b[1;32mfor\u001b[0m \u001b[0mrow\u001b[0m \u001b[1;32min\u001b[0m \u001b[0mdata\u001b[0m\u001b[1;33m.\u001b[0m\u001b[0mcollect\u001b[0m\u001b[1;33m(\u001b[0m\u001b[1;33m)\u001b[0m\u001b[1;33m]\u001b[0m\u001b[1;33m,\u001b[0m \u001b[1;33m[\u001b[0m\u001b[0mrow\u001b[0m\u001b[1;33m[\u001b[0m\u001b[1;36m1\u001b[0m\u001b[1;33m]\u001b[0m \u001b[1;32mfor\u001b[0m \u001b[0mrow\u001b[0m \u001b[1;32min\u001b[0m \u001b[0mdata\u001b[0m\u001b[1;33m.\u001b[0m\u001b[0mcollect\u001b[0m\u001b[1;33m(\u001b[0m\u001b[1;33m)\u001b[0m\u001b[1;33m]\u001b[0m\u001b[1;33m\u001b[0m\u001b[1;33m\u001b[0m\u001b[0m\n\u001b[1;32m----> 3\u001b[1;33m     \u001b[0mbinSides\u001b[0m \u001b[1;33m=\u001b[0m \u001b[1;33m[\u001b[0m\u001b[0mround\u001b[0m\u001b[1;33m(\u001b[0m\u001b[0mi\u001b[0m\u001b[1;33m,\u001b[0m \u001b[1;36m2\u001b[0m\u001b[1;33m)\u001b[0m \u001b[1;32mfor\u001b[0m \u001b[0mi\u001b[0m \u001b[1;32min\u001b[0m \u001b[0mbinSides\u001b[0m\u001b[1;33m]\u001b[0m\u001b[1;33m\u001b[0m\u001b[1;33m\u001b[0m\u001b[0m\n\u001b[0m\u001b[0;32m      4\u001b[0m     \u001b[0mN\u001b[0m \u001b[1;33m=\u001b[0m \u001b[0mlen\u001b[0m\u001b[1;33m(\u001b[0m\u001b[0mbinCounts\u001b[0m\u001b[1;33m)\u001b[0m\u001b[1;33m\u001b[0m\u001b[1;33m\u001b[0m\u001b[0m\n\u001b[0;32m      5\u001b[0m     \u001b[0mind\u001b[0m \u001b[1;33m=\u001b[0m \u001b[0mnp\u001b[0m\u001b[1;33m.\u001b[0m\u001b[0marange\u001b[0m\u001b[1;33m(\u001b[0m\u001b[0mN\u001b[0m\u001b[1;33m)\u001b[0m\u001b[1;33m\u001b[0m\u001b[1;33m\u001b[0m\u001b[0m\n",
      "\u001b[1;31mTypeError\u001b[0m: type str doesn't define __round__ method"
     ]
    }
   ],
   "source": [
    "def plotHistogramData(data):\n",
    "    binSides, binCounts = [row[0] for row in data.collect()], [row[1] for row in data.collect()]\n",
    "    binSides = [round(i, 2) for i in binSides]\n",
    "    N = len(binCounts)\n",
    "    ind = np.arange(N)\n",
    "    width = 1\n",
    "\n",
    "    fig, ax = plt.subplots()\n",
    "    rects1 = ax.bar(ind+0.5, binCounts, width, color='b')\n",
    "    \n",
    "    fig.set_size_inches(1.3*N, 8)\n",
    "\n",
    "    ax.set_ylabel('Frecuencia')\n",
    "    ax.set_xlabel('Rango')\n",
    "    ax.set_title('Histograma')\n",
    "    ax.set_xticks(np.arange(N))\n",
    "    ax.set_xticklabels(binSides)\n",
    "\n",
    "    plt.show()\n",
    "\n",
    "plotHistogramData(cantidades)"
   ]
  },
  {
   "cell_type": "markdown",
   "metadata": {
    "id": "47eVd0NJPn3e"
   },
   "source": [
    "El diagrama de dispersion, nos muestra los datos para dos variables en forma de puntos y es muy útil para entender la relación entre dichas variables"
   ]
  },
  {
   "cell_type": "markdown",
   "metadata": {
    "id": "ltTluhtIPn3e"
   },
   "source": [
    "### Otras opciones de exploración\n",
    "PySpark también da la opción de crear tablas de pivotes. En el siguiente ejemplo, se muestra cómo hacer una tabla que permite ver cuántas ordenes hay por cada <i>Fecha_de_pedido</i> y por cada <i>ID_de_vendedor</i>, es decir por fecha y por empleado cuantas ordenes existen:"
   ]
  },
  {
   "cell_type": "code",
   "execution_count": 76,
   "metadata": {
    "id": "jTU_GHMIPn3e",
    "outputId": "d5c71e84-8815-4723-c916-d9b7ee138952"
   },
   "outputs": [
    {
     "name": "stdout",
     "output_type": "stream",
     "text": [
      "+--------------+--------+---------+------+---------+------------+-------+------+------+-------+--------+-----+-----+-----+-------+------------+-------+--------+-----+----------+---------+----+-------+------------------+--------+-------+---------+---------+-----+------+---------------+------+-------+\n",
      "|Fecha_vigencia|amazonas|antioquia|arauca|atlantico|bogota, d.c.|bolivar|boyaca|caldas|caqueta|casanare|cauca|cesar|choco|cordoba|cundinamarca|guainia|guaviare|huila|la guajira|magdalena|meta|nariÃ±o|norte de santander|putumayo|quindio|risaralda|santander|sucre|tolima|valle del cauca|vaupes|vichada|\n",
      "+--------------+--------+---------+------+---------+------------+-------+------+------+-------+--------+-----+-----+-----+-------+------------+-------+--------+-----+----------+---------+----+-------+------------------+--------+-------+---------+---------+-----+------+---------------+------+-------+\n",
      "|    2016-08-08|    null|     null|  null|     null|        null|   null|  null|  null|   null|    null| null|    1| null|   null|        null|   null|    null| null|      null|     null|null|   null|              null|    null|   null|     null|     null| null|  null|           null|  null|   null|\n",
      "|    2012-07-06|    null|     null|  null|     null|        null|   null|  null|  null|   null|    null| null| null| null|   null|        null|   null|    null| null|      null|     null|   2|   null|              null|    null|   null|     null|     null| null|  null|           null|  null|   null|\n",
      "|    2017-12-03|    null|     null|  null|     null|        null|   null|  null|  null|   null|    null| null|    1| null|   null|        null|   null|    null| null|      null|     null|null|   null|              null|    null|   null|     null|     null| null|  null|           null|  null|   null|\n",
      "|    2013-02-09|    null|     null|  null|     null|        null|   null|  null|  null|   null|       2| null| null| null|   null|        null|   null|    null| null|      null|     null|null|   null|              null|    null|   null|     null|     null| null|  null|           null|  null|   null|\n",
      "|    2017-12-01|    null|     null|  null|     null|        null|   null|  null|  null|   null|       1| null| null| null|   null|        null|   null|    null| null|      null|     null|null|   null|              null|    null|   null|     null|     null| null|  null|           null|  null|   null|\n",
      "|    2016-06-12|    null|     null|  null|     null|        null|   null|  null|  null|   null|       1| null| null| null|   null|        null|   null|    null| null|      null|     null|null|   null|              null|    null|   null|     null|     null| null|  null|           null|  null|   null|\n",
      "|    2016-12-04|    null|     null|  null|     null|        null|   null|  null|  null|   null|       2| null| null| null|   null|        null|   null|    null| null|      null|     null|null|   null|              null|    null|   null|     null|     null| null|  null|           null|  null|   null|\n",
      "|    2016-12-02|    null|     null|  null|     null|        null|   null|  null|  null|   null|    null|    2| null| null|   null|        null|   null|    null| null|      null|     null|null|   null|              null|    null|   null|     null|     null| null|  null|           null|  null|   null|\n",
      "|    2012-07-03|    null|     null|  null|     null|        null|   null|  null|  null|   null|    null| null| null| null|   null|        null|   null|    null| null|      null|     null|   1|   null|              null|    null|   null|     null|     null| null|  null|           null|  null|   null|\n",
      "|    2015-09-07|    null|     null|  null|     null|        null|   null|  null|  null|   null|       2| null| null| null|   null|        null|   null|    null| null|      null|     null|null|   null|              null|    null|   null|     null|     null| null|  null|           null|  null|   null|\n",
      "|    2018-06-11|    null|     null|  null|     null|        null|   null|  null|  null|   null|       1| null| null| null|   null|        null|   null|    null| null|      null|     null|null|   null|              null|    null|   null|     null|     null| null|  null|           null|  null|   null|\n",
      "|    2015-12-03|    null|     null|  null|     null|        null|   null|  null|  null|   null|    null| null| null| null|   null|        null|   null|    null| null|      null|     null|null|   null|              null|    null|   null|     null|     null| null|  null|           null|  null|      1|\n",
      "|    2017-06-03|    null|     null|  null|     null|        null|   null|  null|  null|   null|    null| null|    1| null|   null|        null|   null|    null| null|      null|     null|null|   null|              null|    null|   null|     null|     null| null|  null|           null|  null|   null|\n",
      "|    2017-01-09|    null|     null|  null|     null|        null|   null|  null|  null|   null|    null| null| null| null|   null|        null|   null|    null| null|      null|     null|null|   null|              null|    null|   null|     null|        2| null|  null|              1|  null|   null|\n",
      "|    2017-03-07|    null|     null|  null|     null|        null|   null|  null|  null|   null|    null| null| null| null|   null|        null|   null|    null| null|      null|     null|null|   null|              null|    null|   null|     null|     null| null|     1|           null|  null|   null|\n",
      "|    2014-08-11|    null|     null|  null|     null|        null|   null|  null|  null|   null|    null| null| null| null|   null|        null|   null|    null| null|      null|     null|   1|   null|              null|    null|   null|     null|     null| null|  null|           null|  null|   null|\n",
      "|    2016-04-10|    null|     null|  null|     null|        null|   null|  null|  null|   null|    null| null| null| null|   null|        null|   null|    null| null|      null|     null|null|   null|              null|    null|   null|     null|     null| null|     1|           null|  null|   null|\n",
      "|    2013-12-12|    null|        1|  null|     null|        null|   null|  null|  null|   null|    null| null| null| null|   null|        null|   null|    null| null|      null|     null|null|   null|              null|    null|   null|     null|     null| null|  null|           null|  null|   null|\n",
      "|    2015-10-02|    null|     null|  null|     null|        null|   null|  null|  null|   null|    null| null| null| null|   null|        null|   null|    null| null|      null|     null|   1|   null|              null|    null|   null|     null|     null| null|  null|           null|  null|   null|\n",
      "|    2016-04-05|    null|     null|  null|     null|        null|   null|  null|  null|   null|    null| null| null| null|   null|        null|   null|    null| null|      null|     null|   4|   null|              null|    null|   null|     null|     null| null|  null|           null|  null|   null|\n",
      "+--------------+--------+---------+------+---------+------------+-------+------+------+-------+--------+-----+-----+-----+-------+------------+-------+--------+-----+----------+---------+----+-------+------------------+--------+-------+---------+---------+-----+------+---------------+------+-------+\n",
      "only showing top 20 rows\n",
      "\n"
     ]
    }
   ],
   "source": [
    "aeropuertos.groupBy('Fecha_vigencia').pivot('departamento').count().show()"
   ]
  },
  {
   "cell_type": "markdown",
   "metadata": {
    "id": "h0eRDQmcPn3f"
   },
   "source": [
    "Lo anterior nos muestra que muchos de los campos se encuentran vacios."
   ]
  },
  {
   "cell_type": "code",
   "execution_count": 77,
   "metadata": {
    "id": "TydBsUX-Pn3f",
    "outputId": "e4779562-9cd6-4881-e97f-d18e5e75f253"
   },
   "outputs": [
    {
     "name": "stderr",
     "output_type": "stream",
     "text": [
      "C:\\Users\\estudiante\\anaconda3\\envs\\Tutoriales\\lib\\site-packages\\pandas\\io\\formats\\style.py:2813: RuntimeWarning: All-NaN slice encountered\n",
      "  smin = np.nanmin(gmap) if vmin is None else vmin\n",
      "C:\\Users\\estudiante\\anaconda3\\envs\\Tutoriales\\lib\\site-packages\\pandas\\io\\formats\\style.py:2814: RuntimeWarning: All-NaN slice encountered\n",
      "  smax = np.nanmax(gmap) if vmax is None else vmax\n"
     ]
    },
    {
     "data": {
      "text/html": [
       "<style type=\"text/css\">\n",
       "#T_1024c_row0_col0, #T_1024c_row0_col1, #T_1024c_row0_col2, #T_1024c_row0_col3, #T_1024c_row0_col4, #T_1024c_row0_col5, #T_1024c_row1_col0, #T_1024c_row1_col1, #T_1024c_row1_col2, #T_1024c_row1_col3, #T_1024c_row1_col4, #T_1024c_row1_col5, #T_1024c_row2_col0, #T_1024c_row2_col1, #T_1024c_row3_col0, #T_1024c_row3_col1, #T_1024c_row4_col0, #T_1024c_row4_col1, #T_1024c_row5_col0, #T_1024c_row5_col1 {\n",
       "  background-color: #000000;\n",
       "  color: #f1f1f1;\n",
       "}\n",
       "#T_1024c_row2_col2, #T_1024c_row3_col3, #T_1024c_row4_col4, #T_1024c_row4_col5, #T_1024c_row5_col4, #T_1024c_row5_col5 {\n",
       "  background-color: #b40426;\n",
       "  color: #f1f1f1;\n",
       "}\n",
       "#T_1024c_row2_col3, #T_1024c_row2_col4, #T_1024c_row2_col5, #T_1024c_row4_col2, #T_1024c_row5_col2 {\n",
       "  background-color: #3b4cc0;\n",
       "  color: #f1f1f1;\n",
       "}\n",
       "#T_1024c_row3_col2 {\n",
       "  background-color: #4961d2;\n",
       "  color: #f1f1f1;\n",
       "}\n",
       "#T_1024c_row3_col4, #T_1024c_row3_col5 {\n",
       "  background-color: #688aef;\n",
       "  color: #f1f1f1;\n",
       "}\n",
       "#T_1024c_row4_col3 {\n",
       "  background-color: #5977e3;\n",
       "  color: #f1f1f1;\n",
       "}\n",
       "#T_1024c_row5_col3 {\n",
       "  background-color: #5a78e4;\n",
       "  color: #f1f1f1;\n",
       "}\n",
       "</style>\n",
       "<table id=\"T_1024c_\">\n",
       "  <thead>\n",
       "    <tr>\n",
       "      <th class=\"blank level0\" >&nbsp;</th>\n",
       "      <th class=\"col_heading level0 col0\" >latitud</th>\n",
       "      <th class=\"col_heading level0 col1\" >longitud_pista</th>\n",
       "      <th class=\"col_heading level0 col2\" >ancho_pista</th>\n",
       "      <th class=\"col_heading level0 col3\" >numero_vuelos_origen</th>\n",
       "      <th class=\"col_heading level0 col4\" >gcd_departamento</th>\n",
       "      <th class=\"col_heading level0 col5\" >gcd_municipio</th>\n",
       "    </tr>\n",
       "  </thead>\n",
       "  <tbody>\n",
       "    <tr>\n",
       "      <th id=\"T_1024c_level0_row0\" class=\"row_heading level0 row0\" >latitud</th>\n",
       "      <td id=\"T_1024c_row0_col0\" class=\"data row0 col0\" >nan</td>\n",
       "      <td id=\"T_1024c_row0_col1\" class=\"data row0 col1\" >nan</td>\n",
       "      <td id=\"T_1024c_row0_col2\" class=\"data row0 col2\" >nan</td>\n",
       "      <td id=\"T_1024c_row0_col3\" class=\"data row0 col3\" >nan</td>\n",
       "      <td id=\"T_1024c_row0_col4\" class=\"data row0 col4\" >nan</td>\n",
       "      <td id=\"T_1024c_row0_col5\" class=\"data row0 col5\" >nan</td>\n",
       "    </tr>\n",
       "    <tr>\n",
       "      <th id=\"T_1024c_level0_row1\" class=\"row_heading level0 row1\" >longitud_pista</th>\n",
       "      <td id=\"T_1024c_row1_col0\" class=\"data row1 col0\" >nan</td>\n",
       "      <td id=\"T_1024c_row1_col1\" class=\"data row1 col1\" >nan</td>\n",
       "      <td id=\"T_1024c_row1_col2\" class=\"data row1 col2\" >nan</td>\n",
       "      <td id=\"T_1024c_row1_col3\" class=\"data row1 col3\" >nan</td>\n",
       "      <td id=\"T_1024c_row1_col4\" class=\"data row1 col4\" >nan</td>\n",
       "      <td id=\"T_1024c_row1_col5\" class=\"data row1 col5\" >nan</td>\n",
       "    </tr>\n",
       "    <tr>\n",
       "      <th id=\"T_1024c_level0_row2\" class=\"row_heading level0 row2\" >ancho_pista</th>\n",
       "      <td id=\"T_1024c_row2_col0\" class=\"data row2 col0\" >nan</td>\n",
       "      <td id=\"T_1024c_row2_col1\" class=\"data row2 col1\" >nan</td>\n",
       "      <td id=\"T_1024c_row2_col2\" class=\"data row2 col2\" >1.000000</td>\n",
       "      <td id=\"T_1024c_row2_col3\" class=\"data row2 col3\" >-0.010465</td>\n",
       "      <td id=\"T_1024c_row2_col4\" class=\"data row2 col4\" >-0.062686</td>\n",
       "      <td id=\"T_1024c_row2_col5\" class=\"data row2 col5\" >-0.063421</td>\n",
       "    </tr>\n",
       "    <tr>\n",
       "      <th id=\"T_1024c_level0_row3\" class=\"row_heading level0 row3\" >numero_vuelos_origen</th>\n",
       "      <td id=\"T_1024c_row3_col0\" class=\"data row3 col0\" >nan</td>\n",
       "      <td id=\"T_1024c_row3_col1\" class=\"data row3 col1\" >nan</td>\n",
       "      <td id=\"T_1024c_row3_col2\" class=\"data row3 col2\" >-0.010465</td>\n",
       "      <td id=\"T_1024c_row3_col3\" class=\"data row3 col3\" >1.000000</td>\n",
       "      <td id=\"T_1024c_row3_col4\" class=\"data row3 col4\" >0.092060</td>\n",
       "      <td id=\"T_1024c_row3_col5\" class=\"data row3 col5\" >0.092734</td>\n",
       "    </tr>\n",
       "    <tr>\n",
       "      <th id=\"T_1024c_level0_row4\" class=\"row_heading level0 row4\" >gcd_departamento</th>\n",
       "      <td id=\"T_1024c_row4_col0\" class=\"data row4 col0\" >nan</td>\n",
       "      <td id=\"T_1024c_row4_col1\" class=\"data row4 col1\" >nan</td>\n",
       "      <td id=\"T_1024c_row4_col2\" class=\"data row4 col2\" >-0.062686</td>\n",
       "      <td id=\"T_1024c_row4_col3\" class=\"data row4 col3\" >0.092060</td>\n",
       "      <td id=\"T_1024c_row4_col4\" class=\"data row4 col4\" >1.000000</td>\n",
       "      <td id=\"T_1024c_row4_col5\" class=\"data row4 col5\" >0.999956</td>\n",
       "    </tr>\n",
       "    <tr>\n",
       "      <th id=\"T_1024c_level0_row5\" class=\"row_heading level0 row5\" >gcd_municipio</th>\n",
       "      <td id=\"T_1024c_row5_col0\" class=\"data row5 col0\" >nan</td>\n",
       "      <td id=\"T_1024c_row5_col1\" class=\"data row5 col1\" >nan</td>\n",
       "      <td id=\"T_1024c_row5_col2\" class=\"data row5 col2\" >-0.063421</td>\n",
       "      <td id=\"T_1024c_row5_col3\" class=\"data row5 col3\" >0.092734</td>\n",
       "      <td id=\"T_1024c_row5_col4\" class=\"data row5 col4\" >0.999956</td>\n",
       "      <td id=\"T_1024c_row5_col5\" class=\"data row5 col5\" >1.000000</td>\n",
       "    </tr>\n",
       "  </tbody>\n",
       "</table>\n"
      ],
      "text/plain": [
       "<pandas.io.formats.style.Styler at 0x18680bb1748>"
      ]
     },
     "execution_count": 77,
     "metadata": {},
     "output_type": "execute_result"
    }
   ],
   "source": [
    "corr = aeropuertos.toPandas().corr(method='pearson')\n",
    "corr.style.background_gradient(cmap='coolwarm')"
   ]
  },
  {
   "cell_type": "markdown",
   "metadata": {
    "id": "kxj4KoVDPn3f"
   },
   "source": [
    "## Conclusiones/resultados"
   ]
  },
  {
   "cell_type": "markdown",
   "metadata": {
    "id": "snq4CGXQPn3f"
   },
   "source": [
    "\n",
    "**Conclusiones generales:**\n",
    "\n",
    "1. Como puede observar en la tabla de aeropuertosCopia tenemos información relacionada con los aeropuertos de los diferentes departamentos del país, la sigla que los identifica y toda la información relacionada con cada uno de ellos. La información del propietario, esto es si el dueño es el departamento, el municipio, etc. También encontramos información relacionada en cuanto al tipo de aeropuerto; es decir, si es público o privado, de que categoría es, teniendo en cuenta que existe una categorización para cada uno de ellos. Otra información que se encuentra almacenada en esta tabla es la relacionada a su ubicación geografica, departamento, municipio. El número de vuelos que salen de cada uno de estos aeropuertos.\n",
    "\n",
    "2. En total tenemos 547 registros de aeropuertos y tenemos en total 23 variables\n",
    "\n",
    "3. Acá tenemos una conclusión ya que el negocio nos manifestó que se contaba con 865 aeropuertos, pero esta información no es cierta.\n",
    "\n",
    "4. Concluimos entonces, que hay 383 registros cuya fecha de construcción y 460 en el campo de fecha de vigencia que no cumplen con el formato especificado. Se debe solicitar una aclaración de parte de negocio para saber si es mejor eliminar el campo o llenar con alguna fecha por defecto.\n",
    "\n",
    "**Conclusiones de reglas de negocio:**\n",
    "\n",
    "1. Con las anteriores consultas podemos ver que esta regla no es cierta ya que no existen 865 aeropuertos, solo existen 547. Esta información se debe entregar en las conclusiones al negocio. Por otra parte se debe pedir la aclaración del porque en la cantidad de numero_vuelos_origen se tiene información negativa. Se puede arreglar este valor filtrando los registros negativos y multiplicandolos por -1 para dejarelos positivos.\n",
    "\n",
    "**Conclusiones de calidad:**\n",
    "\n",
    "1. Completitud: \n",
    "En esta tabla tenemos varias celdas con con campos que se encuentran en null y otro que estan vacios. Por ejemplo en el códido iata, en el campo longitud, en el campo pmob y en los camos de fechas.\n",
    "\n",
    "2. Consistencia:\n",
    "A nivel de consistencia algunos ejemplos de revisión son precios negativos, en este caso tenemos la columna de numero_vuelos_origen que presenta valores en negativo. Otro campo es el campo municipio y categoría que presentaninformación incompleta y otros que alamcenan caracteres especiales que no debería esta allí.\n",
    "\n",
    "**Conclusiones de consultoria**\n",
    "\n",
    "Se debe informar al negocio que el campo categoria tiene información con longitud menor a 1 y en muchos casos en blanco, esto podría dificultar una consulta de cantidad de vuelos por categoria, si es que el negocio llega a requerirlo.\n",
    "\n",
    "En las estadísticas anteriores vemos que las columnas sigla, iata, nombre, municipio, departamento tienen el 75 percentil en null, es decir son columnas vacías por lo que se pueden eliminar, también observamos el calculo de la media para las columnas numero_vuelos_origen, Se confirma que la fecha minima es 0, también la cantidad de vuelos es 0 y la máxima de 7439.\n",
    "\n",
    "Al negocio se le plantena las siguientes preguntas:\n",
    "\n",
    "1. Una primera aclaración a solicitar por parte del negocio es que información almacenan los campos \"iata\" y \"pbmo\" y si es posible eliminarlos ya que existen varios registros vacios.\n",
    "\n",
    "2. La conclusión es entonces que la regla no es completamente cierta, pues en la cantidad de datos no existe la cantidad de aeropuertos que informagocio, es necesario pedir aclaraciones al negocio en relación a este descubrimiento. Al contar con valores negativos no es posible determinar con exactitud la cantidad de vuelos que informa el negocio, para esto sería necesario realizar el cambio a valores positivos, claro esta que con la aclaración del porque existen valores negativos para este campo.\n",
    "\n",
    "3. Como pueden ver hay 444 aeropuertos únicos. Es decir que sabemos que hay 123 aeropuertos completamente repetidos, esto sigue siendo una conclusión para que negocio lo aclare."
   ]
  },
  {
   "cell_type": "markdown",
   "metadata": {
    "id": "xsIHBKMTPn3g"
   },
   "source": [
    "## Cierre\n",
    "\n",
    "Completado este tutorial ya sabrá la forma básica de utilizar PySpark. Ya sabe cómo crear DataFrames a partir de datos existentes, cómo seleccionar columnas o filas de este Dataframe, cómo rellenar espacios vacíos, cómo aplicar sus propias funciones a estos datos y los más importante, cómo utilizarlo para realizar una fase de entendimiento de datos.\n",
    "\n",
    "Las tablas detallesOrdenesCopia y OrdenesCopia estaran disponibles en caso de que desee repetir este tutorial cuantas veces considere necesario"
   ]
  },
  {
   "cell_type": "markdown",
   "metadata": {
    "id": "GV2OfMqRPn3g"
   },
   "source": [
    "## 7. Información adicional\n",
    "\n",
    "Si quiere conocer más sobre PySpark la guía más detallada es la documentación oficial, la cual puede encontrar acá: https://spark.apache.org/docs/latest/api/python/index.html <br>\n",
    "Para ir directamente a la documentación de PySpark SQL, donde está la información sobre los DataFrames: https://spark.apache.org/docs/latest/api/python/pyspark.sql.html <br>\n",
    "\n",
    "El Capítulo 2 del libro <i>Learn PySpark : Build Python-based Machine Learning and Deep Learning Models, New York: Apress. 2019</i> de Pramod Singh contiene muchos ejemplos útiles, puede encontrarlo en la biblioteca virtual de la universidad."
   ]
  },
  {
   "cell_type": "markdown",
   "metadata": {
    "id": "iKeHXm96Pn3h"
   },
   "source": [
    "## 8. Preguntas frecuentes\n",
    "\n",
    "1. Si en el cálculo de los histogramas o en una de sus UDF obtiene el error: TypeError: unsupported operand type(s) for *: 'decimal.Decimal' and 'float' verifique los tipos de las columnas que está intentando operar y, si alguna es double, conviértala a float.\n",
    "\n",
    "2. En algunos casos, encontrará también información sobre <i>Pandas_UDF</i>. <i>Pandas_UDF</i> son también User Defined Functions, por lo general los Pandas UDF son más eficientes que los UDF tradicionales, sin embargo, hay un bug con la versión de PySpark y de Java que se está usando, lo que previene la utilización de Pandas_UDF.\n",
    "\n",
    "3. Si al ejecutar la configuración de la sesión Spark le aparece el error <i>Cannot run multiple SparkContexts at once; existing SparkContext(app=pyspark-shell, master=local[*])</i> Reinicie el kernel y vuelva a ejecutar\n"
   ]
  },
  {
   "cell_type": "code",
   "execution_count": null,
   "metadata": {
    "id": "0JxEJmKnPn3h"
   },
   "outputs": [],
   "source": []
  }
 ],
 "metadata": {
  "colab": {
   "collapsed_sections": [
    "qxN27II0Pn3T",
    "GnAScmClPn3W",
    "UuZspay3Pn3Z",
    "ZHLs1H0hPn3b",
    "QgkzeSm4Pn3b",
    "LZyQcqCvPn3c",
    "eDf54JyKPn3d",
    "ltTluhtIPn3e",
    "IPhtXcD1Pn3g",
    "-axExLnhPn3g",
    "YfSMeXZQPn3g"
   ],
   "name": "MISW-ETL-Entendimiento.ipynb",
   "provenance": []
  },
  "kernelspec": {
   "display_name": "Python 3 (ipykernel)",
   "language": "python",
   "name": "python3"
  },
  "language_info": {
   "codemirror_mode": {
    "name": "ipython",
    "version": 3
   },
   "file_extension": ".py",
   "mimetype": "text/x-python",
   "name": "python",
   "nbconvert_exporter": "python",
   "pygments_lexer": "ipython3",
   "version": "3.7.13"
  },
  "toc-autonumbering": true,
  "toc-showcode": true
 },
 "nbformat": 4,
 "nbformat_minor": 4
}
