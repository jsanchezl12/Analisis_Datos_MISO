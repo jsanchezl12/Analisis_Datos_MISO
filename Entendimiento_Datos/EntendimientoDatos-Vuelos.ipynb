{
 "cells": [
  {
   "cell_type": "markdown",
   "metadata": {
    "id": "YLE3Y7VOPn3G"
   },
   "source": [
    "# Entendimiento de los datos con PySpark - Vuelos"
   ]
  },
  {
   "cell_type": "markdown",
   "metadata": {
    "id": "dm33nuYTPn3L"
   },
   "source": [
    "## Configuración e importe de paquetes\n",
    "Se utilizará el paquete de pandas profiling para apoyar el análisis estadístico, y se importan los paquetes de python\n",
    "necesarios"
   ]
  },
  {
   "cell_type": "code",
   "execution_count": 53,
   "metadata": {
    "id": "gGiDdRBNPn3M"
   },
   "outputs": [],
   "source": [
    "from pyspark.sql import SparkSession\n",
    "from pyspark.sql import functions\n",
    "from pyspark.sql.types import StructType\n",
    "from pyspark import SparkContext, SparkConf, SQLContext\n",
    "from pyspark.sql.types import FloatType, StringType, IntegerType, DateType\n",
    "from pyspark.sql.functions import udf, col, length, isnan, when, count, sum\n",
    "import pyspark.sql.functions as f\n",
    "import os \n",
    "from datetime import datetime\n",
    "from pyspark.sql import types as t\n",
    "from pandas_profiling import ProfileReport\n",
    "#import matplotlib.pyplot as plt\n",
    "import numpy as np"
   ]
  },
  {
   "cell_type": "markdown",
   "metadata": {
    "id": "Tyk0YmZRPn3N"
   },
   "source": [
    "Configuración del controlador e inicio de sesion Spark"
   ]
  },
  {
   "cell_type": "code",
   "execution_count": 3,
   "metadata": {
    "id": "0r-yix1rPn3O"
   },
   "outputs": [],
   "source": [
    "path_jar_driver = 'C:\\Program Files (x86)\\MySQL\\Connector J 8.0\\mysql-connector-java-8.0.28.jar'"
   ]
  },
  {
   "cell_type": "code",
   "execution_count": 5,
   "metadata": {
    "id": "0-m3Q2MtPn3O",
    "outputId": "459f0ec2-9a36-4a36-edac-427852524d95"
   },
   "outputs": [
    {
     "ename": "ValueError",
     "evalue": "Cannot run multiple SparkContexts at once; existing SparkContext(app=pyspark-shell, master=local[*]) created by __init__ at C:\\Users\\estudiante\\AppData\\Local\\Temp\\ipykernel_1068\\1218200805.py:5 ",
     "output_type": "error",
     "traceback": [
      "\u001b[1;31m---------------------------------------------------------------------------\u001b[0m",
      "\u001b[1;31mValueError\u001b[0m                                Traceback (most recent call last)",
      "\u001b[1;32m~\\AppData\\Local\\Temp\\ipykernel_1068\\1218200805.py\u001b[0m in \u001b[0;36m<module>\u001b[1;34m\u001b[0m\n\u001b[0;32m      3\u001b[0m     \u001b[1;33m.\u001b[0m\u001b[0mset\u001b[0m\u001b[1;33m(\u001b[0m\u001b[1;34m'spark.driver.extraClassPath'\u001b[0m\u001b[1;33m,\u001b[0m \u001b[0mpath_jar_driver\u001b[0m\u001b[1;33m)\u001b[0m\u001b[1;33m\u001b[0m\u001b[1;33m\u001b[0m\u001b[0m\n\u001b[0;32m      4\u001b[0m \u001b[1;33m\u001b[0m\u001b[0m\n\u001b[1;32m----> 5\u001b[1;33m \u001b[0mspark_context\u001b[0m \u001b[1;33m=\u001b[0m \u001b[0mSparkContext\u001b[0m\u001b[1;33m(\u001b[0m\u001b[0mconf\u001b[0m\u001b[1;33m=\u001b[0m\u001b[0mconf\u001b[0m\u001b[1;33m)\u001b[0m\u001b[1;33m\u001b[0m\u001b[1;33m\u001b[0m\u001b[0m\n\u001b[0m\u001b[0;32m      6\u001b[0m \u001b[0msql_context\u001b[0m \u001b[1;33m=\u001b[0m \u001b[0mSQLContext\u001b[0m\u001b[1;33m(\u001b[0m\u001b[0mspark_context\u001b[0m\u001b[1;33m)\u001b[0m\u001b[1;33m\u001b[0m\u001b[1;33m\u001b[0m\u001b[0m\n\u001b[0;32m      7\u001b[0m \u001b[0mspark\u001b[0m \u001b[1;33m=\u001b[0m \u001b[0msql_context\u001b[0m\u001b[1;33m.\u001b[0m\u001b[0msparkSession\u001b[0m\u001b[1;33m\u001b[0m\u001b[1;33m\u001b[0m\u001b[0m\n",
      "\u001b[1;32m~\\anaconda3\\envs\\Tutoriales\\lib\\site-packages\\pyspark\\context.py\u001b[0m in \u001b[0;36m__init__\u001b[1;34m(self, master, appName, sparkHome, pyFiles, environment, batchSize, serializer, conf, gateway, jsc, profiler_cls)\u001b[0m\n\u001b[0;32m    142\u001b[0m                 \" is not allowed as it is a security risk.\")\n\u001b[0;32m    143\u001b[0m \u001b[1;33m\u001b[0m\u001b[0m\n\u001b[1;32m--> 144\u001b[1;33m         \u001b[0mSparkContext\u001b[0m\u001b[1;33m.\u001b[0m\u001b[0m_ensure_initialized\u001b[0m\u001b[1;33m(\u001b[0m\u001b[0mself\u001b[0m\u001b[1;33m,\u001b[0m \u001b[0mgateway\u001b[0m\u001b[1;33m=\u001b[0m\u001b[0mgateway\u001b[0m\u001b[1;33m,\u001b[0m \u001b[0mconf\u001b[0m\u001b[1;33m=\u001b[0m\u001b[0mconf\u001b[0m\u001b[1;33m)\u001b[0m\u001b[1;33m\u001b[0m\u001b[1;33m\u001b[0m\u001b[0m\n\u001b[0m\u001b[0;32m    145\u001b[0m         \u001b[1;32mtry\u001b[0m\u001b[1;33m:\u001b[0m\u001b[1;33m\u001b[0m\u001b[1;33m\u001b[0m\u001b[0m\n\u001b[0;32m    146\u001b[0m             self._do_init(master, appName, sparkHome, pyFiles, environment, batchSize, serializer,\n",
      "\u001b[1;32m~\\anaconda3\\envs\\Tutoriales\\lib\\site-packages\\pyspark\\context.py\u001b[0m in \u001b[0;36m_ensure_initialized\u001b[1;34m(cls, instance, gateway, conf)\u001b[0m\n\u001b[0;32m    353\u001b[0m                         \u001b[1;34m\" created by %s at %s:%s \"\u001b[0m\u001b[1;33m\u001b[0m\u001b[1;33m\u001b[0m\u001b[0m\n\u001b[0;32m    354\u001b[0m                         % (currentAppName, currentMaster,\n\u001b[1;32m--> 355\u001b[1;33m                             callsite.function, callsite.file, callsite.linenum))\n\u001b[0m\u001b[0;32m    356\u001b[0m                 \u001b[1;32melse\u001b[0m\u001b[1;33m:\u001b[0m\u001b[1;33m\u001b[0m\u001b[1;33m\u001b[0m\u001b[0m\n\u001b[0;32m    357\u001b[0m                     \u001b[0mSparkContext\u001b[0m\u001b[1;33m.\u001b[0m\u001b[0m_active_spark_context\u001b[0m \u001b[1;33m=\u001b[0m \u001b[0minstance\u001b[0m\u001b[1;33m\u001b[0m\u001b[1;33m\u001b[0m\u001b[0m\n",
      "\u001b[1;31mValueError\u001b[0m: Cannot run multiple SparkContexts at once; existing SparkContext(app=pyspark-shell, master=local[*]) created by __init__ at C:\\Users\\estudiante\\AppData\\Local\\Temp\\ipykernel_1068\\1218200805.py:5 "
     ]
    }
   ],
   "source": [
    "#Configuración de la sesión\n",
    "conf=SparkConf() \\\n",
    "    .set('spark.driver.extraClassPath', path_jar_driver)\n",
    "\n",
    "spark_context = SparkContext(conf=conf)\n",
    "sql_context = SQLContext(spark_context)\n",
    "spark = sql_context.sparkSession"
   ]
  },
  {
   "cell_type": "code",
   "execution_count": 6,
   "metadata": {
    "id": "0eQw66SIPn3P"
   },
   "outputs": [],
   "source": [
    "# Si quiere practicar la conexion con el servidor de base de datos:\n",
    "db_connection_string = 'jdbc:mysql://157.253.236.116:8080/ProyectoTransaccional'\n",
    "# El usuario es su estudiante _i asignado y su contraseña la encontrará en el archivo excel de Coursera \n",
    "db_user = 'Estudiante_36_202314'\n",
    "db_psswd = 'aabb1122'\n",
    "\n",
    "PATH='./'"
   ]
  },
  {
   "cell_type": "markdown",
   "metadata": {
    "id": "LKHpN3nzPn3R"
   },
   "source": [
    "#### Conexión a fuente de datos\n",
    "A continuación encuentra las funciones para conectarse a la fuente de datos (archivo csv o base de datos) y retornar un dataframe que es el que se utilizará posteriormente para manipular los datos."
   ]
  },
  {
   "cell_type": "code",
   "execution_count": 7,
   "metadata": {
    "id": "SsdwInchPn3R"
   },
   "outputs": [],
   "source": [
    "def obtener_dataframe_de_bd(db_connection_string, sql, db_user, db_psswd):\n",
    "    df_bd = spark.read.format('jdbc')\\\n",
    "        .option('url', db_connection_string) \\\n",
    "        .option('dbtable', sql) \\\n",
    "        .option('user', db_user) \\\n",
    "        .option('password', db_psswd) \\\n",
    "        .option('driver', 'com.mysql.cj.jdbc.Driver') \\\n",
    "        .load()\n",
    "    return df_bd"
   ]
  },
  {
   "cell_type": "markdown",
   "metadata": {
    "id": "3HZloEq5Pn3S"
   },
   "source": [
    "#### Cargue de datos\n",
    "Para consultar desde la base de datos se puede acceder directamente a la tabla dado su nombre o se puede especificar la sentencia SQL de un \"SELECT\" completo para traer la información total o parcial de la tabla que se requiere. A continuación un ejemplo de cada uno de estos usos. \n",
    "Acceso directo para el caso de órdenes y acceso con sentencia SQL para el caso de detallesOrdenes."
   ]
  },
  {
   "cell_type": "code",
   "execution_count": 11,
   "metadata": {
    "id": "xMaQViPnPn3S"
   },
   "outputs": [],
   "source": [
    "sql_vuelos = 'ProyectoTransaccional.vuelosCopia2'"
   ]
  },
  {
   "cell_type": "code",
   "execution_count": 10,
   "metadata": {
    "id": "fDRojcVMPn3S"
   },
   "outputs": [],
   "source": [
    "sql_detallesproyecciones = '''(SELECT \n",
    "    ano,\n",
    "    mes,\n",
    "    origen,\n",
    "    destino,\n",
    "    tipo_equipo,\n",
    "    tipo_vuelo,\n",
    "    trafico,\n",
    "    empresa,\n",
    "    vuelos,\n",
    "    sillas,\n",
    "    carga_ofrecida,\n",
    "    pasajeros,\n",
    "    carga_bordo\n",
    "        FROM'ProyectoTransaccional.vuelosCopia2) AS Compatible'''"
   ]
  },
  {
   "cell_type": "code",
   "execution_count": 93,
   "metadata": {
    "id": "Ajy_XMshPn3T"
   },
   "outputs": [],
   "source": [
    "#Se cargan los dataframes desde la base de datos\n",
    "vuelos = obtener_dataframe_de_bd(db_connection_string, sql_vuelos, db_user, db_psswd)\n"
   ]
  },
  {
   "cell_type": "markdown",
   "metadata": {
    "id": "qxN27II0Pn3T"
   },
   "source": [
    "### Entendimiento general de datos"
   ]
  },
  {
   "cell_type": "markdown",
   "metadata": {
    "id": "BMULJYE2Pn3T"
   },
   "source": [
    "Para ver una muestra de los datos, utilice el comando <i>show</i> ingresando el número de filas que quiere ver"
   ]
  },
  {
   "cell_type": "code",
   "execution_count": 13,
   "metadata": {
    "id": "HtrqSl0zPn3T",
    "outputId": "c20c03fc-68d4-4d2e-eb8f-91a06cdd3174"
   },
   "outputs": [
    {
     "name": "stdout",
     "output_type": "stream",
     "text": [
      "+----+---+------+-------+-----------+----------+-------+--------+------+------+--------------+---------+-----------+\n",
      "| ano|mes|origen|destino|tipo_equipo|tipo_vuelo|trafico| empresa|vuelos|sillas|carga_ofrecida|pasajeros|carga_bordo|\n",
      "+----+---+------+-------+-----------+----------+-------+--------+------+------+--------------+---------+-----------+\n",
      "|2004|  1|   bog|    mia|       B752|         R|      I|AMERICAN|     0|     0|           0.0|        0|        0.0|\n",
      "|2004|  7|   bog|    mia|       B752|         R|      I|AMERICAN|    62| 11656|      327236.0|     7864|   118443.0|\n",
      "|2004|  9|   bog|    mia|       B752|         R|      I|AMERICAN|    32|  6016|      168896.0|     4283|    73896.0|\n",
      "|2004|  3|   bog|    mia|       B763|         R|      I|AMERICAN|    31|  6572|      351540.0|     3473|   203724.0|\n",
      "|2004|  7|   bog|    mia|       B763|         R|      I|AMERICAN|    31|  6572|      351540.0|     4994|   219965.0|\n",
      "+----+---+------+-------+-----------+----------+-------+--------+------+------+--------------+---------+-----------+\n",
      "only showing top 5 rows\n",
      "\n"
     ]
    }
   ],
   "source": [
    "vuelos.show(5)"
   ]
  },
  {
   "cell_type": "code",
   "execution_count": 14,
   "metadata": {
    "id": "lLV_ItLhPn3U",
    "outputId": "db9438a4-0a6d-4809-ea99-752add60ad64"
   },
   "outputs": [
    {
     "data": {
      "text/plain": [
       "StructType(List(StructField(ano,IntegerType,true),StructField(mes,StringType,true),StructField(origen,StringType,true),StructField(destino,StringType,true),StructField(tipo_equipo,StringType,true),StructField(tipo_vuelo,StringType,true),StructField(trafico,StringType,true),StructField(empresa,StringType,true),StructField(vuelos,IntegerType,true),StructField(sillas,IntegerType,true),StructField(carga_ofrecida,DoubleType,true),StructField(pasajeros,IntegerType,true),StructField(carga_bordo,DoubleType,true)))"
      ]
     },
     "execution_count": 14,
     "metadata": {},
     "output_type": "execute_result"
    }
   ],
   "source": [
    "vuelos.schema"
   ]
  },
  {
   "cell_type": "markdown",
   "metadata": {
    "id": "seP-zo8JPn3U"
   },
   "source": [
    "Queremos entender la estructura general de los datos que se nos presentan en la tabla vuelos. Un **Análisis Temporal** con el año y el mes. **Información de Vuelos** si juntamos origen, destino y tipo_equipo. La **Información de Operaciones de Vuelo** con las columnas tipo_vuelo y trafico. La **Aerolínea** con el campo Empresa. Y, finalmente, **Métricas de Rendimiento**: vuelos, sillas, carga_ofrecida, pasajeros, carga_bordo: Estas columnas proporcionan métricas clave para evaluar el rendimiento de los vuelos, la ocupación de los asientos, la carga transportada y la eficiencia operativa."
   ]
  },
  {
   "cell_type": "markdown",
   "metadata": {
    "id": "uw09BODdPn3V"
   },
   "source": [
    "Una vez entendida en términos generales la estructura de los datos, es necesario conocer la cantidad de datos disponibles, esto se hace con count() y con columns, que retornan el número de filas y número de columnas respectivamente."
   ]
  },
  {
   "cell_type": "code",
   "execution_count": 15,
   "metadata": {
    "id": "g0Lvl535Pn3V",
    "outputId": "6fb3f30d-2179-4d50-ddd5-4880e28673d8"
   },
   "outputs": [
    {
     "name": "stdout",
     "output_type": "stream",
     "text": [
      "(467990, 13)\n"
     ]
    }
   ],
   "source": [
    "print((vuelos.count(), len(vuelos.columns)))"
   ]
  },
  {
   "cell_type": "markdown",
   "metadata": {
    "id": "kqwEyUFpPn3V"
   },
   "source": [
    "**¿Cuantos datos nos compartieron para el proyecto?**\n",
    "Hay información de 605.448 vuelos entre 2004 y 2018"
   ]
  },
  {
   "cell_type": "markdown",
   "metadata": {
    "id": "GnAScmClPn3W"
   },
   "source": [
    "### Revisión de reglas de negocio \n",
    "\n",
    "La empresa nos da la informacion de dos hechos que verificamos a continuacion:\n",
    "- La información de que hay 605.448 vuelos entre 2004 y 2018 es falsa, en total hay 4727442 vuelos.\n",
    "- Solo tenemos informacion de vuelos hasta 2014"
   ]
  },
  {
   "cell_type": "code",
   "execution_count": 61,
   "metadata": {
    "id": "ssjlV5xbPn3W",
    "outputId": "2ab69e67-fcc0-42c0-bf32-425d65c5118b"
   },
   "outputs": [
    {
     "name": "stdout",
     "output_type": "stream",
     "text": [
      "+---------------+\n",
      "|total_de_vuelos|\n",
      "+---------------+\n",
      "|        4727442|\n",
      "+---------------+\n",
      "\n"
     ]
    }
   ],
   "source": [
    "# Total vuelos entre 2004 y 2018\n",
    "vuelos = vuelos.withColumn(\"ano\", vuelos[\"ano\"].cast(\"int\"))\n",
    "\n",
    "# Filtra los registros por el rango de años y luego calcula la suma de la columna \"vuelos\"\n",
    "total_vuelos = vuelos.filter((col(\"ano\") >= 2004) & (col(\"ano\") <= 2018)).select(sum(\"vuelos\").alias(\"total_de_vuelos\"))\n",
    "\n",
    "# Muestra el resultado\n",
    "total_vuelos.show()"
   ]
  },
  {
   "cell_type": "markdown",
   "metadata": {
    "id": "55FLtckZPn3W"
   },
   "source": [
    "Queremos cerciorarse de la cantidad de vuelos que ocurrieron entre estos años"
   ]
  },
  {
   "cell_type": "code",
   "execution_count": 60,
   "metadata": {
    "id": "oF0aFycqPn3W",
    "outputId": "62fc6101-ad21-4e65-b2d2-849c9752d005"
   },
   "outputs": [
    {
     "name": "stdout",
     "output_type": "stream",
     "text": [
      "+----+------------------+\n",
      "| ano|cantidad_de_vuelos|\n",
      "+----+------------------+\n",
      "|2004|             38869|\n",
      "|2005|             44842|\n",
      "|2006|             48097|\n",
      "|2007|             47501|\n",
      "|2008|             42530|\n",
      "|2009|             33156|\n",
      "|2010|             37196|\n",
      "|2011|             40525|\n",
      "|2012|             43324|\n",
      "|2013|             46561|\n",
      "|2014|             45389|\n",
      "+----+------------------+\n",
      "\n"
     ]
    }
   ],
   "source": [
    "# Filtramos por año, agrupamos por año y sumamos la cantidad de vuelos.\n",
    "vuelos_filtrados = vuelos.filter((col(\"ano\") >= 2004) & (col(\"ano\") <= 2018))\n",
    "cantidad_vuelos_por_anio = vuelos_filtrados.groupBy(\"ano\").agg(count(\"*\").alias(\"cantidad_de_vuelos\")).orderBy(\"ano\")\n",
    "\n",
    "# Muestra el resultado\n",
    "cantidad_vuelos_por_anio.show()"
   ]
  },
  {
   "cell_type": "markdown",
   "metadata": {
    "id": "UuZspay3Pn3Z"
   },
   "source": [
    "### Análisis descriptivo\n",
    "Una vez cubierto lo básico de reglas de negocio, pasamos a perfilamiento estadístico. Para ver estadisticos generales como conteo, mínimo, máximo, desviación estandar y percentiles utilice summary()"
   ]
  },
  {
   "cell_type": "code",
   "execution_count": 64,
   "metadata": {
    "id": "TkWrIdDhPn3Z",
    "outputId": "7d37ef91-452e-49d9-8282-f1676c2b5ea9"
   },
   "outputs": [
    {
     "name": "stdout",
     "output_type": "stream",
     "text": [
      "+-------+------------------+------------------+------+-------+------------------+----------+-------+------------------+------------------+-----------------+-----------------+------------------+------------------+\n",
      "|summary|               ano|               mes|origen|destino|       tipo_equipo|tipo_vuelo|trafico|           empresa|            vuelos|           sillas|   carga_ofrecida|         pasajeros|       carga_bordo|\n",
      "+-------+------------------+------------------+------+-------+------------------+----------+-------+------------------+------------------+-----------------+-----------------+------------------+------------------+\n",
      "|  count|            467990|            467990|115441| 115441|            467990|    467990| 467990|            467990|            467990|           467990|           467987|            467990|            467971|\n",
      "|   mean|2009.0125451398535|6.5515397665929775|  null|   null| 627.5512585591667|      null|   null|              null|10.101587640761554|723.7599329045493|74151.02207326272|1080.5277676873438|27051.439200292327|\n",
      "| stddev|3.2104119878606148| 3.459481047725199|  null|   null|200.26909149709917|      null|   null|              null|30.639304779070564|3538.079898391675|549939.6977736511|4141.3172750721305|148645.64058293885|\n",
      "|    min|              2004|                 1|   4jc|    4jc|               318|         A|      E|           A.T.&S.|                 0|                0|              0.0|                 0|               0.0|\n",
      "|    25%|              2006|               4.0|  null|   null|             330.0|      null|   null|              null|                 1|                0|              0.0|                 1|               0.0|\n",
      "|    50%|              2009|               7.0|  null|   null|             757.0|      null|   null|              null|                 2|                0|              0.0|                 6|             148.0|\n",
      "|    75%|              2012|              10.0|  null|   null|             767.0|      null|   null|              null|                 8|               96|          20000.0|               157|            3000.0|\n",
      "|    max|              2014|               Sep|   zzz|    zzz|              WW24|         T|      N|ZOOM AIRLINES INC.|              7006|           700063|      7.2360976E7|             75424|         5963894.0|\n",
      "+-------+------------------+------------------+------+-------+------------------+----------+-------+------------------+------------------+-----------------+-----------------+------------------+------------------+\n",
      "\n"
     ]
    }
   ],
   "source": [
    "vuelos.summary().show()"
   ]
  },
  {
   "cell_type": "code",
   "execution_count": 66,
   "metadata": {
    "id": "dn8Ez79LPn3a",
    "outputId": "4fdf9370-9987-46a8-80c0-8b4c79655534"
   },
   "outputs": [
    {
     "data": {
      "text/plain": [
       "{'whiskers': [<matplotlib.lines.Line2D at 0x1603270f688>,\n",
       "  <matplotlib.lines.Line2D at 0x1603270fcc8>],\n",
       " 'caps': [<matplotlib.lines.Line2D at 0x1603270f388>,\n",
       "  <matplotlib.lines.Line2D at 0x16028521708>],\n",
       " 'boxes': [<matplotlib.lines.Line2D at 0x160323a7848>],\n",
       " 'medians': [<matplotlib.lines.Line2D at 0x160339fdd88>],\n",
       " 'fliers': [<matplotlib.lines.Line2D at 0x16028521d48>],\n",
       " 'means': []}"
      ]
     },
     "execution_count": 66,
     "metadata": {},
     "output_type": "execute_result"
    },
    {
     "data": {
      "image/png": "[encoded data removed]",
      "text/plain": [
       "<Figure size 432x288 with 1 Axes>"
      ]
     },
     "metadata": {
      "needs_background": "light"
     },
     "output_type": "display_data"
    }
   ],
   "source": [
    "%matplotlib inline\n",
    "import matplotlib.pyplot as plt\n",
    "\n",
    "fig1, ax1 = plt.subplots()\n",
    "ax1.set_title('total vuelos')\n",
    "ax1.boxplot(np.array(vuelos.select('vuelos').collect()))"
   ]
  },
  {
   "cell_type": "markdown",
   "metadata": {
    "id": "c0_4fokYPn3a"
   },
   "source": [
    "El análisis anterior es muy útil para variables de tipo numérico, sin embargo es incompleto para las variables de tipo caracter o las variables categoricas, por ende es necesario implementar nuestro propio código par obtener estadisticos como la moda y la mediana. Queremos mostrar la distribucion de registros por año:"
   ]
  },
  {
   "cell_type": "code",
   "execution_count": 71,
   "metadata": {
    "id": "iz9SiUvHPn3b",
    "outputId": "449aaac6-4825-4104-e748-78056fc4f88f"
   },
   "outputs": [
    {
     "name": "stdout",
     "output_type": "stream",
     "text": [
      "+----+-----+\n",
      "| ano|count|\n",
      "+----+-----+\n",
      "|2006|48097|\n",
      "|2007|47501|\n",
      "|2013|46561|\n",
      "|2014|45389|\n",
      "|2005|44842|\n",
      "|2012|43324|\n",
      "|2008|42530|\n",
      "|2011|40525|\n",
      "|2004|38869|\n",
      "|2010|37196|\n",
      "|2009|33156|\n",
      "+----+-----+\n",
      "\n"
     ]
    }
   ],
   "source": [
    "vuelos.groupby(\"ano\").count().orderBy(\"count\", ascending=False).show(20)"
   ]
  },
  {
   "cell_type": "markdown",
   "metadata": {
    "id": "9bG1x9gWPn3b",
    "tags": []
   },
   "source": [
    "## Análisis de calidad de datos\n",
    "La calidad de los datos consiste en validar la idoneidad de los datos analizando varias dimensiones, entre las cuales resaltamos:\n",
    "- Completitud: Datos que no existen o no se conocen\n",
    "- Unicidad (Duplicidad): Datos que son idénticos en diferentes registros o registros con valores idénticos en atributos en los que no debería ocurrir\n",
    "- Consistencia: Esta medida se define por la validez o integridad del dato, en la definición de su estructura, al interior de una fila o entre diferentes filas de la misma fuente o de diferentes fuentes. El manejo de unidades en los datos y el significado del dato son generadores de inconsistencias.\n",
    "- Validez: a nivel de formato y de sentido de los datos más alla de sus valores\n",
    "\n",
    "Para asegurar una calidad mínima de los datos en estas dimensiones hay que entender su origen y posteriormente realizar un proceso de validación de cada una de las dimensiones de perfilamiento que llevará a un entendimiento de los datos disponibles.\n"
   ]
  },
  {
   "cell_type": "markdown",
   "metadata": {
    "id": "WKPFuI9uPn3b"
   },
   "source": [
    "A continuación se definen dos funciones, la primera cuenta los valores vacios por columna de dataframe, la segunda retorna un diccionario de columnas con cardinalidad superior al 50%\n",
    "\n",
    "Te invito a revisar los recursos de calidad de datos que hemos visto en el curso, a continuacion ejemplos daremos algunos ejemplos por cada dimensión para el caso del tutorial"
   ]
  },
  {
   "cell_type": "markdown",
   "metadata": {
    "id": "ZHLs1H0hPn3b"
   },
   "source": [
    "### Unicidad y validez\n",
    "\n",
    "La unicidad se revisó en la segunda regla de negocio y la validez se reviso en el perfilamiento general, en la regla de negocio 3 y en el análisis de la descripción al final de la sección de revisión de reglas de negocio"
   ]
  },
  {
   "cell_type": "markdown",
   "metadata": {
    "id": "QgkzeSm4Pn3b"
   },
   "source": [
    "### Completitud y validez"
   ]
  },
  {
   "cell_type": "code",
   "execution_count": 72,
   "metadata": {
    "id": "mIWH-vVoPn3b"
   },
   "outputs": [],
   "source": [
    "def contar_vacios(df):\n",
    "    resultados = []\n",
    "    for c in df.columns:\n",
    "        vacios = df.filter(df[c].isNull()).count()\n",
    "        if vacios!=0:\n",
    "            print('número de vacíos para columna '+c+': '+str( vacios ))\n",
    "            resultados.append(vacios)\n",
    "    return resultados\n",
    "\n",
    "def cardinalidad(df):\n",
    "    resultado = {}\n",
    "    for c in df.columns:\n",
    "        cardinalidad = df.select(col(c)).distinct().count()\n",
    "        if cardinalidad>=df.count()*0.5:\n",
    "            resultado[c] = cardinalidad\n",
    "    return resultado"
   ]
  },
  {
   "cell_type": "code",
   "execution_count": 75,
   "metadata": {
    "id": "da_z_ti-Pn3b",
    "outputId": "ecac9b39-d97a-422a-a579-698c5733ab7b"
   },
   "outputs": [
    {
     "name": "stdout",
     "output_type": "stream",
     "text": [
      "número de vacíos para columna origen: 352549\n",
      "número de vacíos para columna destino: 352549\n",
      "número de vacíos para columna carga_ofrecida: 3\n",
      "número de vacíos para columna carga_bordo: 19\n"
     ]
    },
    {
     "data": {
      "text/plain": [
       "[352549, 352549, 3, 19]"
      ]
     },
     "execution_count": 75,
     "metadata": {},
     "output_type": "execute_result"
    }
   ],
   "source": [
    "columnas_vacias_vuelos = contar_vacios(vuelos)\n",
    "columnas_vacias_vuelos"
   ]
  },
  {
   "cell_type": "code",
   "execution_count": 77,
   "metadata": {
    "id": "NxXQm_KEPn3c",
    "outputId": "419b9709-25fe-43dd-d63a-a9be645d11f7"
   },
   "outputs": [
    {
     "data": {
      "text/plain": [
       "{}"
      ]
     },
     "execution_count": 77,
     "metadata": {},
     "output_type": "execute_result"
    }
   ],
   "source": [
    "columnas_alta_cardinalidad_vuelos = cardinalidad(vuelos)\n",
    "columnas_alta_cardinalidad_vuelos"
   ]
  },
  {
   "cell_type": "markdown",
   "metadata": {
    "id": "LZyQcqCvPn3c"
   },
   "source": [
    "### Consistencia\n",
    "Vamos a revisar el nivel de consistencia en la variable vuelos."
   ]
  },
  {
   "cell_type": "code",
   "execution_count": 78,
   "metadata": {
    "id": "uHEz7IylPn3c",
    "outputId": "0f987de9-4b5e-4532-e42a-a547d3207985"
   },
   "outputs": [
    {
     "data": {
      "text/plain": [
       "518"
      ]
     },
     "execution_count": 78,
     "metadata": {},
     "output_type": "execute_result"
    }
   ],
   "source": [
    "#consistencia: revisar genially: definicion de consistencia\n",
    "ids_vuelos = set([x.vuelos for x in vuelos.select('vuelos').collect()])\n",
    "len(ids_vuelos)"
   ]
  },
  {
   "cell_type": "markdown",
   "metadata": {
    "id": "ct4KbukcPn3c"
   },
   "source": [
    "## Herramientas para facilitar el entendimiento de datos"
   ]
  },
  {
   "cell_type": "markdown",
   "metadata": {
    "id": "62jY4uoQPn3d"
   },
   "source": [
    "Algunas de las estadísticas antes desarrolladas pueden obtenerse por medio de herramientas como Pandas Profiling una herramienta muy útil, <b><i>Pero no perfecta ni completa</i></b>, es Pandas profiling que dado un conjunto de datos, nos muestra histogramas, estadísticas etc. A continuación guardamos el reporte en html"
   ]
  },
  {
   "cell_type": "code",
   "execution_count": 79,
   "metadata": {
    "colab": {
     "referenced_widgets": [
      "18d36d8316d14fb2b1046fd12e844ae4",
      "2d029404a2994346918423391fc63c41",
      "0ab77442375c4f09ab98151e743deebc",
      "fec3309b395249d6ac3ecb39f2031344"
     ]
    },
    "id": "TlWywoCUPn3d",
    "outputId": "1a013e5c-269b-4099-a169-b2dd14182d8a"
   },
   "outputs": [
    {
     "name": "stderr",
     "output_type": "stream",
     "text": [
      "Summarize dataset:  67%|███████████████████████████████████████████████████████████████████████████████████████████████████▎                                                 | 16/24 [00:08<00:03,  2.43it/s, Calculate kendall correlation]C:\\Users\\estudiante\\anaconda3\\envs\\Tutoriales\\lib\\site-packages\\scipy\\stats\\stats.py:4812: RuntimeWarning: overflow encountered in longlong_scalars\n",
      "  (2 * xtie * ytie) / m + x0 * y0 / (9 * m * (size - 2)))\n",
      "Summarize dataset: 100%|█████████████████████████████████████████████████████████████████████████████████████████████████████████████████████████████████████████████████████████████████████████| 64/64 [00:34<00:00,  1.83it/s, Completed]\n",
      "Generate report structure: 100%|██████████████████████████████████████████████████████████████████████████████████████████████████████████████████████████████████████████████████████████████████████████████| 1/1 [00:03<00:00,  3.85s/it]\n",
      "Render HTML: 100%|████████████████████████████████████████████████████████████████████████████████████████████████████████████████████████████████████████████████████████████████████████████████████████████| 1/1 [00:01<00:00,  1.84s/it]\n",
      "Export report to file: 100%|██████████████████████████████████████████████████████████████████████████████████████████████████████████████████████████████████████████████████████████████████████████████████| 1/1 [00:00<00:00, 58.82it/s]\n"
     ]
    }
   ],
   "source": [
    "reporte = ProfileReport(vuelos.toPandas())\n",
    "reporte.to_file(PATH+\"reporte_prefilamiento.html\")"
   ]
  },
  {
   "cell_type": "markdown",
   "metadata": {
    "id": "cBQ9PDaBPn3d"
   },
   "source": [
    "<b>Cabe aclarar que un pandas profiling sin interpretación no es suficiente como análisis para realizar el entendimiento de los datos.\n",
    "\n",
    "Así mismo, recuerde que si es necesario, se debe utilizar otra herramienta (código, visualizaciones, etc) para poder completar el análisis estadístico.</b>"
   ]
  },
  {
   "cell_type": "markdown",
   "metadata": {
    "id": "eDf54JyKPn3d"
   },
   "source": [
    "### Algunas gráficas utiles: Diagrama de caja, dispersion, histogramas para entender las distribuciones de las variables\n",
    "\n",
    "Generalmente las gráficas se emplean para entender la distribución de cada variable, también sirven para visualizar la relación entre 2 o más variables\n",
    "\n",
    "Algunas gráficas útiles son los histogramas, disepersión, diagramas de caja. Hay varias maneras de implementarlos, con paquetes como matplotlib o pandas, con funciones propias de pyspark, etc, a continuacón mostramos cómo hacerlo a travez de pandas"
   ]
  },
  {
   "cell_type": "code",
   "execution_count": 83,
   "metadata": {
    "id": "HB--WS4-Pn3d",
    "outputId": "c2a41c9f-14f8-4d52-e59c-efc769e414c0"
   },
   "outputs": [
    {
     "data": {
      "text/plain": [
       "array([[<AxesSubplot:title={'center':'ano'}>]], dtype=object)"
      ]
     },
     "execution_count": 83,
     "metadata": {},
     "output_type": "execute_result"
    },
    {
     "data": {
      "image/png": "[encoded data removed]",
      "text/plain": [
       "<Figure size 432x288 with 1 Axes>"
      ]
     },
     "metadata": {
      "needs_background": "light"
     },
     "output_type": "display_data"
    }
   ],
   "source": [
    "#para valores extremos(subir a calidad)\n",
    "vuelos.toPandas().hist(column='ano')"
   ]
  },
  {
   "cell_type": "code",
   "execution_count": 92,
   "metadata": {
    "id": "bJQ6CqOJPn3d"
   },
   "outputs": [],
   "source": [
    "cantidades = vuelos.groupby(\"ano\").count().orderBy(\"count\", ascending=False)"
   ]
  },
  {
   "cell_type": "markdown",
   "metadata": {
    "id": "YRGn5uXAPn3e"
   },
   "source": [
    "Como se puede observar, el método retorna un dataframe, que vamos a usar para obtener dos arreglos, uno con el rango de cada una de las barras y otro con la cantidad de registros por rango. Se puede usar Matplotlib para graficar esta información:"
   ]
  },
  {
   "cell_type": "code",
   "execution_count": 87,
   "metadata": {
    "id": "wZY56uzKPn3e",
    "outputId": "d2323c1b-d785-49b8-8fd9-b76094b51657"
   },
   "outputs": [
    {
     "ename": "TypeError",
     "evalue": "type str doesn't define __round__ method",
     "output_type": "error",
     "traceback": [
      "\u001b[1;31m---------------------------------------------------------------------------\u001b[0m",
      "\u001b[1;31mTypeError\u001b[0m                                 Traceback (most recent call last)",
      "\u001b[1;32m~\\AppData\\Local\\Temp\\ipykernel_1068\\3501144351.py\u001b[0m in \u001b[0;36m<module>\u001b[1;34m\u001b[0m\n\u001b[0;32m     19\u001b[0m     \u001b[0mplt\u001b[0m\u001b[1;33m.\u001b[0m\u001b[0mshow\u001b[0m\u001b[1;33m(\u001b[0m\u001b[1;33m)\u001b[0m\u001b[1;33m\u001b[0m\u001b[1;33m\u001b[0m\u001b[0m\n\u001b[0;32m     20\u001b[0m \u001b[1;33m\u001b[0m\u001b[0m\n\u001b[1;32m---> 21\u001b[1;33m \u001b[0mplotHistogramData\u001b[0m\u001b[1;33m(\u001b[0m\u001b[0mcantidades\u001b[0m\u001b[1;33m)\u001b[0m\u001b[1;33m\u001b[0m\u001b[1;33m\u001b[0m\u001b[0m\n\u001b[0m",
      "\u001b[1;32m~\\AppData\\Local\\Temp\\ipykernel_1068\\3501144351.py\u001b[0m in \u001b[0;36mplotHistogramData\u001b[1;34m(data)\u001b[0m\n\u001b[0;32m      1\u001b[0m \u001b[1;32mdef\u001b[0m \u001b[0mplotHistogramData\u001b[0m\u001b[1;33m(\u001b[0m\u001b[0mdata\u001b[0m\u001b[1;33m)\u001b[0m\u001b[1;33m:\u001b[0m\u001b[1;33m\u001b[0m\u001b[1;33m\u001b[0m\u001b[0m\n\u001b[0;32m      2\u001b[0m     \u001b[0mbinSides\u001b[0m\u001b[1;33m,\u001b[0m \u001b[0mbinCounts\u001b[0m \u001b[1;33m=\u001b[0m \u001b[1;33m[\u001b[0m\u001b[0mrow\u001b[0m\u001b[1;33m[\u001b[0m\u001b[1;36m0\u001b[0m\u001b[1;33m]\u001b[0m \u001b[1;32mfor\u001b[0m \u001b[0mrow\u001b[0m \u001b[1;32min\u001b[0m \u001b[0mdata\u001b[0m\u001b[1;33m.\u001b[0m\u001b[0mcollect\u001b[0m\u001b[1;33m(\u001b[0m\u001b[1;33m)\u001b[0m\u001b[1;33m]\u001b[0m\u001b[1;33m,\u001b[0m \u001b[1;33m[\u001b[0m\u001b[0mrow\u001b[0m\u001b[1;33m[\u001b[0m\u001b[1;36m1\u001b[0m\u001b[1;33m]\u001b[0m \u001b[1;32mfor\u001b[0m \u001b[0mrow\u001b[0m \u001b[1;32min\u001b[0m \u001b[0mdata\u001b[0m\u001b[1;33m.\u001b[0m\u001b[0mcollect\u001b[0m\u001b[1;33m(\u001b[0m\u001b[1;33m)\u001b[0m\u001b[1;33m]\u001b[0m\u001b[1;33m\u001b[0m\u001b[1;33m\u001b[0m\u001b[0m\n\u001b[1;32m----> 3\u001b[1;33m     \u001b[0mbinSides\u001b[0m \u001b[1;33m=\u001b[0m \u001b[1;33m[\u001b[0m\u001b[0mround\u001b[0m\u001b[1;33m(\u001b[0m\u001b[0mi\u001b[0m\u001b[1;33m,\u001b[0m \u001b[1;36m2\u001b[0m\u001b[1;33m)\u001b[0m \u001b[1;32mfor\u001b[0m \u001b[0mi\u001b[0m \u001b[1;32min\u001b[0m \u001b[0mbinSides\u001b[0m\u001b[1;33m]\u001b[0m\u001b[1;33m\u001b[0m\u001b[1;33m\u001b[0m\u001b[0m\n\u001b[0m\u001b[0;32m      4\u001b[0m     \u001b[0mN\u001b[0m \u001b[1;33m=\u001b[0m \u001b[0mlen\u001b[0m\u001b[1;33m(\u001b[0m\u001b[0mbinCounts\u001b[0m\u001b[1;33m)\u001b[0m\u001b[1;33m\u001b[0m\u001b[1;33m\u001b[0m\u001b[0m\n\u001b[0;32m      5\u001b[0m     \u001b[0mind\u001b[0m \u001b[1;33m=\u001b[0m \u001b[0mnp\u001b[0m\u001b[1;33m.\u001b[0m\u001b[0marange\u001b[0m\u001b[1;33m(\u001b[0m\u001b[0mN\u001b[0m\u001b[1;33m)\u001b[0m\u001b[1;33m\u001b[0m\u001b[1;33m\u001b[0m\u001b[0m\n",
      "\u001b[1;32m~\\AppData\\Local\\Temp\\ipykernel_1068\\3501144351.py\u001b[0m in \u001b[0;36m<listcomp>\u001b[1;34m(.0)\u001b[0m\n\u001b[0;32m      1\u001b[0m \u001b[1;32mdef\u001b[0m \u001b[0mplotHistogramData\u001b[0m\u001b[1;33m(\u001b[0m\u001b[0mdata\u001b[0m\u001b[1;33m)\u001b[0m\u001b[1;33m:\u001b[0m\u001b[1;33m\u001b[0m\u001b[1;33m\u001b[0m\u001b[0m\n\u001b[0;32m      2\u001b[0m     \u001b[0mbinSides\u001b[0m\u001b[1;33m,\u001b[0m \u001b[0mbinCounts\u001b[0m \u001b[1;33m=\u001b[0m \u001b[1;33m[\u001b[0m\u001b[0mrow\u001b[0m\u001b[1;33m[\u001b[0m\u001b[1;36m0\u001b[0m\u001b[1;33m]\u001b[0m \u001b[1;32mfor\u001b[0m \u001b[0mrow\u001b[0m \u001b[1;32min\u001b[0m \u001b[0mdata\u001b[0m\u001b[1;33m.\u001b[0m\u001b[0mcollect\u001b[0m\u001b[1;33m(\u001b[0m\u001b[1;33m)\u001b[0m\u001b[1;33m]\u001b[0m\u001b[1;33m,\u001b[0m \u001b[1;33m[\u001b[0m\u001b[0mrow\u001b[0m\u001b[1;33m[\u001b[0m\u001b[1;36m1\u001b[0m\u001b[1;33m]\u001b[0m \u001b[1;32mfor\u001b[0m \u001b[0mrow\u001b[0m \u001b[1;32min\u001b[0m \u001b[0mdata\u001b[0m\u001b[1;33m.\u001b[0m\u001b[0mcollect\u001b[0m\u001b[1;33m(\u001b[0m\u001b[1;33m)\u001b[0m\u001b[1;33m]\u001b[0m\u001b[1;33m\u001b[0m\u001b[1;33m\u001b[0m\u001b[0m\n\u001b[1;32m----> 3\u001b[1;33m     \u001b[0mbinSides\u001b[0m \u001b[1;33m=\u001b[0m \u001b[1;33m[\u001b[0m\u001b[0mround\u001b[0m\u001b[1;33m(\u001b[0m\u001b[0mi\u001b[0m\u001b[1;33m,\u001b[0m \u001b[1;36m2\u001b[0m\u001b[1;33m)\u001b[0m \u001b[1;32mfor\u001b[0m \u001b[0mi\u001b[0m \u001b[1;32min\u001b[0m \u001b[0mbinSides\u001b[0m\u001b[1;33m]\u001b[0m\u001b[1;33m\u001b[0m\u001b[1;33m\u001b[0m\u001b[0m\n\u001b[0m\u001b[0;32m      4\u001b[0m     \u001b[0mN\u001b[0m \u001b[1;33m=\u001b[0m \u001b[0mlen\u001b[0m\u001b[1;33m(\u001b[0m\u001b[0mbinCounts\u001b[0m\u001b[1;33m)\u001b[0m\u001b[1;33m\u001b[0m\u001b[1;33m\u001b[0m\u001b[0m\n\u001b[0;32m      5\u001b[0m     \u001b[0mind\u001b[0m \u001b[1;33m=\u001b[0m \u001b[0mnp\u001b[0m\u001b[1;33m.\u001b[0m\u001b[0marange\u001b[0m\u001b[1;33m(\u001b[0m\u001b[0mN\u001b[0m\u001b[1;33m)\u001b[0m\u001b[1;33m\u001b[0m\u001b[1;33m\u001b[0m\u001b[0m\n",
      "\u001b[1;31mTypeError\u001b[0m: type str doesn't define __round__ method"
     ]
    }
   ],
   "source": [
    "def plotHistogramData(data):\n",
    "    binSides, binCounts = [row[0] for row in data.collect()], [row[1] for row in data.collect()]\n",
    "    binSides = [round(i, 2) for i in binSides]\n",
    "    N = len(binCounts)\n",
    "    ind = np.arange(N)\n",
    "    width = 1\n",
    "\n",
    "    fig, ax = plt.subplots()\n",
    "    rects1 = ax.bar(ind+0.5, binCounts, width, color='b')\n",
    "    \n",
    "    fig.set_size_inches(1.3*N, 8)\n",
    "\n",
    "    ax.set_ylabel('Frecuencia')\n",
    "    ax.set_xlabel('Rango')\n",
    "    ax.set_title('Histograma')\n",
    "    ax.set_xticks(np.arange(N))\n",
    "    ax.set_xticklabels(binSides)\n",
    "\n",
    "    plt.show()\n",
    "\n",
    "plotHistogramData(cantidades)"
   ]
  },
  {
   "cell_type": "markdown",
   "metadata": {
    "id": "47eVd0NJPn3e"
   },
   "source": [
    "El diagrama de dispersion, nos muestra los datos para dos variables en forma de puntos y es muy útil para entender la relación entre dichas variables"
   ]
  },
  {
   "cell_type": "markdown",
   "metadata": {
    "id": "ltTluhtIPn3e"
   },
   "source": [
    "### Otras opciones de exploración\n",
    "PySpark también da la opción de crear tablas de pivotes. En el siguiente ejemplo, se muestra cómo hacer una tabla que permite ver cuántas ordenes hay por cada <i>Fecha_de_pedido</i> y por cada <i>ID_de_vendedor</i>, es decir por fecha y por empleado cuantas ordenes existen:"
   ]
  },
  {
   "cell_type": "code",
   "execution_count": 88,
   "metadata": {
    "id": "jTU_GHMIPn3e",
    "outputId": "d5c71e84-8815-4723-c916-d9b7ee138952"
   },
   "outputs": [
    {
     "name": "stdout",
     "output_type": "stream",
     "text": [
      "+----+----+-----+----+----+----+----+----+----+---+---+---+---+---+---+---+---+---+---+---+---+---+---+---+---+---+---+---+---+---+---+---+---+---+---+---+---+---+---+---+---+---+---+---+---+---+---+---+---+---+---+---+---+---+---+---+---+---+---+---+---+---+---+---+---+---+---+---+---+---+---+---+---+---+---+---+---+---+---+---+---+---+---+---+---+---+---+---+---+---+---+---+---+---+---+---+----+---+---+---+---+---+---+---+---+---+---+---+---+---+----+---+----+---+----+----+---+---+---+---+----+---+---+---+----+----+----+----+---+----+----+----+----+---+----+---+---+----+----+----+----+----+----+----+----+----+----+----+---+----+----+---+----+---+----+---+----+----+----+----+----+----+----+----+----+---+----+----+---+----+----+----+----+---+----+----+----+----+----+---+----+----+----+----+----+----+----+----+----+----+----+----+----+----+----+----+----+----+----+----+----+----+----+----+----+----+----+----+----+----+----+----+----+----+----+----+----+----+----+----+----+----+----+----+----+----+----+----+----+----+----+----+----+----+----+----+----+----+----+----+----+----+----+----+----+----+----+----+----+----+----+----+----+----+----+----+----+----+----+----+----+----+----+----+----+----+----+----+----+----+----+----+----+----+----+----+----+----+----+----+----+----+----+----+----+----+----+----+----+----+----+----+----+----+----+----+----+----+----+----+----+----+----+----+----+----+----+----+----+----+----+----+----+----+----+----+----+----+----+----+----+----+----+----+----+----+----+----+----+----+----+----+----+----+----+----+----+----+----+----+----+----+----+----+----+----+----+----+----+----+----+----+----+----+----+----+----+----+----+----+----+----+----+----+----+----+----+----+----+----+----+----+----+----+----+----+----+----+----+----+----+----+----+----+----+----+----+----+----+----+----+----+----+----+----+----+----+----+----+----+----+----+----+----+----+----+----+----+----+----+----+----+----+----+----+----+----+----+----+----+----+----+----+----+----+----+----+----+----+----+----+----+----+----+----+----+----+----+----+----+----+----+----+----+----+----+----+----+----+----+----+----+----+----+----+----+----+----+----+----+----+----+----+----+----+----+----+----+----+----+----+----+----+----+----+----+----+----+----+----+----+----+----+----+----+----+----+----+----+----+----+----+----+----+----+----+----+----+----+----+----+----+----+----+----+----+----+----+----+----+----+----+----+----+----+----+----+----+----+\n",
      "| ano|   0|    1|   2|   3|   4|   5|   6|   7|  8|  9| 10| 11| 12| 13| 14| 15| 16| 17| 18| 19| 20| 21| 22| 23| 24| 25| 26| 27| 28| 29| 30| 31| 32| 33| 34| 35| 36| 37| 38| 39| 40| 41| 42| 43| 44| 45| 46| 47| 48| 49| 50| 51| 52| 53| 54| 55| 56| 57| 58| 59| 60| 61| 62| 63| 64| 65| 66| 67| 68| 69| 70| 71| 72| 73| 74| 75| 76| 77| 78| 79| 80| 81| 82| 83| 84| 85| 86| 87| 88| 89| 90| 91| 92| 93| 94|  95| 96| 97| 98| 99|100|101|102|103|104|105|106|107|108| 109|110| 111|112| 113| 114|115|116|117|118| 119|120|121|122| 123| 124| 125| 126|127| 128| 129| 130| 131|132| 133|134|135| 136| 137| 138| 139| 140| 141| 142| 143| 144| 145| 146|147| 148| 149|150| 151|152| 153|154| 155| 156| 157| 158| 159| 160| 161| 162| 163|164| 165| 166|167| 168| 169| 170| 171|172| 173| 174| 175| 176| 177|178| 179| 180| 181| 182| 183| 184| 185| 186| 187| 188| 189| 190| 191| 192| 193| 194| 195| 196| 197| 198| 199| 200| 201| 202| 203| 204| 205| 206| 207| 208| 209| 210| 211| 212| 213| 214| 215| 216| 217| 218| 219| 220| 221| 222| 223| 224| 225| 226| 227| 228| 229| 230| 231| 232| 233| 234| 235| 236| 237| 238| 239| 240| 241| 242| 243| 244| 245| 246| 247| 248| 249| 250| 251| 252| 253| 254| 255| 256| 257| 258| 259| 260| 261| 262| 263| 264| 265| 266| 267| 268| 269| 270| 271| 272| 273| 274| 275| 276| 277| 278| 279| 280| 281| 282| 283| 284| 285| 286| 287| 288| 289| 290| 292| 293| 294| 295| 296| 297| 298| 299| 300| 301| 302| 303| 304| 305| 306| 307| 308| 309| 310| 311| 312| 313| 314| 315| 316| 317| 318| 319| 320| 321| 322| 323| 324| 325| 326| 327| 328| 329| 330| 331| 332| 333| 334| 335| 336| 337| 338| 339| 340| 341| 342| 344| 345| 346| 348| 351| 352| 353| 354| 355| 356| 357| 358| 359| 360| 361| 362| 363| 364| 365| 366| 367| 368| 369| 370| 371| 372| 373| 376| 377| 380| 381| 382| 383| 384| 385| 386| 387| 388| 390| 392| 394| 397| 398| 399| 400| 401| 403| 405| 406| 407| 408| 410| 413| 414| 415| 416| 417| 419| 420| 423| 424| 425| 426| 427| 428| 429| 430| 431| 432| 433| 434| 435| 436| 439| 441| 442| 444| 446| 447| 448| 449| 451| 452| 453| 454| 455| 458| 460| 461| 462| 463| 464| 465| 466| 467| 468| 470| 471| 473| 476| 478| 479| 481| 482| 486| 488| 491| 493| 494| 495| 496| 499| 503| 504| 507| 509| 512| 513| 514| 516| 518| 519| 521| 522| 527| 530| 533| 535| 537| 538| 540| 541| 542| 543| 545| 546| 551| 556| 562| 564| 567| 569| 576| 580| 581| 582| 584| 586| 589| 590| 591| 595| 596| 598| 602| 605| 607| 609| 610| 615| 616| 618| 635|2001|2002|2003|2004|2007|2015|2035|2040|3000|4000|4005|5003|7006|\n",
      "+----+----+-----+----+----+----+----+----+----+---+---+---+---+---+---+---+---+---+---+---+---+---+---+---+---+---+---+---+---+---+---+---+---+---+---+---+---+---+---+---+---+---+---+---+---+---+---+---+---+---+---+---+---+---+---+---+---+---+---+---+---+---+---+---+---+---+---+---+---+---+---+---+---+---+---+---+---+---+---+---+---+---+---+---+---+---+---+---+---+---+---+---+---+---+---+---+----+---+---+---+---+---+---+---+---+---+---+---+---+---+----+---+----+---+----+----+---+---+---+---+----+---+---+---+----+----+----+----+---+----+----+----+----+---+----+---+---+----+----+----+----+----+----+----+----+----+----+----+---+----+----+---+----+---+----+---+----+----+----+----+----+----+----+----+----+---+----+----+---+----+----+----+----+---+----+----+----+----+----+---+----+----+----+----+----+----+----+----+----+----+----+----+----+----+----+----+----+----+----+----+----+----+----+----+----+----+----+----+----+----+----+----+----+----+----+----+----+----+----+----+----+----+----+----+----+----+----+----+----+----+----+----+----+----+----+----+----+----+----+----+----+----+----+----+----+----+----+----+----+----+----+----+----+----+----+----+----+----+----+----+----+----+----+----+----+----+----+----+----+----+----+----+----+----+----+----+----+----+----+----+----+----+----+----+----+----+----+----+----+----+----+----+----+----+----+----+----+----+----+----+----+----+----+----+----+----+----+----+----+----+----+----+----+----+----+----+----+----+----+----+----+----+----+----+----+----+----+----+----+----+----+----+----+----+----+----+----+----+----+----+----+----+----+----+----+----+----+----+----+----+----+----+----+----+----+----+----+----+----+----+----+----+----+----+----+----+----+----+----+----+----+----+----+----+----+----+----+----+----+----+----+----+----+----+----+----+----+----+----+----+----+----+----+----+----+----+----+----+----+----+----+----+----+----+----+----+----+----+----+----+----+----+----+----+----+----+----+----+----+----+----+----+----+----+----+----+----+----+----+----+----+----+----+----+----+----+----+----+----+----+----+----+----+----+----+----+----+----+----+----+----+----+----+----+----+----+----+----+----+----+----+----+----+----+----+----+----+----+----+----+----+----+----+----+----+----+----+----+----+----+----+----+----+----+----+----+----+----+----+----+----+----+----+----+----+----+----+----+----+----+----+----+----+----+----+----+----+----+----+----+----+----+----+----+----+----+----+----+----+\n",
      "|2007|  90|20025|6620|3375|2457|1576|1190|1056|949|797|553|528|604|607|423|342|294|243|248|252|239|209|179|195|145|172|150|144|201|161|339|441| 80| 97| 93| 77| 65| 58| 81| 54| 73| 59| 73| 45| 45| 45| 56| 71| 53| 45| 59| 56| 48| 61| 62| 59| 78| 57| 39| 37| 61| 42| 66| 21| 17| 11| 18| 10| 16|  8| 24| 20| 18| 12| 15| 14|  9| 16| 17| 17| 18| 10| 10| 14|  8|  3|  6| 13| 11| 22| 18|  9| 17| 13|  7|  10| 13|  3|  7| 10|  5|  3|  5|  8|  1|  7|  5|  7|  4|null|  3|   5|  6|   6|   2|  2|  1|  2|  1|null|  1|  2|  2|   3|   1|   5|   3|  2|null|   1|   4|null|  2|null|  1|  3|   3|   4|null|   7|   5|   4|   2|   3|   4|   7|   6|  4|   2|null|  5|   8|  1|   3|  2|   6|   3|   1|   3|   4|null|   3|null|null|  4|   3|   3|  5|   8|   2|   2|   1|  4|null|null|   1|   2|null|  1|   2|null|   1|null|   1|   1|   1|null|null|null|null|null|null|   2|   2|null|null|   1|   1|   1|   1|   2|null|null|   1|null|null|   2|   1|null|null|   1|null|   1|null|null|null|null|   1|null|   2|   1|   2|   2|null|   2|null|null|   1|null|null|   1|null|null|null|null|null|null|null|   1|   1|   1|null|   1|null|null|null|null|null|null|null|null|null|null|null|null|null|null|null|null|null|null|null|null|null|null|null|null|null|null|null|null|null|null|   1|null|null|null|   1|null|   1|   2|   1|   2|   3|null|null|   1|null|   1|null|   1|null|   1|null|   1|   1|   3|   1|null|   1|   2|   1|   1|   1|   1|   1|   1|null|null|null|null|null|   3|   1|   2|null|null|null|null|null|   2|null|null|null|   2|   1|   2|   1|   2|null|null|null|null|null|   1|   2|null|null|null|null|null|null|null|null|null|null|null|null|null|null|null|null|null|null|null|null|null|null|null|null|null|null|null|null|null|null|null|null|null|null|null|null|null|null|null|null|null|null|null|null|null|null|null|null|null|null|null|null|null|null|null|null|null|null|null|null|null|null|null|null|null|null|null|null|null|null|null|null|null|null|null|null|null|null|null|null|null|null|null|null|null|null|null|null|null|null|null|null|null|null|null|null|null|null|null|null|null|null|null|null|null|null|null|null|null|null|null|null|null|null|null|null|null|null|null|null|null|null|null|null|null|null|null|null|null|null|null|null|null|null|null|null|null|null|null|null|null|null|null|null|null|null|null|null|null|null|null|null|null|null|null|null|null|null|null|null|null|null|null|null|null|null|null|null|null|null|null|null|null|null|null|null|null|   1|null|null|null|null|\n",
      "|2006|  84|20347|6752|3588|2619|1655|1215|1030|877|911|578|569|528|627|402|313|304|295|256|175|183|203|158|144|168|144|210|157|176|186|335|450| 85| 71| 60| 61| 62| 56| 54| 42| 71| 57| 48| 47| 70| 49| 55| 30| 29| 46| 51| 62| 74| 57| 79| 65| 85| 52| 42| 42| 70| 37| 54| 22| 12| 12| 12| 10| 11| 10| 16| 19| 16| 11|  9| 11| 17| 10| 12| 14| 10| 10| 13| 11|  9|  8| 10| 17|  7| 15| 16| 18| 12| 10|  7|null|  3|  5|  3|  4|  5|  6|  3|  8|  7|  5|  2|  4|  5|   3|  2|null|  4|   2|null|  2|  3|  3|  8|   3|  3|  7|  3|   2|null|   2|   3|  1|   4|   6|   4|   4|  3|   2|  3|  2|   4|   4|   6|   1|null|null|null|   1|null|   2|null|  1|   3|   2|  8|   2|  3|null|  1|null|null|null|null|   2|null|null|   1|   4|  4|   1|   3|  1|null|null|   1|   3|  2|null|   5|   1|   2|null|  2|   1|   4|   1|   1|null|null|null|null|null|null|null|   1|   3|   1|   1|null|null|   1|null|   1|   2|null|   2|null|null|   1|null|   1|null|null|   1|null|null|null|   1|null|null|   1|null|   1|null|null|null|   1|null|null|null|null|null|null|null|null|null|null|   2|null|null|null|   4|   1|null|null|null|null|null|null|null|null|null|null|   1|   2|null|null|null|null|null|null|null|null|null|null|null|null|null|   1|null|null|null|null|null|null|null|null|null|null|null|null|null|null|null|null|null|null|null|null|null|null|null|null|   1|null|   1|null|null|   1|   1|null|null|null|null|null|null|   1|   1|   3|   3|   2|null|null|   2|null|   3|   1|   3|null|null|   5|   3|   1|   1|   1|null|   3|   1|   1|   1|null|null|null|   1|   1|   1|null|null|null|null|null|   1|null|null|null|null|null|null|null|null|null|   3|   1|null|null|null|null|null|null|null|   1|   1|null|null|null|null|null|null|null|null|null|null|null|null|null|null|null|null|null|null|null|null|null|null|null|null|null|null|null|null|null|null|null|null|null|null|null|null|null|null|null|null|null|null|null|null|null|null|null|null|null|null|null|null|null|null|null|null|null|null|null|null|null|null|null|null|null|null|null|null|null|null|   1|null|null|null|null|   1|null|null|null|null|null|null|null|null|null|null|null|null|null|null|null|null|null|null|null|null|null|null|null|null|null|null|null|null|null|null|null|null|null|null|null|null|null|null|null|null|null|null|null|null|null|null|null|null|null|null|null|null|null|null|null|null|null|null|null|null|null|null|null|null|null|null|null|null|null|null|null|null|null|null|null|null|null|null|null|null|null|null|null|null|\n",
      "|2013|null|20050|6294|3055|2202|1415|1008| 701|775|652|466|465|431|503|296|260|259|382|337|210|240|250|245|214|171|168|198|214|258|216|455|563|117| 71| 72| 54| 51| 64| 78| 83| 80| 65| 49| 74| 66| 48| 59| 40| 54| 40| 75| 66| 72| 69| 86| 68| 66| 57| 54| 62|101| 59| 93| 34| 26| 30| 23| 29| 22| 12| 25| 23| 15| 16| 21| 23| 26| 20| 33| 38| 19| 29| 15| 34| 24| 25| 21| 19| 26| 29| 30| 19| 33| 37| 10|  15|  9|  8|  9| 10| 15|  5|  8|  5| 16| 12|  4|  9|  5|   6|  8|   8|  8|   6|   8|  6|  6| 15| 18|   9|  9|  5|  3|  14|  10|   8|   4|  5|   3|   5|   8|  10|  7|   9|  4|  4|   5|   7|  10|   8|   6|   9|  11|   5|  10|   3|   7|  5|   4|   1|  2|   2|  7|   3|  1|   5|   1|   2|   2|   3|   6|   4|   4|   6|  2|   3|   3|  6|   4|   3|   3|null|  4|   1|   1|   2|   4|   2|  1|   3|   1|   2|null|   3|   6|   1|   4|   1|   3|   3|   2|null|   2|   1|   3|   2|   2|   1|   2|null|   2|null|null|   1|   3|   1|   2|null|   4|   2|null|   1|   1|   1|   2|   2|   2|   3|null|   1|   1|null|null|null|   1|null|null|   3|   1|   3|   2|   1|   1|null|null|null|   1|   1|null|   2|   2|   1|null|   6|   2|   3|   4|   4|   4|null|null|null|null|null|null|   2|null|null|null|   1|   1|null|null|null|null|   3|null|null|null|null|null|null|null|null|null|null|null|null|null|null|null|null|null|null|null|null|null|null|null|null|null|null|null|null|null|null|null|null|null|null|null|null|null|null|null|null|   1|null|   1|null|null|   1|   1|null|   1|null|   1|   2|   1|   1|   1|   1|null|null|null|null|null|null|null|   1|null|   1|null|   1|null|   1|null|null|null|   1|   1|null|null|   1|null|null|   1|   2|null|null|null|null|null|null|null|null|null|null|null|null|null|null|null|null|null|null|null|null|null|null|null|null|null|   1|null|null|null|null|null|null|   1|   1|   1|   1|   1|null|null|null|null|null|   2|   1|null|null|   2|null|null|null|null|null|   2|   1|null|   2|null|null|   1|null|   1|   1|null|null|   1|null|   1|   1|   1|null|   2|   1|   1|null|null|null|null|null|   1|null|   1|   1|null|null|   1|null|   1|   1|null|   1|null|   1|   1|   2|   1|null|   1|null|   1|null|   1|   1|   2|   1|null|null|   1|null|null|   1|null|null|null|null|null|   2|null|   1|null|   1|   2|   1|   1|null|null|null|null|   1|   2|   1|   1|null|   1|   1|   1|null|   1|null|   2|null|null|   1|null|null|   1|   1|   1|   1|null|   1|null|null|null|null|null|null|null|null|null|null|null|null|null|null|null|null|null|null|null|null|\n",
      "|2014|  11|19281|5690|2829|2218|1378| 960| 799|787|776|476|461|477|446|323|274|323|412|341|228|203|276|252|212|206|192|154|214|273|207|523|576| 87| 69| 65| 57| 56| 54| 70| 64| 59| 63| 58| 71| 73| 78| 51| 64| 46| 64| 69| 81| 80| 69| 76| 64| 76| 46| 51| 47| 64| 61| 70| 26| 30| 24| 38| 24| 30| 31| 17| 17| 30| 22| 19| 31| 20| 29| 19| 29| 20| 13| 22| 36| 36| 26| 18| 23| 22| 22| 22| 13| 16| 29|  6|   7| 20| 11| 13|  7| 16|  8|  2| 10| 16| 13|  8| 14| 13|  17| 12|  11|  9|  18|  10|  9| 17| 11| 11|  18| 13| 20| 10|  21|  12|   7|  10|  8|   5|   4|   5|   5|  6|   5|  1|  7|   2|   2|   3|   3|null|   4|   4|   6|   2|   4|   5|  5|   5|   1|  6|  10|  3|   2|  1|   1|   3|   3|   3|   2|   4|null|   7|   7|  3|   4|   3|  1|   2|   2|   4|   1|  3|   6|   7|   4|   2|   4|  3|   3|   3|null|null|   2|   4|   2|   5|   4|null|   2|   5|   9|   2|   6|   3|   6|   1|   5|   3|   3|   1|   2|   8|   1|   1|   1|   3|   1|null|   1|   1|null|   5|null|null|   4|   1|null|null|   4|   1|   4|null|   2|   1|   1|null|null|   1|   1|   1|null|null|   1|   2|   3|null|   1|null|null|null|   1|   2|null|   1|   1|   6|   4|   2|   3|null|null|null|null|   5|   3|null|   1|   2|   2|   1|null|null|   2|   1|   1|null|null|null|null|null|null|null|null|null|null|null|null|null|null|null|null|null|null|null|null|null|null|null|   1|   2|null|   2|   1|null|null|null|null|null|   1|   1|null|null|null|null|null|null|null|null|null|null|   1|null|   1|null|null|null|null|   1|   1|   3|null|null|null|null|null|null|null|null|   1|   1|   1|null|null|   1|null|null|null|null|null|null|null|null|null|   1|   1|   2|   1|   1|   3|null|   1|   1|   2|   1|null|null|   1|null|null|null|null|null|null|null|null|null|   1|   1|   2|null|null|   1|null|null|null|null|null|null|   1|null|   1|null|null|null|null|   1|null|null|null|   1|null|   2|null|   1|   1|null|   1|   1|null|null|   1|   2|   1|   1|null|null|null|null|null|null|null|null|   1|   1|null|null|   1|null|null|null|null|null|   1|null|null|null|   1|null|null|null|null|   1|null|null|   1|   1|null|   1|null|null|   1|null|   1|null|null|null|null|null|   1|null|null|   1|null|null|   1|null|   1|   1|null|   2|   1|   1|null|null|   1|null|   1|   1|null|null|   1|   1|null|   2|null|null|null|null|   1|null|null|null|   2|null|   1|null|   1|   1|null|   1|   1|null|null|null|   1|   1|   2|   1|   1|   1|   1|   3|   1|   1|null|null|null|null|null|null|null|null|null|null|null|null|null|\n",
      "|2004| 197|16035|5273|2739|1919|1376| 950| 812|760|696|493|437|524|601|379|281|247|284|211|168|178|177|171|112|149|169|172|161|152|189|331|396| 67| 59| 55| 44| 33| 41| 29| 39| 60| 59| 55| 52| 43| 31| 45| 46| 60| 46| 53| 46| 48| 36| 49| 67| 53| 57| 54| 38| 36| 34| 22| 11| 19| 19| 11|  8|  6|  6|  6|  8|  5| 12|  7|  8| 16|  8|  5| 10| 12| 13| 10| 16| 11| 10| 10|  5|  5|  7| 19|  9| 11| 14| 10|   9| 13|  5|  7|  5|  9|  9|  3|  3|  2|  2|  6|  3|  8|   4|  4|   3|  6|   2|   1|  5|  1|  5|  7|   7|  2|  3| 11|   5|  12|null|null|  2|null|   5|   5|   3|  1|   3|  2|  4|   1|null|null|   1|null|null|null|null|null|null|   2|  2|   1|   4|  5|   1|  3|null|  1|   3|   1|   3|   1|null|   6|   3|   1|null|  1|null|   5|  3|   6|   2|   2|   1|  2|   1|   2|   3|   3|   2|  1|   1|   1|null|   2|   1|   3|null|   2|   2|   2|   1|null|   1|   3|   1|   1|   2|   2|null|null|null|null|   3|null|null|null|   3|   2|null|null|null|null|null|null|null|null|null|null|null|null|null|null|null|null|null|null|null|null|null|null|null|null|   1|null|   2|null|null|null|   2|   1|   2|null|null|null|   1|null|   1|   4|null|   1|   2|null|null|   2|   3|   1|   2|null|   2|null|null|null|   1|   1|   1|   1|   3|null|null|   1|   1|null|   3|null|null|   1|null|null|null|   1|   1|   2|   1|null|   1|   3|   1|null|null|null|null|null|null|null|null|null|null|null|null|null|null|null|null|null|null|null|null|null|null|null|null|null|null|null|null|null|null|null|null|null|null|null|null|null|null|null|null|null|null|null|null|null|null|null|null|null|null|null|null|null|null|null|null|null|null|null|null|null|null|null|null|null|null|null|null|null|null|null|null|null|null|null|null|null|null|null|null|null|null|null|null|null|null|null|null|null|null|null|null|null|null|null|null|null|null|null|null|null|null|null|null|null|null|null|null|null|null|null|null|null|null|null|null|null|null|null|null|null|null|null|null|null|null|null|null|null|null|null|null|null|null|null|null|null|null|null|null|null|null|null|null|null|null|null|null|null|null|null|null|null|null|null|null|null|null|null|null|null|null|null|null|null|null|null|null|null|null|null|null|null|null|null|null|null|null|null|null|null|null|null|null|null|null|null|null|null|null|null|null|null|null|null|null|null|null|null|null|null|null|null|null|null|null|null|null|null|null|null|null|null|null|null|null|null|null|null|null|null|null|null|null|null|null|null|null|   1|   1|null|   1|\n",
      "|2012|null|18409|5853|2931|2082|1363| 896| 732|716|693|436|343|441|448|306|238|254|296|281|194|193|180|201|153|140|146|173|162|163|280|398|538|103| 96|100| 63| 54| 68| 49| 51| 67| 45| 54| 47| 56| 69| 63| 80| 68| 63| 64| 57| 64| 78| 56| 59| 63| 65| 74| 64|100| 62|146| 31| 32| 21| 23| 16| 23| 28| 16| 17| 22| 20| 33| 26| 34| 35| 32| 31| 37| 18| 25| 22| 31| 36| 30| 24| 29| 22| 26| 35| 22| 27| 18|   8|  3|  7|  8| 10|  4|  9|  7| 14|  9|  6| 16| 12|  8|  12| 14|  10|  7|  15|  18| 12|  7| 10|  7|  13| 16|  2|  6|  11|  21|   8|   7|  1|   9|   2|   4|   9| 10|   4|  6| 11|  16|  10|   3|   2|   6|   2|   5|   4|   2|   4|   3|  1|   2|   8|  8|null|  1|   1|  2|   5|   9|   1|   1|null|   2|   2|   3|   5|  2|   2|   2|  1|   1|   2|   1|   1|  1|   3|   5|null|null|   1|  4|   2|   2|null|null|null|   6|   2|   1|   3|   1|   2|null|   4|null|   3|null|   2|   2|   2|   1|   4|   2|   2|   1|   1|null|null|   2|null|null|null|   1|   2|   2|   3|   5|   3|   1|   1|   3|   1|   2|   1|   3|null|   1|   2|   4|   1|   3|null|   1|   1|null|null|null|   1|null|null|   1|   2|   1|null|   1|null|   1|null|   2|   1|null|null|   4|null|   1|null|null|   1|   1|null|null|null|null|   2|null|null|null|null|null|   1|   1|null|null|null|null|null|null|null|   1|null|   1|null|null|null|null|null|null|null|null|null|null|null|null|null|null|null|null|null|null|null|null|null|null|null|null|null|null|null|null|null|null|null|null|null|null|null|null|   1|   1|null|null|null|   2|null|null|null|null|null|null|null|null|null|null|null|null|null|null|null|null|   1|   1|null|   2|   1|null|   1|   2|null|null|null|null|null|   1|null|   3|null|null|   2|null|   1|   2|   1|   1|   2|   1|   1|   1|   2|   3|   3|null|null|null|   1|null|null|   1|null|null|   1|   1|null|   1|null|   1|   1|null|null|null|   1|   2|   1|   2|null|null|   2|null|   1|   1|   1|null|null|null|null|   1|null|null|   1|null|null|null|null|null|null|   1|null|null|   1|   1|null|null|null|   1|   1|null|null|   1|   1|   1|null|null|null|null|null|null|null|null|null|null|null|null|null|null|null|null|null|null|   1|null|   1|   1|null|null|   1|null|   1|null|   1|   2|null|null|   1|null|   1|null|null|   1|null|   1|null|null|null|null|null|null|   1|null|null|null|null|null|null|null|null|null|null|null|null|null|null|null|null|null|null|null|null|null|null|null|null|null|null|null|null|null|null|null|null|null|null|null|null|null|   1|   1|null|null|null|null|null|\n",
      "|2009|null|11385|4347|2280|1706|1403| 894| 683|637|648|436|336|435|569|328|251|257|296|277|178|244|187|191|164|152|142|169|145|186|176|440|528| 89| 86| 78| 71| 83| 68| 57| 52| 54| 30| 36| 30| 29| 34| 33| 39| 37| 43| 45| 70| 66| 48| 69| 74| 76| 70| 77| 65| 95| 56| 94| 28| 17| 26| 18| 13| 24| 21| 22|  6|  3| 20|  9| 21|  9| 22| 16| 21| 22| 18| 35| 28| 33| 31| 12| 24| 40| 33| 19| 21| 17| 20| 11|   7|  7|  6|  2|  7| 10| 20|  6| 10|  9| 11| 13|  8|  7|   7| 12|   9|  9|  15|   7|  3|  9|  6|  7|  13| 18| 10|  6|   6|   7|   3|  10|  5|   3|   6|   7|null|  2|   6|  2|  8|   4|   5|   6|   9|   2|   9|   5|   4|   2|   3|   3|  5|  11|   2|  6|   9|  2|   4|  8|   4|   4|   2|   1|   4|   1|   2|   7|   7|  1|   2|   3|  1|null|null|null|   4|  5|   7|   3|   6|   3|   1|  5|null|null|   2|null|   1|null|   2|   1|   1|null|   1|   3|   7|   1|null|   2|null|   4|   1|   2|   1|   2|   1|   2|null|null|null|   1|   1|null|   1|   1|   1|   1|null|null|null|null|   2|null|   5|null|   1|   1|null|   1|null|   1|null|null|   1|   1|   1|null|null|null|null|   2|null|null|null|null|null|null|null|null|null|null|null|null|null|null|null|null|null|null|   1|   2|null|null|null|   1|null|null|null|   1|null|null|   1|   1|null|null|null|null|null|null|null|null|null|null|null|   2|null|   2|null|null|null|null|   2|null|null|   2|null|null|null|   1|null|null|   1|null|null|null|null|null|null|null|null|null|null|null|null|null|null|   1|null|null|null|null|null|   2|   1|null|null|null|null|null|null|null|   2|null|   2|null|null|null|null|null|null|null|null|null|null|null|null|null|null|null|null|null|null|null|null|null|null|null|null|null|null|null|null|null|null|null|null|null|null|null|null|null|null|null|null|null|null|null|null|null|null|null|null|null|null|null|null|null|null|null|null|null|null|null|null|null|null|null|null|null|null|null|null|null|null|null|null|null|null|null|null|null|null|null|null|null|null|null|null|null|null|null|null|null|null|null|null|null|null|null|null|null|null|null|null|null|null|null|null|null|null|null|null|null|null|null|null|null|null|null|null|null|null|null|null|null|null|null|null|null|null|null|null|null|null|null|null|null|null|null|null|null|null|null|null|null|null|null|null|null|null|null|null|null|null|null|null|null|null|null|null|null|null|null|null|null|null|null|null|null|null|null|null|null|null|null|null|null|null|null|null|null|null|null|null|null|null|null|null|null|null|null|null|\n",
      "|2005| 141|18862|6469|3377|2359|1567|1040| 917|900|762|561|516|591|682|404|294|265|297|258|175|190|161|170|126|152|160|181|153|159|140|332|381| 68| 42| 42| 50| 62| 57| 40| 55| 39| 42| 44| 37| 41| 37| 22| 50| 54| 37| 41| 61| 62| 43| 50| 73| 62| 40| 39| 35| 32| 26| 37| 14| 12| 25| 17| 14|  6| 19|  7| 13| 12| 13| 15|  9| 11| 10| 14| 13| 10| 10| 11|  9|  5|  6| 11|  7| 16| 14| 13|  9| 12|  2|  3|   7|  4|  9|  5|  3|  4|  6|  5|  3|  8|  4|  5|  3|  2|   6|  2|   3|  8|null|   3|  4|  2|  1|  1|   3|  2|  2|  5|null|   4|   4|   5|  1|   2|null|null|null|  3|   2|  3|  3|null|   1|null|   1|null|null|   2|   1|null|null|   1|  4|null|   1|  2|   3|  1|   4|  7|   6|   2|   2|   2|   4|   2|null|   2|   3|  3|   2|   2|  1|   1|   2|   5|   2|  4|   1|   1|null|null|   1|  7|   4|   2|   6|   2|   1|   2|   5|null|null|   3|   2|   1|null|   1|   2|   1|   1|null|   1|null|null|null|null|null|null|null|null|null|null|   4|null|null|   1|   1|null|null|null|   1|null|null|null|null|   1|null|null|null|null|   2|null|null|null|   1|null|null|   1|null|null|null|null|null|null|null|null|null|null|null|null|   1|   1|null|null|null|null|null|null|null|null|null|null|null|null|null|null|null|null|null|null|null|   2|null|null|null|null|null|null|null|null|null|   1|   1|   5|null|   2|   1|null|   2|   1|null|   1|null|   1|   1|null|   1|null|null|null|null|null|   1|   2|   1|null|   2|   1|   1|   2|null|   1|null|null|null|null|   4|null|null|null|null|null|null|null|null|null|null|null|null|   1|null|null|null|null|null|null|   2|null|   1|   1|   1|null|null|   1|null|   1|   1|   2|null|   1|null|null|null|null|null|null|null|null|null|null|null|null|null|null|null|null|   1|null|null|null|   1|null|null|   2|null|null|null|null|null|null|null|null|null|null|null|null|null|null|null|null|null|null|null|null|null|null|null|null|null|null|null|null|null|null|null|null|null|null|null|null|null|null|null|null|null|null|null|null|null|null|null|null|null|null|null|null|null|null|null|null|null|null|null|null|null|null|null|null|null|null|null|null|null|null|null|null|null|null|null|null|null|null|null|null|null|null|null|null|null|null|null|null|null|null|null|null|null|null|null|null|null|null|null|null|null|null|null|null|null|null|null|null|null|null|null|null|null|null|null|null|null|null|null|null|null|null|null|null|null|null|null|null|null|null|null|null|null|null|null|null|null|null|null|null|null|null|null|null|null|null|null|null|\n",
      "|2010|null|13803|4893|2619|1946|1367| 932| 681|693|640|452|394|514|586|352|231|281|320|267|187|249|201|173|171|149|127|172|150|208|178|453|551| 91| 70| 76| 46| 44| 41| 30| 32| 31| 39| 36| 21| 41| 37| 56| 41| 70| 53| 39| 50| 71| 69| 78| 63| 75| 61| 51| 57| 91| 54|104| 21| 29| 13| 16| 17| 14| 14| 12| 23| 13| 14| 12| 20| 23| 20| 20| 22| 35| 20| 25| 35| 39| 27| 29| 40| 35| 26| 35| 31| 29| 50| 16|   7| 13| 13| 14|  6| 15|  9| 11|  9|  6| 10|  9|  9|  9|   6|  9|   7| 16|  15|   8|  7|  9| 10| 13|  15| 14|  6| 10|   9|   4|  12|   4|  3|   2|  13|  13|   5|  6|   6| 10| 10|   9|   5|   6|   4|   5|   8|   3|  10|   5|  12|   8|  5|   8|   5|  7|   2|  5|   2|  5|   8|   6|   5|   7|   3|  11|   7|   5|   8|  2|   4|  13|  6|   8|   4|   4|   2|  4|   3|   5|null|null|   6|  6|   8|   2|   4|   1|   3|   4|   6|   3|   3|null|   2|   3|   3|   1|   2|   2|null|   1|null|   2|null|null|null|   2|   1|null|null|   2|null|   1|   1|null|null|null|   2|   1|   1|   1|null|   1|null|   1|null|null|null|null|null|   2|   2|null|null|   2|   1|   1|   2|null|null|null|null|null|   1|null|   1|null|null|null|null|null|null|   3|   1|null|null|null|null|null|   1|null|null|null|   2|   1|   1|null|   1|   2|null|null|   1|   1|   1|   2|null|   1|   1|   2|   1|   3|   1|   1|null|null|null|   1|   2|null|   2|null|   1|null|null|null|null|null|   2|null|   1|   1|   2|null|null|   2|   3|null|null|   1|null|null|null|null|null|null|null|   2|   1|   1|null|   1|null|null|   1|   1|   2|null|null|null|null|null|null|null|null|null|null|null|null|null|null|null|null|null|null|null|null|null|null|null|null|null|null|null|null|null|null|null|null|null|null|null|null|null|null|null|null|null|null|null|null|null|null|null|null|null|null|null|null|null|null|null|null|null|null|null|null|null|null|null|null|null|null|null|null|null|null|null|null|null|null|null|null|null|null|null|null|null|null|null|null|null|null|null|null|null|null|null|null|null|null|null|null|null|null|null|null|null|null|null|null|null|null|null|null|null|null|null|null|null|null|null|null|null|null|null|null|null|null|null|null|null|null|null|null|null|null|null|null|null|null|null|null|null|null|null|null|null|null|null|null|null|null|null|null|null|null|null|null|null|null|null|null|null|null|null|null|null|null|null|null|null|null|null|null|null|null|null|null|null|null|null|null|null|null|null|null|null|null|null|   3|   1|   2|   1|   1|   2|null|null|null|null|null|null|null|\n",
      "|2011|null|15952|5486|2788|1963|1270| 991| 754|809|728|483|381|396|529|305|258|293|337|302|194|229|231|252|159|149|147|200|192|253|208|418|518|118| 78| 63| 71| 67| 49| 53| 56| 42| 66| 38| 41| 53| 45| 57| 57| 78| 61| 60| 48| 55| 55| 55| 37| 57| 45| 57| 40| 54| 60|113| 18| 17| 25| 28| 15| 15| 16| 19| 13| 30| 30| 20| 29| 30| 18| 28| 31| 18| 30| 34| 34| 33| 32| 38| 42| 34| 27| 26| 29| 44| 36| 20|  18| 18|  9| 14| 16| 12|  6| 13| 14| 11|  5|  9| 18|  9|   9| 16|  15|  4|   7|   3|  2|  3|  5|  9|   8| 10| 16|  6|   8|  13|   9|   6|  8|   7|   7|   1|   8|  1|   6|  6|  4|   5|   3|   6|   4|   8|   3|  13|   5|   4|   3|   8|  4|   4|   3|  2|   5|  3|   1|  3|   3|   5|   1|   1|   1|   3|   1|   5|   4|  6|   2|null|  1|null|   1|   5|   5|  1|   5|   6|   1|   3|   3|  1|null|   1|   3|null|null|   2|null|null|   5|null|null|   3|   4|   5|null|   2|null|   4|   3|   4|   1|   2|   3|   1|null|   2|   1|null|   2|null|   1|null|null|null|null|null|   1|null|   1|null|null|   1|null|null|null|null|null|null|null|null|null|   3|null|   1|null|   1|null|null|   1|null|   2|   3|null|null|null|null|null|null|null|null|null|null|null|null|null|null|null|null|null|null|null|   2|   2|null|   3|   3|null|null|   1|   2|   1|null|null|null|null|null|null|   1|   1|null|null|null|   1|null|null|   1|null|null|null|null|null|null|null|null|   1|   1|null|null|null|null|null|   4|   1|   1|null|null|   1|   1|   1|null|   2|   1|null|null|null|null|   1|null|null|null|null|null|   1|null|null|null|null|null|null|null|   1|null|null|null|   1|   2|   2|   1|   1|null|   1|null|null|null|   1|null|null|null|null|null|null|null|null|null|null|null|null|null|null|null|null|null|   2|null|   2|null|null|null|null|null|null|   1|   1|null|null|null|   1|   1|null|   1|   1|null|null|null|null|   1|   1|null|   1|null|null|null|null|   1|   1|   2|   2|null|null|null|   1|null|null|   1|null|null|null|   2|   1|null|null|   1|   1|   1|null|null|null|null|   1|null|null|null|null|   1|null|   1|   2|null|null|null|null|   1|   1|null|null|null|null|null|null|null|null|null|null|null|null|null|null|null|null|null|null|null|null|null|null|null|null|null|null|null|null|null|null|null|null|null|null|null|null|null|null|null|null|null|null|null|null|null|null|null|null|null|null|null|null|null|null|null|null|null|null|null|null|null|null|null|null|null|null|null|null|null|null|null|null|null|null|null|null|null|null|null|null|null|null|null|null|   1|null|\n",
      "|2008| 197|16122|5944|3123|2305|1616|1124| 859|829|677|589|482|568|570|414|293|299|350|280|215|181|196|213|163|191|185|185|157|167|229|378|479| 85| 80| 83| 88| 60| 68| 66| 62| 53| 42| 34| 30| 34| 31| 39| 32| 39| 61| 68| 61| 63| 69| 66| 57| 73| 67| 74| 57| 80| 35| 91| 20| 25| 30| 30| 22| 33| 24| 18| 16| 22| 21| 20| 16| 21| 14| 13| 21| 14| 26| 22| 16| 28| 19| 26| 36| 25| 19| 26| 33| 17|  6|  2|  10| 15|  9|  4| 10|  9|  7|  5|  4|  1|  5|  2|  1| 15|   7|  4|  11| 13|   3|   7|  3|  3|  2|  1|   3|  5|  3|  3|   4|   4|   4|   8|  3|   5|   4|   1|   1|  4|   2|  2|  3|   3|   3|   3|null|   1|   3|   2|   3|null|   1|   6|  3|   3|   4|  4|   3|  3|   4|  4|   4|   4|   1|   3|  10|null|   4|   4|   5|  6|  10|   5|  2|null|   4|null|null|  2|null|   1|   2|   2|null|  3|   1|   7|   3|   2|   4|   1|   2|   1|null|null|null|null|null|   1|   3|null|null|null|null|null|   1|   1|   1|   1|   1|null|   1|null|null|   3|null|null|null|null|   1|null|null|null|null|null|null|null|null|null|null|null|null|null|null|null|null|null|null|null|null|null|null|null|null|null|null|null|null|null|null|null|null|null|null|null|null|null|   1|   1|null|   1|null|   1|   2|null|null|   1|   2|   2|null|null|null|   2|null|null|   1|null|null|   1|null|null|null|null|   3|null|   5|   1|   1|   2|   1|null|null|   2|   2|null|   1|null|null|null|null|null|null|   2|null|null|null|   1|null|   1|null|null|null|null|null|null|null|null|null|null|   1|   1|   1|   1|   1|null|null|   1|null|null|   1|null|null|null|   2|   1|   1|   1|   1|null|null|   1|null|null|null|null|null|null|null|null|null|null|null|null|null|null|null|null|null|null|null|null|null|null|null|null|null|null|null|null|null|null|null|null|null|null|null|null|null|null|null|null|null|null|null|null|null|null|null|null|null|null|null|null|null|null|null|null|null|null|null|null|null|null|null|null|null|null|null|null|null|null|null|null|null|null|null|null|null|null|null|null|null|null|null|null|null|null|null|null|null|null|null|null|null|null|null|null|null|null|null|null|null|null|null|null|null|null|null|null|null|null|null|null|null|null|null|null|null|null|null|null|null|null|null|null|null|null|null|null|null|null|null|null|null|null|null|null|null|null|null|null|null|null|null|null|null|null|null|null|null|null|null|null|null|null|null|null|null|null|null|null|null|null|null|null|null|null|null|null|null|null|null|null|null|null|null|null|null|null|null|null|null|null|null|\n",
      "+----+----+-----+----+----+----+----+----+----+---+---+---+---+---+---+---+---+---+---+---+---+---+---+---+---+---+---+---+---+---+---+---+---+---+---+---+---+---+---+---+---+---+---+---+---+---+---+---+---+---+---+---+---+---+---+---+---+---+---+---+---+---+---+---+---+---+---+---+---+---+---+---+---+---+---+---+---+---+---+---+---+---+---+---+---+---+---+---+---+---+---+---+---+---+---+---+----+---+---+---+---+---+---+---+---+---+---+---+---+---+----+---+----+---+----+----+---+---+---+---+----+---+---+---+----+----+----+----+---+----+----+----+----+---+----+---+---+----+----+----+----+----+----+----+----+----+----+----+---+----+----+---+----+---+----+---+----+----+----+----+----+----+----+----+----+---+----+----+---+----+----+----+----+---+----+----+----+----+----+---+----+----+----+----+----+----+----+----+----+----+----+----+----+----+----+----+----+----+----+----+----+----+----+----+----+----+----+----+----+----+----+----+----+----+----+----+----+----+----+----+----+----+----+----+----+----+----+----+----+----+----+----+----+----+----+----+----+----+----+----+----+----+----+----+----+----+----+----+----+----+----+----+----+----+----+----+----+----+----+----+----+----+----+----+----+----+----+----+----+----+----+----+----+----+----+----+----+----+----+----+----+----+----+----+----+----+----+----+----+----+----+----+----+----+----+----+----+----+----+----+----+----+----+----+----+----+----+----+----+----+----+----+----+----+----+----+----+----+----+----+----+----+----+----+----+----+----+----+----+----+----+----+----+----+----+----+----+----+----+----+----+----+----+----+----+----+----+----+----+----+----+----+----+----+----+----+----+----+----+----+----+----+----+----+----+----+----+----+----+----+----+----+----+----+----+----+----+----+----+----+----+----+----+----+----+----+----+----+----+----+----+----+----+----+----+----+----+----+----+----+----+----+----+----+----+----+----+----+----+----+----+----+----+----+----+----+----+----+----+----+----+----+----+----+----+----+----+----+----+----+----+----+----+----+----+----+----+----+----+----+----+----+----+----+----+----+----+----+----+----+----+----+----+----+----+----+----+----+----+----+----+----+----+----+----+----+----+----+----+----+----+----+----+----+----+----+----+----+----+----+----+----+----+----+----+----+----+----+----+----+----+----+----+----+----+----+----+----+----+----+----+----+----+----+----+----+----+----+----+----+----+----+----+----+----+----+----+----+----+\n",
      "\n"
     ]
    }
   ],
   "source": [
    "vuelos.groupBy('ano').pivot('vuelos').count().show()"
   ]
  },
  {
   "cell_type": "markdown",
   "metadata": {
    "id": "h0eRDQmcPn3f"
   },
   "source": [
    "Otro análisis muy útil es el de la correlación lineal entre dos variables, para ver la matriz de correlacion que mide esta dependencia o la fuerza de la relación lineal entre dos variables vamos a usar pandas, la interpretación es que si entre dos variables A y B  el valor obtenido es cercano a -1 o a 1, se interpreta como que A y B contienen la misma información y por ende no es necesario mantener ambas columnas"
   ]
  },
  {
   "cell_type": "code",
   "execution_count": 89,
   "metadata": {
    "id": "TydBsUX-Pn3f",
    "outputId": "e4779562-9cd6-4881-e97f-d18e5e75f253"
   },
   "outputs": [
    {
     "data": {
      "text/html": [
       "<style type=\"text/css\">\n",
       "#T_fd588_row0_col0, #T_fd588_row1_col1, #T_fd588_row2_col2, #T_fd588_row3_col3, #T_fd588_row4_col4, #T_fd588_row5_col5 {\n",
       "  background-color: #b40426;\n",
       "  color: #f1f1f1;\n",
       "}\n",
       "#T_fd588_row0_col1, #T_fd588_row0_col3, #T_fd588_row0_col4, #T_fd588_row0_col5, #T_fd588_row5_col0, #T_fd588_row5_col2 {\n",
       "  background-color: #3b4cc0;\n",
       "  color: #f1f1f1;\n",
       "}\n",
       "#T_fd588_row0_col2 {\n",
       "  background-color: #3d50c3;\n",
       "  color: #f1f1f1;\n",
       "}\n",
       "#T_fd588_row1_col0 {\n",
       "  background-color: #455cce;\n",
       "  color: #f1f1f1;\n",
       "}\n",
       "#T_fd588_row1_col2 {\n",
       "  background-color: #ecd3c5;\n",
       "  color: #000000;\n",
       "}\n",
       "#T_fd588_row1_col3 {\n",
       "  background-color: #6a8bef;\n",
       "  color: #f1f1f1;\n",
       "}\n",
       "#T_fd588_row1_col4, #T_fd588_row2_col3 {\n",
       "  background-color: #abc8fd;\n",
       "  color: #000000;\n",
       "}\n",
       "#T_fd588_row1_col5 {\n",
       "  background-color: #536edd;\n",
       "  color: #f1f1f1;\n",
       "}\n",
       "#T_fd588_row2_col0 {\n",
       "  background-color: #465ecf;\n",
       "  color: #f1f1f1;\n",
       "}\n",
       "#T_fd588_row2_col1 {\n",
       "  background-color: #ebd3c6;\n",
       "  color: #000000;\n",
       "}\n",
       "#T_fd588_row2_col4, #T_fd588_row4_col2 {\n",
       "  background-color: #c6d6f1;\n",
       "  color: #000000;\n",
       "}\n",
       "#T_fd588_row2_col5 {\n",
       "  background-color: #445acc;\n",
       "  color: #f1f1f1;\n",
       "}\n",
       "#T_fd588_row3_col0 {\n",
       "  background-color: #3c4ec2;\n",
       "  color: #f1f1f1;\n",
       "}\n",
       "#T_fd588_row3_col1 {\n",
       "  background-color: #6180e9;\n",
       "  color: #f1f1f1;\n",
       "}\n",
       "#T_fd588_row3_col2 {\n",
       "  background-color: #a5c3fe;\n",
       "  color: #000000;\n",
       "}\n",
       "#T_fd588_row3_col4, #T_fd588_row4_col5 {\n",
       "  background-color: #6687ed;\n",
       "  color: #f1f1f1;\n",
       "}\n",
       "#T_fd588_row3_col5 {\n",
       "  background-color: #9bbcff;\n",
       "  color: #000000;\n",
       "}\n",
       "#T_fd588_row4_col0 {\n",
       "  background-color: #4358cb;\n",
       "  color: #f1f1f1;\n",
       "}\n",
       "#T_fd588_row4_col1 {\n",
       "  background-color: #aac7fd;\n",
       "  color: #000000;\n",
       "}\n",
       "#T_fd588_row4_col3 {\n",
       "  background-color: #6c8ff1;\n",
       "  color: #f1f1f1;\n",
       "}\n",
       "#T_fd588_row5_col1 {\n",
       "  background-color: #485fd1;\n",
       "  color: #f1f1f1;\n",
       "}\n",
       "#T_fd588_row5_col3 {\n",
       "  background-color: #9abbff;\n",
       "  color: #000000;\n",
       "}\n",
       "#T_fd588_row5_col4 {\n",
       "  background-color: #5e7de7;\n",
       "  color: #f1f1f1;\n",
       "}\n",
       "</style>\n",
       "<table id=\"T_fd588_\">\n",
       "  <thead>\n",
       "    <tr>\n",
       "      <th class=\"blank level0\" >&nbsp;</th>\n",
       "      <th class=\"col_heading level0 col0\" >ano</th>\n",
       "      <th class=\"col_heading level0 col1\" >vuelos</th>\n",
       "      <th class=\"col_heading level0 col2\" >sillas</th>\n",
       "      <th class=\"col_heading level0 col3\" >carga_ofrecida</th>\n",
       "      <th class=\"col_heading level0 col4\" >pasajeros</th>\n",
       "      <th class=\"col_heading level0 col5\" >carga_bordo</th>\n",
       "    </tr>\n",
       "  </thead>\n",
       "  <tbody>\n",
       "    <tr>\n",
       "      <th id=\"T_fd588_level0_row0\" class=\"row_heading level0 row0\" >ano</th>\n",
       "      <td id=\"T_fd588_row0_col0\" class=\"data row0 col0\" >1.000000</td>\n",
       "      <td id=\"T_fd588_row0_col1\" class=\"data row0 col1\" >0.043146</td>\n",
       "      <td id=\"T_fd588_row0_col2\" class=\"data row0 col2\" >0.049414</td>\n",
       "      <td id=\"T_fd588_row0_col3\" class=\"data row0 col3\" >0.011675</td>\n",
       "      <td id=\"T_fd588_row0_col4\" class=\"data row0 col4\" >0.036868</td>\n",
       "      <td id=\"T_fd588_row0_col5\" class=\"data row0 col5\" >0.007143</td>\n",
       "    </tr>\n",
       "    <tr>\n",
       "      <th id=\"T_fd588_level0_row1\" class=\"row_heading level0 row1\" >vuelos</th>\n",
       "      <td id=\"T_fd588_row1_col0\" class=\"data row1 col0\" >0.043146</td>\n",
       "      <td id=\"T_fd588_row1_col1\" class=\"data row1 col1\" >1.000000</td>\n",
       "      <td id=\"T_fd588_row1_col2\" class=\"data row1 col2\" >0.579593</td>\n",
       "      <td id=\"T_fd588_row1_col3\" class=\"data row1 col3\" >0.161394</td>\n",
       "      <td id=\"T_fd588_row1_col4\" class=\"data row1 col4\" >0.361625</td>\n",
       "      <td id=\"T_fd588_row1_col5\" class=\"data row1 col5\" >0.084908</td>\n",
       "    </tr>\n",
       "    <tr>\n",
       "      <th id=\"T_fd588_level0_row2\" class=\"row_heading level0 row2\" >sillas</th>\n",
       "      <td id=\"T_fd588_row2_col0\" class=\"data row2 col0\" >0.049414</td>\n",
       "      <td id=\"T_fd588_row2_col1\" class=\"data row2 col1\" >0.579593</td>\n",
       "      <td id=\"T_fd588_row2_col2\" class=\"data row2 col2\" >1.000000</td>\n",
       "      <td id=\"T_fd588_row2_col3\" class=\"data row2 col3\" >0.346184</td>\n",
       "      <td id=\"T_fd588_row2_col4\" class=\"data row2 col4\" >0.442185</td>\n",
       "      <td id=\"T_fd588_row2_col5\" class=\"data row2 col5\" >0.038188</td>\n",
       "    </tr>\n",
       "    <tr>\n",
       "      <th id=\"T_fd588_level0_row3\" class=\"row_heading level0 row3\" >carga_ofrecida</th>\n",
       "      <td id=\"T_fd588_row3_col0\" class=\"data row3 col0\" >0.011675</td>\n",
       "      <td id=\"T_fd588_row3_col1\" class=\"data row3 col1\" >0.161394</td>\n",
       "      <td id=\"T_fd588_row3_col2\" class=\"data row3 col2\" >0.346184</td>\n",
       "      <td id=\"T_fd588_row3_col3\" class=\"data row3 col3\" >1.000000</td>\n",
       "      <td id=\"T_fd588_row3_col4\" class=\"data row3 col4\" >0.169790</td>\n",
       "      <td id=\"T_fd588_row3_col5\" class=\"data row3 col5\" >0.297126</td>\n",
       "    </tr>\n",
       "    <tr>\n",
       "      <th id=\"T_fd588_level0_row4\" class=\"row_heading level0 row4\" >pasajeros</th>\n",
       "      <td id=\"T_fd588_row4_col0\" class=\"data row4 col0\" >0.036868</td>\n",
       "      <td id=\"T_fd588_row4_col1\" class=\"data row4 col1\" >0.361625</td>\n",
       "      <td id=\"T_fd588_row4_col2\" class=\"data row4 col2\" >0.442185</td>\n",
       "      <td id=\"T_fd588_row4_col3\" class=\"data row4 col3\" >0.169790</td>\n",
       "      <td id=\"T_fd588_row4_col4\" class=\"data row4 col4\" >1.000000</td>\n",
       "      <td id=\"T_fd588_row4_col5\" class=\"data row4 col5\" >0.146371</td>\n",
       "    </tr>\n",
       "    <tr>\n",
       "      <th id=\"T_fd588_level0_row5\" class=\"row_heading level0 row5\" >carga_bordo</th>\n",
       "      <td id=\"T_fd588_row5_col0\" class=\"data row5 col0\" >0.007143</td>\n",
       "      <td id=\"T_fd588_row5_col1\" class=\"data row5 col1\" >0.084908</td>\n",
       "      <td id=\"T_fd588_row5_col2\" class=\"data row5 col2\" >0.038188</td>\n",
       "      <td id=\"T_fd588_row5_col3\" class=\"data row5 col3\" >0.297126</td>\n",
       "      <td id=\"T_fd588_row5_col4\" class=\"data row5 col4\" >0.146371</td>\n",
       "      <td id=\"T_fd588_row5_col5\" class=\"data row5 col5\" >1.000000</td>\n",
       "    </tr>\n",
       "  </tbody>\n",
       "</table>\n"
      ],
      "text/plain": [
       "<pandas.io.formats.style.Styler at 0x160282c1148>"
      ]
     },
     "execution_count": 89,
     "metadata": {},
     "output_type": "execute_result"
    }
   ],
   "source": [
    "corr = vuelos.toPandas().corr(method='pearson')\n",
    "corr.style.background_gradient(cmap='coolwarm')"
   ]
  },
  {
   "cell_type": "markdown",
   "metadata": {
    "id": "kxj4KoVDPn3f"
   },
   "source": [
    "## Conclusiones/resultados"
   ]
  },
  {
   "cell_type": "markdown",
   "metadata": {},
   "source": [
    "## Tabla vuelosCopia2\n",
    "\n",
    "## 1. **Completitud de los datos:**\n",
    "\n",
    "> ### 1.1 **Cantidad de registros y cantidad de columnas por tipo de dato:**\n",
    "\n",
    " \n",
    "> Como se puede ver en la imagen anterior se logra generar el esquema de un DataFrame de la tabla VuelosCopia2 el cual incluye los nombres de las columnas así como el tipo de dato de cada una de ellas. \n",
    "\n",
    "## 3. **Conclusión:**\n",
    "\n",
    "> ### 3.1 **Análisis basado en tableros:**\n",
    "Yo diria que si se puede hacer analisis basado en tableros dado la informacion es veraz, unificada y valida. Sin embargo  hay que identificar el propsito de la tabla según las demas tablas.\n",
    "> \n",
    "\n",
    "> ### 3.2 **Fila Promedio:**\n",
    "Se refiere al tamaño promedio de una fila en esa tabla. Esto es importante para entender el uso de espacio y la eficiencia de almacenamiento en una base de datos. El tamaño de una fila en una tabla puede variar dependiendo de los tipos de datos de las columnas y la cantidad de datos almacenados en cada fila.\n",
    "\n",
    "> ### 3.3. Solución de Preguntas:\n",
    "- Se mencionan en parrafos superiores. \n",
    "\n",
    "> ### 3.4. Dudas o Supuestos:\n",
    "- No se puede identificar la hora en la que ocurre un viaje, ni tampoco el genero de los pasajeros. \n",
    "- En el rango de fechas que habla el negocio hace falta informacion de al menos 4 años.\n",
    "- Informacion sobre costos de operacion y mantenimiento\n",
    "- Precios o valores pagados por los clientes. \n",
    "Para este apartado no me queda claro está tabla como se relaciona con los vuelos y los viajes, a no ser de que sea proyeciones de los posibles clientes que se peudan tener en un año para que viajen en avion.\n"
   ]
  }
 ],
 "metadata": {
  "colab": {
   "collapsed_sections": [
    "qxN27II0Pn3T",
    "GnAScmClPn3W",
    "UuZspay3Pn3Z",
    "ZHLs1H0hPn3b",
    "QgkzeSm4Pn3b",
    "LZyQcqCvPn3c",
    "eDf54JyKPn3d",
    "ltTluhtIPn3e",
    "IPhtXcD1Pn3g",
    "-axExLnhPn3g",
    "YfSMeXZQPn3g"
   ],
   "name": "MISW-ETL-Entendimiento.ipynb",
   "provenance": []
  },
  "kernelspec": {
   "display_name": "Python 3 (ipykernel)",
   "language": "python",
   "name": "python3"
  },
  "language_info": {
   "codemirror_mode": {
    "name": "ipython",
    "version": 3
   },
   "file_extension": ".py",
   "mimetype": "text/x-python",
   "name": "python",
   "nbconvert_exporter": "python",
   "pygments_lexer": "ipython3",
   "version": "3.7.13"
  },
  "toc-autonumbering": true,
  "toc-showcode": true
 },
 "nbformat": 4,
 "nbformat_minor": 4
}
